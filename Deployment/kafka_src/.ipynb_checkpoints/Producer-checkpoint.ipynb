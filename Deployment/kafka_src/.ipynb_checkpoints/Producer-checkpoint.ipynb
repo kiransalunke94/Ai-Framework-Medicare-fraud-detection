{
 "cells": [
  {
   "cell_type": "code",
   "execution_count": 1,
   "id": "85fa57d7",
   "metadata": {},
   "outputs": [],
   "source": [
    "import json\n",
    "from time import sleep\n",
    "from pandas import read_csv\n",
    "from kafka.admin import NewTopic,KafkaAdminClient\n",
    "from kafka import KafkaProducer\n",
    "import time\n",
    "import requests"
   ]
  },
  {
   "cell_type": "code",
   "execution_count": 2,
   "id": "757860de",
   "metadata": {},
   "outputs": [],
   "source": [
    "Topic = NewTopic(name=\"Weather_data\",num_partitions=5,replication_factor=1)\n",
    "\n",
    "#Since our json has 5 keys , kept partition as 5 , so each key data goes into one partition, makes it reduntant"
   ]
  },
  {
   "cell_type": "code",
   "execution_count": 3,
   "id": "ab99071f",
   "metadata": {},
   "outputs": [],
   "source": [
    "admin = KafkaAdminClient(bootstrap_servers = 'localhost:9092')"
   ]
  },
  {
   "cell_type": "code",
   "execution_count": 4,
   "id": "f3783b9a",
   "metadata": {},
   "outputs": [],
   "source": [
    "#admin.create_topics([Topic])"
   ]
  },
  {
   "cell_type": "code",
   "execution_count": 4,
   "id": "4643f8ab",
   "metadata": {},
   "outputs": [],
   "source": [
    "def json_serializer(data):\n",
    "    return json.dumps(data).encode('utf-8')"
   ]
  },
  {
   "cell_type": "code",
   "execution_count": 5,
   "id": "e50c262a",
   "metadata": {},
   "outputs": [],
   "source": [
    "producer =KafkaProducer(bootstrap_servers='localhost:9092',value_serializer=json_serializer)"
   ]
  },
  {
   "cell_type": "code",
   "execution_count": 6,
   "id": "c5bbf032",
   "metadata": {},
   "outputs": [],
   "source": [
    "#Generates msg for producer in json format\n",
    "def weather_json(weather_url):\n",
    "    message = []\n",
    "    for i in weather_url:\n",
    "        response = requests.get(i)\n",
    "        json_data = response.json()\n",
    "        #print(json_data)\n",
    "        city_name = json_data[\"name\"]\n",
    "        humidity = json_data[\"main\"][\"humidity\"]\n",
    "        temperature = json_data[\"main\"][\"temp\"]\n",
    "        weather = json_data[\"weather\"][0][\"description\"]\n",
    "        message.append({\"CityName\" : city_name, \"Temperature\" : temperature, \"Humidity\" : humidity,\"Weather\" : weather,\n",
    "                  \"Time\" : time.strftime(\"%Y-%m-%d %H:%M:%S\")})\n",
    "    return message"
   ]
  },
  {
   "cell_type": "code",
   "execution_count": 7,
   "id": "c73ee268",
   "metadata": {},
   "outputs": [],
   "source": [
    "#Returns latitude and longitude\n",
    "def coordinates(city):\n",
    "    latlong_url = \"http://api.openweathermap.org/geo/1.0/direct?q=\"+city+\"&limit=5&appid=cff683101f5da995234cd01eb7a0716c\"\n",
    "    response = requests.get(latlong_url)\n",
    "    json_data = response.json()\n",
    "    lat = str(json_data[0][\"lat\"])\n",
    "    long = str(json_data[0][\"lon\"])\n",
    "    coordinates = [lat,long]\n",
    "    return coordinates\n",
    "    #humidity = json_data[\"list\"][0][\"main\"][\"humidity\"]"
   ]
  },
  {
   "cell_type": "code",
   "execution_count": 8,
   "id": "49f16876",
   "metadata": {},
   "outputs": [],
   "source": [
    "#returns url for particular city\n",
    "def weather_link(*city):\n",
    "    weather_linkk = []\n",
    "    for i in city:\n",
    "        coordinatess = coordinates(i)\n",
    "        weather_linkk.append(\"https://api.openweathermap.org/data/2.5/weather?lat=\"+coordinatess[0]+\"&lon=\"+coordinatess[1]+\"&appid=\"+\"cff683101f5da995234cd01eb7a0716c\")\n",
    "    #print(weather_linkk)\n",
    "    return weather_linkk"
   ]
  },
  {
   "cell_type": "code",
   "execution_count": null,
   "id": "373f9cb2",
   "metadata": {},
   "outputs": [
    {
     "name": "stdout",
     "output_type": "stream",
     "text": [
      "weather data published : {\"CityName\": \"Pune\", \"Temperature\": 294.54, \"Humidity\": 93, \"Weather\": \"broken clouds\", \"Time\": \"2022-08-24 23:17:08\"}\n",
      "Waiting...\n",
      "weather data published : {\"CityName\": \"Kanija Bhavan\", \"Temperature\": 293.95, \"Humidity\": 94, \"Weather\": \"drizzle\", \"Time\": \"2022-08-24 23:17:14\"}\n",
      "Waiting...\n",
      "weather data published : {\"CityName\": \"Kolkata\", \"Temperature\": 300.11, \"Humidity\": 83, \"Weather\": \"haze\", \"Time\": \"2022-08-24 23:17:15\"}\n",
      "Waiting...\n",
      "weather data published : {\"CityName\": \"Delhi\", \"Temperature\": 301.21, \"Humidity\": 83, \"Weather\": \"mist\", \"Time\": \"2022-08-24 23:17:15\"}\n",
      "Waiting...\n",
      "weather data published : {\"CityName\": \"Pune\", \"Temperature\": 294.54, \"Humidity\": 93, \"Weather\": \"broken clouds\", \"Time\": \"2022-08-24 23:17:48\"}\n",
      "Waiting...\n",
      "weather data published : {\"CityName\": \"Kanija Bhavan\", \"Temperature\": 293.95, \"Humidity\": 94, \"Weather\": \"drizzle\", \"Time\": \"2022-08-24 23:17:49\"}\n",
      "Waiting...\n",
      "weather data published : {\"CityName\": \"Kolkata\", \"Temperature\": 300.11, \"Humidity\": 83, \"Weather\": \"haze\", \"Time\": \"2022-08-24 23:17:51\"}\n",
      "Waiting...\n",
      "weather data published : {\"CityName\": \"Delhi\", \"Temperature\": 301.21, \"Humidity\": 83, \"Weather\": \"mist\", \"Time\": \"2022-08-24 23:17:52\"}\n",
      "Waiting...\n",
      "weather data published : {\"CityName\": \"Pune\", \"Temperature\": 294.54, \"Humidity\": 93, \"Weather\": \"broken clouds\", \"Time\": \"2022-08-24 23:18:29\"}\n",
      "Waiting...\n",
      "weather data published : {\"CityName\": \"Kanija Bhavan\", \"Temperature\": 293.95, \"Humidity\": 94, \"Weather\": \"drizzle\", \"Time\": \"2022-08-24 23:18:30\"}\n",
      "Waiting...\n",
      "weather data published : {\"CityName\": \"Kolkata\", \"Temperature\": 300.11, \"Humidity\": 83, \"Weather\": \"haze\", \"Time\": \"2022-08-24 23:18:31\"}\n",
      "Waiting...\n",
      "weather data published : {\"CityName\": \"Delhi\", \"Temperature\": 301.21, \"Humidity\": 83, \"Weather\": \"mist\", \"Time\": \"2022-08-24 23:18:32\"}\n",
      "Waiting...\n",
      "weather data published : {\"CityName\": \"Pune\", \"Temperature\": 294.54, \"Humidity\": 93, \"Weather\": \"broken clouds\", \"Time\": \"2022-08-24 23:19:04\"}\n",
      "Waiting...\n",
      "weather data published : {\"CityName\": \"Bengaluru\", \"Temperature\": 293.95, \"Humidity\": 94, \"Weather\": \"drizzle\", \"Time\": \"2022-08-24 23:19:05\"}\n",
      "Waiting...\n",
      "weather data published : {\"CityName\": \"Kolkata\", \"Temperature\": 300.11, \"Humidity\": 83, \"Weather\": \"haze\", \"Time\": \"2022-08-24 23:19:06\"}\n",
      "Waiting...\n",
      "weather data published : {\"CityName\": \"Delhi\", \"Temperature\": 301.21, \"Humidity\": 83, \"Weather\": \"mist\", \"Time\": \"2022-08-24 23:19:07\"}\n",
      "Waiting...\n",
      "weather data published : {\"CityName\": \"Pune\", \"Temperature\": 294.54, \"Humidity\": 93, \"Weather\": \"broken clouds\", \"Time\": \"2022-08-24 23:19:42\"}\n",
      "Waiting...\n",
      "weather data published : {\"CityName\": \"Bengaluru\", \"Temperature\": 293.95, \"Humidity\": 94, \"Weather\": \"drizzle\", \"Time\": \"2022-08-24 23:19:44\"}\n",
      "Waiting...\n",
      "weather data published : {\"CityName\": \"Kolkata\", \"Temperature\": 300.11, \"Humidity\": 83, \"Weather\": \"haze\", \"Time\": \"2022-08-24 23:19:44\"}\n",
      "Waiting...\n",
      "weather data published : {\"CityName\": \"Delhi\", \"Temperature\": 301.21, \"Humidity\": 83, \"Weather\": \"mist\", \"Time\": \"2022-08-24 23:19:45\"}\n",
      "Waiting...\n",
      "weather data published : {\"CityName\": \"Pune\", \"Temperature\": 294.54, \"Humidity\": 93, \"Weather\": \"broken clouds\", \"Time\": \"2022-08-24 23:20:18\"}\n",
      "Waiting...\n",
      "weather data published : {\"CityName\": \"Bengaluru\", \"Temperature\": 293.95, \"Humidity\": 94, \"Weather\": \"drizzle\", \"Time\": \"2022-08-24 23:20:19\"}\n",
      "Waiting...\n",
      "weather data published : {\"CityName\": \"Kolkata\", \"Temperature\": 300.11, \"Humidity\": 83, \"Weather\": \"haze\", \"Time\": \"2022-08-24 23:20:20\"}\n",
      "Waiting...\n",
      "weather data published : {\"CityName\": \"Delhi\", \"Temperature\": 301.21, \"Humidity\": 83, \"Weather\": \"mist\", \"Time\": \"2022-08-24 23:20:21\"}\n",
      "Waiting...\n",
      "weather data published : {\"CityName\": \"Pune\", \"Temperature\": 294.54, \"Humidity\": 93, \"Weather\": \"broken clouds\", \"Time\": \"2022-08-24 23:20:53\"}\n",
      "Waiting...\n",
      "weather data published : {\"CityName\": \"Kanija Bhavan\", \"Temperature\": 293.95, \"Humidity\": 94, \"Weather\": \"drizzle\", \"Time\": \"2022-08-24 23:20:54\"}\n",
      "Waiting...\n",
      "weather data published : {\"CityName\": \"Kolkata\", \"Temperature\": 300.11, \"Humidity\": 83, \"Weather\": \"haze\", \"Time\": \"2022-08-24 23:20:55\"}\n",
      "Waiting...\n",
      "weather data published : {\"CityName\": \"Connaught Place\", \"Temperature\": 301.21, \"Humidity\": 83, \"Weather\": \"mist\", \"Time\": \"2022-08-24 23:20:57\"}\n",
      "Waiting...\n",
      "weather data published : {\"CityName\": \"Pune\", \"Temperature\": 294.54, \"Humidity\": 93, \"Weather\": \"broken clouds\", \"Time\": \"2022-08-24 23:21:31\"}\n",
      "Waiting...\n",
      "weather data published : {\"CityName\": \"Kanija Bhavan\", \"Temperature\": 293.95, \"Humidity\": 94, \"Weather\": \"drizzle\", \"Time\": \"2022-08-24 23:21:32\"}\n",
      "Waiting...\n",
      "weather data published : {\"CityName\": \"Kolkata\", \"Temperature\": 300.11, \"Humidity\": 83, \"Weather\": \"haze\", \"Time\": \"2022-08-24 23:21:33\"}\n",
      "Waiting...\n",
      "weather data published : {\"CityName\": \"Delhi\", \"Temperature\": 301.21, \"Humidity\": 83, \"Weather\": \"mist\", \"Time\": \"2022-08-24 23:21:34\"}\n",
      "Waiting...\n",
      "weather data published : {\"CityName\": \"Pune\", \"Temperature\": 294.54, \"Humidity\": 93, \"Weather\": \"broken clouds\", \"Time\": \"2022-08-24 23:22:06\"}\n",
      "Waiting...\n",
      "weather data published : {\"CityName\": \"Kanija Bhavan\", \"Temperature\": 293.95, \"Humidity\": 94, \"Weather\": \"drizzle\", \"Time\": \"2022-08-24 23:22:07\"}\n",
      "Waiting...\n",
      "weather data published : {\"CityName\": \"Kolkata\", \"Temperature\": 300.11, \"Humidity\": 83, \"Weather\": \"haze\", \"Time\": \"2022-08-24 23:22:12\"}\n",
      "Waiting...\n",
      "weather data published : {\"CityName\": \"Connaught Place\", \"Temperature\": 301.21, \"Humidity\": 83, \"Weather\": \"mist\", \"Time\": \"2022-08-24 23:22:13\"}\n",
      "Waiting...\n",
      "weather data published : {\"CityName\": \"Pune\", \"Temperature\": 294.54, \"Humidity\": 93, \"Weather\": \"broken clouds\", \"Time\": \"2022-08-24 23:22:45\"}\n",
      "Waiting...\n",
      "weather data published : {\"CityName\": \"Kanija Bhavan\", \"Temperature\": 293.95, \"Humidity\": 94, \"Weather\": \"drizzle\", \"Time\": \"2022-08-24 23:22:46\"}\n",
      "Waiting...\n",
      "weather data published : {\"CityName\": \"Kolkata\", \"Temperature\": 300.11, \"Humidity\": 83, \"Weather\": \"haze\", \"Time\": \"2022-08-24 23:22:47\"}\n",
      "Waiting...\n",
      "weather data published : {\"CityName\": \"Delhi\", \"Temperature\": 301.21, \"Humidity\": 83, \"Weather\": \"mist\", \"Time\": \"2022-08-24 23:22:48\"}\n",
      "Waiting...\n",
      "weather data published : {\"CityName\": \"Pune\", \"Temperature\": 294.54, \"Humidity\": 93, \"Weather\": \"broken clouds\", \"Time\": \"2022-08-24 23:23:20\"}\n",
      "Waiting...\n",
      "weather data published : {\"CityName\": \"Kanija Bhavan\", \"Temperature\": 293.95, \"Humidity\": 94, \"Weather\": \"drizzle\", \"Time\": \"2022-08-24 23:23:20\"}\n",
      "Waiting...\n",
      "weather data published : {\"CityName\": \"Kolkata\", \"Temperature\": 300.11, \"Humidity\": 83, \"Weather\": \"haze\", \"Time\": \"2022-08-24 23:23:21\"}\n",
      "Waiting...\n",
      "weather data published : {\"CityName\": \"Delhi\", \"Temperature\": 301.21, \"Humidity\": 83, \"Weather\": \"mist\", \"Time\": \"2022-08-24 23:23:22\"}\n",
      "Waiting...\n",
      "weather data published : {\"CityName\": \"Pune\", \"Temperature\": 294.54, \"Humidity\": 93, \"Weather\": \"broken clouds\", \"Time\": \"2022-08-24 23:23:55\"}\n",
      "Waiting...\n",
      "weather data published : {\"CityName\": \"Kanija Bhavan\", \"Temperature\": 293.95, \"Humidity\": 94, \"Weather\": \"drizzle\", \"Time\": \"2022-08-24 23:23:56\"}\n",
      "Waiting...\n",
      "weather data published : {\"CityName\": \"Kolkata\", \"Temperature\": 300.11, \"Humidity\": 83, \"Weather\": \"haze\", \"Time\": \"2022-08-24 23:23:57\"}\n",
      "Waiting...\n",
      "weather data published : {\"CityName\": \"Delhi\", \"Temperature\": 301.21, \"Humidity\": 83, \"Weather\": \"mist\", \"Time\": \"2022-08-24 23:23:58\"}\n",
      "Waiting...\n",
      "weather data published : {\"CityName\": \"Pune\", \"Temperature\": 294.54, \"Humidity\": 93, \"Weather\": \"broken clouds\", \"Time\": \"2022-08-24 23:24:37\"}\n",
      "Waiting...\n",
      "weather data published : {\"CityName\": \"Kanija Bhavan\", \"Temperature\": 293.95, \"Humidity\": 94, \"Weather\": \"drizzle\", \"Time\": \"2022-08-24 23:24:38\"}\n",
      "Waiting...\n",
      "weather data published : {\"CityName\": \"Kolkata\", \"Temperature\": 300.11, \"Humidity\": 83, \"Weather\": \"haze\", \"Time\": \"2022-08-24 23:24:38\"}\n",
      "Waiting...\n",
      "weather data published : {\"CityName\": \"Delhi\", \"Temperature\": 301.21, \"Humidity\": 83, \"Weather\": \"mist\", \"Time\": \"2022-08-24 23:24:39\"}\n",
      "Waiting...\n"
     ]
    }
   ],
   "source": [
    "flag = True\n",
    "while True:\n",
    "    #passing city as arguement and getting url_link , then passing url link to weather_json get json message\n",
    "    if flag == False:\n",
    "        time.sleep(30)\n",
    "    message = weather_json(weather_link(\"Pune\",\"Bangalore\",\"Kolkata\",\"Delhi\"))\n",
    "    for i in message:\n",
    "        producer.send(\"Weather_data\",i)\n",
    "        print(\"weather data published : \" + json.dumps(i))\n",
    "        print(\"Waiting...\")\n",
    "    flag = False"
   ]
  },
  {
   "cell_type": "code",
   "execution_count": null,
   "id": "ed2bb030",
   "metadata": {},
   "outputs": [],
   "source": []
  }
 ],
 "metadata": {
  "kernelspec": {
   "display_name": "Python 3 (ipykernel)",
   "language": "python",
   "name": "python3"
  },
  "language_info": {
   "codemirror_mode": {
    "name": "ipython",
    "version": 3
   },
   "file_extension": ".py",
   "mimetype": "text/x-python",
   "name": "python",
   "nbconvert_exporter": "python",
   "pygments_lexer": "ipython3",
   "version": "3.10.4"
  }
 },
 "nbformat": 4,
 "nbformat_minor": 5
}
