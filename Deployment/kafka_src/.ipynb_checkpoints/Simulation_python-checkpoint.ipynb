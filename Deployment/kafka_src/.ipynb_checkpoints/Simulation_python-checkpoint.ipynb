{
 "cells": [
  {
   "cell_type": "code",
   "execution_count": 4,
   "id": "279b6eb7",
   "metadata": {},
   "outputs": [],
   "source": [
    "from scipy.stats import uniform,norm,rv_discrete\n",
    "import pandas as pd"
   ]
  },
  {
   "cell_type": "code",
   "execution_count": 3,
   "id": "a4b1096d",
   "metadata": {},
   "outputs": [],
   "source": [
    "sp_per_unit =249\n",
    "admin_cost = 400000\n",
    "advt_cost = 600000"
   ]
  },
  {
   "cell_type": "code",
   "execution_count": 5,
   "id": "47b57d4b",
   "metadata": {},
   "outputs": [],
   "source": [
    "mean = 15000\n",
    "std = 4500"
   ]
  },
  {
   "cell_type": "code",
   "execution_count": 12,
   "id": "cb3cde52",
   "metadata": {},
   "outputs": [],
   "source": [
    "#part cost\n",
    "a = 80\n",
    "b = 100"
   ]
  },
  {
   "cell_type": "code",
   "execution_count": 10,
   "id": "5fc73ad1",
   "metadata": {},
   "outputs": [],
   "source": [
    "trails = 500"
   ]
  },
  {
   "cell_type": "code",
   "execution_count": 9,
   "id": "4d1fb60e",
   "metadata": {},
   "outputs": [
    {
     "data": {
      "text/plain": [
       "<scipy.stats._distn_infrastructure.rv_sample at 0x7fcaa3d319c0>"
      ]
     },
     "execution_count": 9,
     "metadata": {},
     "output_type": "execute_result"
    }
   ],
   "source": [
    "sample = rv_discrete(values=([43,44,45,46,47],[0.1,0.2,0.4,0.2,0.1]))\n",
    "sample"
   ]
  },
  {
   "cell_type": "code",
   "execution_count": 11,
   "id": "034eb9ca",
   "metadata": {},
   "outputs": [],
   "source": [
    "df = pd.DataFrame({\"labor cost\": sample.rvs(size=trails)})"
   ]
  },
  {
   "cell_type": "code",
   "execution_count": 14,
   "id": "b66de9b4",
   "metadata": {},
   "outputs": [
    {
     "data": {
      "text/plain": [
       "0      84.28\n",
       "1      80.06\n",
       "2      85.06\n",
       "3      81.49\n",
       "4      89.59\n",
       "       ...  \n",
       "495    87.90\n",
       "496    89.18\n",
       "497    92.31\n",
       "498    82.94\n",
       "499    86.88\n",
       "Name: Part cost, Length: 500, dtype: float64"
      ]
     },
     "execution_count": 14,
     "metadata": {},
     "output_type": "execute_result"
    }
   ],
   "source": [
    "df[\"Part cost\"] =  uniform.rvs(a,(b-a),size=trails).round(2)\n",
    "df[\"Part cost\"]"
   ]
  },
  {
   "cell_type": "code",
   "execution_count": 17,
   "id": "34fa94c6",
   "metadata": {},
   "outputs": [
    {
     "data": {
      "text/plain": [
       "0      15471.35\n",
       "1      14143.81\n",
       "2      12690.41\n",
       "3       8939.67\n",
       "4      25483.06\n",
       "         ...   \n",
       "495    23739.28\n",
       "496    15048.53\n",
       "497    15977.17\n",
       "498    15764.36\n",
       "499    19774.16\n",
       "Name: Demand, Length: 500, dtype: float64"
      ]
     },
     "execution_count": 17,
     "metadata": {},
     "output_type": "execute_result"
    }
   ],
   "source": [
    "df[\"Demand\"] = norm.rvs(loc=mean,scale=std,size=trails).round(2)\n",
    "df[\"Demand\"]"
   ]
  },
  {
   "cell_type": "code",
   "execution_count": 18,
   "id": "615943cb",
   "metadata": {},
   "outputs": [
    {
     "data": {
      "text/html": [
       "<div>\n",
       "<style scoped>\n",
       "    .dataframe tbody tr th:only-of-type {\n",
       "        vertical-align: middle;\n",
       "    }\n",
       "\n",
       "    .dataframe tbody tr th {\n",
       "        vertical-align: top;\n",
       "    }\n",
       "\n",
       "    .dataframe thead th {\n",
       "        text-align: right;\n",
       "    }\n",
       "</style>\n",
       "<table border=\"1\" class=\"dataframe\">\n",
       "  <thead>\n",
       "    <tr style=\"text-align: right;\">\n",
       "      <th></th>\n",
       "      <th>labor cost</th>\n",
       "      <th>Part cost</th>\n",
       "      <th>Demand</th>\n",
       "      <th>Profit</th>\n",
       "    </tr>\n",
       "  </thead>\n",
       "  <tbody>\n",
       "    <tr>\n",
       "      <th>0</th>\n",
       "      <td>46</td>\n",
       "      <td>84.28</td>\n",
       "      <td>15471.35</td>\n",
       "      <td>8.367587e+05</td>\n",
       "    </tr>\n",
       "    <tr>\n",
       "      <th>1</th>\n",
       "      <td>45</td>\n",
       "      <td>80.06</td>\n",
       "      <td>14143.81</td>\n",
       "      <td>7.529838e+05</td>\n",
       "    </tr>\n",
       "    <tr>\n",
       "      <th>2</th>\n",
       "      <td>43</td>\n",
       "      <td>85.06</td>\n",
       "      <td>12690.41</td>\n",
       "      <td>5.347782e+05</td>\n",
       "    </tr>\n",
       "    <tr>\n",
       "      <th>3</th>\n",
       "      <td>45</td>\n",
       "      <td>81.49</td>\n",
       "      <td>8939.67</td>\n",
       "      <td>9.519897e+04</td>\n",
       "    </tr>\n",
       "    <tr>\n",
       "      <th>4</th>\n",
       "      <td>45</td>\n",
       "      <td>89.59</td>\n",
       "      <td>25483.06</td>\n",
       "      <td>1.915517e+06</td>\n",
       "    </tr>\n",
       "    <tr>\n",
       "      <th>...</th>\n",
       "      <td>...</td>\n",
       "      <td>...</td>\n",
       "      <td>...</td>\n",
       "      <td>...</td>\n",
       "    </tr>\n",
       "    <tr>\n",
       "      <th>495</th>\n",
       "      <td>45</td>\n",
       "      <td>87.90</td>\n",
       "      <td>23739.28</td>\n",
       "      <td>1.756130e+06</td>\n",
       "    </tr>\n",
       "    <tr>\n",
       "      <th>496</th>\n",
       "      <td>45</td>\n",
       "      <td>89.18</td>\n",
       "      <td>15048.53</td>\n",
       "      <td>7.278722e+05</td>\n",
       "    </tr>\n",
       "    <tr>\n",
       "      <th>497</th>\n",
       "      <td>44</td>\n",
       "      <td>92.31</td>\n",
       "      <td>15977.17</td>\n",
       "      <td>8.004673e+05</td>\n",
       "    </tr>\n",
       "    <tr>\n",
       "      <th>498</th>\n",
       "      <td>45</td>\n",
       "      <td>82.94</td>\n",
       "      <td>15764.36</td>\n",
       "      <td>9.084334e+05</td>\n",
       "    </tr>\n",
       "    <tr>\n",
       "      <th>499</th>\n",
       "      <td>46</td>\n",
       "      <td>86.88</td>\n",
       "      <td>19774.16</td>\n",
       "      <td>1.296175e+06</td>\n",
       "    </tr>\n",
       "  </tbody>\n",
       "</table>\n",
       "<p>500 rows × 4 columns</p>\n",
       "</div>"
      ],
      "text/plain": [
       "     labor cost  Part cost    Demand        Profit\n",
       "0            46      84.28  15471.35  8.367587e+05\n",
       "1            45      80.06  14143.81  7.529838e+05\n",
       "2            43      85.06  12690.41  5.347782e+05\n",
       "3            45      81.49   8939.67  9.519897e+04\n",
       "4            45      89.59  25483.06  1.915517e+06\n",
       "..          ...        ...       ...           ...\n",
       "495          45      87.90  23739.28  1.756130e+06\n",
       "496          45      89.18  15048.53  7.278722e+05\n",
       "497          44      92.31  15977.17  8.004673e+05\n",
       "498          45      82.94  15764.36  9.084334e+05\n",
       "499          46      86.88  19774.16  1.296175e+06\n",
       "\n",
       "[500 rows x 4 columns]"
      ]
     },
     "execution_count": 18,
     "metadata": {},
     "output_type": "execute_result"
    }
   ],
   "source": [
    "df[\"Profit\"] = (sp_per_unit-df[\"labor cost\"]-df[\"Part cost\"])*df[\"Demand\"]-admin_cost-advt_cost\n",
    "df"
   ]
  },
  {
   "cell_type": "code",
   "execution_count": 20,
   "id": "235f2011",
   "metadata": {},
   "outputs": [
    {
     "name": "stdout",
     "output_type": "stream",
     "text": [
      "Mean profit :  746182.1002462\n",
      "Std :  510400.4862025217\n",
      "Min profit :  -928759.285\n",
      "Max profit :  2245446.3526\n",
      "No of losses :  39\n",
      "Probablity of loss :  0.078\n"
     ]
    }
   ],
   "source": [
    "print(\"Mean profit : \",df[\"Profit\"].mean())\n",
    "print(\"Std : \",df[\"Profit\"].std())\n",
    "print(\"Min profit : \",df[\"Profit\"].min())\n",
    "print(\"Max profit : \",df[\"Profit\"].max())\n",
    "print(\"No of losses : \",df[df[\"Profit\"]<0][\"Profit\"].count())\n",
    "print(\"Probablity of loss : \",df[df[\"Profit\"]<0][\"Profit\"].count()/trails)\n"
   ]
  }
 ],
 "metadata": {
  "kernelspec": {
   "display_name": "Python 3 (ipykernel)",
   "language": "python",
   "name": "python3"
  },
  "language_info": {
   "codemirror_mode": {
    "name": "ipython",
    "version": 3
   },
   "file_extension": ".py",
   "mimetype": "text/x-python",
   "name": "python",
   "nbconvert_exporter": "python",
   "pygments_lexer": "ipython3",
   "version": "3.10.4"
  }
 },
 "nbformat": 4,
 "nbformat_minor": 5
}
