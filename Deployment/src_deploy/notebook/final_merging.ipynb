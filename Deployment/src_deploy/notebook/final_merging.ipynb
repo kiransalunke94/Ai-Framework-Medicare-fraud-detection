{
 "cells": [
  {
   "cell_type": "code",
   "execution_count": 1,
   "id": "c9a7bd60",
   "metadata": {},
   "outputs": [],
   "source": [
    "import pandas as pd"
   ]
  },
  {
   "cell_type": "code",
   "execution_count": 2,
   "id": "70962938-0ba2-4ab2-a1a5-b63588a89eb2",
   "metadata": {},
   "outputs": [
    {
     "name": "stdout",
     "output_type": "stream",
     "text": [
      "Sorted drug data loaded\n",
      "Sorted payment data loaded\n",
      "Sorted medicines data loaded\n"
     ]
    }
   ],
   "source": [
    "drug_data = pd.read_csv(\"../data/output/drug_sort.csv\")\n",
    "print(\"Sorted drug data loaded\")\n",
    "pay_data = pd.read_csv(\"../data/output/payment_data_aggregated.csv\")\n",
    "print(\"Sorted payment data loaded\")\n",
    "medicines_data = pd.read_csv(\"../data/output/medicines_data.csv\")\n",
    "print(\"Sorted medicines data loaded\")"
   ]
  },
  {
   "cell_type": "code",
   "execution_count": 3,
   "id": "3ff641ea-256d-4c5c-b687-8d1c78c5d86a",
   "metadata": {},
   "outputs": [
    {
     "name": "stdout",
     "output_type": "stream",
     "text": [
      "Drug data and payment data joined\n"
     ]
    }
   ],
   "source": [
    "data = pd.merge(drug_data,pay_data,on=\"NPI\",how = \"left\")\n",
    "print(\"Drug data and payment data joined\")"
   ]
  },
  {
   "cell_type": "code",
   "execution_count": 4,
   "id": "c4949dd3-8d71-4b2b-a52e-6710c68cd812",
   "metadata": {},
   "outputs": [
    {
     "name": "stdout",
     "output_type": "stream",
     "text": [
      "Drug , payment and medicine join done\n"
     ]
    }
   ],
   "source": [
    "data_final =  pd.merge(data,medicines_data,on=\"NPI\",how = \"left\")\n",
    "print(\"Drug , payment and medicine join done\")"
   ]
  },
  {
   "cell_type": "code",
   "execution_count": 7,
   "id": "3b26907a-aa53-4870-98a5-3a5373033b61",
   "metadata": {},
   "outputs": [],
   "source": [
    "data_final.drop([\"Unnamed: 0.1\",\"Unnamed: 0_x\"],axis = 1,inplace = True)"
   ]
  },
  {
   "cell_type": "code",
   "execution_count": null,
   "id": "ca3ade75-fe54-4523-8bc6-11e034d2968b",
   "metadata": {},
   "outputs": [],
   "source": [
    "data_final['claim_max-mean'] = data_final['max_Total_claims'] - data_final['avg_Total_claims']\n",
    "\n",
    "data_final['supply_max-mean'] = data_final['max_Tot_Day_Suply'] - data_final['avg_Tot_Day_Suply']\n",
    "\n",
    "data_final['drug_max-mean'] = data_final['max_Tot_Drug_Cst'] - data_final['avg_Tot_Drug_Cst']\n",
    "print(\"Claim, supply and drug max-mean column added \")"
   ]
  },
  {
   "cell_type": "code",
   "execution_count": 10,
   "id": "770cbf14-00f0-40e5-bf8e-b0a6341743b3",
   "metadata": {},
   "outputs": [
    {
     "data": {
      "text/plain": [
       "122"
      ]
     },
     "execution_count": 10,
     "metadata": {},
     "output_type": "execute_result"
    }
   ],
   "source": [
    "print(\"Total columns in final data frame : \",len(data_final.columns))"
   ]
  },
  {
   "cell_type": "code",
   "execution_count": 12,
   "id": "7f38ae10-a476-4b39-a096-18caffb48de8",
   "metadata": {},
   "outputs": [],
   "source": [
    "data_final.to_csv(\"../data/output/processed_data.csv\")\n",
    "print(\"Processed data saved and ready for engineering\")"
   ]
  }
 ],
 "metadata": {
  "kernelspec": {
   "display_name": "Python 3 (ipykernel)",
   "language": "python",
   "name": "python3"
  },
  "language_info": {
   "codemirror_mode": {
    "name": "ipython",
    "version": 3
   },
   "file_extension": ".py",
   "mimetype": "text/x-python",
   "name": "python",
   "nbconvert_exporter": "python",
   "pygments_lexer": "ipython3",
   "version": "3.10.1"
  }
 },
 "nbformat": 4,
 "nbformat_minor": 5
}
