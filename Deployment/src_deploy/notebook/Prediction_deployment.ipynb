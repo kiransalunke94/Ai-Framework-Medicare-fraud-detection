{
 "cells": [
  {
   "cell_type": "code",
   "execution_count": 1,
   "id": "10094b68-cea1-43a1-b000-ef3fda9b4cf2",
   "metadata": {
    "id": "10094b68-cea1-43a1-b000-ef3fda9b4cf2"
   },
   "outputs": [],
   "source": [
    "import pandas as pd\n",
    "import numpy as np\n",
    "from sklearn.preprocessing import RobustScaler, StandardScaler, MinMaxScaler,PowerTransformer\n",
    "import joblib\n",
    "import pickle"
   ]
  },
  {
   "cell_type": "code",
   "execution_count": 2,
   "id": "e48efd0e",
   "metadata": {
    "id": "e48efd0e",
    "tags": []
   },
   "outputs": [
    {
     "name": "stdout",
     "output_type": "stream",
     "text": [
      "Processed data loaded for prediction\n"
     ]
    }
   ],
   "source": [
    "df_ml = pd.read_csv(\"/home/kiran/medicare/data/output/processed_data.csv\")\n",
    "print(\"Processed data loaded for prediction\")"
   ]
  },
  {
   "cell_type": "code",
   "execution_count": 3,
   "id": "dc80569a-7e4a-4856-b63c-9b7cb5eea8d9",
   "metadata": {},
   "outputs": [
    {
     "data": {
      "text/html": [
       "<div>\n",
       "<style scoped>\n",
       "    .dataframe tbody tr th:only-of-type {\n",
       "        vertical-align: middle;\n",
       "    }\n",
       "\n",
       "    .dataframe tbody tr th {\n",
       "        vertical-align: top;\n",
       "    }\n",
       "\n",
       "    .dataframe thead th {\n",
       "        text-align: right;\n",
       "    }\n",
       "</style>\n",
       "<table border=\"1\" class=\"dataframe\">\n",
       "  <thead>\n",
       "    <tr style=\"text-align: right;\">\n",
       "      <th></th>\n",
       "      <th>Unnamed: 0</th>\n",
       "      <th>NPI</th>\n",
       "      <th>City</th>\n",
       "      <th>State</th>\n",
       "      <th>First_name</th>\n",
       "      <th>last_org_name</th>\n",
       "      <th>Speciality</th>\n",
       "      <th>sum_Tot_Drug_Cst</th>\n",
       "      <th>avg_Tot_Drug_Cst</th>\n",
       "      <th>max_Tot_Drug_Cst</th>\n",
       "      <th>...</th>\n",
       "      <th>Diazepam_Tot_Clms</th>\n",
       "      <th>Diazepam_Tot_Day_Suply</th>\n",
       "      <th>Pen Needle, Diabetic_Tot_Drug_Cst</th>\n",
       "      <th>Pen Needle, Diabetic_Tot_Day_Suply</th>\n",
       "      <th>Tramadol Hcl_Tot_Drug_Cst</th>\n",
       "      <th>Tramadol Hcl_Tot_Clms</th>\n",
       "      <th>Tramadol Hcl_Tot_Day_Suply</th>\n",
       "      <th>claim_max-mean</th>\n",
       "      <th>supply_max-mean</th>\n",
       "      <th>drug_max-mean</th>\n",
       "    </tr>\n",
       "  </thead>\n",
       "  <tbody>\n",
       "    <tr>\n",
       "      <th>0</th>\n",
       "      <td>0</td>\n",
       "      <td>1003000126</td>\n",
       "      <td>Bethesda</td>\n",
       "      <td>MD</td>\n",
       "      <td>Ardalan</td>\n",
       "      <td>Enkeshafi</td>\n",
       "      <td>Internal Medicine</td>\n",
       "      <td>5979.070107</td>\n",
       "      <td>747.383763</td>\n",
       "      <td>4792.850098</td>\n",
       "      <td>...</td>\n",
       "      <td>0.0</td>\n",
       "      <td>0.0</td>\n",
       "      <td>0.0</td>\n",
       "      <td>0.0</td>\n",
       "      <td>0.0</td>\n",
       "      <td>0.0</td>\n",
       "      <td>0.0</td>\n",
       "      <td>14.5</td>\n",
       "      <td>471.875</td>\n",
       "      <td>4045.466334</td>\n",
       "    </tr>\n",
       "  </tbody>\n",
       "</table>\n",
       "<p>1 rows × 126 columns</p>\n",
       "</div>"
      ],
      "text/plain": [
       "   Unnamed: 0         NPI      City State First_name last_org_name  \\\n",
       "0           0  1003000126  Bethesda    MD    Ardalan     Enkeshafi   \n",
       "\n",
       "          Speciality  sum_Tot_Drug_Cst  avg_Tot_Drug_Cst  max_Tot_Drug_Cst  \\\n",
       "0  Internal Medicine       5979.070107        747.383763       4792.850098   \n",
       "\n",
       "   ...  Diazepam_Tot_Clms  Diazepam_Tot_Day_Suply  \\\n",
       "0  ...                0.0                     0.0   \n",
       "\n",
       "   Pen Needle, Diabetic_Tot_Drug_Cst  Pen Needle, Diabetic_Tot_Day_Suply  \\\n",
       "0                                0.0                                 0.0   \n",
       "\n",
       "   Tramadol Hcl_Tot_Drug_Cst  Tramadol Hcl_Tot_Clms  \\\n",
       "0                        0.0                    0.0   \n",
       "\n",
       "   Tramadol Hcl_Tot_Day_Suply  claim_max-mean  supply_max-mean  drug_max-mean  \n",
       "0                         0.0            14.5          471.875    4045.466334  \n",
       "\n",
       "[1 rows x 126 columns]"
      ]
     },
     "execution_count": 3,
     "metadata": {},
     "output_type": "execute_result"
    }
   ],
   "source": [
    "df_ml.head(1)"
   ]
  },
  {
   "cell_type": "code",
   "execution_count": 4,
   "id": "17a753ca-fc51-403b-9559-2d68005bcd31",
   "metadata": {
    "id": "17a753ca-fc51-403b-9559-2d68005bcd31",
    "tags": []
   },
   "outputs": [],
   "source": [
    "#df_ml.drop([\"Unnamed: 0\",\"State\",\"NPI\"],axis =1,inplace= True)\n",
    "df_ml.drop([\"Unnamed: 0\",\"State\",\"City\",\"First_name\",\"last_org_name\",\"Unnamed: 0_y\"],axis =1,inplace= True)\n",
    "\n",
    "df_ml = df_ml.round(2)"
   ]
  },
  {
   "cell_type": "code",
   "execution_count": 5,
   "id": "83d0330f-9cc8-43b9-8631-8ac76374663f",
   "metadata": {},
   "outputs": [
    {
     "data": {
      "text/html": [
       "<div>\n",
       "<style scoped>\n",
       "    .dataframe tbody tr th:only-of-type {\n",
       "        vertical-align: middle;\n",
       "    }\n",
       "\n",
       "    .dataframe tbody tr th {\n",
       "        vertical-align: top;\n",
       "    }\n",
       "\n",
       "    .dataframe thead th {\n",
       "        text-align: right;\n",
       "    }\n",
       "</style>\n",
       "<table border=\"1\" class=\"dataframe\">\n",
       "  <thead>\n",
       "    <tr style=\"text-align: right;\">\n",
       "      <th></th>\n",
       "      <th>NPI</th>\n",
       "      <th>Speciality</th>\n",
       "      <th>sum_Tot_Drug_Cst</th>\n",
       "      <th>avg_Tot_Drug_Cst</th>\n",
       "      <th>max_Tot_Drug_Cst</th>\n",
       "      <th>sum_Total_claims</th>\n",
       "      <th>avg_Total_claims</th>\n",
       "      <th>max_Total_claims</th>\n",
       "      <th>sum_Tot_Day_Suply</th>\n",
       "      <th>avg_Tot_Day_Suply</th>\n",
       "      <th>...</th>\n",
       "      <th>Diazepam_Tot_Clms</th>\n",
       "      <th>Diazepam_Tot_Day_Suply</th>\n",
       "      <th>Pen Needle, Diabetic_Tot_Drug_Cst</th>\n",
       "      <th>Pen Needle, Diabetic_Tot_Day_Suply</th>\n",
       "      <th>Tramadol Hcl_Tot_Drug_Cst</th>\n",
       "      <th>Tramadol Hcl_Tot_Clms</th>\n",
       "      <th>Tramadol Hcl_Tot_Day_Suply</th>\n",
       "      <th>claim_max-mean</th>\n",
       "      <th>supply_max-mean</th>\n",
       "      <th>drug_max-mean</th>\n",
       "    </tr>\n",
       "  </thead>\n",
       "  <tbody>\n",
       "    <tr>\n",
       "      <th>0</th>\n",
       "      <td>1003000126</td>\n",
       "      <td>Internal Medicine</td>\n",
       "      <td>5979.07</td>\n",
       "      <td>747.38</td>\n",
       "      <td>4792.85</td>\n",
       "      <td>124.0</td>\n",
       "      <td>15.5</td>\n",
       "      <td>30.0</td>\n",
       "      <td>3721.0</td>\n",
       "      <td>465.12</td>\n",
       "      <td>...</td>\n",
       "      <td>0.0</td>\n",
       "      <td>0.0</td>\n",
       "      <td>0.0</td>\n",
       "      <td>0.0</td>\n",
       "      <td>0.0</td>\n",
       "      <td>0.0</td>\n",
       "      <td>0.0</td>\n",
       "      <td>14.5</td>\n",
       "      <td>471.88</td>\n",
       "      <td>4045.47</td>\n",
       "    </tr>\n",
       "  </tbody>\n",
       "</table>\n",
       "<p>1 rows × 120 columns</p>\n",
       "</div>"
      ],
      "text/plain": [
       "          NPI         Speciality  sum_Tot_Drug_Cst  avg_Tot_Drug_Cst  \\\n",
       "0  1003000126  Internal Medicine           5979.07            747.38   \n",
       "\n",
       "   max_Tot_Drug_Cst  sum_Total_claims  avg_Total_claims  max_Total_claims  \\\n",
       "0           4792.85             124.0              15.5              30.0   \n",
       "\n",
       "   sum_Tot_Day_Suply  avg_Tot_Day_Suply  ...  Diazepam_Tot_Clms  \\\n",
       "0             3721.0             465.12  ...                0.0   \n",
       "\n",
       "   Diazepam_Tot_Day_Suply  Pen Needle, Diabetic_Tot_Drug_Cst  \\\n",
       "0                     0.0                                0.0   \n",
       "\n",
       "   Pen Needle, Diabetic_Tot_Day_Suply  Tramadol Hcl_Tot_Drug_Cst  \\\n",
       "0                                 0.0                        0.0   \n",
       "\n",
       "   Tramadol Hcl_Tot_Clms  Tramadol Hcl_Tot_Day_Suply  claim_max-mean  \\\n",
       "0                    0.0                         0.0            14.5   \n",
       "\n",
       "   supply_max-mean  drug_max-mean  \n",
       "0           471.88        4045.47  \n",
       "\n",
       "[1 rows x 120 columns]"
      ]
     },
     "execution_count": 5,
     "metadata": {},
     "output_type": "execute_result"
    }
   ],
   "source": [
    "df_ml.head(1)"
   ]
  },
  {
   "cell_type": "code",
   "execution_count": 6,
   "id": "a50d2bd8-e31a-4f7a-959a-9c1710bc789c",
   "metadata": {
    "id": "a50d2bd8-e31a-4f7a-959a-9c1710bc789c",
    "outputId": "f0f93f16-ea01-4f7c-e964-5971d1146fe0"
   },
   "outputs": [
    {
     "data": {
      "text/plain": [
       "NPI                           0\n",
       "Speciality                    0\n",
       "sum_Tot_Drug_Cst              0\n",
       "avg_Tot_Drug_Cst              0\n",
       "max_Tot_Drug_Cst              0\n",
       "                             ..\n",
       "Tramadol Hcl_Tot_Clms         0\n",
       "Tramadol Hcl_Tot_Day_Suply    0\n",
       "claim_max-mean                0\n",
       "supply_max-mean               0\n",
       "drug_max-mean                 0\n",
       "Length: 120, dtype: int64"
      ]
     },
     "execution_count": 6,
     "metadata": {},
     "output_type": "execute_result"
    }
   ],
   "source": [
    "df_ml.isna().sum()"
   ]
  },
  {
   "cell_type": "markdown",
   "id": "621b11f5",
   "metadata": {
    "id": "621b11f5"
   },
   "source": [
    "### Scaling"
   ]
  },
  {
   "cell_type": "code",
   "execution_count": 7,
   "id": "87237804",
   "metadata": {
    "id": "87237804",
    "outputId": "745294f6-fe15-42e7-ce73-15b98cc8c54c",
    "tags": []
   },
   "outputs": [],
   "source": [
    "# df_ml.columns.values"
   ]
  },
  {
   "cell_type": "code",
   "execution_count": 8,
   "id": "287325b7",
   "metadata": {
    "id": "287325b7",
    "outputId": "da350493-09d7-49cc-fe2d-2eeb8a3d5ca3"
   },
   "outputs": [
    {
     "data": {
      "text/plain": [
       "['sum_Tot_Drug_Cst',\n",
       " 'avg_Tot_Drug_Cst',\n",
       " 'max_Tot_Drug_Cst',\n",
       " 'sum_Total_claims',\n",
       " 'avg_Total_claims',\n",
       " 'max_Total_claims',\n",
       " 'sum_Tot_Day_Suply',\n",
       " 'avg_Tot_Day_Suply',\n",
       " 'max_Tot_Day_Suply',\n",
       " 'sum_Tot_30day_Fills',\n",
       " 'avg_Tot_30day_Fills',\n",
       " 'max_Tot_30day_Fills',\n",
       " 'Total_payments']"
      ]
     },
     "execution_count": 8,
     "metadata": {},
     "output_type": "execute_result"
    }
   ],
   "source": [
    "scale_features = df_ml.columns.to_list()[2:15]\n",
    "# scale_features.append(\"Total_payments\")\n",
    "scale_features"
   ]
  },
  {
   "cell_type": "markdown",
   "id": "3dba6832",
   "metadata": {
    "id": "3dba6832"
   },
   "source": [
    " ### Power transformer scaler: "
   ]
  },
  {
   "cell_type": "code",
   "execution_count": 9,
   "id": "4ea58ce9",
   "metadata": {
    "id": "4ea58ce9"
   },
   "outputs": [],
   "source": [
    "pt = PowerTransformer()"
   ]
  },
  {
   "cell_type": "code",
   "execution_count": 10,
   "id": "f53a1077",
   "metadata": {
    "id": "f53a1077"
   },
   "outputs": [
    {
     "name": "stdout",
     "output_type": "stream",
     "text": [
      "Features scaled by power transformer\n"
     ]
    }
   ],
   "source": [
    "df_pscale = df_ml.copy()\n",
    "df_pscale[scale_features] = pd.DataFrame(\n",
    "    pt.fit_transform(df_pscale.loc[:,scale_features]), columns=scale_features\n",
    ")\n",
    "\n",
    "print(\"Features scaled by power transformer\")"
   ]
  },
  {
   "cell_type": "markdown",
   "id": "c9282e63",
   "metadata": {
    "id": "c9282e63"
   },
   "source": [
    "### Scaler assignment"
   ]
  },
  {
   "cell_type": "code",
   "execution_count": 11,
   "id": "5f82f198",
   "metadata": {
    "colab": {
     "base_uri": "https://localhost:8080/",
     "height": 200
    },
    "executionInfo": {
     "elapsed": 58,
     "status": "error",
     "timestamp": 1663650323900,
     "user": {
      "displayName": "akash sali",
      "userId": "09598919745265195173"
     },
     "user_tz": -330
    },
    "id": "5f82f198",
    "outputId": "ef63d8d9-bcee-4297-c510-8f838ccec6ec"
   },
   "outputs": [],
   "source": [
    "#copying scaled output to new variable for further processiing\n",
    "\n",
    "df_scale = df_pscale.copy()"
   ]
  },
  {
   "cell_type": "code",
   "execution_count": 12,
   "id": "b8c42ced-8b06-47fd-9925-2dc75e4f399b",
   "metadata": {
    "executionInfo": {
     "elapsed": 63,
     "status": "aborted",
     "timestamp": 1663650323908,
     "user": {
      "displayName": "akash sali",
      "userId": "09598919745265195173"
     },
     "user_tz": -330
    },
    "id": "b8c42ced-8b06-47fd-9925-2dc75e4f399b"
   },
   "outputs": [
    {
     "data": {
      "text/plain": [
       "0"
      ]
     },
     "execution_count": 12,
     "metadata": {},
     "output_type": "execute_result"
    }
   ],
   "source": [
    "#FFilled missing value with most occuring speciality\n",
    "\n",
    "df_scale[\"Speciality\"].fillna(df_scale.Speciality.mode,inplace = True)\n",
    "df_scale[\"Speciality\"].isnull().sum()"
   ]
  },
  {
   "cell_type": "code",
   "execution_count": 13,
   "id": "31066dcb-3886-460c-840e-6d16d4e3d335",
   "metadata": {
    "executionInfo": {
     "elapsed": 65,
     "status": "aborted",
     "timestamp": 1663650323911,
     "user": {
      "displayName": "akash sali",
      "userId": "09598919745265195173"
     },
     "user_tz": -330
    },
    "id": "b9f5cd04-71b0-4523-8f15-aaf08bb91242",
    "tags": []
   },
   "outputs": [],
   "source": [
    "# # make list with top 30 variables\n",
    "# top_30 = [x for x in df_scale.Speciality.value_counts().sort_values(ascending=False).head(30).index]\n",
    "# #top_30.append('anesthesiology')\n",
    "# top_30"
   ]
  },
  {
   "cell_type": "code",
   "execution_count": 14,
   "id": "19c28eaa-92b4-4153-b819-bf94fb905924",
   "metadata": {},
   "outputs": [
    {
     "data": {
      "text/plain": [
       "['nurse practitioner',\n",
       " 'internal medicine',\n",
       " 'family practice',\n",
       " 'dentist',\n",
       " 'physician assistant',\n",
       " 'emergency medicine',\n",
       " 'student in an organized health care education/training program',\n",
       " 'optometry',\n",
       " 'obstetrics & gynecology',\n",
       " 'pharmacist',\n",
       " 'psychiatry',\n",
       " 'cardiology',\n",
       " 'orthopedic surgery',\n",
       " 'ophthalmology',\n",
       " 'general surgery',\n",
       " 'gastroenterology',\n",
       " 'neurology',\n",
       " 'podiatry',\n",
       " 'dermatology',\n",
       " 'hospitalist',\n",
       " 'psychiatry & neurology',\n",
       " 'urology',\n",
       " 'pulmonary disease',\n",
       " 'otolaryngology',\n",
       " 'nephrology',\n",
       " 'hematology-oncology',\n",
       " 'general practice',\n",
       " 'physical medicine and rehabilitation',\n",
       " 'endocrinology',\n",
       " 'oral surgery (dentist only)']"
      ]
     },
     "execution_count": 14,
     "metadata": {},
     "output_type": "execute_result"
    }
   ],
   "source": [
    "top_30 = [line.rstrip() for line in open('/home/kiran/medicare/data/top30.txt')]\n",
    "top_30"
   ]
  },
  {
   "cell_type": "code",
   "execution_count": 15,
   "id": "bd1f3f89-8f20-4a5b-bcaf-6a578866bd58",
   "metadata": {
    "executionInfo": {
     "elapsed": 67,
     "status": "ok",
     "timestamp": 1663650323913,
     "user": {
      "displayName": "akash sali",
      "userId": "09598919745265195173"
     },
     "user_tz": -330
    },
    "id": "bd1f3f89-8f20-4a5b-bcaf-6a578866bd58"
   },
   "outputs": [],
   "source": [
    "# for all categorical variables we selected\n",
    "def top_x(df2,variable,top_x_labels):\n",
    "    \n",
    "    for label in top_x_labels:\n",
    "        df2[variable+'_'+label] = np.where(df_scale[variable]==label,1,0)"
   ]
  },
  {
   "cell_type": "code",
   "execution_count": 16,
   "id": "1836402d-7d94-446d-8d35-11907aeb903a",
   "metadata": {
    "colab": {
     "base_uri": "https://localhost:8080/",
     "height": 217
    },
    "executionInfo": {
     "elapsed": 65,
     "status": "error",
     "timestamp": 1663650323913,
     "user": {
      "displayName": "akash sali",
      "userId": "09598919745265195173"
     },
     "user_tz": -330
    },
    "id": "1836402d-7d94-446d-8d35-11907aeb903a",
    "outputId": "99da2309-2b10-4692-9ffa-60d40457195c"
   },
   "outputs": [
    {
     "name": "stdout",
     "output_type": "stream",
     "text": [
      "One hot encoding done\n"
     ]
    }
   ],
   "source": [
    "#encode Nighborhood into the 10 most frequent categories\n",
    "top_x(df_scale,'Speciality',top_30)\n",
    "# display data\n",
    "df_scale.tail(2)\n",
    "\n",
    "print(\"One hot encoding done\")"
   ]
  },
  {
   "cell_type": "code",
   "execution_count": 17,
   "id": "c2d35adc-a878-40f2-886a-55416774ba07",
   "metadata": {},
   "outputs": [],
   "source": [
    "df_scale.drop(\"Speciality\",axis=1,inplace = True)"
   ]
  },
  {
   "cell_type": "code",
   "execution_count": 18,
   "id": "53628fe7-04a3-43e1-81c4-e9ac18f339b7",
   "metadata": {},
   "outputs": [
    {
     "data": {
      "text/html": [
       "<div>\n",
       "<style scoped>\n",
       "    .dataframe tbody tr th:only-of-type {\n",
       "        vertical-align: middle;\n",
       "    }\n",
       "\n",
       "    .dataframe tbody tr th {\n",
       "        vertical-align: top;\n",
       "    }\n",
       "\n",
       "    .dataframe thead th {\n",
       "        text-align: right;\n",
       "    }\n",
       "</style>\n",
       "<table border=\"1\" class=\"dataframe\">\n",
       "  <thead>\n",
       "    <tr style=\"text-align: right;\">\n",
       "      <th></th>\n",
       "      <th>NPI</th>\n",
       "      <th>sum_Tot_Drug_Cst</th>\n",
       "      <th>avg_Tot_Drug_Cst</th>\n",
       "      <th>max_Tot_Drug_Cst</th>\n",
       "      <th>sum_Total_claims</th>\n",
       "      <th>avg_Total_claims</th>\n",
       "      <th>max_Total_claims</th>\n",
       "      <th>sum_Tot_Day_Suply</th>\n",
       "      <th>avg_Tot_Day_Suply</th>\n",
       "      <th>max_Tot_Day_Suply</th>\n",
       "      <th>...</th>\n",
       "      <th>Speciality_psychiatry &amp; neurology</th>\n",
       "      <th>Speciality_urology</th>\n",
       "      <th>Speciality_pulmonary disease</th>\n",
       "      <th>Speciality_otolaryngology</th>\n",
       "      <th>Speciality_nephrology</th>\n",
       "      <th>Speciality_hematology-oncology</th>\n",
       "      <th>Speciality_general practice</th>\n",
       "      <th>Speciality_physical medicine and rehabilitation</th>\n",
       "      <th>Speciality_endocrinology</th>\n",
       "      <th>Speciality_oral surgery (dentist only)</th>\n",
       "    </tr>\n",
       "  </thead>\n",
       "  <tbody>\n",
       "    <tr>\n",
       "      <th>0</th>\n",
       "      <td>1003000126</td>\n",
       "      <td>-0.146622</td>\n",
       "      <td>-0.044038</td>\n",
       "      <td>0.093529</td>\n",
       "      <td>-0.437908</td>\n",
       "      <td>-1.283649</td>\n",
       "      <td>-0.774999</td>\n",
       "      <td>-0.277338</td>\n",
       "      <td>-0.445939</td>\n",
       "      <td>-0.433071</td>\n",
       "      <td>...</td>\n",
       "      <td>0</td>\n",
       "      <td>0</td>\n",
       "      <td>0</td>\n",
       "      <td>0</td>\n",
       "      <td>0</td>\n",
       "      <td>0</td>\n",
       "      <td>0</td>\n",
       "      <td>0</td>\n",
       "      <td>0</td>\n",
       "      <td>0</td>\n",
       "    </tr>\n",
       "  </tbody>\n",
       "</table>\n",
       "<p>1 rows × 149 columns</p>\n",
       "</div>"
      ],
      "text/plain": [
       "          NPI  sum_Tot_Drug_Cst  avg_Tot_Drug_Cst  max_Tot_Drug_Cst  \\\n",
       "0  1003000126         -0.146622         -0.044038          0.093529   \n",
       "\n",
       "   sum_Total_claims  avg_Total_claims  max_Total_claims  sum_Tot_Day_Suply  \\\n",
       "0         -0.437908         -1.283649         -0.774999          -0.277338   \n",
       "\n",
       "   avg_Tot_Day_Suply  max_Tot_Day_Suply  ...  \\\n",
       "0          -0.445939          -0.433071  ...   \n",
       "\n",
       "   Speciality_psychiatry & neurology  Speciality_urology  \\\n",
       "0                                  0                   0   \n",
       "\n",
       "   Speciality_pulmonary disease  Speciality_otolaryngology  \\\n",
       "0                             0                          0   \n",
       "\n",
       "   Speciality_nephrology  Speciality_hematology-oncology  \\\n",
       "0                      0                               0   \n",
       "\n",
       "   Speciality_general practice  \\\n",
       "0                            0   \n",
       "\n",
       "   Speciality_physical medicine and rehabilitation  Speciality_endocrinology  \\\n",
       "0                                                0                         0   \n",
       "\n",
       "   Speciality_oral surgery (dentist only)  \n",
       "0                                       0  \n",
       "\n",
       "[1 rows x 149 columns]"
      ]
     },
     "execution_count": 18,
     "metadata": {},
     "output_type": "execute_result"
    }
   ],
   "source": [
    "df_scale.head(1)"
   ]
  },
  {
   "cell_type": "code",
   "execution_count": 19,
   "id": "b82ad823-658e-481f-8718-ef9496a7325f",
   "metadata": {
    "executionInfo": {
     "elapsed": 65,
     "status": "aborted",
     "timestamp": 1663650323916,
     "user": {
      "displayName": "akash sali",
      "userId": "09598919745265195173"
     },
     "user_tz": -330
    },
    "id": "b82ad823-658e-481f-8718-ef9496a7325f"
   },
   "outputs": [
    {
     "data": {
      "text/plain": [
       "Index(['NPI', 'sum_Tot_Drug_Cst', 'avg_Tot_Drug_Cst', 'max_Tot_Drug_Cst',\n",
       "       'sum_Total_claims', 'avg_Total_claims', 'max_Total_claims',\n",
       "       'sum_Tot_Day_Suply', 'avg_Tot_Day_Suply', 'max_Tot_Day_Suply',\n",
       "       ...\n",
       "       'Speciality_psychiatry & neurology', 'Speciality_urology',\n",
       "       'Speciality_pulmonary disease', 'Speciality_otolaryngology',\n",
       "       'Speciality_nephrology', 'Speciality_hematology-oncology',\n",
       "       'Speciality_general practice',\n",
       "       'Speciality_physical medicine and rehabilitation',\n",
       "       'Speciality_endocrinology', 'Speciality_oral surgery (dentist only)'],\n",
       "      dtype='object', length=149)"
      ]
     },
     "execution_count": 19,
     "metadata": {},
     "output_type": "execute_result"
    }
   ],
   "source": [
    "#Total columns 226 , fraud column at the end\n",
    "\n",
    "df_scale.columns"
   ]
  },
  {
   "cell_type": "code",
   "execution_count": 20,
   "id": "31c4f4eb-1ea9-49fe-a54d-b39ba2c0a7a5",
   "metadata": {},
   "outputs": [],
   "source": [
    "npi_ = pd.DataFrame(df_scale['NPI'])"
   ]
  },
  {
   "cell_type": "code",
   "execution_count": 21,
   "id": "eaa699e2-5550-47f6-bdcc-bbfeccbf27e2",
   "metadata": {},
   "outputs": [
    {
     "data": {
      "text/html": [
       "<div>\n",
       "<style scoped>\n",
       "    .dataframe tbody tr th:only-of-type {\n",
       "        vertical-align: middle;\n",
       "    }\n",
       "\n",
       "    .dataframe tbody tr th {\n",
       "        vertical-align: top;\n",
       "    }\n",
       "\n",
       "    .dataframe thead th {\n",
       "        text-align: right;\n",
       "    }\n",
       "</style>\n",
       "<table border=\"1\" class=\"dataframe\">\n",
       "  <thead>\n",
       "    <tr style=\"text-align: right;\">\n",
       "      <th></th>\n",
       "      <th>NPI</th>\n",
       "    </tr>\n",
       "  </thead>\n",
       "  <tbody>\n",
       "    <tr>\n",
       "      <th>0</th>\n",
       "      <td>1003000126</td>\n",
       "    </tr>\n",
       "    <tr>\n",
       "      <th>1</th>\n",
       "      <td>1003000423</td>\n",
       "    </tr>\n",
       "    <tr>\n",
       "      <th>2</th>\n",
       "      <td>1003001785</td>\n",
       "    </tr>\n",
       "    <tr>\n",
       "      <th>3</th>\n",
       "      <td>1003002049</td>\n",
       "    </tr>\n",
       "    <tr>\n",
       "      <th>4</th>\n",
       "      <td>1003002890</td>\n",
       "    </tr>\n",
       "  </tbody>\n",
       "</table>\n",
       "</div>"
      ],
      "text/plain": [
       "          NPI\n",
       "0  1003000126\n",
       "1  1003000423\n",
       "2  1003001785\n",
       "3  1003002049\n",
       "4  1003002890"
      ]
     },
     "execution_count": 21,
     "metadata": {},
     "output_type": "execute_result"
    }
   ],
   "source": [
    "npi_.head()"
   ]
  },
  {
   "cell_type": "code",
   "execution_count": 22,
   "id": "8ce86641-5b37-4783-9b55-95d67abf4de4",
   "metadata": {},
   "outputs": [
    {
     "data": {
      "text/plain": [
       "(886, 1)"
      ]
     },
     "execution_count": 22,
     "metadata": {},
     "output_type": "execute_result"
    }
   ],
   "source": [
    "npi_.shape"
   ]
  },
  {
   "cell_type": "code",
   "execution_count": 23,
   "id": "ba0d0b1b-c003-4687-be17-818bcafcf9de",
   "metadata": {},
   "outputs": [],
   "source": [
    "df_scale.drop(\"NPI\",axis =1,inplace=True)"
   ]
  },
  {
   "cell_type": "code",
   "execution_count": null,
   "id": "c1f2a421",
   "metadata": {},
   "outputs": [],
   "source": []
  },
  {
   "cell_type": "code",
   "execution_count": 24,
   "id": "73ff369f-20d0-42dc-b9bd-936f18e840a8",
   "metadata": {},
   "outputs": [],
   "source": [
    "# model_ = joblib.load(\"/home/kiran/medicare/src_deploy/model/rf.joblib\")\n",
    "#result = model.predict_and_evaluate(X_test, Y_test)\n",
    "#print(result)"
   ]
  },
  {
   "cell_type": "code",
   "execution_count": 25,
   "id": "cef85f79",
   "metadata": {},
   "outputs": [],
   "source": [
    "# joblib.dump(model_,\"/home/kiran/medicare/src_deploy/model/rf_1.1.joblib\")"
   ]
  },
  {
   "cell_type": "code",
   "execution_count": null,
   "id": "d582fefb",
   "metadata": {},
   "outputs": [],
   "source": []
  },
  {
   "cell_type": "code",
   "execution_count": 26,
   "id": "cdac0b0b",
   "metadata": {},
   "outputs": [],
   "source": [
    "# with open('/home/kiran/medicare/src_deploy/model/model_pkl', 'wb') as files:\n",
    "#     pickle.dump(model_, files)"
   ]
  },
  {
   "cell_type": "code",
   "execution_count": 27,
   "id": "3b842d3d",
   "metadata": {},
   "outputs": [],
   "source": [
    "with open('/home/kiran/medicare/src_deploy/model/model_pkl' , 'rb') as f:\n",
    "    model_ = pickle.load(f)"
   ]
  },
  {
   "cell_type": "code",
   "execution_count": 28,
   "id": "d68bf2e4-056e-42f3-be0f-c506915944a5",
   "metadata": {},
   "outputs": [],
   "source": [
    "#result = model_.score(X_test, y_test)\n",
    "#print(result)"
   ]
  },
  {
   "cell_type": "code",
   "execution_count": 29,
   "id": "14b033e1-c3b6-45e2-8555-243fd9a9b706",
   "metadata": {},
   "outputs": [],
   "source": [
    "#res=predict_and_evaluate(model_,X_test,y_test)"
   ]
  },
  {
   "cell_type": "code",
   "execution_count": 30,
   "id": "f141f904-a23e-42a7-8bb5-c707846086e8",
   "metadata": {},
   "outputs": [
    {
     "name": "stdout",
     "output_type": "stream",
     "text": [
      "Predictions done\n"
     ]
    },
    {
     "name": "stderr",
     "output_type": "stream",
     "text": [
      "/home/kiran/project/venv/lib/python3.10/site-packages/sklearn/base.py:493: FutureWarning: The feature names should match those that were passed during fit. Starting version 1.2, an error will be raised.\n",
      "Feature names must be in the same order as they were in fit.\n",
      "\n",
      "  warnings.warn(message, FutureWarning)\n"
     ]
    }
   ],
   "source": [
    "g_pred=model_.predict(df_scale)\n",
    "\n",
    "print(\"Predictions done\")"
   ]
  },
  {
   "cell_type": "code",
   "execution_count": 31,
   "id": "99c4aacb-f272-4017-8b6c-28c6e78bb4fa",
   "metadata": {},
   "outputs": [],
   "source": [
    "# g_pred"
   ]
  },
  {
   "cell_type": "code",
   "execution_count": 32,
   "id": "244d8026-1dfa-4d4a-aaf7-a695d056d6ba",
   "metadata": {},
   "outputs": [],
   "source": [
    "npi_[\"pred\"] = g_pred"
   ]
  },
  {
   "cell_type": "code",
   "execution_count": 33,
   "id": "e1a2d43f-e5ac-431b-8d96-456be961a4f3",
   "metadata": {},
   "outputs": [
    {
     "data": {
      "text/html": [
       "<div>\n",
       "<style scoped>\n",
       "    .dataframe tbody tr th:only-of-type {\n",
       "        vertical-align: middle;\n",
       "    }\n",
       "\n",
       "    .dataframe tbody tr th {\n",
       "        vertical-align: top;\n",
       "    }\n",
       "\n",
       "    .dataframe thead th {\n",
       "        text-align: right;\n",
       "    }\n",
       "</style>\n",
       "<table border=\"1\" class=\"dataframe\">\n",
       "  <thead>\n",
       "    <tr style=\"text-align: right;\">\n",
       "      <th></th>\n",
       "      <th>NPI</th>\n",
       "      <th>pred</th>\n",
       "    </tr>\n",
       "  </thead>\n",
       "  <tbody>\n",
       "    <tr>\n",
       "      <th>0</th>\n",
       "      <td>1003000126</td>\n",
       "      <td>0</td>\n",
       "    </tr>\n",
       "    <tr>\n",
       "      <th>1</th>\n",
       "      <td>1003000423</td>\n",
       "      <td>0</td>\n",
       "    </tr>\n",
       "    <tr>\n",
       "      <th>2</th>\n",
       "      <td>1003001785</td>\n",
       "      <td>0</td>\n",
       "    </tr>\n",
       "    <tr>\n",
       "      <th>3</th>\n",
       "      <td>1003002049</td>\n",
       "      <td>0</td>\n",
       "    </tr>\n",
       "    <tr>\n",
       "      <th>4</th>\n",
       "      <td>1003002890</td>\n",
       "      <td>0</td>\n",
       "    </tr>\n",
       "  </tbody>\n",
       "</table>\n",
       "</div>"
      ],
      "text/plain": [
       "          NPI  pred\n",
       "0  1003000126     0\n",
       "1  1003000423     0\n",
       "2  1003001785     0\n",
       "3  1003002049     0\n",
       "4  1003002890     0"
      ]
     },
     "execution_count": 33,
     "metadata": {},
     "output_type": "execute_result"
    }
   ],
   "source": [
    "npi_.head()"
   ]
  },
  {
   "cell_type": "code",
   "execution_count": 34,
   "id": "ed6c3337-4bf9-4703-92b6-33e5780942a7",
   "metadata": {},
   "outputs": [
    {
     "data": {
      "text/plain": [
       "0    654\n",
       "1    232\n",
       "Name: pred, dtype: int64"
      ]
     },
     "execution_count": 34,
     "metadata": {},
     "output_type": "execute_result"
    }
   ],
   "source": [
    "npi_.pred.value_counts()"
   ]
  },
  {
   "cell_type": "code",
   "execution_count": 35,
   "id": "cf6af16f-464a-4b74-8842-6f92d5fadf5e",
   "metadata": {},
   "outputs": [],
   "source": [
    "npi_ = npi_[npi_.pred == 1]"
   ]
  },
  {
   "cell_type": "code",
   "execution_count": 36,
   "id": "acad8b21",
   "metadata": {},
   "outputs": [
    {
     "ename": "NameError",
     "evalue": "name 'a' is not defined",
     "output_type": "error",
     "traceback": [
      "\u001b[0;31m---------------------------------------------------------------------------\u001b[0m",
      "\u001b[0;31mNameError\u001b[0m                                 Traceback (most recent call last)",
      "Input \u001b[0;32mIn [36]\u001b[0m, in \u001b[0;36m<cell line: 1>\u001b[0;34m()\u001b[0m\n\u001b[0;32m----> 1\u001b[0m \u001b[43ma\u001b[49m\n",
      "\u001b[0;31mNameError\u001b[0m: name 'a' is not defined"
     ]
    }
   ],
   "source": []
  },
  {
   "cell_type": "code",
   "execution_count": 39,
   "id": "e7546092",
   "metadata": {},
   "outputs": [],
   "source": [
    "np.savetxt(r\"/home/kiran/medicare/data/output/np.txt\", npi_.NPI.values, fmt='%d')"
   ]
  },
  {
   "cell_type": "code",
   "execution_count": null,
   "id": "1b096a32-b32a-4610-94d6-4d6055f35d91",
   "metadata": {},
   "outputs": [],
   "source": [
    "npi_.NPI.to_csv(\"/home/kiran/medicare/data/output/NPI_FNF.csv\")\n",
    "\n",
    "print(\"NPI of fraud practioner saved\")"
   ]
  }
 ],
 "metadata": {
  "colab": {
   "provenance": []
  },
  "kernelspec": {
   "display_name": "Python 3 (ipykernel)",
   "language": "python",
   "name": "python3"
  },
  "language_info": {
   "codemirror_mode": {
    "name": "ipython",
    "version": 3
   },
   "file_extension": ".py",
   "mimetype": "text/x-python",
   "name": "python",
   "nbconvert_exporter": "python",
   "pygments_lexer": "ipython3",
   "version": "3.10.6"
  }
 },
 "nbformat": 4,
 "nbformat_minor": 5
}
