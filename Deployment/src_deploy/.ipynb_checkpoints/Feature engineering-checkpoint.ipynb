{
 "cells": [
  {
   "cell_type": "code",
   "execution_count": 1,
   "id": "028bb009-21b0-4e81-b2eb-d133a99b7068",
   "metadata": {},
   "outputs": [],
   "source": [
    "import pandas as pd\n",
    "import numpy as np\n",
    "#Data analysis\n",
    "import seaborn as sns\n",
    "import matplotlib.pyplot as plt\n",
    "\n",
    "from sklearn.preprocessing import RobustScaler, StandardScaler, MinMaxScaler\n",
    "from sklearn.model_selection import train_test_split, StratifiedShuffleSplit\n",
    "\n",
    "# For model buidling\n",
    "from sklearn.ensemble import RandomForestClassifier, GradientBoostingClassifier\n",
    "from xgboost import XGBClassifier\n",
    "\n",
    "# Custom module for prediction and model evalution\n",
    "from utils import predict_and_evaluate"
   ]
  },
  {
   "cell_type": "code",
   "execution_count": 2,
   "id": "4a64910d-e4f4-4aca-8cff-ec8949f0567c",
   "metadata": {},
   "outputs": [
    {
     "ename": "ModuleNotFoundError",
     "evalue": "No module named 'pyspark'",
     "output_type": "error",
     "traceback": [
      "\u001b[1;31m---------------------------------------------------------------------------\u001b[0m",
      "\u001b[1;31mModuleNotFoundError\u001b[0m                       Traceback (most recent call last)",
      "Cell \u001b[1;32mIn [2], line 1\u001b[0m\n\u001b[1;32m----> 1\u001b[0m \u001b[38;5;28;01mfrom\u001b[39;00m \u001b[38;5;21;01mpyspark\u001b[39;00m \u001b[38;5;28;01mimport\u001b[39;00m SparkFiles\n\u001b[0;32m      2\u001b[0m \u001b[38;5;28;01mfrom\u001b[39;00m \u001b[38;5;21;01mpyspark\u001b[39;00m\u001b[38;5;21;01m.\u001b[39;00m\u001b[38;5;21;01msql\u001b[39;00m \u001b[38;5;28;01mimport\u001b[39;00m SparkSession\n\u001b[0;32m      3\u001b[0m \u001b[38;5;28;01mfrom\u001b[39;00m \u001b[38;5;21;01mpyspark\u001b[39;00m\u001b[38;5;21;01m.\u001b[39;00m\u001b[38;5;21;01msql\u001b[39;00m \u001b[38;5;28;01mimport\u001b[39;00m types \u001b[38;5;28;01mas\u001b[39;00m T\n",
      "\u001b[1;31mModuleNotFoundError\u001b[0m: No module named 'pyspark'"
     ]
    }
   ],
   "source": [
    "from pyspark import SparkFiles\n",
    "from pyspark.sql import SparkSession\n",
    "from pyspark.sql import types as T\n",
    "from pyspark.sql import Row\n",
    "#from pyspark.sql.functions import *\n",
    "from pyspark.ml.feature import *\n",
    "import pickle\n",
    "#import functions\n",
    "from pyspark.sql import functions\n",
    "from pymongo import MongoClient\n",
    "import warnings\n",
    "warnings.filterwarnings(\"ignore\")\n"
   ]
  },
  {
   "cell_type": "markdown",
   "id": "fcc91450",
   "metadata": {},
   "source": [
    "## Loading data"
   ]
  },
  {
   "cell_type": "markdown",
   "id": "9b7ec4cc",
   "metadata": {},
   "source": [
    "### Making sparksession object"
   ]
  },
  {
   "cell_type": "raw",
   "id": "12d9bf26-18c2-4c4b-bf3c-d20d64801dc5",
   "metadata": {},
   "source": [
    "import findspark\n",
    "findspark.init()\n",
    "findspark.find()"
   ]
  },
  {
   "cell_type": "code",
   "execution_count": 2,
   "id": "e97014ff-743c-408e-8da3-20a5a078f1d7",
   "metadata": {},
   "outputs": [],
   "source": [
    "input_uri=\"mongodb://127.0.0.1:27017/\"\n",
    "output_uri=\"mongodb://127.0.0.1:27017/\""
   ]
  },
  {
   "cell_type": "code",
   "execution_count": 3,
   "id": "e04e7f1a-b326-4315-bf80-bd582b5f0509",
   "metadata": {},
   "outputs": [],
   "source": [
    "spark=SparkSession.builder.appName(\"Drug_data\").config(\"spark.mongodb.input.uri\",input_uri) \\\n",
    "        .config(\"spark.mongodb.output.uri\",output_uri) \\\n",
    "        .config(\"spark.jars.packages\",\"org.mongodb.spark:mongo-spark-connector_2.12:2.4.2\") \\\n",
    "        .getOrCreate()"
   ]
  },
  {
   "cell_type": "code",
   "execution_count": 2,
   "id": "ad3b066b-8527-4cf4-9edd-200f63c16f15",
   "metadata": {},
   "outputs": [],
   "source": [
    "spark = SparkSession.builder.appName(\"DataLoad\").getOrCreate()"
   ]
  },
  {
   "cell_type": "markdown",
   "id": "51bedaaf",
   "metadata": {},
   "source": [
    "### Loading data with readcsv"
   ]
  },
  {
   "cell_type": "code",
   "execution_count": null,
   "id": "5cc06c2a-8e6e-4dbd-bb41-25fb2121ddfb",
   "metadata": {},
   "outputs": [],
   "source": [
    "df = pd.read_csv(\"MUP_DPR_RY21_P04_V10_DY20_NPIBN_0.csv\")"
   ]
  },
  {
   "cell_type": "code",
   "execution_count": null,
   "id": "aa8f72ff",
   "metadata": {},
   "outputs": [],
   "source": [
    "df.head()"
   ]
  },
  {
   "cell_type": "code",
   "execution_count": 35,
   "id": "066df903-2240-482b-85b9-ac138a508374",
   "metadata": {},
   "outputs": [],
   "source": [
    "df_final = pd.read_csv(\"../data/final_dataframe.csv\")"
   ]
  },
  {
   "cell_type": "code",
   "execution_count": 36,
   "id": "c08c6d98-0fcc-4e90-bb41-b831b3dfe6b9",
   "metadata": {},
   "outputs": [],
   "source": [
    "df_final.drop(\"Unnamed: 0\",axis = 1,inplace = True)"
   ]
  },
  {
   "cell_type": "code",
   "execution_count": 37,
   "id": "04d2f693-a645-4c4b-b93c-18d431032451",
   "metadata": {},
   "outputs": [
    {
     "data": {
      "text/html": [
       "<div>\n",
       "<style scoped>\n",
       "    .dataframe tbody tr th:only-of-type {\n",
       "        vertical-align: middle;\n",
       "    }\n",
       "\n",
       "    .dataframe tbody tr th {\n",
       "        vertical-align: top;\n",
       "    }\n",
       "\n",
       "    .dataframe thead th {\n",
       "        text-align: right;\n",
       "    }\n",
       "</style>\n",
       "<table border=\"1\" class=\"dataframe\">\n",
       "  <thead>\n",
       "    <tr style=\"text-align: right;\">\n",
       "      <th></th>\n",
       "      <th>NPI</th>\n",
       "      <th>City</th>\n",
       "      <th>State</th>\n",
       "      <th>Speciality</th>\n",
       "      <th>max_Tot_Drug_Cst</th>\n",
       "      <th>sum_Tot_Drug_Cst</th>\n",
       "      <th>avg_Tot_Drug_Cst</th>\n",
       "      <th>max_Total_claims</th>\n",
       "      <th>sum_Total_claims</th>\n",
       "      <th>avg_Total_claims</th>\n",
       "      <th>max_Tot_Day_Suply</th>\n",
       "      <th>sum_Tot_Day_Suply</th>\n",
       "      <th>avg_Tot_Day_Suply</th>\n",
       "      <th>max_Tot_30day_Fills</th>\n",
       "      <th>sum_Tot_30day_Fills</th>\n",
       "      <th>avg_Tot_30day_Fills</th>\n",
       "      <th>Total_payments</th>\n",
       "      <th>FRAUD</th>\n",
       "    </tr>\n",
       "  </thead>\n",
       "  <tbody>\n",
       "    <tr>\n",
       "      <th>0</th>\n",
       "      <td>1003000126</td>\n",
       "      <td>bethesda</td>\n",
       "      <td>md</td>\n",
       "      <td>internal medicine</td>\n",
       "      <td>4792.85</td>\n",
       "      <td>5979.07</td>\n",
       "      <td>747.3837</td>\n",
       "      <td>30</td>\n",
       "      <td>124</td>\n",
       "      <td>15.5</td>\n",
       "      <td>937</td>\n",
       "      <td>3721</td>\n",
       "      <td>465.125</td>\n",
       "      <td>32.4</td>\n",
       "      <td>138.2</td>\n",
       "      <td>17.275</td>\n",
       "      <td>20.48</td>\n",
       "      <td>0</td>\n",
       "    </tr>\n",
       "  </tbody>\n",
       "</table>\n",
       "</div>"
      ],
      "text/plain": [
       "          NPI      City State         Speciality  max_Tot_Drug_Cst  \\\n",
       "0  1003000126  bethesda    md  internal medicine           4792.85   \n",
       "\n",
       "   sum_Tot_Drug_Cst  avg_Tot_Drug_Cst  max_Total_claims  sum_Total_claims  \\\n",
       "0           5979.07          747.3837                30               124   \n",
       "\n",
       "   avg_Total_claims  max_Tot_Day_Suply  sum_Tot_Day_Suply  avg_Tot_Day_Suply  \\\n",
       "0              15.5                937               3721            465.125   \n",
       "\n",
       "   max_Tot_30day_Fills  sum_Tot_30day_Fills  avg_Tot_30day_Fills  \\\n",
       "0                 32.4                138.2               17.275   \n",
       "\n",
       "   Total_payments  FRAUD  \n",
       "0           20.48      0  "
      ]
     },
     "execution_count": 37,
     "metadata": {},
     "output_type": "execute_result"
    }
   ],
   "source": [
    "df_final.head(1)"
   ]
  },
  {
   "cell_type": "code",
   "execution_count": 29,
   "id": "974bd209-af11-4d2c-8077-6b83ee1d1faa",
   "metadata": {},
   "outputs": [],
   "source": [
    "df_final1 = df_final.loc[:,[\"NPI\",\"FRAUD\"]]"
   ]
  },
  {
   "cell_type": "code",
   "execution_count": 30,
   "id": "e396d941-60bc-4ad5-99cc-8b4b1f1d8db4",
   "metadata": {},
   "outputs": [
    {
     "name": "stdout",
     "output_type": "stream",
     "text": [
      "<class 'pandas.core.frame.DataFrame'>\n",
      "RangeIndex: 965056 entries, 0 to 965055\n",
      "Data columns (total 2 columns):\n",
      " #   Column  Non-Null Count   Dtype\n",
      "---  ------  --------------   -----\n",
      " 0   NPI     965056 non-null  int64\n",
      " 1   FRAUD   965056 non-null  int64\n",
      "dtypes: int64(2)\n",
      "memory usage: 14.7 MB\n"
     ]
    }
   ],
   "source": [
    "df_final1.info()"
   ]
  },
  {
   "cell_type": "code",
   "execution_count": 39,
   "id": "5054a14e-b697-4dae-ae13-b145bbad86af",
   "metadata": {},
   "outputs": [
    {
     "data": {
      "text/plain": [
       "0    964170\n",
       "1       886\n",
       "Name: FRAUD, dtype: int64"
      ]
     },
     "execution_count": 39,
     "metadata": {},
     "output_type": "execute_result"
    }
   ],
   "source": [
    "df_final1.FRAUD.value_counts()"
   ]
  },
  {
   "cell_type": "markdown",
   "id": "ed39a08a-6c6c-4e87-b079-d45a5e829207",
   "metadata": {},
   "source": [
    "## Pandas"
   ]
  },
  {
   "cell_type": "code",
   "execution_count": null,
   "id": "475aa03f-25cd-4a25-9ab5-863cd95c9b59",
   "metadata": {},
   "outputs": [],
   "source": [
    "df.info()"
   ]
  },
  {
   "cell_type": "code",
   "execution_count": null,
   "id": "2c8f14c8-7936-4062-9231-c7665fd31b19",
   "metadata": {},
   "outputs": [],
   "source": [
    "df = df.loc[:,[\"Prscrbr_NPI\",\"Gnrc_Name\",\"Tot_Clms\",\"Tot_30day_Fills\",\"Tot_Day_Suply\",\"Tot_Drug_Cst\",\"Prscrbr_Type\"]]"
   ]
  },
  {
   "cell_type": "code",
   "execution_count": null,
   "id": "7c5cbfa2-157c-4060-bf7c-40a35c686b08",
   "metadata": {},
   "outputs": [],
   "source": [
    "df.info()"
   ]
  },
  {
   "cell_type": "code",
   "execution_count": null,
   "id": "6e58e276-5496-4d6b-b7fb-af00fbcb00b1",
   "metadata": {},
   "outputs": [],
   "source": [
    "df.columns = ['NPI', 'Drug_Name', 'Tot_Clms', 'Tot_30day_Fills','Tot_Day_Suply','Tot_Drug_Cst','Speciality']"
   ]
  },
  {
   "cell_type": "code",
   "execution_count": null,
   "id": "36869192-b1aa-4826-8c5b-751107f7a8e7",
   "metadata": {},
   "outputs": [],
   "source": [
    "df.info()"
   ]
  },
  {
   "cell_type": "code",
   "execution_count": null,
   "id": "46f5e8e3-4e59-444f-94f8-7e094b44ac7f",
   "metadata": {},
   "outputs": [],
   "source": [
    "df.head(1)"
   ]
  },
  {
   "cell_type": "code",
   "execution_count": null,
   "id": "7563b3c2-0a98-4bc6-8053-43546ea20af1",
   "metadata": {},
   "outputs": [],
   "source": [
    "partD_drug_train = df.merge(df_final1,on='NPI',how='inner')"
   ]
  },
  {
   "cell_type": "code",
   "execution_count": null,
   "id": "dea4a9ca-1df1-4ae2-b24c-4421a5cd04a3",
   "metadata": {},
   "outputs": [],
   "source": [
    "partD_drug_train.info()"
   ]
  },
  {
   "cell_type": "code",
   "execution_count": null,
   "id": "5b773ba5-c4de-4539-a2ea-bc80c7b584fe",
   "metadata": {},
   "outputs": [],
   "source": [
    "partD_drug_train.head()"
   ]
  },
  {
   "cell_type": "code",
   "execution_count": null,
   "id": "f00cc6c7-f409-45fa-9484-50ba5c5d25c5",
   "metadata": {},
   "outputs": [],
   "source": [
    "partD_drug_train.to_csv(\"Drug_20\")"
   ]
  },
  {
   "cell_type": "markdown",
   "id": "347e0a8a-947c-49ef-bbb8-0df850c79241",
   "metadata": {},
   "source": [
    "## Loading data : csv data : dataframe with original drug data and fraud"
   ]
  },
  {
   "cell_type": "code",
   "execution_count": 4,
   "id": "2d4cdb52-ba47-4655-a66a-98ee5fd73912",
   "metadata": {},
   "outputs": [],
   "source": [
    "partD_drug = pd.read_csv(\"../data/Drug_20.csv\")"
   ]
  },
  {
   "cell_type": "code",
   "execution_count": 5,
   "id": "a841c0d6-44da-4d32-9b8f-063b8b7d8f1e",
   "metadata": {},
   "outputs": [
    {
     "data": {
      "text/html": [
       "<div>\n",
       "<style scoped>\n",
       "    .dataframe tbody tr th:only-of-type {\n",
       "        vertical-align: middle;\n",
       "    }\n",
       "\n",
       "    .dataframe tbody tr th {\n",
       "        vertical-align: top;\n",
       "    }\n",
       "\n",
       "    .dataframe thead th {\n",
       "        text-align: right;\n",
       "    }\n",
       "</style>\n",
       "<table border=\"1\" class=\"dataframe\">\n",
       "  <thead>\n",
       "    <tr style=\"text-align: right;\">\n",
       "      <th></th>\n",
       "      <th>Unnamed: 0</th>\n",
       "      <th>NPI</th>\n",
       "      <th>Drug_Name</th>\n",
       "      <th>Tot_Clms</th>\n",
       "      <th>Tot_30day_Fills</th>\n",
       "      <th>Tot_Day_Suply</th>\n",
       "      <th>Tot_Drug_Cst</th>\n",
       "      <th>Speciality</th>\n",
       "      <th>FRAUD</th>\n",
       "    </tr>\n",
       "  </thead>\n",
       "  <tbody>\n",
       "    <tr>\n",
       "      <th>0</th>\n",
       "      <td>0</td>\n",
       "      <td>1003000126</td>\n",
       "      <td>Amiodarone Hcl</td>\n",
       "      <td>13</td>\n",
       "      <td>13.8</td>\n",
       "      <td>399</td>\n",
       "      <td>135.38</td>\n",
       "      <td>Internal Medicine</td>\n",
       "      <td>0</td>\n",
       "    </tr>\n",
       "  </tbody>\n",
       "</table>\n",
       "</div>"
      ],
      "text/plain": [
       "   Unnamed: 0         NPI       Drug_Name  Tot_Clms  Tot_30day_Fills  \\\n",
       "0           0  1003000126  Amiodarone Hcl        13             13.8   \n",
       "\n",
       "   Tot_Day_Suply  Tot_Drug_Cst         Speciality  FRAUD  \n",
       "0            399        135.38  Internal Medicine      0  "
      ]
     },
     "execution_count": 5,
     "metadata": {},
     "output_type": "execute_result"
    }
   ],
   "source": [
    "partD_drug.head(1)"
   ]
  },
  {
   "cell_type": "code",
   "execution_count": 6,
   "id": "77b2e7a4-51e5-435b-8796-ba0e4cdf25c5",
   "metadata": {},
   "outputs": [],
   "source": [
    "partD_drug.drop(\"Unnamed: 0\",axis = 1,inplace = True)"
   ]
  },
  {
   "cell_type": "code",
   "execution_count": 7,
   "id": "89a2a54c-6487-4c65-a826-79af4d3a44e3",
   "metadata": {},
   "outputs": [
    {
     "name": "stdout",
     "output_type": "stream",
     "text": [
      "<class 'pandas.core.frame.DataFrame'>\n",
      "RangeIndex: 25048504 entries, 0 to 25048503\n",
      "Data columns (total 8 columns):\n",
      " #   Column           Dtype  \n",
      "---  ------           -----  \n",
      " 0   NPI              int64  \n",
      " 1   Drug_Name        object \n",
      " 2   Tot_Clms         int64  \n",
      " 3   Tot_30day_Fills  float64\n",
      " 4   Tot_Day_Suply    int64  \n",
      " 5   Tot_Drug_Cst     float64\n",
      " 6   Speciality       object \n",
      " 7   FRAUD            int64  \n",
      "dtypes: float64(2), int64(4), object(2)\n",
      "memory usage: 1.5+ GB\n"
     ]
    }
   ],
   "source": [
    "partD_drug.info()"
   ]
  },
  {
   "cell_type": "markdown",
   "id": "4519060f-5d17-46f4-9611-40492a080070",
   "metadata": {},
   "source": [
    "## Grouping data "
   ]
  },
  {
   "cell_type": "code",
   "execution_count": 8,
   "id": "ca81bcaf-84e1-48e3-9f36-d7732755926f",
   "metadata": {},
   "outputs": [],
   "source": [
    "partD_drug_Group = partD_drug.groupby([\"Drug_Name\",\"FRAUD\"])"
   ]
  },
  {
   "cell_type": "code",
   "execution_count": 9,
   "id": "f4fb243a-e930-40cd-83ec-48e0725ae396",
   "metadata": {},
   "outputs": [
    {
     "data": {
      "text/html": [
       "<div>\n",
       "<style scoped>\n",
       "    .dataframe tbody tr th:only-of-type {\n",
       "        vertical-align: middle;\n",
       "    }\n",
       "\n",
       "    .dataframe tbody tr th {\n",
       "        vertical-align: top;\n",
       "    }\n",
       "\n",
       "    .dataframe thead th {\n",
       "        text-align: right;\n",
       "    }\n",
       "</style>\n",
       "<table border=\"1\" class=\"dataframe\">\n",
       "  <thead>\n",
       "    <tr style=\"text-align: right;\">\n",
       "      <th></th>\n",
       "      <th></th>\n",
       "      <th>NPI</th>\n",
       "      <th>Tot_Clms</th>\n",
       "      <th>Tot_30day_Fills</th>\n",
       "      <th>Tot_Day_Suply</th>\n",
       "      <th>Tot_Drug_Cst</th>\n",
       "      <th>Speciality</th>\n",
       "    </tr>\n",
       "    <tr>\n",
       "      <th>Drug_Name</th>\n",
       "      <th>FRAUD</th>\n",
       "      <th></th>\n",
       "      <th></th>\n",
       "      <th></th>\n",
       "      <th></th>\n",
       "      <th></th>\n",
       "      <th></th>\n",
       "    </tr>\n",
       "  </thead>\n",
       "  <tbody>\n",
       "    <tr>\n",
       "      <th rowspan=\"2\" valign=\"top\">0.9 % Sodium Chloride</th>\n",
       "      <th>0</th>\n",
       "      <td>1003008533</td>\n",
       "      <td>16</td>\n",
       "      <td>16.0</td>\n",
       "      <td>401</td>\n",
       "      <td>120.56</td>\n",
       "      <td>Neurology</td>\n",
       "    </tr>\n",
       "    <tr>\n",
       "      <th>1</th>\n",
       "      <td>1285627828</td>\n",
       "      <td>20</td>\n",
       "      <td>20.0</td>\n",
       "      <td>315</td>\n",
       "      <td>333.86</td>\n",
       "      <td>Family Practice</td>\n",
       "    </tr>\n",
       "    <tr>\n",
       "      <th>Aa 4.25%/Calcium/Lytes/Dex 10%</th>\n",
       "      <th>0</th>\n",
       "      <td>1033137518</td>\n",
       "      <td>11</td>\n",
       "      <td>11.0</td>\n",
       "      <td>76</td>\n",
       "      <td>5136.48</td>\n",
       "      <td>Hematology-Oncology</td>\n",
       "    </tr>\n",
       "    <tr>\n",
       "      <th>Aa 5 %/Calcium/Lytes/Dext 20 %</th>\n",
       "      <th>0</th>\n",
       "      <td>1356304224</td>\n",
       "      <td>33</td>\n",
       "      <td>33.0</td>\n",
       "      <td>161</td>\n",
       "      <td>12101.10</td>\n",
       "      <td>General Surgery</td>\n",
       "    </tr>\n",
       "    <tr>\n",
       "      <th>Aa 5%/D15w/Electrolytes</th>\n",
       "      <th>0</th>\n",
       "      <td>1104087469</td>\n",
       "      <td>23</td>\n",
       "      <td>23.0</td>\n",
       "      <td>161</td>\n",
       "      <td>7782.00</td>\n",
       "      <td>Internal Medicine</td>\n",
       "    </tr>\n",
       "    <tr>\n",
       "      <th>...</th>\n",
       "      <th>...</th>\n",
       "      <td>...</td>\n",
       "      <td>...</td>\n",
       "      <td>...</td>\n",
       "      <td>...</td>\n",
       "      <td>...</td>\n",
       "      <td>...</td>\n",
       "    </tr>\n",
       "    <tr>\n",
       "      <th rowspan=\"2\" valign=\"top\">Zolpidem Tartrate</th>\n",
       "      <th>0</th>\n",
       "      <td>1003000522</td>\n",
       "      <td>22</td>\n",
       "      <td>46.0</td>\n",
       "      <td>1380</td>\n",
       "      <td>273.87</td>\n",
       "      <td>Family Practice</td>\n",
       "    </tr>\n",
       "    <tr>\n",
       "      <th>1</th>\n",
       "      <td>1003806431</td>\n",
       "      <td>41</td>\n",
       "      <td>45.0</td>\n",
       "      <td>1310</td>\n",
       "      <td>97.95</td>\n",
       "      <td>Internal Medicine</td>\n",
       "    </tr>\n",
       "    <tr>\n",
       "      <th rowspan=\"2\" valign=\"top\">Zonisamide</th>\n",
       "      <th>0</th>\n",
       "      <td>1003000902</td>\n",
       "      <td>12</td>\n",
       "      <td>12.0</td>\n",
       "      <td>360</td>\n",
       "      <td>654.89</td>\n",
       "      <td>Family Practice</td>\n",
       "    </tr>\n",
       "    <tr>\n",
       "      <th>1</th>\n",
       "      <td>1629042304</td>\n",
       "      <td>11</td>\n",
       "      <td>11.0</td>\n",
       "      <td>330</td>\n",
       "      <td>264.45</td>\n",
       "      <td>Internal Medicine</td>\n",
       "    </tr>\n",
       "    <tr>\n",
       "      <th>Zoster Vaccine Live/Pf</th>\n",
       "      <th>0</th>\n",
       "      <td>1255609913</td>\n",
       "      <td>11</td>\n",
       "      <td>11.0</td>\n",
       "      <td>11</td>\n",
       "      <td>2464.22</td>\n",
       "      <td>Nurse Practitioner</td>\n",
       "    </tr>\n",
       "  </tbody>\n",
       "</table>\n",
       "<p>2409 rows × 6 columns</p>\n",
       "</div>"
      ],
      "text/plain": [
       "                                             NPI  Tot_Clms  Tot_30day_Fills  \\\n",
       "Drug_Name                      FRAUD                                          \n",
       "0.9 % Sodium Chloride          0      1003008533        16             16.0   \n",
       "                               1      1285627828        20             20.0   \n",
       "Aa 4.25%/Calcium/Lytes/Dex 10% 0      1033137518        11             11.0   \n",
       "Aa 5 %/Calcium/Lytes/Dext 20 % 0      1356304224        33             33.0   \n",
       "Aa 5%/D15w/Electrolytes        0      1104087469        23             23.0   \n",
       "...                                          ...       ...              ...   \n",
       "Zolpidem Tartrate              0      1003000522        22             46.0   \n",
       "                               1      1003806431        41             45.0   \n",
       "Zonisamide                     0      1003000902        12             12.0   \n",
       "                               1      1629042304        11             11.0   \n",
       "Zoster Vaccine Live/Pf         0      1255609913        11             11.0   \n",
       "\n",
       "                                      Tot_Day_Suply  Tot_Drug_Cst  \\\n",
       "Drug_Name                      FRAUD                                \n",
       "0.9 % Sodium Chloride          0                401        120.56   \n",
       "                               1                315        333.86   \n",
       "Aa 4.25%/Calcium/Lytes/Dex 10% 0                 76       5136.48   \n",
       "Aa 5 %/Calcium/Lytes/Dext 20 % 0                161      12101.10   \n",
       "Aa 5%/D15w/Electrolytes        0                161       7782.00   \n",
       "...                                             ...           ...   \n",
       "Zolpidem Tartrate              0               1380        273.87   \n",
       "                               1               1310         97.95   \n",
       "Zonisamide                     0                360        654.89   \n",
       "                               1                330        264.45   \n",
       "Zoster Vaccine Live/Pf         0                 11       2464.22   \n",
       "\n",
       "                                               Speciality  \n",
       "Drug_Name                      FRAUD                       \n",
       "0.9 % Sodium Chloride          0                Neurology  \n",
       "                               1          Family Practice  \n",
       "Aa 4.25%/Calcium/Lytes/Dex 10% 0      Hematology-Oncology  \n",
       "Aa 5 %/Calcium/Lytes/Dext 20 % 0          General Surgery  \n",
       "Aa 5%/D15w/Electrolytes        0        Internal Medicine  \n",
       "...                                                   ...  \n",
       "Zolpidem Tartrate              0          Family Practice  \n",
       "                               1        Internal Medicine  \n",
       "Zonisamide                     0          Family Practice  \n",
       "                               1        Internal Medicine  \n",
       "Zoster Vaccine Live/Pf         0       Nurse Practitioner  \n",
       "\n",
       "[2409 rows x 6 columns]"
      ]
     },
     "execution_count": 9,
     "metadata": {},
     "output_type": "execute_result"
    }
   ],
   "source": [
    "partD_drug_Group.first()"
   ]
  },
  {
   "cell_type": "markdown",
   "id": "21062cc5-36df-4f25-9974-499628d8147e",
   "metadata": {},
   "source": [
    "## Pre process Hypothesis test"
   ]
  },
  {
   "cell_type": "code",
   "execution_count": 10,
   "id": "ed56a122-2a8a-4d6f-9002-2ab6a1d4ef6a",
   "metadata": {},
   "outputs": [
    {
     "name": "stdout",
     "output_type": "stream",
     "text": [
      "1722\n"
     ]
    }
   ],
   "source": [
    "# storing unique drug names in set\n",
    "#is instance will return false if drug name is not a string && set datatype - for no duplicacy\n",
    "drugs = set([ drugx for drugx in partD_drug['Drug_Name'].values if isinstance(drugx, str)])\n",
    "print(len(drugs))"
   ]
  },
  {
   "cell_type": "code",
   "execution_count": 11,
   "id": "259e20b3-0092-45fa-ae13-3f4f9e1a3e29",
   "metadata": {},
   "outputs": [
    {
     "name": "stdout",
     "output_type": "stream",
     "text": [
      "2409\n"
     ]
    }
   ],
   "source": [
    "drug_keys = partD_drug_Group.groups.keys()\n",
    "print(len(drug_keys))"
   ]
  },
  {
   "cell_type": "code",
   "execution_count": 12,
   "id": "ca1c0239-0133-43ce-ba5f-1ba201ce7773",
   "metadata": {},
   "outputs": [
    {
     "data": {
      "text/plain": [
       "[('0.9 % Sodium Chloride', 0),\n",
       " ('0.9 % Sodium Chloride', 1),\n",
       " ('Aa 4.25%/Calcium/Lytes/Dex 10%', 0),\n",
       " ('Aa 5 %/Calcium/Lytes/Dext 20 %', 0),\n",
       " ('Aa 5%/D15w/Electrolytes', 0),\n",
       " ('Abacavir Sulfate', 0),\n",
       " ('Abacavir Sulfate/Lamivudine', 0),\n",
       " ('Abacavir/Dolutegravir/Lamivudi', 0),\n",
       " ('Abacavir/Dolutegravir/Lamivudi', 1),\n",
       " ('Abacavir/Lamivudine/Zidovudine', 0)]"
      ]
     },
     "execution_count": 12,
     "metadata": {},
     "output_type": "execute_result"
    }
   ],
   "source": [
    "list(drug_keys)[0:10]"
   ]
  },
  {
   "cell_type": "code",
   "execution_count": 13,
   "id": "be63b342-2499-467f-b56b-1334cecac5b6",
   "metadata": {},
   "outputs": [
    {
     "data": {
      "text/plain": [
       "['Olmesartan/Hydrochlorothiazide',\n",
       " 'Penicillin V Potassium',\n",
       " 'Flunisolide',\n",
       " 'Methotrexate Sodium',\n",
       " 'Cefadroxil',\n",
       " 'Tamsulosin Hcl',\n",
       " 'Epinephrine',\n",
       " 'Amitriptyline Hcl',\n",
       " 'Doxepin Hcl',\n",
       " 'Prasugrel Hcl']"
      ]
     },
     "execution_count": 13,
     "metadata": {},
     "output_type": "execute_result"
    }
   ],
   "source": [
    "#Getting list of drug names which where bought by both fraud and non fraud, to test hypothesis\n",
    "\n",
    "drug_with_isfraud = [drugx for drugx in drugs if ((drugx,0.0) in drug_keys ) & ( (drugx,1.0) in drug_keys)]\n",
    "drug_with_isfraud[0:10]"
   ]
  },
  {
   "cell_type": "code",
   "execution_count": 14,
   "id": "cefb5515-4f39-4fd7-ad5b-9c1fc1d84b90",
   "metadata": {},
   "outputs": [
    {
     "data": {
      "text/plain": [
       "687"
      ]
     },
     "execution_count": 14,
     "metadata": {},
     "output_type": "execute_result"
    }
   ],
   "source": [
    "#687 unique drug names with both fraud and non fraud group\n",
    "len(drug_with_isfraud)"
   ]
  },
  {
   "cell_type": "markdown",
   "id": "96e96758-2789-424c-8341-56a7e99eaf08",
   "metadata": {},
   "source": [
    "## Hypothesis test"
   ]
  },
  {
   "cell_type": "code",
   "execution_count": 15,
   "id": "03e0da74-40a9-41d5-b3f0-30427170cb22",
   "metadata": {},
   "outputs": [],
   "source": [
    "from scipy.stats import ttest_ind"
   ]
  },
  {
   "cell_type": "code",
   "execution_count": 16,
   "id": "95e5a0ef-3906-4911-a39f-581156ee0e52",
   "metadata": {},
   "outputs": [
    {
     "data": {
      "text/html": [
       "<div>\n",
       "<style scoped>\n",
       "    .dataframe tbody tr th:only-of-type {\n",
       "        vertical-align: middle;\n",
       "    }\n",
       "\n",
       "    .dataframe tbody tr th {\n",
       "        vertical-align: top;\n",
       "    }\n",
       "\n",
       "    .dataframe thead th {\n",
       "        text-align: right;\n",
       "    }\n",
       "</style>\n",
       "<table border=\"1\" class=\"dataframe\">\n",
       "  <thead>\n",
       "    <tr style=\"text-align: right;\">\n",
       "      <th></th>\n",
       "      <th></th>\n",
       "      <th>NPI</th>\n",
       "      <th>Tot_Clms</th>\n",
       "      <th>Tot_30day_Fills</th>\n",
       "      <th>Tot_Day_Suply</th>\n",
       "      <th>Tot_Drug_Cst</th>\n",
       "      <th>Speciality</th>\n",
       "    </tr>\n",
       "    <tr>\n",
       "      <th>Drug_Name</th>\n",
       "      <th>FRAUD</th>\n",
       "      <th></th>\n",
       "      <th></th>\n",
       "      <th></th>\n",
       "      <th></th>\n",
       "      <th></th>\n",
       "      <th></th>\n",
       "    </tr>\n",
       "  </thead>\n",
       "  <tbody>\n",
       "    <tr>\n",
       "      <th rowspan=\"2\" valign=\"top\">0.9 % Sodium Chloride</th>\n",
       "      <th>0</th>\n",
       "      <td>1003008533</td>\n",
       "      <td>16</td>\n",
       "      <td>16.0</td>\n",
       "      <td>401</td>\n",
       "      <td>120.56</td>\n",
       "      <td>Neurology</td>\n",
       "    </tr>\n",
       "    <tr>\n",
       "      <th>1</th>\n",
       "      <td>1285627828</td>\n",
       "      <td>20</td>\n",
       "      <td>20.0</td>\n",
       "      <td>315</td>\n",
       "      <td>333.86</td>\n",
       "      <td>Family Practice</td>\n",
       "    </tr>\n",
       "    <tr>\n",
       "      <th>Aa 4.25%/Calcium/Lytes/Dex 10%</th>\n",
       "      <th>0</th>\n",
       "      <td>1033137518</td>\n",
       "      <td>11</td>\n",
       "      <td>11.0</td>\n",
       "      <td>76</td>\n",
       "      <td>5136.48</td>\n",
       "      <td>Hematology-Oncology</td>\n",
       "    </tr>\n",
       "    <tr>\n",
       "      <th>Aa 5 %/Calcium/Lytes/Dext 20 %</th>\n",
       "      <th>0</th>\n",
       "      <td>1356304224</td>\n",
       "      <td>33</td>\n",
       "      <td>33.0</td>\n",
       "      <td>161</td>\n",
       "      <td>12101.10</td>\n",
       "      <td>General Surgery</td>\n",
       "    </tr>\n",
       "    <tr>\n",
       "      <th>Aa 5%/D15w/Electrolytes</th>\n",
       "      <th>0</th>\n",
       "      <td>1104087469</td>\n",
       "      <td>23</td>\n",
       "      <td>23.0</td>\n",
       "      <td>161</td>\n",
       "      <td>7782.00</td>\n",
       "      <td>Internal Medicine</td>\n",
       "    </tr>\n",
       "    <tr>\n",
       "      <th>...</th>\n",
       "      <th>...</th>\n",
       "      <td>...</td>\n",
       "      <td>...</td>\n",
       "      <td>...</td>\n",
       "      <td>...</td>\n",
       "      <td>...</td>\n",
       "      <td>...</td>\n",
       "    </tr>\n",
       "    <tr>\n",
       "      <th rowspan=\"2\" valign=\"top\">Zolpidem Tartrate</th>\n",
       "      <th>0</th>\n",
       "      <td>1003000522</td>\n",
       "      <td>22</td>\n",
       "      <td>46.0</td>\n",
       "      <td>1380</td>\n",
       "      <td>273.87</td>\n",
       "      <td>Family Practice</td>\n",
       "    </tr>\n",
       "    <tr>\n",
       "      <th>1</th>\n",
       "      <td>1003806431</td>\n",
       "      <td>41</td>\n",
       "      <td>45.0</td>\n",
       "      <td>1310</td>\n",
       "      <td>97.95</td>\n",
       "      <td>Internal Medicine</td>\n",
       "    </tr>\n",
       "    <tr>\n",
       "      <th rowspan=\"2\" valign=\"top\">Zonisamide</th>\n",
       "      <th>0</th>\n",
       "      <td>1003000902</td>\n",
       "      <td>12</td>\n",
       "      <td>12.0</td>\n",
       "      <td>360</td>\n",
       "      <td>654.89</td>\n",
       "      <td>Family Practice</td>\n",
       "    </tr>\n",
       "    <tr>\n",
       "      <th>1</th>\n",
       "      <td>1629042304</td>\n",
       "      <td>11</td>\n",
       "      <td>11.0</td>\n",
       "      <td>330</td>\n",
       "      <td>264.45</td>\n",
       "      <td>Internal Medicine</td>\n",
       "    </tr>\n",
       "    <tr>\n",
       "      <th>Zoster Vaccine Live/Pf</th>\n",
       "      <th>0</th>\n",
       "      <td>1255609913</td>\n",
       "      <td>11</td>\n",
       "      <td>11.0</td>\n",
       "      <td>11</td>\n",
       "      <td>2464.22</td>\n",
       "      <td>Nurse Practitioner</td>\n",
       "    </tr>\n",
       "  </tbody>\n",
       "</table>\n",
       "<p>2409 rows × 6 columns</p>\n",
       "</div>"
      ],
      "text/plain": [
       "                                             NPI  Tot_Clms  Tot_30day_Fills  \\\n",
       "Drug_Name                      FRAUD                                          \n",
       "0.9 % Sodium Chloride          0      1003008533        16             16.0   \n",
       "                               1      1285627828        20             20.0   \n",
       "Aa 4.25%/Calcium/Lytes/Dex 10% 0      1033137518        11             11.0   \n",
       "Aa 5 %/Calcium/Lytes/Dext 20 % 0      1356304224        33             33.0   \n",
       "Aa 5%/D15w/Electrolytes        0      1104087469        23             23.0   \n",
       "...                                          ...       ...              ...   \n",
       "Zolpidem Tartrate              0      1003000522        22             46.0   \n",
       "                               1      1003806431        41             45.0   \n",
       "Zonisamide                     0      1003000902        12             12.0   \n",
       "                               1      1629042304        11             11.0   \n",
       "Zoster Vaccine Live/Pf         0      1255609913        11             11.0   \n",
       "\n",
       "                                      Tot_Day_Suply  Tot_Drug_Cst  \\\n",
       "Drug_Name                      FRAUD                                \n",
       "0.9 % Sodium Chloride          0                401        120.56   \n",
       "                               1                315        333.86   \n",
       "Aa 4.25%/Calcium/Lytes/Dex 10% 0                 76       5136.48   \n",
       "Aa 5 %/Calcium/Lytes/Dext 20 % 0                161      12101.10   \n",
       "Aa 5%/D15w/Electrolytes        0                161       7782.00   \n",
       "...                                             ...           ...   \n",
       "Zolpidem Tartrate              0               1380        273.87   \n",
       "                               1               1310         97.95   \n",
       "Zonisamide                     0                360        654.89   \n",
       "                               1                330        264.45   \n",
       "Zoster Vaccine Live/Pf         0                 11       2464.22   \n",
       "\n",
       "                                               Speciality  \n",
       "Drug_Name                      FRAUD                       \n",
       "0.9 % Sodium Chloride          0                Neurology  \n",
       "                               1          Family Practice  \n",
       "Aa 4.25%/Calcium/Lytes/Dex 10% 0      Hematology-Oncology  \n",
       "Aa 5 %/Calcium/Lytes/Dext 20 % 0          General Surgery  \n",
       "Aa 5%/D15w/Electrolytes        0        Internal Medicine  \n",
       "...                                                   ...  \n",
       "Zolpidem Tartrate              0          Family Practice  \n",
       "                               1        Internal Medicine  \n",
       "Zonisamide                     0          Family Practice  \n",
       "                               1        Internal Medicine  \n",
       "Zoster Vaccine Live/Pf         0       Nurse Practitioner  \n",
       "\n",
       "[2409 rows x 6 columns]"
      ]
     },
     "execution_count": 16,
     "metadata": {},
     "output_type": "execute_result"
    }
   ],
   "source": [
    "partD_drug_Group.first()"
   ]
  },
  {
   "cell_type": "markdown",
   "id": "47141a18-4ca7-4cfa-8da3-d70dfc842fa6",
   "metadata": {},
   "source": [
    "### Hypothesis\n",
    "### Null hypothesis : Values in all feature columns for Fraud 0 and 1 category are identical and there is no difference \n",
    "### Alternate hypothesis : They is a difference in pattern and not identical"
   ]
  },
  {
   "cell_type": "code",
   "execution_count": 17,
   "id": "7f970bd2-9eac-418a-9add-c238037282cf",
   "metadata": {},
   "outputs": [
    {
     "data": {
      "text/plain": [
       "Index(['NPI', 'Drug_Name', 'Tot_Clms', 'Tot_30day_Fills', 'Tot_Day_Suply',\n",
       "       'Tot_Drug_Cst', 'Speciality', 'FRAUD'],\n",
       "      dtype='object')"
      ]
     },
     "execution_count": 17,
     "metadata": {},
     "output_type": "execute_result"
    }
   ],
   "source": [
    "partD_drug.columns"
   ]
  },
  {
   "cell_type": "code",
   "execution_count": 18,
   "id": "ed2e9e31-08d5-41d7-b08f-58d1d6fe5472",
   "metadata": {},
   "outputs": [],
   "source": [
    "#Cols of interest\n",
    "cols = ['Tot_Drug_Cst','Tot_Clms','Tot_Day_Suply']"
   ]
  },
  {
   "cell_type": "code",
   "execution_count": 19,
   "id": "5f1f8012-9978-44b4-b46e-9ccd136fadba",
   "metadata": {},
   "outputs": [],
   "source": [
    "#Empty dict for \n",
    "re_drug_tt = dict()"
   ]
  },
  {
   "cell_type": "code",
   "execution_count": 20,
   "id": "cb00d78c-e896-4480-b209-8f9adb362eb5",
   "metadata": {},
   "outputs": [],
   "source": [
    "for drugx in drug_with_isfraud:\n",
    "    for colx in cols:\n",
    "        fraud_0 = partD_drug_Group.get_group((drugx,0.0))[colx].values\n",
    "        fraud_1 = partD_drug_Group.get_group((drugx,1.0))[colx].values\n",
    "        #print(len(fraud_0), len(fraud_1))\n",
    "        \n",
    "        #If column has values more than 2 then do tt test on those and add result to dictionary with drug name\n",
    "        if (len(fraud_0)>2) & (len(fraud_1)>2) :\n",
    "            tt = ttest_ind(fraud_0, fraud_1)\n",
    "            re_drug_tt[(drugx, colx)] = tt"
   ]
  },
  {
   "cell_type": "code",
   "execution_count": 21,
   "id": "158bf6b7-6521-49fc-8b5f-f7ebde274f7c",
   "metadata": {},
   "outputs": [
    {
     "data": {
      "text/plain": [
       "Ttest_indResult(statistic=-2.860861957291366, pvalue=0.004225177525825225)"
      ]
     },
     "execution_count": 21,
     "metadata": {},
     "output_type": "execute_result"
    }
   ],
   "source": [
    "#Key is a set of Drug name and column\n",
    "#Value is a set of Stat and pvalue\n",
    "\n",
    "re_drug_tt.get(('Atorvastatin Calcium','Tot_Drug_Cst'))"
   ]
  },
  {
   "cell_type": "code",
   "execution_count": 22,
   "id": "d0fde50a-070c-4be3-acff-3ea4126021d1",
   "metadata": {},
   "outputs": [
    {
     "name": "stdout",
     "output_type": "stream",
     "text": [
      "102\n"
     ]
    }
   ],
   "source": [
    "#Setting Probilities\n",
    "#If p value is less than alpha = 0.05 then rejecting null hypothesis and adding that column in to list of prob_005\n",
    "\n",
    "Prob_005 = [(key, pvalue) for (key, (stat, pvalue)) in re_drug_tt.items() if pvalue <=0.01]  \n",
    "print(len(Prob_005))"
   ]
  },
  {
   "cell_type": "code",
   "execution_count": 32,
   "id": "87c9b847-1a2b-4604-95d0-71a0b99be44d",
   "metadata": {},
   "outputs": [
    {
     "name": "stdout",
     "output_type": "stream",
     "text": [
      "Tramadol Hcl Tot_Clms\n"
     ]
    }
   ],
   "source": [
    "#Check random key : drug name and column name\n",
    "#at list index 100, randomly\n",
    "index = 100\n",
    "drug_name = Prob_005[index][0][0]\n",
    "column_name = Prob_005[index][0][1]\n",
    "print(drug_name,column_name)"
   ]
  },
  {
   "cell_type": "raw",
   "id": "40f48a8c-b6fb-4af2-86f6-a83923c10051",
   "metadata": {},
   "source": [
    "df_bar = pd.concat([partD_drug_All_Group.get_group((Prob_005[inx][0][0],0.0)), partD_drug_All_Group.get_group((Prob_005[inx][0][0],1.0))])\n",
    "df_bar.head()"
   ]
  },
  {
   "cell_type": "markdown",
   "id": "f4e478f1-fac4-4ef8-b287-fe6ec1ce462d",
   "metadata": {},
   "source": [
    "## Getting features from dataframe with grouped data of drug cost,supply,daily supply"
   ]
  },
  {
   "cell_type": "code",
   "execution_count": 40,
   "id": "798f5eef-8db8-4dd7-8968-895b2fe65e28",
   "metadata": {},
   "outputs": [
    {
     "name": "stdout",
     "output_type": "stream",
     "text": [
      "<class 'pandas.core.frame.DataFrame'>\n",
      "RangeIndex: 965056 entries, 0 to 965055\n",
      "Data columns (total 18 columns):\n",
      " #   Column               Non-Null Count   Dtype  \n",
      "---  ------               --------------   -----  \n",
      " 0   NPI                  965056 non-null  int64  \n",
      " 1   City                 965056 non-null  object \n",
      " 2   State                965056 non-null  object \n",
      " 3   Speciality           965055 non-null  object \n",
      " 4   max_Tot_Drug_Cst     965056 non-null  float64\n",
      " 5   sum_Tot_Drug_Cst     965056 non-null  float64\n",
      " 6   avg_Tot_Drug_Cst     965056 non-null  float64\n",
      " 7   max_Total_claims     965056 non-null  int64  \n",
      " 8   sum_Total_claims     965056 non-null  int64  \n",
      " 9   avg_Total_claims     965056 non-null  float64\n",
      " 10  max_Tot_Day_Suply    965056 non-null  int64  \n",
      " 11  sum_Tot_Day_Suply    965056 non-null  int64  \n",
      " 12  avg_Tot_Day_Suply    965056 non-null  float64\n",
      " 13  max_Tot_30day_Fills  965056 non-null  float64\n",
      " 14  sum_Tot_30day_Fills  965056 non-null  float64\n",
      " 15  avg_Tot_30day_Fills  965056 non-null  float64\n",
      " 16  Total_payments       340422 non-null  float64\n",
      " 17  FRAUD                965056 non-null  int64  \n",
      "dtypes: float64(9), int64(6), object(3)\n",
      "memory usage: 132.5+ MB\n"
     ]
    }
   ],
   "source": [
    "df_final.info()"
   ]
  },
  {
   "cell_type": "code",
   "execution_count": 41,
   "id": "cab85948-51d5-485a-beea-4ddda1b7279b",
   "metadata": {},
   "outputs": [],
   "source": [
    "FeaturesAll_pd = df_final.drop(\"City\",axis = 1)"
   ]
  },
  {
   "cell_type": "code",
   "execution_count": 42,
   "id": "3feb4cbe-73e5-4f6f-8c63-e5c1100e2e77",
   "metadata": {},
   "outputs": [
    {
     "data": {
      "text/plain": [
       "pandas.core.frame.DataFrame"
      ]
     },
     "execution_count": 42,
     "metadata": {},
     "output_type": "execute_result"
    }
   ],
   "source": [
    "type(FeaturesAll_pd)"
   ]
  },
  {
   "cell_type": "raw",
   "id": "68a8cc86-2fc3-4553-a0d5-667a293f29ff",
   "metadata": {},
   "source": [
    "#Not required\n",
    "FeaturesAll_pd = df_final.loc[:,[\"NPI\",\"Speciality\",\"max_Tot_Drug_Cst\",\"max_Total_claims\",\"max_Tot_Day_Suply\",\n",
    "                                 \"sum_Tot_Drug_Cst\",\"sum_Total_claims\",\"sum_Tot_Day_Suply\",\n",
    "                                 \"avg_Tot_Drug_Cst\",\"avg_Total_claims\",\"avg_Tot_Day_Suply\"]]"
   ]
  },
  {
   "cell_type": "code",
   "execution_count": 43,
   "id": "a1194ec9-21e9-416d-ac71-833faf1c89f5",
   "metadata": {},
   "outputs": [],
   "source": [
    "FeaturesAll_pd['claim_max-mean'] = FeaturesAll_pd['max_Total_claims'] - FeaturesAll_pd['avg_Total_claims']\n",
    "\n",
    "FeaturesAll_pd['supply_max-mean'] = FeaturesAll_pd['max_Tot_Day_Suply'] - FeaturesAll_pd['avg_Tot_Day_Suply']\n",
    "\n",
    "FeaturesAll_pd['drug_max-mean'] = FeaturesAll_pd['max_Tot_Drug_Cst'] - FeaturesAll_pd['avg_Tot_Drug_Cst']"
   ]
  },
  {
   "cell_type": "code",
   "execution_count": 44,
   "id": "d9a84dd7-1734-433e-9170-287b67c51b06",
   "metadata": {},
   "outputs": [
    {
     "data": {
      "text/html": [
       "<div>\n",
       "<style scoped>\n",
       "    .dataframe tbody tr th:only-of-type {\n",
       "        vertical-align: middle;\n",
       "    }\n",
       "\n",
       "    .dataframe tbody tr th {\n",
       "        vertical-align: top;\n",
       "    }\n",
       "\n",
       "    .dataframe thead th {\n",
       "        text-align: right;\n",
       "    }\n",
       "</style>\n",
       "<table border=\"1\" class=\"dataframe\">\n",
       "  <thead>\n",
       "    <tr style=\"text-align: right;\">\n",
       "      <th></th>\n",
       "      <th>NPI</th>\n",
       "      <th>State</th>\n",
       "      <th>Speciality</th>\n",
       "      <th>max_Tot_Drug_Cst</th>\n",
       "      <th>sum_Tot_Drug_Cst</th>\n",
       "      <th>avg_Tot_Drug_Cst</th>\n",
       "      <th>max_Total_claims</th>\n",
       "      <th>sum_Total_claims</th>\n",
       "      <th>avg_Total_claims</th>\n",
       "      <th>max_Tot_Day_Suply</th>\n",
       "      <th>sum_Tot_Day_Suply</th>\n",
       "      <th>avg_Tot_Day_Suply</th>\n",
       "      <th>max_Tot_30day_Fills</th>\n",
       "      <th>sum_Tot_30day_Fills</th>\n",
       "      <th>avg_Tot_30day_Fills</th>\n",
       "      <th>Total_payments</th>\n",
       "      <th>FRAUD</th>\n",
       "      <th>claim_max-mean</th>\n",
       "      <th>supply_max-mean</th>\n",
       "      <th>drug_max-mean</th>\n",
       "    </tr>\n",
       "  </thead>\n",
       "  <tbody>\n",
       "    <tr>\n",
       "      <th>965053</th>\n",
       "      <td>1972655934</td>\n",
       "      <td>va</td>\n",
       "      <td>medical oncology</td>\n",
       "      <td>18080.71</td>\n",
       "      <td>24226.07</td>\n",
       "      <td>3460.8672</td>\n",
       "      <td>87</td>\n",
       "      <td>263</td>\n",
       "      <td>37.571429</td>\n",
       "      <td>6262</td>\n",
       "      <td>17353</td>\n",
       "      <td>2479.0</td>\n",
       "      <td>208.7</td>\n",
       "      <td>591.7</td>\n",
       "      <td>84.52857</td>\n",
       "      <td>NaN</td>\n",
       "      <td>0</td>\n",
       "      <td>49.428571</td>\n",
       "      <td>3783.0</td>\n",
       "      <td>14619.8428</td>\n",
       "    </tr>\n",
       "    <tr>\n",
       "      <th>965054</th>\n",
       "      <td>1972662203</td>\n",
       "      <td>ms</td>\n",
       "      <td>dentist</td>\n",
       "      <td>72.16</td>\n",
       "      <td>118.12</td>\n",
       "      <td>59.0600</td>\n",
       "      <td>13</td>\n",
       "      <td>24</td>\n",
       "      <td>12.000000</td>\n",
       "      <td>83</td>\n",
       "      <td>115</td>\n",
       "      <td>57.5</td>\n",
       "      <td>13.0</td>\n",
       "      <td>24.0</td>\n",
       "      <td>12.00000</td>\n",
       "      <td>NaN</td>\n",
       "      <td>0</td>\n",
       "      <td>1.000000</td>\n",
       "      <td>25.5</td>\n",
       "      <td>13.1000</td>\n",
       "    </tr>\n",
       "    <tr>\n",
       "      <th>965055</th>\n",
       "      <td>1972669075</td>\n",
       "      <td>ok</td>\n",
       "      <td>dentist</td>\n",
       "      <td>100.68</td>\n",
       "      <td>100.68</td>\n",
       "      <td>100.6800</td>\n",
       "      <td>34</td>\n",
       "      <td>34</td>\n",
       "      <td>34.000000</td>\n",
       "      <td>165</td>\n",
       "      <td>165</td>\n",
       "      <td>165.0</td>\n",
       "      <td>34.0</td>\n",
       "      <td>34.0</td>\n",
       "      <td>34.00000</td>\n",
       "      <td>13.79</td>\n",
       "      <td>0</td>\n",
       "      <td>0.000000</td>\n",
       "      <td>0.0</td>\n",
       "      <td>0.0000</td>\n",
       "    </tr>\n",
       "  </tbody>\n",
       "</table>\n",
       "</div>"
      ],
      "text/plain": [
       "               NPI State        Speciality  max_Tot_Drug_Cst  \\\n",
       "965053  1972655934    va  medical oncology          18080.71   \n",
       "965054  1972662203    ms           dentist             72.16   \n",
       "965055  1972669075    ok           dentist            100.68   \n",
       "\n",
       "        sum_Tot_Drug_Cst  avg_Tot_Drug_Cst  max_Total_claims  \\\n",
       "965053          24226.07         3460.8672                87   \n",
       "965054            118.12           59.0600                13   \n",
       "965055            100.68          100.6800                34   \n",
       "\n",
       "        sum_Total_claims  avg_Total_claims  max_Tot_Day_Suply  \\\n",
       "965053               263         37.571429               6262   \n",
       "965054                24         12.000000                 83   \n",
       "965055                34         34.000000                165   \n",
       "\n",
       "        sum_Tot_Day_Suply  avg_Tot_Day_Suply  max_Tot_30day_Fills  \\\n",
       "965053              17353             2479.0                208.7   \n",
       "965054                115               57.5                 13.0   \n",
       "965055                165              165.0                 34.0   \n",
       "\n",
       "        sum_Tot_30day_Fills  avg_Tot_30day_Fills  Total_payments  FRAUD  \\\n",
       "965053                591.7             84.52857             NaN      0   \n",
       "965054                 24.0             12.00000             NaN      0   \n",
       "965055                 34.0             34.00000           13.79      0   \n",
       "\n",
       "        claim_max-mean  supply_max-mean  drug_max-mean  \n",
       "965053       49.428571           3783.0     14619.8428  \n",
       "965054        1.000000             25.5        13.1000  \n",
       "965055        0.000000              0.0         0.0000  "
      ]
     },
     "execution_count": 44,
     "metadata": {},
     "output_type": "execute_result"
    }
   ],
   "source": [
    "FeaturesAll_pd.tail(3)"
   ]
  },
  {
   "cell_type": "raw",
   "id": "3e7e19be-14c5-43f2-ad26-5f0000d25c6e",
   "metadata": {},
   "source": [
    "#Not required\n",
    "partD_drug_All = pd.merge(partD_Drug_pd,FeaturesAll_pd[['npi','is_fraud']], how='inner', on=['npi'])"
   ]
  },
  {
   "cell_type": "markdown",
   "id": "136658a3-e466-4089-95ba-b63d4c1b9533",
   "metadata": {},
   "source": [
    "## Adding columns to main dataframe"
   ]
  },
  {
   "cell_type": "code",
   "execution_count": 45,
   "id": "c01cadd8-3b4c-4dfa-b1d3-4990ef6713c1",
   "metadata": {},
   "outputs": [],
   "source": [
    "\n",
    "Feature_DrugWeighted = []\n",
    "new_col_all =[]\n",
    "\n",
    "for i, p005x in enumerate(Prob_005):\n",
    "    #drug name\n",
    "    drug_name = p005x[0][0]\n",
    "    #Column name\n",
    "    cat_name = p005x[0][1] \n",
    "    \n",
    "    #Adding two strings and appending it to list\n",
    "    new_col = drug_name+'_'+cat_name\n",
    "    new_col_all.append(new_col)\n",
    "    \n",
    "    #Getting columns for fraud and non fraud\n",
    "    drug_0 = partD_drug_Group.get_group((drug_name,0.0))[['NPI', cat_name]]\n",
    "    drug_1 = partD_drug_Group.get_group((drug_name,1.0))[['NPI', cat_name]]\n",
    "    \n",
    "    #Row wise\n",
    "    drug_01 = pd.concat([drug_0, drug_1])\n",
    "    #print(\"drug_01 : \",drug_01)\n",
    "    \n",
    "    #Chances of Single NPI making double claims for similar medicines\n",
    "    drug_02 = drug_01.groupby(\"NPI\").sum()\n",
    "    drug_02[\"NPI\"] = drug_02.index\n",
    "    drug_02.index.names = [\"index\"]\n",
    "    \n",
    "    \n",
    "    #Renaming column name to new column name\n",
    "    drug_02.rename(columns={cat_name: new_col}, inplace=True)\n",
    "    \n",
    "    #Appending dataframe to list\n",
    "    Feature_DrugWeighted.append(drug_02)"
   ]
  },
  {
   "cell_type": "code",
   "execution_count": 46,
   "id": "507f9b88-19bf-4074-85b1-adc865b3c134",
   "metadata": {},
   "outputs": [
    {
     "data": {
      "text/html": [
       "<div>\n",
       "<style scoped>\n",
       "    .dataframe tbody tr th:only-of-type {\n",
       "        vertical-align: middle;\n",
       "    }\n",
       "\n",
       "    .dataframe tbody tr th {\n",
       "        vertical-align: top;\n",
       "    }\n",
       "\n",
       "    .dataframe thead th {\n",
       "        text-align: right;\n",
       "    }\n",
       "</style>\n",
       "<table border=\"1\" class=\"dataframe\">\n",
       "  <thead>\n",
       "    <tr style=\"text-align: right;\">\n",
       "      <th></th>\n",
       "      <th>Methocarbamol_Tot_Drug_Cst</th>\n",
       "      <th>NPI</th>\n",
       "    </tr>\n",
       "    <tr>\n",
       "      <th>index</th>\n",
       "      <th></th>\n",
       "      <th></th>\n",
       "    </tr>\n",
       "  </thead>\n",
       "  <tbody>\n",
       "    <tr>\n",
       "      <th>1003001363</th>\n",
       "      <td>832.49</td>\n",
       "      <td>1003001363</td>\n",
       "    </tr>\n",
       "    <tr>\n",
       "      <th>1003004201</th>\n",
       "      <td>136.93</td>\n",
       "      <td>1003004201</td>\n",
       "    </tr>\n",
       "    <tr>\n",
       "      <th>1003008095</th>\n",
       "      <td>686.76</td>\n",
       "      <td>1003008095</td>\n",
       "    </tr>\n",
       "    <tr>\n",
       "      <th>1003012428</th>\n",
       "      <td>272.20</td>\n",
       "      <td>1003012428</td>\n",
       "    </tr>\n",
       "    <tr>\n",
       "      <th>1003013608</th>\n",
       "      <td>155.89</td>\n",
       "      <td>1003013608</td>\n",
       "    </tr>\n",
       "    <tr>\n",
       "      <th>...</th>\n",
       "      <td>...</td>\n",
       "      <td>...</td>\n",
       "    </tr>\n",
       "    <tr>\n",
       "      <th>1972663144</th>\n",
       "      <td>79.24</td>\n",
       "      <td>1972663144</td>\n",
       "    </tr>\n",
       "    <tr>\n",
       "      <th>1972665321</th>\n",
       "      <td>752.56</td>\n",
       "      <td>1972665321</td>\n",
       "    </tr>\n",
       "    <tr>\n",
       "      <th>1972665594</th>\n",
       "      <td>188.39</td>\n",
       "      <td>1972665594</td>\n",
       "    </tr>\n",
       "    <tr>\n",
       "      <th>1972668416</th>\n",
       "      <td>382.96</td>\n",
       "      <td>1972668416</td>\n",
       "    </tr>\n",
       "    <tr>\n",
       "      <th>1972669489</th>\n",
       "      <td>259.23</td>\n",
       "      <td>1972669489</td>\n",
       "    </tr>\n",
       "  </tbody>\n",
       "</table>\n",
       "<p>29398 rows × 2 columns</p>\n",
       "</div>"
      ],
      "text/plain": [
       "            Methocarbamol_Tot_Drug_Cst         NPI\n",
       "index                                             \n",
       "1003001363                      832.49  1003001363\n",
       "1003004201                      136.93  1003004201\n",
       "1003008095                      686.76  1003008095\n",
       "1003012428                      272.20  1003012428\n",
       "1003013608                      155.89  1003013608\n",
       "...                                ...         ...\n",
       "1972663144                       79.24  1972663144\n",
       "1972665321                      752.56  1972665321\n",
       "1972665594                      188.39  1972665594\n",
       "1972668416                      382.96  1972668416\n",
       "1972669489                      259.23  1972669489\n",
       "\n",
       "[29398 rows x 2 columns]"
      ]
     },
     "execution_count": 46,
     "metadata": {},
     "output_type": "execute_result"
    }
   ],
   "source": [
    "#List with all required drug names and there values wrt NPI\n",
    "Feature_DrugWeighted[0]"
   ]
  },
  {
   "cell_type": "code",
   "execution_count": 47,
   "id": "73f15a2c-ffbc-4ad8-ad65-c481b965500b",
   "metadata": {},
   "outputs": [],
   "source": [
    "TEST = Feature_DrugWeighted[0]"
   ]
  },
  {
   "cell_type": "code",
   "execution_count": 48,
   "id": "69c6e033-2503-4f33-94ed-9be712af3bee",
   "metadata": {},
   "outputs": [
    {
     "data": {
      "text/html": [
       "<div>\n",
       "<style scoped>\n",
       "    .dataframe tbody tr th:only-of-type {\n",
       "        vertical-align: middle;\n",
       "    }\n",
       "\n",
       "    .dataframe tbody tr th {\n",
       "        vertical-align: top;\n",
       "    }\n",
       "\n",
       "    .dataframe thead th {\n",
       "        text-align: right;\n",
       "    }\n",
       "</style>\n",
       "<table border=\"1\" class=\"dataframe\">\n",
       "  <thead>\n",
       "    <tr style=\"text-align: right;\">\n",
       "      <th></th>\n",
       "      <th>Methocarbamol_Tot_Drug_Cst</th>\n",
       "      <th>NPI</th>\n",
       "    </tr>\n",
       "    <tr>\n",
       "      <th>index</th>\n",
       "      <th></th>\n",
       "      <th></th>\n",
       "    </tr>\n",
       "  </thead>\n",
       "  <tbody>\n",
       "  </tbody>\n",
       "</table>\n",
       "</div>"
      ],
      "text/plain": [
       "Empty DataFrame\n",
       "Columns: [Methocarbamol_Tot_Drug_Cst, NPI]\n",
       "Index: []"
      ]
     },
     "execution_count": 48,
     "metadata": {},
     "output_type": "execute_result"
    }
   ],
   "source": [
    "#Without groupby\n",
    "TEST[TEST.NPI == 1003013616]"
   ]
  },
  {
   "cell_type": "code",
   "execution_count": 49,
   "id": "d7ccf225-a08b-432b-aecb-b847ed3f3105",
   "metadata": {},
   "outputs": [
    {
     "data": {
      "text/html": [
       "<div>\n",
       "<style scoped>\n",
       "    .dataframe tbody tr th:only-of-type {\n",
       "        vertical-align: middle;\n",
       "    }\n",
       "\n",
       "    .dataframe tbody tr th {\n",
       "        vertical-align: top;\n",
       "    }\n",
       "\n",
       "    .dataframe thead th {\n",
       "        text-align: right;\n",
       "    }\n",
       "</style>\n",
       "<table border=\"1\" class=\"dataframe\">\n",
       "  <thead>\n",
       "    <tr style=\"text-align: right;\">\n",
       "      <th></th>\n",
       "      <th>Methocarbamol_Tot_Drug_Cst</th>\n",
       "      <th>NPI</th>\n",
       "    </tr>\n",
       "    <tr>\n",
       "      <th>index</th>\n",
       "      <th></th>\n",
       "      <th></th>\n",
       "    </tr>\n",
       "  </thead>\n",
       "  <tbody>\n",
       "  </tbody>\n",
       "</table>\n",
       "</div>"
      ],
      "text/plain": [
       "Empty DataFrame\n",
       "Columns: [Methocarbamol_Tot_Drug_Cst, NPI]\n",
       "Index: []"
      ]
     },
     "execution_count": 49,
     "metadata": {},
     "output_type": "execute_result"
    }
   ],
   "source": [
    "#Chances of Single NPI making double claims for similar medicines\n",
    "TEST[TEST.NPI == 1003013616]"
   ]
  },
  {
   "cell_type": "code",
   "execution_count": 50,
   "id": "fae8e750-203d-48b9-af78-31e8b3103423",
   "metadata": {},
   "outputs": [],
   "source": [
    "#Merging all columns into final dataframe on NPI\n",
    "\n",
    "npi_col = FeaturesAll_pd[['NPI']]\n",
    "\n",
    "w_npi = []\n",
    "\n",
    "for n, nx in enumerate(Feature_DrugWeighted):\n",
    "      nggx = pd.merge(npi_col, nx.drop_duplicates(['NPI']), on='NPI', how='left')\n",
    "      w_npi.append(nggx)"
   ]
  },
  {
   "cell_type": "code",
   "execution_count": 51,
   "id": "2500ae5d-2f2a-4e4a-8334-551d76734ef5",
   "metadata": {},
   "outputs": [
    {
     "data": {
      "text/html": [
       "<div>\n",
       "<style scoped>\n",
       "    .dataframe tbody tr th:only-of-type {\n",
       "        vertical-align: middle;\n",
       "    }\n",
       "\n",
       "    .dataframe tbody tr th {\n",
       "        vertical-align: top;\n",
       "    }\n",
       "\n",
       "    .dataframe thead th {\n",
       "        text-align: right;\n",
       "    }\n",
       "</style>\n",
       "<table border=\"1\" class=\"dataframe\">\n",
       "  <thead>\n",
       "    <tr style=\"text-align: right;\">\n",
       "      <th></th>\n",
       "      <th>NPI</th>\n",
       "      <th>Risperidone Microspheres_Tot_Drug_Cst</th>\n",
       "    </tr>\n",
       "  </thead>\n",
       "  <tbody>\n",
       "    <tr>\n",
       "      <th>0</th>\n",
       "      <td>1003000126</td>\n",
       "      <td>NaN</td>\n",
       "    </tr>\n",
       "    <tr>\n",
       "      <th>1</th>\n",
       "      <td>1003000423</td>\n",
       "      <td>NaN</td>\n",
       "    </tr>\n",
       "    <tr>\n",
       "      <th>2</th>\n",
       "      <td>1003000720</td>\n",
       "      <td>NaN</td>\n",
       "    </tr>\n",
       "    <tr>\n",
       "      <th>3</th>\n",
       "      <td>1003001785</td>\n",
       "      <td>NaN</td>\n",
       "    </tr>\n",
       "    <tr>\n",
       "      <th>4</th>\n",
       "      <td>1003001884</td>\n",
       "      <td>NaN</td>\n",
       "    </tr>\n",
       "    <tr>\n",
       "      <th>...</th>\n",
       "      <td>...</td>\n",
       "      <td>...</td>\n",
       "    </tr>\n",
       "    <tr>\n",
       "      <th>965051</th>\n",
       "      <td>1972641801</td>\n",
       "      <td>NaN</td>\n",
       "    </tr>\n",
       "    <tr>\n",
       "      <th>965052</th>\n",
       "      <td>1972643476</td>\n",
       "      <td>NaN</td>\n",
       "    </tr>\n",
       "    <tr>\n",
       "      <th>965053</th>\n",
       "      <td>1972655934</td>\n",
       "      <td>NaN</td>\n",
       "    </tr>\n",
       "    <tr>\n",
       "      <th>965054</th>\n",
       "      <td>1972662203</td>\n",
       "      <td>NaN</td>\n",
       "    </tr>\n",
       "    <tr>\n",
       "      <th>965055</th>\n",
       "      <td>1972669075</td>\n",
       "      <td>NaN</td>\n",
       "    </tr>\n",
       "  </tbody>\n",
       "</table>\n",
       "<p>965056 rows × 2 columns</p>\n",
       "</div>"
      ],
      "text/plain": [
       "               NPI  Risperidone Microspheres_Tot_Drug_Cst\n",
       "0       1003000126                                    NaN\n",
       "1       1003000423                                    NaN\n",
       "2       1003000720                                    NaN\n",
       "3       1003001785                                    NaN\n",
       "4       1003001884                                    NaN\n",
       "...            ...                                    ...\n",
       "965051  1972641801                                    NaN\n",
       "965052  1972643476                                    NaN\n",
       "965053  1972655934                                    NaN\n",
       "965054  1972662203                                    NaN\n",
       "965055  1972669075                                    NaN\n",
       "\n",
       "[965056 rows x 2 columns]"
      ]
     },
     "execution_count": 51,
     "metadata": {},
     "output_type": "execute_result"
    }
   ],
   "source": [
    "#list w_npi has all columns with values\n",
    "w_npi[10]"
   ]
  },
  {
   "cell_type": "code",
   "execution_count": 52,
   "id": "10f1ab86-5ad3-4336-8de6-5c9a2f917f97",
   "metadata": {},
   "outputs": [],
   "source": [
    "FeaturesAll_pd1 = FeaturesAll_pd"
   ]
  },
  {
   "cell_type": "code",
   "execution_count": 53,
   "id": "9004c01a-6a8d-4eb8-b64f-3679ebfec9f6",
   "metadata": {},
   "outputs": [
    {
     "name": "stderr",
     "output_type": "stream",
     "text": [
      "C:\\Users\\Shailesh\\AppData\\Local\\Temp\\ipykernel_13220\\2702535886.py:7: PerformanceWarning: DataFrame is highly fragmented.  This is usually the result of calling `frame.insert` many times, which has poor performance.  Consider joining all columns at once using pd.concat(axis=1) instead. To get a de-fragmented frame, use `newframe = frame.copy()`\n",
      "  FeaturesAll_pd1[col_n] = wx[col_n].values\n",
      "C:\\Users\\Shailesh\\AppData\\Local\\Temp\\ipykernel_13220\\2702535886.py:7: PerformanceWarning: DataFrame is highly fragmented.  This is usually the result of calling `frame.insert` many times, which has poor performance.  Consider joining all columns at once using pd.concat(axis=1) instead. To get a de-fragmented frame, use `newframe = frame.copy()`\n",
      "  FeaturesAll_pd1[col_n] = wx[col_n].values\n",
      "C:\\Users\\Shailesh\\AppData\\Local\\Temp\\ipykernel_13220\\2702535886.py:7: PerformanceWarning: DataFrame is highly fragmented.  This is usually the result of calling `frame.insert` many times, which has poor performance.  Consider joining all columns at once using pd.concat(axis=1) instead. To get a de-fragmented frame, use `newframe = frame.copy()`\n",
      "  FeaturesAll_pd1[col_n] = wx[col_n].values\n",
      "C:\\Users\\Shailesh\\AppData\\Local\\Temp\\ipykernel_13220\\2702535886.py:7: PerformanceWarning: DataFrame is highly fragmented.  This is usually the result of calling `frame.insert` many times, which has poor performance.  Consider joining all columns at once using pd.concat(axis=1) instead. To get a de-fragmented frame, use `newframe = frame.copy()`\n",
      "  FeaturesAll_pd1[col_n] = wx[col_n].values\n",
      "C:\\Users\\Shailesh\\AppData\\Local\\Temp\\ipykernel_13220\\2702535886.py:7: PerformanceWarning: DataFrame is highly fragmented.  This is usually the result of calling `frame.insert` many times, which has poor performance.  Consider joining all columns at once using pd.concat(axis=1) instead. To get a de-fragmented frame, use `newframe = frame.copy()`\n",
      "  FeaturesAll_pd1[col_n] = wx[col_n].values\n"
     ]
    }
   ],
   "source": [
    "for wx in w_npi:\n",
    "    \n",
    "    #Selecting drugname_category\n",
    "    col_n = wx.columns[1]\n",
    "    \n",
    "    #adding new column with values to dataframe\n",
    "    FeaturesAll_pd1[col_n] = wx[col_n].values\n",
    "    FeaturesAll_pd1[col_n].fillna(0,inplace=True)"
   ]
  },
  {
   "cell_type": "code",
   "execution_count": 54,
   "id": "b4cb2eb8-f827-4c37-b59b-97b7b52c5193",
   "metadata": {},
   "outputs": [
    {
     "data": {
      "text/plain": [
       "Index(['NPI', 'State', 'Speciality', 'max_Tot_Drug_Cst', 'sum_Tot_Drug_Cst',\n",
       "       'avg_Tot_Drug_Cst', 'max_Total_claims', 'sum_Total_claims',\n",
       "       'avg_Total_claims', 'max_Tot_Day_Suply',\n",
       "       ...\n",
       "       'Quetiapine Fumarate_Tot_Day_Suply',\n",
       "       'Lisinopril/Hydrochlorothiazide_Tot_Clms',\n",
       "       'Lisinopril/Hydrochlorothiazide_Tot_Day_Suply', 'Diazepam_Tot_Clms',\n",
       "       'Diazepam_Tot_Day_Suply', 'Pen Needle, Diabetic_Tot_Drug_Cst',\n",
       "       'Pen Needle, Diabetic_Tot_Day_Suply', 'Tramadol Hcl_Tot_Drug_Cst',\n",
       "       'Tramadol Hcl_Tot_Clms', 'Tramadol Hcl_Tot_Day_Suply'],\n",
       "      dtype='object', length=122)"
      ]
     },
     "execution_count": 54,
     "metadata": {},
     "output_type": "execute_result"
    }
   ],
   "source": [
    "FeaturesAll_pd1.columns"
   ]
  },
  {
   "cell_type": "code",
   "execution_count": 55,
   "id": "d07135fa-6024-4a5d-a2f2-2da594888b27",
   "metadata": {},
   "outputs": [
    {
     "data": {
      "text/plain": [
       "NPI                                   0\n",
       "State                                 0\n",
       "Speciality                            1\n",
       "max_Tot_Drug_Cst                      0\n",
       "sum_Tot_Drug_Cst                      0\n",
       "                                     ..\n",
       "Pen Needle, Diabetic_Tot_Drug_Cst     0\n",
       "Pen Needle, Diabetic_Tot_Day_Suply    0\n",
       "Tramadol Hcl_Tot_Drug_Cst             0\n",
       "Tramadol Hcl_Tot_Clms                 0\n",
       "Tramadol Hcl_Tot_Day_Suply            0\n",
       "Length: 122, dtype: int64"
      ]
     },
     "execution_count": 55,
     "metadata": {},
     "output_type": "execute_result"
    }
   ],
   "source": [
    "FeaturesAll_pd1.isna().sum()"
   ]
  },
  {
   "cell_type": "code",
   "execution_count": 56,
   "id": "02a219ba-566e-4ae0-bd7b-8dfee5156454",
   "metadata": {},
   "outputs": [
    {
     "data": {
      "text/plain": [
       "Index(['NPI', 'State', 'Speciality', 'max_Tot_Drug_Cst', 'sum_Tot_Drug_Cst',\n",
       "       'avg_Tot_Drug_Cst', 'max_Total_claims', 'sum_Total_claims',\n",
       "       'avg_Total_claims', 'max_Tot_Day_Suply',\n",
       "       ...\n",
       "       'Quetiapine Fumarate_Tot_Day_Suply',\n",
       "       'Lisinopril/Hydrochlorothiazide_Tot_Clms',\n",
       "       'Lisinopril/Hydrochlorothiazide_Tot_Day_Suply', 'Diazepam_Tot_Clms',\n",
       "       'Diazepam_Tot_Day_Suply', 'Pen Needle, Diabetic_Tot_Drug_Cst',\n",
       "       'Pen Needle, Diabetic_Tot_Day_Suply', 'Tramadol Hcl_Tot_Drug_Cst',\n",
       "       'Tramadol Hcl_Tot_Clms', 'Tramadol Hcl_Tot_Day_Suply'],\n",
       "      dtype='object', length=122)"
      ]
     },
     "execution_count": 56,
     "metadata": {},
     "output_type": "execute_result"
    }
   ],
   "source": [
    "FeaturesAll_pd1.columns"
   ]
  },
  {
   "cell_type": "code",
   "execution_count": 57,
   "id": "a6df3639-ee31-426c-ae6c-9e9cb051240b",
   "metadata": {},
   "outputs": [],
   "source": [
    "FeaturesAll_pd1.to_csv(\"../data/hyp_0.1_data.csv\")"
   ]
  },
  {
   "cell_type": "code",
   "execution_count": null,
   "id": "c3ceea94-fb8a-498e-933e-9bf48d2e4fbc",
   "metadata": {},
   "outputs": [],
   "source": []
  },
  {
   "cell_type": "code",
   "execution_count": null,
   "id": "baec21bd-1b2f-43fe-a372-87c5c99931fb",
   "metadata": {},
   "outputs": [],
   "source": []
  },
  {
   "cell_type": "code",
   "execution_count": null,
   "id": "5c865e40-4173-40c6-be7e-16e87bd19f80",
   "metadata": {},
   "outputs": [],
   "source": [
    "df_ml = pd.read_csv(\"../data/hyp_final_data.csv\")\n",
    "df_ml.drop(\"Unnamed: 0\",axis =1,inplace= True)\n",
    "df_ml.round(2)"
   ]
  },
  {
   "cell_type": "code",
   "execution_count": null,
   "id": "d32d6042-8bd7-491d-adea-e9545d52f4a1",
   "metadata": {},
   "outputs": [],
   "source": []
  },
  {
   "cell_type": "code",
   "execution_count": null,
   "id": "9b356630-6c7c-4acc-be04-206b31b3a5af",
   "metadata": {},
   "outputs": [],
   "source": []
  },
  {
   "cell_type": "raw",
   "id": "e4f11ee1-3aba-45df-b271-84d1d409949d",
   "metadata": {},
   "source": [
    "client = MongoClient('localhost',27017)\n",
    "db = client[\"Medicare\"]\n",
    "collection = db[\"data_hypo_final\"]\n",
    "collection.insert_many(test.apply(lambda x: x.to_dict(), axis=1).to_list())"
   ]
  },
  {
   "cell_type": "raw",
   "id": "77d74a10-ff8b-4dc0-90ee-2841334fe4b6",
   "metadata": {},
   "source": [
    "sparkdf_hyp = spark.createDataFrame(test)"
   ]
  },
  {
   "cell_type": "raw",
   "id": "b9e31691-07f8-4997-8604-65d877ebc035",
   "metadata": {},
   "source": [
    "sparkdf_hyp.write.format(\"com.mongodb.spark.sql.DefaultSource\") \\\n",
    "    .option(\"database\",\"Medicare\") \\\n",
    "    .option(\"collection\",\"data_hypo_final\") \\\n",
    "    .mode(\"overwrite\").save()"
   ]
  },
  {
   "cell_type": "code",
   "execution_count": null,
   "id": "e506ef68-f722-47bb-89df-043e971f7fa3",
   "metadata": {},
   "outputs": [],
   "source": []
  },
  {
   "cell_type": "raw",
   "id": "83ebc617-cc33-440d-906c-b75ca45a15f2",
   "metadata": {},
   "source": [
    "client = MongoClient('mongodb://localhost:27017/')\n",
    "db = client[\"Medicare\"]\n",
    "data_mongo = db.Final_data\n",
    "test_ml = pd.DataFrame(list(data_mongo.find()))"
   ]
  },
  {
   "cell_type": "markdown",
   "id": "17a7bbf5-25d5-4ff2-9cc2-a9c1a2ce5fe2",
   "metadata": {},
   "source": [
    "### Missing values treatment"
   ]
  },
  {
   "cell_type": "code",
   "execution_count": null,
   "id": "993fe925-54a5-4894-a35d-014b35285028",
   "metadata": {},
   "outputs": [],
   "source": [
    "df_ml.isna().sum()"
   ]
  },
  {
   "cell_type": "code",
   "execution_count": null,
   "id": "b3145c94-3611-4650-b578-53f554a5bd8b",
   "metadata": {},
   "outputs": [],
   "source": [
    "print(\"Total values in Payments : \",df_ml.index.max())\n",
    "print(\"Missing values in Payments : \",df_ml[\"Total_payments\"].isna().sum())\n",
    "print(\"percentage of missing values\",df_ml[\"Total_payments\"].isna().sum()/df_ml.index.max()*100,\"%\")\n",
    "\n",
    "#Over 60% of payments  data is missing in total dataframe"
   ]
  },
  {
   "cell_type": "code",
   "execution_count": null,
   "id": "c1667fc2-269f-4c27-9219-0240a99400e3",
   "metadata": {},
   "outputs": [],
   "source": [
    "print(\"Total values in Fraud Payments : \",df_ml[df_ml.FRAUD == 1].count().head(1))\n",
    "print(\"Missing values in Payments : \",df_ml[df_ml[\"FRAUD\"] == 1][\"Total_payments\"].isna().sum()) \n",
    "print(\"percentage of missing values\",df_ml[df_ml[\"FRAUD\"] == 1][\"Total_payments\"].isna().sum()/df_ml[df_ml.FRAUD == 1].count().head(1)*100)\n",
    "\n",
    "#Over 50% of payments data is missing for fraud =1"
   ]
  },
  {
   "cell_type": "code",
   "execution_count": null,
   "id": "4dabb0e8-f5eb-423d-8f4f-00b8a3685449",
   "metadata": {},
   "outputs": [],
   "source": [
    "#Dropping payments attribute as more than 50% data is missing.\n",
    "\n",
    "#df_ml = test.drop(\"Total_payments\",axis =1)\n",
    "#df_ml = test.copy()"
   ]
  },
  {
   "cell_type": "code",
   "execution_count": null,
   "id": "ee5c93fb-373c-4634-b6b6-36fba60d30c0",
   "metadata": {},
   "outputs": [],
   "source": [
    "#Only one missing value in Speciality\n",
    "\n",
    "df_ml.isnull().sum().to_dict()"
   ]
  },
  {
   "cell_type": "code",
   "execution_count": null,
   "id": "f5aae15b-37d6-4d6a-a30a-91c746fcc2f3",
   "metadata": {},
   "outputs": [],
   "source": [
    "#FFilled missing value with most occuring speciality\n",
    "\n",
    "df_ml[\"Speciality\"].fillna(df_ml.Speciality.mode,inplace = True)\n",
    "df_ml[\"Speciality\"].isnull().sum()"
   ]
  },
  {
   "cell_type": "markdown",
   "id": "7a98eca9-8500-4b55-8995-bd228a3988ab",
   "metadata": {},
   "source": [
    "### Encoding"
   ]
  },
  {
   "cell_type": "raw",
   "id": "ad11fa77-0113-48ec-8bfe-e9c23fa643fa",
   "metadata": {},
   "source": [
    "From visualization in combined data : fraud categories were\n",
    "dentist : 278\n",
    "internal medicine : 213\n",
    "family practice : 129\n",
    "'general practice' : 53\n",
    "podiatry : 41\n",
    "psychiatry : 36\n",
    "neurology: 15\n",
    "\n",
    "From fruad data : has generalised types\n",
    "Nurse/nurses aide : 32k\n",
    "Family practice/GP : 2K\n",
    "Dentist : 1k\n",
    "owner operator : 3k\n",
    "heatlh care aid : 3k\n",
    "personal care provider : 2k"
   ]
  },
  {
   "cell_type": "code",
   "execution_count": null,
   "id": "19174466-5488-466c-8061-0d9050fc82fd",
   "metadata": {},
   "outputs": [],
   "source": [
    "print(\"Unique speciality throughout dataset:\" )\n",
    "print(df_ml[\"Speciality\"].value_counts().count())\n",
    "\n",
    "#speciality_cat = pd.DataFrame.from_dict(df_ml[\"Speciality\"].value_counts().to_dict(),orient='index',columns=[\"count\"])\n",
    "#print(df_ml[df_ml[\"FRAUD\"] == 1][\"Speciality\"].value_counts().to_dict())\n",
    "\n",
    "#df_ml[\"Speciality\"].value_counts().sort_values(ascending=False).head(60)"
   ]
  },
  {
   "cell_type": "code",
   "execution_count": null,
   "id": "1e4231b6-2382-4d0b-bbec-2b7d925032a3",
   "metadata": {},
   "outputs": [],
   "source": [
    "df_ml[\"Speciality\"].value_counts().to_dict()\n",
    "\n",
    "#req_cat = ['nurse practitioner','internal medicine','family practice','dentist','general practice','physician assistant','emergency medicine',\n",
    "          #'psychiatry']"
   ]
  },
  {
   "cell_type": "raw",
   "id": "74669c40-7697-42ef-9ff6-8a246e64c9e2",
   "metadata": {},
   "source": [
    "#Since speciality attribute is Nominal attribute with no relationship(ordiering,ranking)  between categories : One hot encoding is selected\n",
    "Selecting top 30 categories most frequent categories ,\n",
    "This covers more 95% categories for fraud in df_ml and fraud_dataframe(Updated.csv)"
   ]
  },
  {
   "cell_type": "code",
   "execution_count": null,
   "id": "f8e1b696-5bfe-41df-af71-bad99e521e77",
   "metadata": {},
   "outputs": [],
   "source": [
    "# make list with top 30 variables\n",
    "top_30 = [x for x in df_ml.Speciality.value_counts().sort_values(ascending=False).head(30).index]\n",
    "#top_30.append('anesthesiology')\n",
    "top_30"
   ]
  },
  {
   "cell_type": "code",
   "execution_count": null,
   "id": "72fb956c-099f-4df4-a492-6164e5c041c6",
   "metadata": {},
   "outputs": [],
   "source": [
    "# for all categorical variables we selected\n",
    "def top_x(df2,variable,top_x_labels):\n",
    "    for label in top_x_labels:\n",
    "        df2[variable+'_'+label] = np.where(df_ml[variable]==label,1,0)"
   ]
  },
  {
   "cell_type": "code",
   "execution_count": null,
   "id": "4012ec2f-9e88-43c7-a167-494e2c1a700b",
   "metadata": {},
   "outputs": [],
   "source": [
    "#encode Nighborhood into the 10 most frequent categories\n",
    "top_x(df_ml,'Speciality',top_30)\n",
    "# display data\n",
    "df_ml.tail()"
   ]
  },
  {
   "cell_type": "code",
   "execution_count": null,
   "id": "3e7a455d-ed53-40bc-a10e-1a4b0e5026d1",
   "metadata": {},
   "outputs": [],
   "source": [
    "df_ml[\"Speciality_nurse practitioner\"].value_counts()"
   ]
  },
  {
   "cell_type": "code",
   "execution_count": null,
   "id": "13d39c44-95a6-432b-bfd9-70b034740576",
   "metadata": {},
   "outputs": [],
   "source": [
    "df_ml[\"fraud\"] = df_ml[\"FRAUD\"]\n",
    "df_ml.drop(\"FRAUD\",axis = 1 ,inplace = True)"
   ]
  },
  {
   "cell_type": "code",
   "execution_count": null,
   "id": "3f7613d3-3086-463c-8007-669215452c40",
   "metadata": {},
   "outputs": [],
   "source": [
    "#Total columns 226 , fraud column at the end\n",
    "\n",
    "df_ml.columns"
   ]
  },
  {
   "cell_type": "code",
   "execution_count": null,
   "id": "94cd3844-a045-41fb-8a7c-dfcb19ad21fa",
   "metadata": {},
   "outputs": [],
   "source": [
    "df_ml.drop([\"Speciality\",\"Total_payments\"],axis =1,inplace=True)"
   ]
  },
  {
   "cell_type": "markdown",
   "id": "5385cda4-7538-4f09-ac16-525795e9298a",
   "metadata": {},
   "source": [
    "### Model building"
   ]
  },
  {
   "cell_type": "markdown",
   "id": "5535bd81-8773-4abe-ac7a-918cad5ec37b",
   "metadata": {},
   "source": [
    "### Splitting dataframe : stratified"
   ]
  },
  {
   "cell_type": "code",
   "execution_count": null,
   "id": "5e2a745d-118a-49e4-8f38-23880f4f5491",
   "metadata": {},
   "outputs": [],
   "source": [
    "ss = StratifiedShuffleSplit(n_splits=1,\n",
    "                            test_size=0.2,\n",
    "                            train_size=0.8,\n",
    "                            random_state=42)"
   ]
  },
  {
   "cell_type": "code",
   "execution_count": null,
   "id": "74b0f438-bc87-4f7f-95c4-34698e0aedf8",
   "metadata": {},
   "outputs": [],
   "source": [
    "X = df_ml.drop('fraud', axis=1)\n",
    "y = df_ml['fraud']"
   ]
  },
  {
   "cell_type": "code",
   "execution_count": null,
   "id": "80bf8bab-3040-46f7-9c9f-8d3337f5d96a",
   "metadata": {},
   "outputs": [],
   "source": [
    "for train_index, test_index in ss.split(X, y):\n",
    "    train_df = df_ml.iloc[train_index]\n",
    "    test_df = df_ml.iloc[test_index]"
   ]
  },
  {
   "cell_type": "code",
   "execution_count": null,
   "id": "c8be2991-7e50-4595-b867-eac23f79e90f",
   "metadata": {},
   "outputs": [],
   "source": []
  },
  {
   "cell_type": "code",
   "execution_count": null,
   "id": "44d282db-57ca-4927-9d85-c435dc4f73af",
   "metadata": {},
   "outputs": [],
   "source": []
  }
 ],
 "metadata": {
  "kernelspec": {
   "display_name": "Python 3 (ipykernel)",
   "language": "python",
   "name": "python3"
  },
  "language_info": {
   "codemirror_mode": {
    "name": "ipython",
    "version": 3
   },
   "file_extension": ".py",
   "mimetype": "text/x-python",
   "name": "python",
   "nbconvert_exporter": "python",
   "pygments_lexer": "ipython3",
   "version": "3.10.1"
  }
 },
 "nbformat": 4,
 "nbformat_minor": 5
}
