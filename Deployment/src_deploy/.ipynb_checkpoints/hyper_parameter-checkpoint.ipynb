{
 "cells": [
  {
   "cell_type": "code",
   "execution_count": 1,
   "id": "10094b68-cea1-43a1-b000-ef3fda9b4cf2",
   "metadata": {},
   "outputs": [],
   "source": [
    "import pandas as pd\n",
    "import numpy as np\n",
    "from scipy import stats\n",
    "\n",
    "#Data analysis\n",
    "import seaborn as sns\n",
    "import matplotlib.pyplot as plt\n",
    "\n",
    "from sklearn.preprocessing import RobustScaler, StandardScaler, MinMaxScaler,PowerTransformer\n",
    "from sklearn.model_selection import train_test_split, StratifiedShuffleSplit\n",
    "from sklearn.metrics import confusion_matrix, accuracy_score,classification_report\n",
    "from sklearn.model_selection import GridSearchCV\n",
    "from sklearn.ensemble import AdaBoostClassifier\n",
    "\n",
    "#Sampling\n",
    "from collections import Counter\n",
    "from imblearn.under_sampling import RandomUnderSampler,NearMiss,NeighbourhoodCleaningRule,ClusterCentroids,CondensedNearestNeighbour\n",
    "from imblearn.under_sampling import OneSidedSelection,AllKNN,EditedNearestNeighbours,RepeatedEditedNearestNeighbours,TomekLinks\n",
    "from imblearn.combine import SMOTETomek,SMOTEENN\n",
    "from imblearn.over_sampling import ADASYN \n",
    "\n",
    "#Visualizing sampling output, dimensionality reduction\n",
    "from sklearn.manifold import TSNE\n",
    "from sklearn.decomposition import PCA\n",
    "\n",
    "# For model buidling\n",
    "from sklearn.ensemble import RandomForestClassifier, GradientBoostingClassifier\n",
    "from xgboost import XGBClassifier\n",
    "from catboost import CatBoostClassifier\n",
    "\n",
    "# Custom module for prediction and model evalution\n",
    "from utils import predict_and_evaluate\n",
    "import joblib\n",
    "\n",
    "from sklearn.neural_network import MLPClassifier\n",
    "from sklearn import linear_model"
   ]
  },
  {
   "cell_type": "code",
   "execution_count": 2,
   "id": "e48efd0e",
   "metadata": {
    "tags": []
   },
   "outputs": [],
   "source": [
    "df_ml = pd.read_csv(\"../data/hyp_pay_fill_0.1 -1.csv\")"
   ]
  },
  {
   "cell_type": "code",
   "execution_count": 3,
   "id": "17a753ca-fc51-403b-9559-2d68005bcd31",
   "metadata": {
    "tags": []
   },
   "outputs": [],
   "source": [
    "#df_ml.drop([\"Unnamed: 0\",\"State\",\"NPI\"],axis =1,inplace= True)\n",
    "df_ml.drop([\"Unnamed: 0.1\",\"Unnamed: 0\",\"State\",\"NPI\"],axis =1,inplace= True)\n",
    "df_ml = df_ml.round(2)"
   ]
  },
  {
   "cell_type": "code",
   "execution_count": 4,
   "id": "d527f134-3b92-46b8-9000-d160f70703ea",
   "metadata": {},
   "outputs": [],
   "source": [
    "#df_ml.to_csv(\"ml_noNPI.csv\")"
   ]
  },
  {
   "cell_type": "code",
   "execution_count": 5,
   "id": "2b3e7995-52fc-4826-86e2-cabb126e703a",
   "metadata": {},
   "outputs": [],
   "source": [
    "df_ml[\"fraud\"] = df_ml[\"FRAUD\"]\n",
    "df_ml.drop(\"FRAUD\",axis=1,inplace = True)"
   ]
  },
  {
   "cell_type": "code",
   "execution_count": 6,
   "id": "a50d2bd8-e31a-4f7a-959a-9c1710bc789c",
   "metadata": {},
   "outputs": [
    {
     "data": {
      "text/plain": [
       "Speciality                    1\n",
       "max_Tot_Drug_Cst              0\n",
       "sum_Tot_Drug_Cst              0\n",
       "avg_Tot_Drug_Cst              0\n",
       "max_Total_claims              0\n",
       "                             ..\n",
       "Tramadol Hcl_Tot_Drug_Cst     0\n",
       "Tramadol Hcl_Tot_Clms         0\n",
       "Tramadol Hcl_Tot_Day_Suply    0\n",
       "Total_payments                0\n",
       "fraud                         0\n",
       "Length: 120, dtype: int64"
      ]
     },
     "execution_count": 6,
     "metadata": {},
     "output_type": "execute_result"
    }
   ],
   "source": [
    "df_ml.isna().sum()"
   ]
  },
  {
   "cell_type": "markdown",
   "id": "064a6245",
   "metadata": {},
   "source": [
    "### Missing value treatment"
   ]
  },
  {
   "cell_type": "code",
   "execution_count": 7,
   "id": "4dbd1f8a",
   "metadata": {},
   "outputs": [],
   "source": [
    "# df_ml[\"Total_payments\"].isnull().sum()"
   ]
  },
  {
   "cell_type": "code",
   "execution_count": 8,
   "id": "5e2216e8",
   "metadata": {},
   "outputs": [],
   "source": [
    "# df_ml[\"Total_payments\"].describe()"
   ]
  },
  {
   "cell_type": "code",
   "execution_count": 9,
   "id": "14125cdc",
   "metadata": {},
   "outputs": [],
   "source": [
    "# sns.boxplot(df_ml[\"Total_payments\"])"
   ]
  },
  {
   "cell_type": "markdown",
   "id": "621b11f5",
   "metadata": {},
   "source": [
    "### Scaling"
   ]
  },
  {
   "cell_type": "code",
   "execution_count": 10,
   "id": "87237804",
   "metadata": {},
   "outputs": [
    {
     "data": {
      "text/plain": [
       "Index(['Speciality', 'max_Tot_Drug_Cst', 'sum_Tot_Drug_Cst',\n",
       "       'avg_Tot_Drug_Cst', 'max_Total_claims', 'sum_Total_claims',\n",
       "       'avg_Total_claims', 'max_Tot_Day_Suply', 'sum_Tot_Day_Suply',\n",
       "       'avg_Tot_Day_Suply',\n",
       "       ...\n",
       "       'Lisinopril/Hydrochlorothiazide_Tot_Day_Suply', 'Diazepam_Tot_Clms',\n",
       "       'Diazepam_Tot_Day_Suply', 'Pen Needle, Diabetic_Tot_Drug_Cst',\n",
       "       'Pen Needle, Diabetic_Tot_Day_Suply', 'Tramadol Hcl_Tot_Drug_Cst',\n",
       "       'Tramadol Hcl_Tot_Clms', 'Tramadol Hcl_Tot_Day_Suply', 'Total_payments',\n",
       "       'fraud'],\n",
       "      dtype='object', length=120)"
      ]
     },
     "execution_count": 10,
     "metadata": {},
     "output_type": "execute_result"
    }
   ],
   "source": [
    "df_ml.columns"
   ]
  },
  {
   "cell_type": "code",
   "execution_count": 11,
   "id": "287325b7",
   "metadata": {},
   "outputs": [
    {
     "data": {
      "text/plain": [
       "['max_Tot_Drug_Cst',\n",
       " 'sum_Tot_Drug_Cst',\n",
       " 'avg_Tot_Drug_Cst',\n",
       " 'max_Total_claims',\n",
       " 'sum_Total_claims',\n",
       " 'avg_Total_claims',\n",
       " 'max_Tot_Day_Suply',\n",
       " 'sum_Tot_Day_Suply',\n",
       " 'avg_Tot_Day_Suply',\n",
       " 'max_Tot_30day_Fills',\n",
       " 'sum_Tot_30day_Fills',\n",
       " 'avg_Tot_30day_Fills',\n",
       " 'claim_max-mean',\n",
       " 'supply_max-mean',\n",
       " 'drug_max-mean',\n",
       " 'Total_payments']"
      ]
     },
     "execution_count": 11,
     "metadata": {},
     "output_type": "execute_result"
    }
   ],
   "source": [
    "scale_features = df_ml.columns.to_list()[1:16]\n",
    "scale_features.append(\"Total_payments\")\n",
    "scale_features"
   ]
  },
  {
   "cell_type": "code",
   "execution_count": 12,
   "id": "8bfba15e-9af9-400e-ac6a-2d8b703603e8",
   "metadata": {},
   "outputs": [],
   "source": [
    "### Power transformer scaler: \n",
    "# since all features has positive skew, log scale will help to make distribution normal"
   ]
  },
  {
   "cell_type": "code",
   "execution_count": 13,
   "id": "4ea58ce9",
   "metadata": {},
   "outputs": [],
   "source": [
    "pt = PowerTransformer()"
   ]
  },
  {
   "cell_type": "code",
   "execution_count": 14,
   "id": "f53a1077",
   "metadata": {},
   "outputs": [],
   "source": [
    "df_pscale = df_ml.copy()\n",
    "df_pscale[scale_features] = pd.DataFrame(\n",
    "    pt.fit_transform(df_pscale.loc[:,scale_features]), columns=scale_features\n",
    ")"
   ]
  },
  {
   "cell_type": "code",
   "execution_count": 15,
   "id": "05cedccb",
   "metadata": {},
   "outputs": [
    {
     "data": {
      "image/png": "[encoded data removed]",
      "text/plain": [
       "<Figure size 1500x1000 with 16 Axes>"
      ]
     },
     "metadata": {},
     "output_type": "display_data"
    }
   ],
   "source": [
    "df_pscale[scale_features].hist(figsize=(15, 10));"
   ]
  },
  {
   "cell_type": "code",
   "execution_count": 16,
   "id": "5c3bcef9-0779-41f1-861a-da28bf84dd02",
   "metadata": {},
   "outputs": [],
   "source": [
    "#df_pscale.loc[:,scale_features].boxplot(figsize=(20, 5));\n",
    "#plt.xticks(rotation = 45);\n",
    "\n",
    "\n",
    "# #outliers in avg_total drug cost, avg_total daily supply, claim max mean\n",
    "# plt.figure(figsize=(20,10));\n",
    "# sns.boxplot(x=\"variable\", y=\"value\", data=pd.melt(df_pscale[scale_features]));\n",
    "# plt.xticks(rotation = 45);"
   ]
  },
  {
   "cell_type": "markdown",
   "id": "1dd7750b",
   "metadata": {},
   "source": [
    "#### Outlier removal"
   ]
  },
  {
   "cell_type": "code",
   "execution_count": 17,
   "id": "cf999493-0910-494d-95a4-dce9e2030a06",
   "metadata": {},
   "outputs": [],
   "source": [
    "# #if outlier removal happens now, already unbalanced target may get more balanced\n",
    "\n",
    "# z = np.abs(stats.zscore(df_pscale[scale_features]))\n",
    "# df_filtered = df_pscale[(z < 3).all(axis=1)]\n",
    "# print(\"Before outlier removal\",df_pscale.shape)\n",
    "# print(\"Remaining after outlier removal\",df_filtered.shape)\n",
    "# sns.set(style=\"darkgrid\")\n",
    "# ax = sns.countplot(x=\"fraud\", data=df_filtered)"
   ]
  },
  {
   "cell_type": "code",
   "execution_count": 18,
   "id": "3a5f6512-5511-4fa9-922a-d58dae5b7da5",
   "metadata": {},
   "outputs": [],
   "source": [
    "# ### Standard scaler : \n",
    "#     centering : sub mean from each value\n",
    "#     scaling : divide by std\n",
    "#     not suitable for skewed dist,as it will not decrease the skewness lets see it in action"
   ]
  },
  {
   "cell_type": "code",
   "execution_count": 19,
   "id": "f8023e36",
   "metadata": {},
   "outputs": [],
   "source": [
    "# ss = StandardScaler()"
   ]
  },
  {
   "cell_type": "code",
   "execution_count": 20,
   "id": "37a15299",
   "metadata": {},
   "outputs": [],
   "source": [
    "# #No change in skewness\n",
    "\n",
    "# df_stdscale =  df_ml.copy()\n",
    "# df_stdscale[scale_features] = pd.DataFrame(\n",
    "#     ss.fit_transform(df_stdscale.loc[:,scale_features]), columns=scale_features\n",
    "# )"
   ]
  },
  {
   "cell_type": "code",
   "execution_count": 21,
   "id": "b6823fee",
   "metadata": {},
   "outputs": [],
   "source": [
    "# df_stdscale[scale_features].hist(figsize=(15, 10));"
   ]
  },
  {
   "cell_type": "code",
   "execution_count": 22,
   "id": "3a7845fe",
   "metadata": {},
   "outputs": [],
   "source": [
    "# #outliers in avg_total drug cost, avg_total daily supply, claim max mean\n",
    "# plt.figure(figsize=(20,10));\n",
    "# sns.boxplot(x=\"variable\", y=\"value\", data=pd.melt(df_stdscale[scale_features]));\n",
    "# plt.xticks(rotation = 45);"
   ]
  },
  {
   "cell_type": "code",
   "execution_count": 23,
   "id": "b1d240dd-0303-4ccb-bfeb-240f037211f8",
   "metadata": {},
   "outputs": [],
   "source": [
    "# ### Robust scaler : \n",
    "#     robust to outliers\n",
    "    "
   ]
  },
  {
   "cell_type": "code",
   "execution_count": 24,
   "id": "45da23c7",
   "metadata": {},
   "outputs": [],
   "source": [
    "# rb = RobustScaler()"
   ]
  },
  {
   "cell_type": "code",
   "execution_count": 25,
   "id": "403f18e8",
   "metadata": {},
   "outputs": [],
   "source": [
    "#No change in skewness again\n",
    "\n",
    "# df_rbscale =  df_ml.copy()\n",
    "# df_rbscale[scale_features] = pd.DataFrame(\n",
    "#     rb.fit_transform(df_rbscale.loc[:,scale_features]), columns=scale_features\n",
    "# )"
   ]
  },
  {
   "cell_type": "code",
   "execution_count": 26,
   "id": "926b0fe0",
   "metadata": {},
   "outputs": [],
   "source": [
    "# df_rbscale[scale_features].hist(figsize=(15, 10));"
   ]
  },
  {
   "cell_type": "code",
   "execution_count": 27,
   "id": "97a0964b",
   "metadata": {},
   "outputs": [],
   "source": [
    "# #outliers in avg_total drug cost, avg_total daily supply, claim max mean\n",
    "# plt.figure(figsize=(20,10));\n",
    "# sns.boxplot(x=\"variable\", y=\"value\", data=pd.melt(df_rbscale[scale_features]));\n",
    "# plt.xticks(rotation = 45);"
   ]
  },
  {
   "cell_type": "markdown",
   "id": "c9282e63",
   "metadata": {},
   "source": [
    "### Scaler assignment"
   ]
  },
  {
   "cell_type": "raw",
   "id": "bc560f0c-672a-4307-9c6f-38947a7e7158",
   "metadata": {},
   "source": [
    "#copying scaled output to new variable for further processiing\n",
    "print(\"scaling values\")\n",
    "df_scale = df_pscale.copy()"
   ]
  },
  {
   "cell_type": "code",
   "execution_count": 28,
   "id": "b0f6a67e",
   "metadata": {},
   "outputs": [],
   "source": [
    "# df_scale.head(1)\n",
    "df_scale = df_ml.copy()"
   ]
  },
  {
   "cell_type": "code",
   "execution_count": 29,
   "id": "ae579899",
   "metadata": {
    "tags": []
   },
   "outputs": [],
   "source": [
    "#Only one missing value in Speciality\n",
    "\n",
    "# df_scale.isnull().sum().to_dict()"
   ]
  },
  {
   "cell_type": "code",
   "execution_count": 30,
   "id": "b8c42ced-8b06-47fd-9925-2dc75e4f399b",
   "metadata": {},
   "outputs": [
    {
     "data": {
      "text/plain": [
       "0"
      ]
     },
     "execution_count": 30,
     "metadata": {},
     "output_type": "execute_result"
    }
   ],
   "source": [
    "#FFilled missing value with most occuring speciality\n",
    "\n",
    "df_scale[\"Speciality\"].fillna(df_scale.Speciality.mode,inplace = True)\n",
    "df_scale[\"Speciality\"].isnull().sum()"
   ]
  },
  {
   "cell_type": "code",
   "execution_count": 31,
   "id": "ad0753ca-763a-48a3-87da-cb00dd7173ad",
   "metadata": {},
   "outputs": [],
   "source": [
    "# From visualization in combined data : fraud categories were\n",
    "# dentist : 278\n",
    "# internal medicine : 213\n",
    "# family practice : 129\n",
    "# 'general practice' : 53\n",
    "# podiatry : 41\n",
    "# psychiatry : 36\n",
    "# neurology: 15\n",
    "\n",
    "# From fruad data : has generalised types\n",
    "# Nurse/nurses aide : 32k\n",
    "# Family practice/GP : 2K\n",
    "# Dentist : 1k\n",
    "# owner operator : 3k\n",
    "# heatlh care aid : 3k\n",
    "# personal care provider : 2k"
   ]
  },
  {
   "cell_type": "code",
   "execution_count": 32,
   "id": "103d0618-cb60-4916-ada0-ae6ef2e00e3d",
   "metadata": {},
   "outputs": [],
   "source": [
    "# print(\"Unique speciality throughout dataset:\" )\n",
    "# print(df_scale[\"Speciality\"].value_counts().count())\n",
    "\n",
    "#speciality_cat = pd.DataFrame.from_dict(df_ml[\"Speciality\"].value_counts().to_dict(),orient='index',columns=[\"count\"])\n",
    "#print(df_ml[df_ml[\"FRAUD\"] == 1][\"Speciality\"].value_counts().to_dict())\n",
    "\n",
    "#df_ml[\"Speciality\"].value_counts().sort_values(ascending=False).head(60)"
   ]
  },
  {
   "cell_type": "code",
   "execution_count": 33,
   "id": "907d0e04-8a1a-48a5-91db-e2da70bc088c",
   "metadata": {
    "tags": []
   },
   "outputs": [],
   "source": [
    "# df_scale[\"Speciality\"].value_counts().to_dict()\n",
    "\n",
    "#req_cat = ['nurse practitioner','internal medicine','family practice','dentist','general practice','physician assistant','emergency medicine',\n",
    "          #'psychiatry']"
   ]
  },
  {
   "cell_type": "code",
   "execution_count": 34,
   "id": "b9f5cd04-71b0-4523-8f15-aaf08bb91242",
   "metadata": {
    "tags": []
   },
   "outputs": [
    {
     "data": {
      "text/plain": [
       "['nurse practitioner',\n",
       " 'internal medicine',\n",
       " 'family practice',\n",
       " 'dentist',\n",
       " 'physician assistant',\n",
       " 'emergency medicine',\n",
       " 'student in an organized health care education/training program',\n",
       " 'optometry',\n",
       " 'obstetrics & gynecology',\n",
       " 'pharmacist',\n",
       " 'psychiatry',\n",
       " 'cardiology',\n",
       " 'orthopedic surgery',\n",
       " 'ophthalmology',\n",
       " 'general surgery',\n",
       " 'gastroenterology',\n",
       " 'neurology',\n",
       " 'podiatry',\n",
       " 'dermatology',\n",
       " 'hospitalist',\n",
       " 'psychiatry & neurology',\n",
       " 'urology',\n",
       " 'pulmonary disease',\n",
       " 'otolaryngology',\n",
       " 'nephrology',\n",
       " 'hematology-oncology',\n",
       " 'general practice',\n",
       " 'physical medicine and rehabilitation',\n",
       " 'endocrinology',\n",
       " 'oral surgery (dentist only)']"
      ]
     },
     "execution_count": 34,
     "metadata": {},
     "output_type": "execute_result"
    }
   ],
   "source": [
    "# make list with top 30 variables\n",
    "top_30 = [x for x in df_scale.Speciality.value_counts().sort_values(ascending=False).head(30).index]\n",
    "#top_30.append('anesthesiology')\n",
    "top_30"
   ]
  },
  {
   "cell_type": "code",
   "execution_count": 35,
   "id": "bd1f3f89-8f20-4a5b-bcaf-6a578866bd58",
   "metadata": {},
   "outputs": [],
   "source": [
    "# for all categorical variables we selected\n",
    "def top_x(df2,variable,top_x_labels):\n",
    "    for label in top_x_labels:\n",
    "        df2[variable+'_'+label] = np.where(df_scale[variable]==label,1,0)"
   ]
  },
  {
   "cell_type": "raw",
   "id": "7dc897c3-0b68-4612-8f9b-b96470fbf556",
   "metadata": {},
   "source": [
    "#encode Nighborhood into the 10 most frequent categories\n",
    "print(\"encoding done\")\n",
    "\n",
    "top_x(df_scale,'Speciality',top_30)\n",
    "# display data\n",
    "df_scale.tail(2)"
   ]
  },
  {
   "cell_type": "raw",
   "id": "57a771f3-85b8-437f-9a9e-e67f9bd776b1",
   "metadata": {},
   "source": [
    "df_scale[\"Speciality_nurse practitioner\"].value_counts()"
   ]
  },
  {
   "cell_type": "code",
   "execution_count": 36,
   "id": "b82ad823-658e-481f-8718-ef9496a7325f",
   "metadata": {},
   "outputs": [
    {
     "data": {
      "text/plain": [
       "Index(['Speciality', 'max_Tot_Drug_Cst', 'sum_Tot_Drug_Cst',\n",
       "       'avg_Tot_Drug_Cst', 'max_Total_claims', 'sum_Total_claims',\n",
       "       'avg_Total_claims', 'max_Tot_Day_Suply', 'sum_Tot_Day_Suply',\n",
       "       'avg_Tot_Day_Suply',\n",
       "       ...\n",
       "       'Lisinopril/Hydrochlorothiazide_Tot_Day_Suply', 'Diazepam_Tot_Clms',\n",
       "       'Diazepam_Tot_Day_Suply', 'Pen Needle, Diabetic_Tot_Drug_Cst',\n",
       "       'Pen Needle, Diabetic_Tot_Day_Suply', 'Tramadol Hcl_Tot_Drug_Cst',\n",
       "       'Tramadol Hcl_Tot_Clms', 'Tramadol Hcl_Tot_Day_Suply', 'Total_payments',\n",
       "       'fraud'],\n",
       "      dtype='object', length=120)"
      ]
     },
     "execution_count": 36,
     "metadata": {},
     "output_type": "execute_result"
    }
   ],
   "source": [
    "#Total columns 226 , fraud column at the end\n",
    "\n",
    "df_scale.columns"
   ]
  },
  {
   "cell_type": "raw",
   "id": "fee56430-7a81-4ec5-8c5c-c1e2e019e16b",
   "metadata": {},
   "source": [
    "df_scale.drop(\"Speciality\",axis =1,inplace=True)"
   ]
  },
  {
   "cell_type": "code",
   "execution_count": 37,
   "id": "e0fa3e08-2ad4-43e6-acfc-708811a9b2ef",
   "metadata": {},
   "outputs": [],
   "source": [
    "X = df_scale.drop('fraud', axis=1)\n",
    "y = df_scale['fraud']"
   ]
  },
  {
   "cell_type": "code",
   "execution_count": 38,
   "id": "39252246-1eb9-43a6-a6e3-5f9bff8d23ee",
   "metadata": {},
   "outputs": [
    {
     "name": "stdout",
     "output_type": "stream",
     "text": [
      "Stratified split done\n"
     ]
    }
   ],
   "source": [
    "#obj creation stratifiedsplit\n",
    "print(\"Stratified split done\")\n",
    "ss = StratifiedShuffleSplit(n_splits=1,\n",
    "                            test_size=0.2,\n",
    "                            train_size=0.8,\n",
    "                            random_state=42)"
   ]
  },
  {
   "cell_type": "code",
   "execution_count": 39,
   "id": "b20d53b9-7686-465b-98a6-1b19fe0c39e8",
   "metadata": {},
   "outputs": [],
   "source": [
    "#Strattified split\n",
    "\n",
    "for train_index, test_index in ss.split(X, y):\n",
    "    train_df = df_scale.iloc[train_index]\n",
    "    test_df = df_scale.iloc[test_index]"
   ]
  },
  {
   "cell_type": "code",
   "execution_count": 42,
   "id": "38cdd7e5-4087-463c-b5ee-b1736d7b16a0",
   "metadata": {},
   "outputs": [
    {
     "data": {
      "text/plain": [
       "(772044, 120)"
      ]
     },
     "execution_count": 42,
     "metadata": {},
     "output_type": "execute_result"
    }
   ],
   "source": [
    "train_df.shape"
   ]
  },
  {
   "cell_type": "code",
   "execution_count": 43,
   "id": "f39ba381-1702-4214-87ee-66bc79416bc0",
   "metadata": {},
   "outputs": [],
   "source": [
    "#train_df.to_csv(\"../data/deployment_ready.csv\")"
   ]
  },
  {
   "cell_type": "code",
   "execution_count": 45,
   "id": "e1a90435-7ae0-4c60-b7d2-44106201e08c",
   "metadata": {},
   "outputs": [
    {
     "data": {
      "text/plain": [
       "(193012, 120)"
      ]
     },
     "execution_count": 45,
     "metadata": {},
     "output_type": "execute_result"
    }
   ],
   "source": [
    "test_df.shape"
   ]
  },
  {
   "cell_type": "code",
   "execution_count": 46,
   "id": "5ccc6c62-2f22-404e-89d7-72158c36e3c4",
   "metadata": {},
   "outputs": [
    {
     "data": {
      "text/html": [
       "<div>\n",
       "<style scoped>\n",
       "    .dataframe tbody tr th:only-of-type {\n",
       "        vertical-align: middle;\n",
       "    }\n",
       "\n",
       "    .dataframe tbody tr th {\n",
       "        vertical-align: top;\n",
       "    }\n",
       "\n",
       "    .dataframe thead th {\n",
       "        text-align: right;\n",
       "    }\n",
       "</style>\n",
       "<table border=\"1\" class=\"dataframe\">\n",
       "  <thead>\n",
       "    <tr style=\"text-align: right;\">\n",
       "      <th></th>\n",
       "      <th>Speciality</th>\n",
       "      <th>max_Tot_Drug_Cst</th>\n",
       "      <th>sum_Tot_Drug_Cst</th>\n",
       "      <th>avg_Tot_Drug_Cst</th>\n",
       "      <th>max_Total_claims</th>\n",
       "      <th>sum_Total_claims</th>\n",
       "      <th>avg_Total_claims</th>\n",
       "      <th>max_Tot_Day_Suply</th>\n",
       "      <th>sum_Tot_Day_Suply</th>\n",
       "      <th>avg_Tot_Day_Suply</th>\n",
       "      <th>...</th>\n",
       "      <th>Lisinopril/Hydrochlorothiazide_Tot_Day_Suply</th>\n",
       "      <th>Diazepam_Tot_Clms</th>\n",
       "      <th>Diazepam_Tot_Day_Suply</th>\n",
       "      <th>Pen Needle, Diabetic_Tot_Drug_Cst</th>\n",
       "      <th>Pen Needle, Diabetic_Tot_Day_Suply</th>\n",
       "      <th>Tramadol Hcl_Tot_Drug_Cst</th>\n",
       "      <th>Tramadol Hcl_Tot_Clms</th>\n",
       "      <th>Tramadol Hcl_Tot_Day_Suply</th>\n",
       "      <th>Total_payments</th>\n",
       "      <th>fraud</th>\n",
       "    </tr>\n",
       "  </thead>\n",
       "  <tbody>\n",
       "    <tr>\n",
       "      <th>237749</th>\n",
       "      <td>physician assistant</td>\n",
       "      <td>310.22</td>\n",
       "      <td>470.20</td>\n",
       "      <td>235.10</td>\n",
       "      <td>22</td>\n",
       "      <td>38</td>\n",
       "      <td>19.00</td>\n",
       "      <td>154</td>\n",
       "      <td>250</td>\n",
       "      <td>125.00</td>\n",
       "      <td>...</td>\n",
       "      <td>0</td>\n",
       "      <td>0</td>\n",
       "      <td>0</td>\n",
       "      <td>0.0</td>\n",
       "      <td>0</td>\n",
       "      <td>0.00</td>\n",
       "      <td>0</td>\n",
       "      <td>0</td>\n",
       "      <td>5100.38</td>\n",
       "      <td>0</td>\n",
       "    </tr>\n",
       "    <tr>\n",
       "      <th>916253</th>\n",
       "      <td>physician assistant</td>\n",
       "      <td>32657.56</td>\n",
       "      <td>64117.39</td>\n",
       "      <td>5828.85</td>\n",
       "      <td>107</td>\n",
       "      <td>411</td>\n",
       "      <td>37.36</td>\n",
       "      <td>2208</td>\n",
       "      <td>12659</td>\n",
       "      <td>1150.82</td>\n",
       "      <td>...</td>\n",
       "      <td>0</td>\n",
       "      <td>0</td>\n",
       "      <td>0</td>\n",
       "      <td>0.0</td>\n",
       "      <td>0</td>\n",
       "      <td>0.00</td>\n",
       "      <td>0</td>\n",
       "      <td>0</td>\n",
       "      <td>1928.56</td>\n",
       "      <td>0</td>\n",
       "    </tr>\n",
       "    <tr>\n",
       "      <th>844288</th>\n",
       "      <td>cardiology</td>\n",
       "      <td>665.61</td>\n",
       "      <td>665.61</td>\n",
       "      <td>665.61</td>\n",
       "      <td>11</td>\n",
       "      <td>11</td>\n",
       "      <td>11.00</td>\n",
       "      <td>510</td>\n",
       "      <td>510</td>\n",
       "      <td>510.00</td>\n",
       "      <td>...</td>\n",
       "      <td>0</td>\n",
       "      <td>0</td>\n",
       "      <td>0</td>\n",
       "      <td>0.0</td>\n",
       "      <td>0</td>\n",
       "      <td>0.00</td>\n",
       "      <td>0</td>\n",
       "      <td>0</td>\n",
       "      <td>4156.72</td>\n",
       "      <td>0</td>\n",
       "    </tr>\n",
       "    <tr>\n",
       "      <th>514724</th>\n",
       "      <td>internal medicine</td>\n",
       "      <td>21731.22</td>\n",
       "      <td>96799.28</td>\n",
       "      <td>1125.57</td>\n",
       "      <td>333</td>\n",
       "      <td>4500</td>\n",
       "      <td>52.33</td>\n",
       "      <td>27875</td>\n",
       "      <td>286433</td>\n",
       "      <td>3330.62</td>\n",
       "      <td>...</td>\n",
       "      <td>2317</td>\n",
       "      <td>52</td>\n",
       "      <td>1450</td>\n",
       "      <td>0.0</td>\n",
       "      <td>0</td>\n",
       "      <td>331.98</td>\n",
       "      <td>80</td>\n",
       "      <td>1337</td>\n",
       "      <td>169.82</td>\n",
       "      <td>0</td>\n",
       "    </tr>\n",
       "    <tr>\n",
       "      <th>178288</th>\n",
       "      <td>nurse practitioner</td>\n",
       "      <td>67233.60</td>\n",
       "      <td>330081.60</td>\n",
       "      <td>17372.72</td>\n",
       "      <td>113</td>\n",
       "      <td>576</td>\n",
       "      <td>30.32</td>\n",
       "      <td>7729</td>\n",
       "      <td>30088</td>\n",
       "      <td>1583.58</td>\n",
       "      <td>...</td>\n",
       "      <td>0</td>\n",
       "      <td>0</td>\n",
       "      <td>0</td>\n",
       "      <td>0.0</td>\n",
       "      <td>0</td>\n",
       "      <td>0.00</td>\n",
       "      <td>0</td>\n",
       "      <td>0</td>\n",
       "      <td>3654.19</td>\n",
       "      <td>0</td>\n",
       "    </tr>\n",
       "    <tr>\n",
       "      <th>...</th>\n",
       "      <td>...</td>\n",
       "      <td>...</td>\n",
       "      <td>...</td>\n",
       "      <td>...</td>\n",
       "      <td>...</td>\n",
       "      <td>...</td>\n",
       "      <td>...</td>\n",
       "      <td>...</td>\n",
       "      <td>...</td>\n",
       "      <td>...</td>\n",
       "      <td>...</td>\n",
       "      <td>...</td>\n",
       "      <td>...</td>\n",
       "      <td>...</td>\n",
       "      <td>...</td>\n",
       "      <td>...</td>\n",
       "      <td>...</td>\n",
       "      <td>...</td>\n",
       "      <td>...</td>\n",
       "      <td>...</td>\n",
       "      <td>...</td>\n",
       "    </tr>\n",
       "    <tr>\n",
       "      <th>722593</th>\n",
       "      <td>orthopedic surgery</td>\n",
       "      <td>6523.51</td>\n",
       "      <td>26407.63</td>\n",
       "      <td>1148.16</td>\n",
       "      <td>255</td>\n",
       "      <td>1392</td>\n",
       "      <td>60.52</td>\n",
       "      <td>6930</td>\n",
       "      <td>34438</td>\n",
       "      <td>1497.30</td>\n",
       "      <td>...</td>\n",
       "      <td>0</td>\n",
       "      <td>0</td>\n",
       "      <td>0</td>\n",
       "      <td>0.0</td>\n",
       "      <td>0</td>\n",
       "      <td>860.35</td>\n",
       "      <td>173</td>\n",
       "      <td>2588</td>\n",
       "      <td>3060.98</td>\n",
       "      <td>0</td>\n",
       "    </tr>\n",
       "    <tr>\n",
       "      <th>78979</th>\n",
       "      <td>anesthesiology</td>\n",
       "      <td>436.96</td>\n",
       "      <td>1093.37</td>\n",
       "      <td>182.23</td>\n",
       "      <td>19</td>\n",
       "      <td>90</td>\n",
       "      <td>15.00</td>\n",
       "      <td>457</td>\n",
       "      <td>2453</td>\n",
       "      <td>408.83</td>\n",
       "      <td>...</td>\n",
       "      <td>0</td>\n",
       "      <td>0</td>\n",
       "      <td>0</td>\n",
       "      <td>0.0</td>\n",
       "      <td>0</td>\n",
       "      <td>0.00</td>\n",
       "      <td>0</td>\n",
       "      <td>0</td>\n",
       "      <td>106.24</td>\n",
       "      <td>0</td>\n",
       "    </tr>\n",
       "    <tr>\n",
       "      <th>874339</th>\n",
       "      <td>orthopedic surgery</td>\n",
       "      <td>1020.67</td>\n",
       "      <td>1589.30</td>\n",
       "      <td>227.04</td>\n",
       "      <td>76</td>\n",
       "      <td>164</td>\n",
       "      <td>23.43</td>\n",
       "      <td>1192</td>\n",
       "      <td>2034</td>\n",
       "      <td>290.57</td>\n",
       "      <td>...</td>\n",
       "      <td>0</td>\n",
       "      <td>0</td>\n",
       "      <td>0</td>\n",
       "      <td>0.0</td>\n",
       "      <td>0</td>\n",
       "      <td>52.52</td>\n",
       "      <td>23</td>\n",
       "      <td>211</td>\n",
       "      <td>7432.67</td>\n",
       "      <td>0</td>\n",
       "    </tr>\n",
       "    <tr>\n",
       "      <th>879174</th>\n",
       "      <td>dentist</td>\n",
       "      <td>189.04</td>\n",
       "      <td>543.10</td>\n",
       "      <td>135.78</td>\n",
       "      <td>42</td>\n",
       "      <td>123</td>\n",
       "      <td>30.75</td>\n",
       "      <td>695</td>\n",
       "      <td>1220</td>\n",
       "      <td>305.00</td>\n",
       "      <td>...</td>\n",
       "      <td>0</td>\n",
       "      <td>0</td>\n",
       "      <td>0</td>\n",
       "      <td>0.0</td>\n",
       "      <td>0</td>\n",
       "      <td>0.00</td>\n",
       "      <td>0</td>\n",
       "      <td>0</td>\n",
       "      <td>75.52</td>\n",
       "      <td>0</td>\n",
       "    </tr>\n",
       "    <tr>\n",
       "      <th>19879</th>\n",
       "      <td>pharmacist</td>\n",
       "      <td>8165.98</td>\n",
       "      <td>8165.98</td>\n",
       "      <td>8165.98</td>\n",
       "      <td>48</td>\n",
       "      <td>48</td>\n",
       "      <td>48.00</td>\n",
       "      <td>48</td>\n",
       "      <td>48</td>\n",
       "      <td>48.00</td>\n",
       "      <td>...</td>\n",
       "      <td>0</td>\n",
       "      <td>0</td>\n",
       "      <td>0</td>\n",
       "      <td>0.0</td>\n",
       "      <td>0</td>\n",
       "      <td>0.00</td>\n",
       "      <td>0</td>\n",
       "      <td>0</td>\n",
       "      <td>296009.18</td>\n",
       "      <td>0</td>\n",
       "    </tr>\n",
       "  </tbody>\n",
       "</table>\n",
       "<p>772044 rows × 120 columns</p>\n",
       "</div>"
      ],
      "text/plain": [
       "                 Speciality  max_Tot_Drug_Cst  sum_Tot_Drug_Cst  \\\n",
       "237749  physician assistant            310.22            470.20   \n",
       "916253  physician assistant          32657.56          64117.39   \n",
       "844288           cardiology            665.61            665.61   \n",
       "514724    internal medicine          21731.22          96799.28   \n",
       "178288   nurse practitioner          67233.60         330081.60   \n",
       "...                     ...               ...               ...   \n",
       "722593   orthopedic surgery           6523.51          26407.63   \n",
       "78979        anesthesiology            436.96           1093.37   \n",
       "874339   orthopedic surgery           1020.67           1589.30   \n",
       "879174              dentist            189.04            543.10   \n",
       "19879            pharmacist           8165.98           8165.98   \n",
       "\n",
       "        avg_Tot_Drug_Cst  max_Total_claims  sum_Total_claims  \\\n",
       "237749            235.10                22                38   \n",
       "916253           5828.85               107               411   \n",
       "844288            665.61                11                11   \n",
       "514724           1125.57               333              4500   \n",
       "178288          17372.72               113               576   \n",
       "...                  ...               ...               ...   \n",
       "722593           1148.16               255              1392   \n",
       "78979             182.23                19                90   \n",
       "874339            227.04                76               164   \n",
       "879174            135.78                42               123   \n",
       "19879            8165.98                48                48   \n",
       "\n",
       "        avg_Total_claims  max_Tot_Day_Suply  sum_Tot_Day_Suply  \\\n",
       "237749             19.00                154                250   \n",
       "916253             37.36               2208              12659   \n",
       "844288             11.00                510                510   \n",
       "514724             52.33              27875             286433   \n",
       "178288             30.32               7729              30088   \n",
       "...                  ...                ...                ...   \n",
       "722593             60.52               6930              34438   \n",
       "78979              15.00                457               2453   \n",
       "874339             23.43               1192               2034   \n",
       "879174             30.75                695               1220   \n",
       "19879              48.00                 48                 48   \n",
       "\n",
       "        avg_Tot_Day_Suply  ...  Lisinopril/Hydrochlorothiazide_Tot_Day_Suply  \\\n",
       "237749             125.00  ...                                             0   \n",
       "916253            1150.82  ...                                             0   \n",
       "844288             510.00  ...                                             0   \n",
       "514724            3330.62  ...                                          2317   \n",
       "178288            1583.58  ...                                             0   \n",
       "...                   ...  ...                                           ...   \n",
       "722593            1497.30  ...                                             0   \n",
       "78979              408.83  ...                                             0   \n",
       "874339             290.57  ...                                             0   \n",
       "879174             305.00  ...                                             0   \n",
       "19879               48.00  ...                                             0   \n",
       "\n",
       "        Diazepam_Tot_Clms  Diazepam_Tot_Day_Suply  \\\n",
       "237749                  0                       0   \n",
       "916253                  0                       0   \n",
       "844288                  0                       0   \n",
       "514724                 52                    1450   \n",
       "178288                  0                       0   \n",
       "...                   ...                     ...   \n",
       "722593                  0                       0   \n",
       "78979                   0                       0   \n",
       "874339                  0                       0   \n",
       "879174                  0                       0   \n",
       "19879                   0                       0   \n",
       "\n",
       "        Pen Needle, Diabetic_Tot_Drug_Cst  Pen Needle, Diabetic_Tot_Day_Suply  \\\n",
       "237749                                0.0                                   0   \n",
       "916253                                0.0                                   0   \n",
       "844288                                0.0                                   0   \n",
       "514724                                0.0                                   0   \n",
       "178288                                0.0                                   0   \n",
       "...                                   ...                                 ...   \n",
       "722593                                0.0                                   0   \n",
       "78979                                 0.0                                   0   \n",
       "874339                                0.0                                   0   \n",
       "879174                                0.0                                   0   \n",
       "19879                                 0.0                                   0   \n",
       "\n",
       "        Tramadol Hcl_Tot_Drug_Cst  Tramadol Hcl_Tot_Clms  \\\n",
       "237749                       0.00                      0   \n",
       "916253                       0.00                      0   \n",
       "844288                       0.00                      0   \n",
       "514724                     331.98                     80   \n",
       "178288                       0.00                      0   \n",
       "...                           ...                    ...   \n",
       "722593                     860.35                    173   \n",
       "78979                        0.00                      0   \n",
       "874339                      52.52                     23   \n",
       "879174                       0.00                      0   \n",
       "19879                        0.00                      0   \n",
       "\n",
       "        Tramadol Hcl_Tot_Day_Suply  Total_payments  fraud  \n",
       "237749                           0         5100.38      0  \n",
       "916253                           0         1928.56      0  \n",
       "844288                           0         4156.72      0  \n",
       "514724                        1337          169.82      0  \n",
       "178288                           0         3654.19      0  \n",
       "...                            ...             ...    ...  \n",
       "722593                        2588         3060.98      0  \n",
       "78979                            0          106.24      0  \n",
       "874339                         211         7432.67      0  \n",
       "879174                           0           75.52      0  \n",
       "19879                            0       296009.18      0  \n",
       "\n",
       "[772044 rows x 120 columns]"
      ]
     },
     "execution_count": 46,
     "metadata": {},
     "output_type": "execute_result"
    }
   ],
   "source": [
    "train_df"
   ]
  },
  {
   "cell_type": "code",
   "execution_count": 47,
   "id": "58697963-d43a-4971-a2b6-3573f33c33a6",
   "metadata": {},
   "outputs": [
    {
     "data": {
      "text/plain": [
       "0    771335\n",
       "1       709\n",
       "Name: fraud, dtype: int64"
      ]
     },
     "execution_count": 47,
     "metadata": {},
     "output_type": "execute_result"
    }
   ],
   "source": [
    "train_df.fraud.value_counts()"
   ]
  },
  {
   "cell_type": "code",
   "execution_count": 48,
   "id": "36c5acd5-00d8-465c-a1c1-1187f643bf22",
   "metadata": {},
   "outputs": [
    {
     "data": {
      "text/plain": [
       "0    192835\n",
       "1       177\n",
       "Name: fraud, dtype: int64"
      ]
     },
     "execution_count": 48,
     "metadata": {},
     "output_type": "execute_result"
    }
   ],
   "source": [
    "test_df.fraud.value_counts()"
   ]
  },
  {
   "cell_type": "code",
   "execution_count": 49,
   "id": "535cf602-645a-4492-85e9-d46de286958d",
   "metadata": {},
   "outputs": [],
   "source": [
    "# Lets shuffle the data before creating the subsamples\n",
    "train_df = train_df.sample(frac=1,random_state=2)"
   ]
  },
  {
   "cell_type": "code",
   "execution_count": 50,
   "id": "489d06bd-edd2-48ce-bb3f-175368d4a18a",
   "metadata": {},
   "outputs": [],
   "source": [
    "# Create X_train, X_test, y_train, y_test for ease of use\n",
    "X_train = train_df.drop('fraud', axis=1)\n",
    "y_train = train_df['fraud']\n",
    "\n",
    "X_test = test_df.drop('fraud', axis=1)\n",
    "y_test = test_df['fraud']"
   ]
  },
  {
   "cell_type": "code",
   "execution_count": 51,
   "id": "a2517a42-635b-46b4-ade9-4f211507938f",
   "metadata": {},
   "outputs": [],
   "source": [
    "#rf_clf = RandomForestClassifier(n_estimators=100, criterion=\"entropy\")"
   ]
  },
  {
   "cell_type": "code",
   "execution_count": 52,
   "id": "aca04bc8-c8bc-4d8d-90d4-c494d918c45d",
   "metadata": {},
   "outputs": [],
   "source": [
    "#rf_clf.fit(X_train, y_train)"
   ]
  },
  {
   "cell_type": "code",
   "execution_count": 53,
   "id": "079e60a4-352a-4817-9144-cef27f9ee2d6",
   "metadata": {},
   "outputs": [],
   "source": [
    "# Decision Tree in the Forest\n",
    "#rf_clf.estimators_[0]"
   ]
  },
  {
   "cell_type": "markdown",
   "id": "afdf3524",
   "metadata": {},
   "source": [
    "## Sampling"
   ]
  },
  {
   "cell_type": "markdown",
   "id": "3fa51977",
   "metadata": {},
   "source": [
    "### Under sampling"
   ]
  },
  {
   "cell_type": "code",
   "execution_count": 54,
   "id": "dd82c956",
   "metadata": {},
   "outputs": [],
   "source": [
    "#function to plot the undersampled data\n",
    "#t-Distributed Stochastic Neighbor Embedding (t-SNE) :tSNE shows accurate which \n",
    "#can depicts clearly separated Fraud and Non Fraud cases.\n",
    "\n",
    "def plot_graph_tsne(X,y):\n",
    "    pca_2d = TSNE(n_components=2, random_state=42).fit_transform(X.values)\n",
    "    colors = ['#ef8a62' if v == 0 else '#f7f7f7' if v == 1 else '#67a9cf' for v in y]\n",
    "    kwarg_params = {'linewidth': 1, 'edgecolor': 'black'}\n",
    "    fig = plt.Figure(figsize=(12,6))\n",
    "    plt.scatter(pca_2d[:, 0],pca_2d[:, 1], c=colors, **kwarg_params, label=\"Fraud\")\n",
    "    plt.legend()\n",
    "    sns.despine()"
   ]
  },
  {
   "cell_type": "code",
   "execution_count": 55,
   "id": "2b567531",
   "metadata": {},
   "outputs": [],
   "source": [
    "#pca dimensionality reduction\n",
    "\n",
    "def plot_graph_pca(X,y):\n",
    "    pca_2d = PCA(n_components=\"mle\", random_state=12).fit_transform(X.values)\n",
    "    colors = ['#ef8a62' if v == 0 else '#f7f7f7' if v == 1 else '#67a9cf' for v in y]\n",
    "    kwarg_params = {'linewidth': 1, 'edgecolor': 'black'}\n",
    "    fig = plt.Figure(figsize=(12,6))\n",
    "    plt.scatter(pca_2d[:, 0],pca_2d[:, 1], c=colors, **kwarg_params, label=\"Fraud\")\n",
    "    plt.legend()\n",
    "    sns.despine()"
   ]
  },
  {
   "cell_type": "code",
   "execution_count": 56,
   "id": "28652d3a",
   "metadata": {},
   "outputs": [],
   "source": [
    "#reset\n",
    "#X_test = test_df.drop('fraud', axis=1)\n",
    "#X_train = train_df.drop('fraud', axis=1)\n",
    "\n",
    "#FOR compute intensive algo: reducing number of features to top 80\n",
    "# X_train = X_train[tst]\n",
    "# X_test = X_test[tst]"
   ]
  },
  {
   "cell_type": "markdown",
   "id": "10e3f11a",
   "metadata": {},
   "source": [
    "#### Under sampling "
   ]
  },
  {
   "cell_type": "code",
   "execution_count": 57,
   "id": "db295c62",
   "metadata": {},
   "outputs": [],
   "source": [
    "\n",
    "\n",
    "sampler = RandomUnderSampler(sampling_strategy='auto',random_state=42)\n",
    "\n",
    "#sampler = NearMiss(version = 3)\n",
    "\n",
    "#sampler = ClusterCentroids(random_state=42) #COMPUTE INTENSIVE, as generates new centroid samples\n",
    " \n",
    "#sampler = CondensedNearestNeighbour(random_state=42) #COMPUTE INTENSIVE\n",
    "\n",
    "#sampler = EditedNearestNeighbours() #COMPUTE INTENSIVE\n",
    "\n",
    "#sampler = OneSidedSelection()\n",
    "\n",
    "#sampler = AllKNN()\n",
    "\n",
    "#sampler = RepeatedEditedNearestNeighbours()\n",
    "\n",
    "#sampler  = TomekLinks()\n",
    "\n",
    "#bottom up approach setup"
   ]
  },
  {
   "cell_type": "markdown",
   "id": "af98af6d",
   "metadata": {},
   "source": [
    "#### Combine sampling`"
   ]
  },
  {
   "cell_type": "code",
   "execution_count": 58,
   "id": "b26c7005",
   "metadata": {},
   "outputs": [],
   "source": [
    "#sampler  = SMOTETomek(n_jobs=-1,random_state=42)\n",
    "\n",
    "#sampler  = SMOTEENN()"
   ]
  },
  {
   "cell_type": "markdown",
   "id": "31db2536",
   "metadata": {},
   "source": [
    "#### Oversampling"
   ]
  },
  {
   "cell_type": "code",
   "execution_count": 59,
   "id": "e3b0e6e4",
   "metadata": {},
   "outputs": [],
   "source": [
    "#sampler  =  ADASYN(sampling_strategy=0.65)"
   ]
  },
  {
   "cell_type": "code",
   "execution_count": 60,
   "id": "e66ecfe8",
   "metadata": {},
   "outputs": [
    {
     "name": "stdout",
     "output_type": "stream",
     "text": [
      "Resampled dataset shape Counter({0: 709, 1: 709})\n",
      "sampling done\n"
     ]
    }
   ],
   "source": [
    "X_rs, y_rs = sampler.fit_resample(X_train, y_train)\n",
    "print('Resampled dataset shape %s' % Counter(y_rs))\n",
    "print(\"sampling done\")"
   ]
  },
  {
   "cell_type": "code",
   "execution_count": 61,
   "id": "b6e78aeb-0f2a-4d35-8daa-7c52aaba65d9",
   "metadata": {},
   "outputs": [],
   "source": [
    "# plot_graph_tsne(X_rs, y_rs)\n",
    "\n",
    "# #No clear seperation"
   ]
  },
  {
   "cell_type": "code",
   "execution_count": 62,
   "id": "3acd57da-1ce7-43fc-977c-0ebae1bde11d",
   "metadata": {},
   "outputs": [],
   "source": [
    "# #pca doesnt help much\n",
    "\n",
    "# plot_graph_pca(X_rs, y_rs)"
   ]
  },
  {
   "cell_type": "markdown",
   "id": "a9be2a50",
   "metadata": {},
   "source": [
    "### Correlation analysis : Imbalanced and balanced dataset"
   ]
  },
  {
   "cell_type": "code",
   "execution_count": 63,
   "id": "0008211d",
   "metadata": {},
   "outputs": [
    {
     "data": {
      "text/html": [
       "<div>\n",
       "<style scoped>\n",
       "    .dataframe tbody tr th:only-of-type {\n",
       "        vertical-align: middle;\n",
       "    }\n",
       "\n",
       "    .dataframe tbody tr th {\n",
       "        vertical-align: top;\n",
       "    }\n",
       "\n",
       "    .dataframe thead th {\n",
       "        text-align: right;\n",
       "    }\n",
       "</style>\n",
       "<table border=\"1\" class=\"dataframe\">\n",
       "  <thead>\n",
       "    <tr style=\"text-align: right;\">\n",
       "      <th></th>\n",
       "      <th>Speciality</th>\n",
       "      <th>max_Tot_Drug_Cst</th>\n",
       "      <th>sum_Tot_Drug_Cst</th>\n",
       "      <th>avg_Tot_Drug_Cst</th>\n",
       "      <th>max_Total_claims</th>\n",
       "      <th>sum_Total_claims</th>\n",
       "      <th>avg_Total_claims</th>\n",
       "      <th>max_Tot_Day_Suply</th>\n",
       "      <th>sum_Tot_Day_Suply</th>\n",
       "      <th>avg_Tot_Day_Suply</th>\n",
       "      <th>...</th>\n",
       "      <th>Lisinopril/Hydrochlorothiazide_Tot_Day_Suply</th>\n",
       "      <th>Diazepam_Tot_Clms</th>\n",
       "      <th>Diazepam_Tot_Day_Suply</th>\n",
       "      <th>Pen Needle, Diabetic_Tot_Drug_Cst</th>\n",
       "      <th>Pen Needle, Diabetic_Tot_Day_Suply</th>\n",
       "      <th>Tramadol Hcl_Tot_Drug_Cst</th>\n",
       "      <th>Tramadol Hcl_Tot_Clms</th>\n",
       "      <th>Tramadol Hcl_Tot_Day_Suply</th>\n",
       "      <th>Total_payments</th>\n",
       "      <th>fraud</th>\n",
       "    </tr>\n",
       "  </thead>\n",
       "  <tbody>\n",
       "    <tr>\n",
       "      <th>0</th>\n",
       "      <td>pharmacist</td>\n",
       "      <td>19083.49</td>\n",
       "      <td>19831.4</td>\n",
       "      <td>9915.7</td>\n",
       "      <td>109</td>\n",
       "      <td>121</td>\n",
       "      <td>60.5</td>\n",
       "      <td>167</td>\n",
       "      <td>179</td>\n",
       "      <td>89.5</td>\n",
       "      <td>...</td>\n",
       "      <td>0</td>\n",
       "      <td>0</td>\n",
       "      <td>0</td>\n",
       "      <td>0.0</td>\n",
       "      <td>0</td>\n",
       "      <td>0.0</td>\n",
       "      <td>0</td>\n",
       "      <td>0</td>\n",
       "      <td>3070.01</td>\n",
       "      <td>0</td>\n",
       "    </tr>\n",
       "  </tbody>\n",
       "</table>\n",
       "<p>1 rows × 120 columns</p>\n",
       "</div>"
      ],
      "text/plain": [
       "   Speciality  max_Tot_Drug_Cst  sum_Tot_Drug_Cst  avg_Tot_Drug_Cst  \\\n",
       "0  pharmacist          19083.49           19831.4            9915.7   \n",
       "\n",
       "   max_Total_claims  sum_Total_claims  avg_Total_claims  max_Tot_Day_Suply  \\\n",
       "0               109               121              60.5                167   \n",
       "\n",
       "   sum_Tot_Day_Suply  avg_Tot_Day_Suply  ...  \\\n",
       "0                179               89.5  ...   \n",
       "\n",
       "   Lisinopril/Hydrochlorothiazide_Tot_Day_Suply  Diazepam_Tot_Clms  \\\n",
       "0                                             0                  0   \n",
       "\n",
       "   Diazepam_Tot_Day_Suply  Pen Needle, Diabetic_Tot_Drug_Cst  \\\n",
       "0                       0                                0.0   \n",
       "\n",
       "   Pen Needle, Diabetic_Tot_Day_Suply  Tramadol Hcl_Tot_Drug_Cst  \\\n",
       "0                                   0                        0.0   \n",
       "\n",
       "   Tramadol Hcl_Tot_Clms  Tramadol Hcl_Tot_Day_Suply  Total_payments  fraud  \n",
       "0                      0                           0         3070.01      0  \n",
       "\n",
       "[1 rows x 120 columns]"
      ]
     },
     "execution_count": 63,
     "metadata": {},
     "output_type": "execute_result"
    }
   ],
   "source": [
    "df_under = pd.concat([X_rs, y_rs], axis=1)\n",
    "df_under.head(1)"
   ]
  },
  {
   "cell_type": "code",
   "execution_count": 64,
   "id": "383a87c9",
   "metadata": {},
   "outputs": [
    {
     "name": "stdout",
     "output_type": "stream",
     "text": [
      "['max_Tot_Drug_Cst', 'sum_Tot_Drug_Cst', 'avg_Tot_Drug_Cst', 'max_Total_claims', 'sum_Total_claims', 'avg_Total_claims', 'max_Tot_Day_Suply', 'sum_Tot_Day_Suply', 'avg_Tot_Day_Suply', 'max_Tot_30day_Fills', 'sum_Tot_30day_Fills', 'avg_Tot_30day_Fills', 'claim_max-mean', 'supply_max-mean', 'drug_max-mean', 'Total_payments', 'fraud']\n"
     ]
    }
   ],
   "source": [
    "features = scale_features.copy()\n",
    "features.append(\"fraud\")\n",
    "print(features)"
   ]
  },
  {
   "cell_type": "code",
   "execution_count": 65,
   "id": "88ae8ed3",
   "metadata": {},
   "outputs": [],
   "source": [
    "#certainly correlation has increased between attributes and minor increased with target and attributes \n",
    "\n",
    "# near miss : Correlation between target and attribute increased with \n",
    "\n",
    "# f, (ax1, ax2) = plt.subplots(2, 1, figsize=(50,40))      \n",
    "# sns.heatmap(df_under[features].corr(), annot=True, cmap = 'coolwarm', ax=ax1)\n",
    "# ax1.set_title(\"Imbalanced Correlation Matrix of UnderSampled Data\", fontsize=34)\n",
    "\n",
    "       \n",
    "# sns.heatmap(df_ml[features].corr(), cmap = 'coolwarm', ax=ax2)\n",
    "# ax2.set_title(\"Imbalanced Correlation Matrix of Original Data\", fontsize=34)"
   ]
  },
  {
   "cell_type": "markdown",
   "id": "f4227704",
   "metadata": {},
   "source": [
    "#### Box plot"
   ]
  },
  {
   "cell_type": "code",
   "execution_count": 66,
   "id": "3e000c4c-874a-4458-81f1-a203b184cb31",
   "metadata": {},
   "outputs": [],
   "source": [
    "# #outliers in avg_total drug cost, avg_total daily supply, claim max mean\n",
    "# plt.figure(figsize=(15,5));\n",
    "# sns.boxplot(x=\"variable\", y=\"value\", data=pd.melt(X_rs[scale_features]));\n",
    "# plt.xticks(rotation = 45);"
   ]
  },
  {
   "cell_type": "markdown",
   "id": "7f04b3ac",
   "metadata": {},
   "source": [
    "### Outlier treatment"
   ]
  },
  {
   "cell_type": "code",
   "execution_count": 67,
   "id": "d40a4666-22bc-427e-8d69-44e70bb94d97",
   "metadata": {},
   "outputs": [
    {
     "name": "stdout",
     "output_type": "stream",
     "text": [
      "Before outlier removal (1418, 120)\n",
      "Remaining after outlier removal (1306, 120)\n"
     ]
    }
   ],
   "source": [
    "#Now target labels being same, lets see result\n",
    "#Z-Score method : IQR method tends to remove too many outlier and hence will go with Z-score method.\n",
    "\n",
    "\n",
    "z = np.abs(stats.zscore(df_under[scale_features]))\n",
    "\n",
    "df_under_filtered = df_under[(z < 3).all(axis=1)]\n",
    "print(\"Before outlier removal\",df_under.shape)\n",
    "print(\"Remaining after outlier removal\",df_under_filtered.shape)\n",
    "# sns.set(style=\"darkgrid\")\n",
    "# ax = sns.countplot(x=\"fraud\", data=df_under_filtered)"
   ]
  },
  {
   "cell_type": "code",
   "execution_count": 68,
   "id": "bbb41d4f-ebe6-423a-9f3f-e505d8c32d07",
   "metadata": {},
   "outputs": [],
   "source": [
    "# #after outlier treatment\n",
    "\n",
    "# plt.figure(figsize=(15,5));\n",
    "# sns.boxplot(x=\"variable\", y=\"value\", data=pd.melt(df_under_filtered[scale_features]));\n",
    "# plt.xticks(rotation = 45);"
   ]
  },
  {
   "cell_type": "markdown",
   "id": "5710b478",
   "metadata": {},
   "source": [
    "### Outlier fixing"
   ]
  },
  {
   "cell_type": "code",
   "execution_count": 69,
   "id": "8936ac31-70e3-4d11-bc51-25bbd83e8538",
   "metadata": {},
   "outputs": [],
   "source": [
    "# #assigning filtered data back to under sampled variables\n",
    "# print(\"Outlier removed and values assigned\")\n",
    "# X_rs = df_under_filtered.drop(\"fraud\",axis = 1)\n",
    "# y_rs = df_under_filtered[\"fraud\"]\n",
    "# X_test = test_df.drop('fraud', axis=1)"
   ]
  },
  {
   "cell_type": "code",
   "execution_count": null,
   "id": "10798034",
   "metadata": {},
   "outputs": [],
   "source": []
  },
  {
   "cell_type": "code",
   "execution_count": 70,
   "id": "8feec768-57ff-43e8-b26e-27b5e2fbc550",
   "metadata": {},
   "outputs": [],
   "source": [
    "#copying variables to x train and y train\n",
    "\n",
    "Xx_train = X_rs.copy()\n",
    "yy_train = y_rs.copy()\n",
    "X_test = test_df.drop('fraud', axis=1)"
   ]
  },
  {
   "cell_type": "code",
   "execution_count": 71,
   "id": "88a75232",
   "metadata": {},
   "outputs": [
    {
     "data": {
      "text/plain": [
       "(1418, 119)"
      ]
     },
     "execution_count": 71,
     "metadata": {},
     "output_type": "execute_result"
    }
   ],
   "source": [
    "Xx_train.shape"
   ]
  },
  {
   "cell_type": "code",
   "execution_count": 72,
   "id": "ec094627",
   "metadata": {},
   "outputs": [
    {
     "data": {
      "text/plain": [
       "(1418,)"
      ]
     },
     "execution_count": 72,
     "metadata": {},
     "output_type": "execute_result"
    }
   ],
   "source": [
    "yy_train.shape"
   ]
  },
  {
   "cell_type": "code",
   "execution_count": 73,
   "id": "0ec62c26",
   "metadata": {},
   "outputs": [
    {
     "data": {
      "text/plain": [
       "0    709\n",
       "1    709\n",
       "Name: fraud, dtype: int64"
      ]
     },
     "execution_count": 73,
     "metadata": {},
     "output_type": "execute_result"
    }
   ],
   "source": [
    "yy_train.value_counts()"
   ]
  },
  {
   "cell_type": "markdown",
   "id": "bdda5422-e682-4821-9257-0fc436fcb0c8",
   "metadata": {},
   "source": [
    "# Random Forest"
   ]
  },
  {
   "cell_type": "code",
   "execution_count": 74,
   "id": "4c552396-cb58-43bb-88c1-cda7666a1ec2",
   "metadata": {},
   "outputs": [
    {
     "ename": "ValueError",
     "evalue": "could not convert string to float: 'pharmacist'",
     "output_type": "error",
     "traceback": [
      "\u001b[1;31m---------------------------------------------------------------------------\u001b[0m",
      "\u001b[1;31mValueError\u001b[0m                                Traceback (most recent call last)",
      "Cell \u001b[1;32mIn [74], line 2\u001b[0m\n\u001b[0;32m      1\u001b[0m rf_top \u001b[38;5;241m=\u001b[39m RandomForestClassifier(n_estimators\u001b[38;5;241m=\u001b[39m\u001b[38;5;241m100\u001b[39m, criterion\u001b[38;5;241m=\u001b[39m\u001b[38;5;124m\"\u001b[39m\u001b[38;5;124mentropy\u001b[39m\u001b[38;5;124m\"\u001b[39m,random_state\u001b[38;5;241m=\u001b[39m\u001b[38;5;241m42\u001b[39m)\n\u001b[1;32m----> 2\u001b[0m \u001b[43mrf_top\u001b[49m\u001b[38;5;241;43m.\u001b[39;49m\u001b[43mfit\u001b[49m\u001b[43m(\u001b[49m\u001b[43mXx_train\u001b[49m\u001b[43m,\u001b[49m\u001b[43m \u001b[49m\u001b[43myy_train\u001b[49m\u001b[43m)\u001b[49m\n\u001b[0;32m      3\u001b[0m \u001b[38;5;66;03m#rf_res = predict_and_evaluate(rf_top, X_test, y_test)\u001b[39;00m\n\u001b[0;32m      4\u001b[0m feature_importances \u001b[38;5;241m=\u001b[39m pd\u001b[38;5;241m.\u001b[39mSeries(rf_top\u001b[38;5;241m.\u001b[39mfeature_importances_, index\u001b[38;5;241m=\u001b[39mX_train\u001b[38;5;241m.\u001b[39mcolumns)\n",
      "File \u001b[1;32m~\\Desktop\\project\\myenv\\lib\\site-packages\\sklearn\\ensemble\\_forest.py:331\u001b[0m, in \u001b[0;36mBaseForest.fit\u001b[1;34m(self, X, y, sample_weight)\u001b[0m\n\u001b[0;32m    329\u001b[0m \u001b[38;5;28;01mif\u001b[39;00m issparse(y):\n\u001b[0;32m    330\u001b[0m     \u001b[38;5;28;01mraise\u001b[39;00m \u001b[38;5;167;01mValueError\u001b[39;00m(\u001b[38;5;124m\"\u001b[39m\u001b[38;5;124msparse multilabel-indicator for y is not supported.\u001b[39m\u001b[38;5;124m\"\u001b[39m)\n\u001b[1;32m--> 331\u001b[0m X, y \u001b[38;5;241m=\u001b[39m \u001b[38;5;28;43mself\u001b[39;49m\u001b[38;5;241;43m.\u001b[39;49m\u001b[43m_validate_data\u001b[49m\u001b[43m(\u001b[49m\n\u001b[0;32m    332\u001b[0m \u001b[43m    \u001b[49m\u001b[43mX\u001b[49m\u001b[43m,\u001b[49m\u001b[43m \u001b[49m\u001b[43my\u001b[49m\u001b[43m,\u001b[49m\u001b[43m \u001b[49m\u001b[43mmulti_output\u001b[49m\u001b[38;5;241;43m=\u001b[39;49m\u001b[38;5;28;43;01mTrue\u001b[39;49;00m\u001b[43m,\u001b[49m\u001b[43m \u001b[49m\u001b[43maccept_sparse\u001b[49m\u001b[38;5;241;43m=\u001b[39;49m\u001b[38;5;124;43m\"\u001b[39;49m\u001b[38;5;124;43mcsc\u001b[39;49m\u001b[38;5;124;43m\"\u001b[39;49m\u001b[43m,\u001b[49m\u001b[43m \u001b[49m\u001b[43mdtype\u001b[49m\u001b[38;5;241;43m=\u001b[39;49m\u001b[43mDTYPE\u001b[49m\n\u001b[0;32m    333\u001b[0m \u001b[43m\u001b[49m\u001b[43m)\u001b[49m\n\u001b[0;32m    334\u001b[0m \u001b[38;5;28;01mif\u001b[39;00m sample_weight \u001b[38;5;129;01mis\u001b[39;00m \u001b[38;5;129;01mnot\u001b[39;00m \u001b[38;5;28;01mNone\u001b[39;00m:\n\u001b[0;32m    335\u001b[0m     sample_weight \u001b[38;5;241m=\u001b[39m _check_sample_weight(sample_weight, X)\n",
      "File \u001b[1;32m~\\Desktop\\project\\myenv\\lib\\site-packages\\sklearn\\base.py:596\u001b[0m, in \u001b[0;36mBaseEstimator._validate_data\u001b[1;34m(self, X, y, reset, validate_separately, **check_params)\u001b[0m\n\u001b[0;32m    594\u001b[0m         y \u001b[38;5;241m=\u001b[39m check_array(y, input_name\u001b[38;5;241m=\u001b[39m\u001b[38;5;124m\"\u001b[39m\u001b[38;5;124my\u001b[39m\u001b[38;5;124m\"\u001b[39m, \u001b[38;5;241m*\u001b[39m\u001b[38;5;241m*\u001b[39mcheck_y_params)\n\u001b[0;32m    595\u001b[0m     \u001b[38;5;28;01melse\u001b[39;00m:\n\u001b[1;32m--> 596\u001b[0m         X, y \u001b[38;5;241m=\u001b[39m check_X_y(X, y, \u001b[38;5;241m*\u001b[39m\u001b[38;5;241m*\u001b[39mcheck_params)\n\u001b[0;32m    597\u001b[0m     out \u001b[38;5;241m=\u001b[39m X, y\n\u001b[0;32m    599\u001b[0m \u001b[38;5;28;01mif\u001b[39;00m \u001b[38;5;129;01mnot\u001b[39;00m no_val_X \u001b[38;5;129;01mand\u001b[39;00m check_params\u001b[38;5;241m.\u001b[39mget(\u001b[38;5;124m\"\u001b[39m\u001b[38;5;124mensure_2d\u001b[39m\u001b[38;5;124m\"\u001b[39m, \u001b[38;5;28;01mTrue\u001b[39;00m):\n",
      "File \u001b[1;32m~\\Desktop\\project\\myenv\\lib\\site-packages\\sklearn\\utils\\validation.py:1074\u001b[0m, in \u001b[0;36mcheck_X_y\u001b[1;34m(X, y, accept_sparse, accept_large_sparse, dtype, order, copy, force_all_finite, ensure_2d, allow_nd, multi_output, ensure_min_samples, ensure_min_features, y_numeric, estimator)\u001b[0m\n\u001b[0;32m   1069\u001b[0m         estimator_name \u001b[38;5;241m=\u001b[39m _check_estimator_name(estimator)\n\u001b[0;32m   1070\u001b[0m     \u001b[38;5;28;01mraise\u001b[39;00m \u001b[38;5;167;01mValueError\u001b[39;00m(\n\u001b[0;32m   1071\u001b[0m         \u001b[38;5;124mf\u001b[39m\u001b[38;5;124m\"\u001b[39m\u001b[38;5;132;01m{\u001b[39;00mestimator_name\u001b[38;5;132;01m}\u001b[39;00m\u001b[38;5;124m requires y to be passed, but the target y is None\u001b[39m\u001b[38;5;124m\"\u001b[39m\n\u001b[0;32m   1072\u001b[0m     )\n\u001b[1;32m-> 1074\u001b[0m X \u001b[38;5;241m=\u001b[39m \u001b[43mcheck_array\u001b[49m\u001b[43m(\u001b[49m\n\u001b[0;32m   1075\u001b[0m \u001b[43m    \u001b[49m\u001b[43mX\u001b[49m\u001b[43m,\u001b[49m\n\u001b[0;32m   1076\u001b[0m \u001b[43m    \u001b[49m\u001b[43maccept_sparse\u001b[49m\u001b[38;5;241;43m=\u001b[39;49m\u001b[43maccept_sparse\u001b[49m\u001b[43m,\u001b[49m\n\u001b[0;32m   1077\u001b[0m \u001b[43m    \u001b[49m\u001b[43maccept_large_sparse\u001b[49m\u001b[38;5;241;43m=\u001b[39;49m\u001b[43maccept_large_sparse\u001b[49m\u001b[43m,\u001b[49m\n\u001b[0;32m   1078\u001b[0m \u001b[43m    \u001b[49m\u001b[43mdtype\u001b[49m\u001b[38;5;241;43m=\u001b[39;49m\u001b[43mdtype\u001b[49m\u001b[43m,\u001b[49m\n\u001b[0;32m   1079\u001b[0m \u001b[43m    \u001b[49m\u001b[43morder\u001b[49m\u001b[38;5;241;43m=\u001b[39;49m\u001b[43morder\u001b[49m\u001b[43m,\u001b[49m\n\u001b[0;32m   1080\u001b[0m \u001b[43m    \u001b[49m\u001b[43mcopy\u001b[49m\u001b[38;5;241;43m=\u001b[39;49m\u001b[43mcopy\u001b[49m\u001b[43m,\u001b[49m\n\u001b[0;32m   1081\u001b[0m \u001b[43m    \u001b[49m\u001b[43mforce_all_finite\u001b[49m\u001b[38;5;241;43m=\u001b[39;49m\u001b[43mforce_all_finite\u001b[49m\u001b[43m,\u001b[49m\n\u001b[0;32m   1082\u001b[0m \u001b[43m    \u001b[49m\u001b[43mensure_2d\u001b[49m\u001b[38;5;241;43m=\u001b[39;49m\u001b[43mensure_2d\u001b[49m\u001b[43m,\u001b[49m\n\u001b[0;32m   1083\u001b[0m \u001b[43m    \u001b[49m\u001b[43mallow_nd\u001b[49m\u001b[38;5;241;43m=\u001b[39;49m\u001b[43mallow_nd\u001b[49m\u001b[43m,\u001b[49m\n\u001b[0;32m   1084\u001b[0m \u001b[43m    \u001b[49m\u001b[43mensure_min_samples\u001b[49m\u001b[38;5;241;43m=\u001b[39;49m\u001b[43mensure_min_samples\u001b[49m\u001b[43m,\u001b[49m\n\u001b[0;32m   1085\u001b[0m \u001b[43m    \u001b[49m\u001b[43mensure_min_features\u001b[49m\u001b[38;5;241;43m=\u001b[39;49m\u001b[43mensure_min_features\u001b[49m\u001b[43m,\u001b[49m\n\u001b[0;32m   1086\u001b[0m \u001b[43m    \u001b[49m\u001b[43mestimator\u001b[49m\u001b[38;5;241;43m=\u001b[39;49m\u001b[43mestimator\u001b[49m\u001b[43m,\u001b[49m\n\u001b[0;32m   1087\u001b[0m \u001b[43m    \u001b[49m\u001b[43minput_name\u001b[49m\u001b[38;5;241;43m=\u001b[39;49m\u001b[38;5;124;43m\"\u001b[39;49m\u001b[38;5;124;43mX\u001b[39;49m\u001b[38;5;124;43m\"\u001b[39;49m\u001b[43m,\u001b[49m\n\u001b[0;32m   1088\u001b[0m \u001b[43m\u001b[49m\u001b[43m)\u001b[49m\n\u001b[0;32m   1090\u001b[0m y \u001b[38;5;241m=\u001b[39m _check_y(y, multi_output\u001b[38;5;241m=\u001b[39mmulti_output, y_numeric\u001b[38;5;241m=\u001b[39my_numeric, estimator\u001b[38;5;241m=\u001b[39mestimator)\n\u001b[0;32m   1092\u001b[0m check_consistent_length(X, y)\n",
      "File \u001b[1;32m~\\Desktop\\project\\myenv\\lib\\site-packages\\sklearn\\utils\\validation.py:856\u001b[0m, in \u001b[0;36mcheck_array\u001b[1;34m(array, accept_sparse, accept_large_sparse, dtype, order, copy, force_all_finite, ensure_2d, allow_nd, ensure_min_samples, ensure_min_features, estimator, input_name)\u001b[0m\n\u001b[0;32m    854\u001b[0m         array \u001b[38;5;241m=\u001b[39m array\u001b[38;5;241m.\u001b[39mastype(dtype, casting\u001b[38;5;241m=\u001b[39m\u001b[38;5;124m\"\u001b[39m\u001b[38;5;124munsafe\u001b[39m\u001b[38;5;124m\"\u001b[39m, copy\u001b[38;5;241m=\u001b[39m\u001b[38;5;28;01mFalse\u001b[39;00m)\n\u001b[0;32m    855\u001b[0m     \u001b[38;5;28;01melse\u001b[39;00m:\n\u001b[1;32m--> 856\u001b[0m         array \u001b[38;5;241m=\u001b[39m \u001b[43mnp\u001b[49m\u001b[38;5;241;43m.\u001b[39;49m\u001b[43masarray\u001b[49m\u001b[43m(\u001b[49m\u001b[43marray\u001b[49m\u001b[43m,\u001b[49m\u001b[43m \u001b[49m\u001b[43morder\u001b[49m\u001b[38;5;241;43m=\u001b[39;49m\u001b[43morder\u001b[49m\u001b[43m,\u001b[49m\u001b[43m \u001b[49m\u001b[43mdtype\u001b[49m\u001b[38;5;241;43m=\u001b[39;49m\u001b[43mdtype\u001b[49m\u001b[43m)\u001b[49m\n\u001b[0;32m    857\u001b[0m \u001b[38;5;28;01mexcept\u001b[39;00m ComplexWarning \u001b[38;5;28;01mas\u001b[39;00m complex_warning:\n\u001b[0;32m    858\u001b[0m     \u001b[38;5;28;01mraise\u001b[39;00m \u001b[38;5;167;01mValueError\u001b[39;00m(\n\u001b[0;32m    859\u001b[0m         \u001b[38;5;124m\"\u001b[39m\u001b[38;5;124mComplex data not supported\u001b[39m\u001b[38;5;130;01m\\n\u001b[39;00m\u001b[38;5;132;01m{}\u001b[39;00m\u001b[38;5;130;01m\\n\u001b[39;00m\u001b[38;5;124m\"\u001b[39m\u001b[38;5;241m.\u001b[39mformat(array)\n\u001b[0;32m    860\u001b[0m     ) \u001b[38;5;28;01mfrom\u001b[39;00m \u001b[38;5;21;01mcomplex_warning\u001b[39;00m\n",
      "File \u001b[1;32m~\\Desktop\\project\\myenv\\lib\\site-packages\\pandas\\core\\generic.py:2064\u001b[0m, in \u001b[0;36mNDFrame.__array__\u001b[1;34m(self, dtype)\u001b[0m\n\u001b[0;32m   2063\u001b[0m \u001b[38;5;28;01mdef\u001b[39;00m \u001b[38;5;21m__array__\u001b[39m(\u001b[38;5;28mself\u001b[39m, dtype: npt\u001b[38;5;241m.\u001b[39mDTypeLike \u001b[38;5;241m|\u001b[39m \u001b[38;5;28;01mNone\u001b[39;00m \u001b[38;5;241m=\u001b[39m \u001b[38;5;28;01mNone\u001b[39;00m) \u001b[38;5;241m-\u001b[39m\u001b[38;5;241m>\u001b[39m np\u001b[38;5;241m.\u001b[39mndarray:\n\u001b[1;32m-> 2064\u001b[0m     \u001b[38;5;28;01mreturn\u001b[39;00m \u001b[43mnp\u001b[49m\u001b[38;5;241;43m.\u001b[39;49m\u001b[43masarray\u001b[49m\u001b[43m(\u001b[49m\u001b[38;5;28;43mself\u001b[39;49m\u001b[38;5;241;43m.\u001b[39;49m\u001b[43m_values\u001b[49m\u001b[43m,\u001b[49m\u001b[43m \u001b[49m\u001b[43mdtype\u001b[49m\u001b[38;5;241;43m=\u001b[39;49m\u001b[43mdtype\u001b[49m\u001b[43m)\u001b[49m\n",
      "\u001b[1;31mValueError\u001b[0m: could not convert string to float: 'pharmacist'"
     ]
    }
   ],
   "source": [
    "rf_top = RandomForestClassifier(n_estimators=100, criterion=\"entropy\",random_state=42)\n",
    "rf_top.fit(Xx_train, yy_train)\n",
    "#rf_res = predict_and_evaluate(rf_top, X_test, y_test)\n",
    "feature_importances = pd.Series(rf_top.feature_importances_, index=X_train.columns)\n",
    "feature_importances.sort_values(ascending=False, inplace=True)\n",
    "tst = feature_importances.head(30).index.to_list()\n",
    "tst\n",
    "rf_pre = predict_and_evaluate(rf_top, X_test, y_test)"
   ]
  },
  {
   "cell_type": "code",
   "execution_count": null,
   "id": "f7d4f0b4-f2aa-4e85-83b7-dfdf7bdc57b9",
   "metadata": {},
   "outputs": [],
   "source": [
    "print(rf_pre)"
   ]
  },
  {
   "cell_type": "code",
   "execution_count": null,
   "id": "fd7e76f8-bf30-4678-8769-8d1aaf2707fd",
   "metadata": {},
   "outputs": [],
   "source": [
    "c"
   ]
  },
  {
   "cell_type": "code",
   "execution_count": null,
   "id": "5d381b1e-ba8b-4d30-b6f3-4bc1a3f6321e",
   "metadata": {},
   "outputs": [],
   "source": [
    "np.savetxt('../top40_without_outlier_treatment.txt', tst, delimiter=\"\\n\", fmt=\"%s\")"
   ]
  },
  {
   "cell_type": "code",
   "execution_count": null,
   "id": "80e89739-f45a-4080-b0e0-54ca61cec189",
   "metadata": {},
   "outputs": [],
   "source": []
  },
  {
   "cell_type": "code",
   "execution_count": null,
   "id": "9744640c-cc89-4a1e-b64e-5d142c1e5dfb",
   "metadata": {},
   "outputs": [],
   "source": [
    "random_grid = {'n_estimators': [200,250,300,350,400,425,450,500,550,600,800],\n",
    "               'max_features': ['auto','sqrt','log2'],\n",
    "               'criterion' : ['gini','entropy'],\n",
    "               'max_depth': [45,50,55,60,70,80,100,120],\n",
    "               'min_samples_split': [2,3,4,5,6,8,10,12,15],\n",
    "               'min_samples_leaf': [1,2,3,4,5,6],\n",
    "               'bootstrap': [True,False] }"
   ]
  },
  {
   "cell_type": "code",
   "execution_count": null,
   "id": "3e6d425d-23c7-4dcc-b401-a70e142055a4",
   "metadata": {},
   "outputs": [],
   "source": [
    "rf_clf = GridSearchCV(RandomForestClassifier(), random_grid,cv = 5,n_jobs=-1)"
   ]
  },
  {
   "cell_type": "code",
   "execution_count": null,
   "id": "fcafde3f-70df-4c33-9b63-a2be69eba382",
   "metadata": {},
   "outputs": [],
   "source": [
    "# rf_clf = RandomForestClassifier(n_estimators=100, criterion=\"entropy\",random_state=42)"
   ]
  },
  {
   "cell_type": "code",
   "execution_count": null,
   "id": "220be632-f8eb-4ede-aac4-589cebf3f80f",
   "metadata": {},
   "outputs": [],
   "source": [
    "rf_clf.fit(Xx_train, yy_train)"
   ]
  },
  {
   "cell_type": "code",
   "execution_count": null,
   "id": "3f5203e4-6758-4bcf-ae13-b9ce5b01720a",
   "metadata": {},
   "outputs": [],
   "source": [
    "#rf_clf.estimators_[0]\n",
    "print(rf_clf.best_estimator_)\n",
    "print(rf_clf.best_params_)"
   ]
  },
  {
   "cell_type": "code",
   "execution_count": null,
   "id": "2aeda0da",
   "metadata": {},
   "outputs": [],
   "source": [
    "rf_clf"
   ]
  },
  {
   "cell_type": "code",
   "execution_count": null,
   "id": "5648170f-7e2a-427e-8383-db6420efd88f",
   "metadata": {},
   "outputs": [],
   "source": [
    "rf_res = predict_and_evaluate(rf_clf, X_test, y_test)"
   ]
  },
  {
   "cell_type": "code",
   "execution_count": null,
   "id": "0a5adbf8-96e0-44eb-b336-f117f48af9b1",
   "metadata": {},
   "outputs": [],
   "source": [
    "joblib.dump(rf_clf,\"../models/rf.joblib\")"
   ]
  },
  {
   "cell_type": "markdown",
   "id": "1d102960-a278-4a6d-b6f4-1459d471f86a",
   "metadata": {},
   "source": [
    "## Feature Importance"
   ]
  },
  {
   "cell_type": "code",
   "execution_count": null,
   "id": "a12a4fc5-4e26-4e9f-a570-4645f8818798",
   "metadata": {},
   "outputs": [],
   "source": [
    "print(\"assigning top 40 columns\")\n",
    "top_train = Xx_train[tst]\n",
    "top_test = X_test[tst]"
   ]
  },
  {
   "cell_type": "code",
   "execution_count": null,
   "id": "23dd1c01-448a-4d20-92fe-e7a5ed68eaa0",
   "metadata": {},
   "outputs": [],
   "source": [
    "rf_top = GridSearchCV(RandomForestClassifier(), random_grid,cv = 5,n_jobs=-1)\n",
    "rf_top.fit(top_train, yy_train)\n",
    "rf_pre = predict_and_evaluate(rf_top, top_test, y_test)"
   ]
  },
  {
   "cell_type": "code",
   "execution_count": null,
   "id": "5acdf689-d00b-40a0-9273-2ce52bbc78e6",
   "metadata": {},
   "outputs": [],
   "source": [
    "joblib.dump(rf_top,\"../models/rf_40.joblib\")"
   ]
  },
  {
   "cell_type": "code",
   "execution_count": null,
   "id": "13ed7ebe-419b-4246-8a0f-0abf5992b5d0",
   "metadata": {},
   "outputs": [],
   "source": [
    "# np.savetxt('../models/rand_under_all/top_80_rand_under_sample.txt', tst, delimiter=\"\\n\", fmt=\"%s\")"
   ]
  },
  {
   "cell_type": "code",
   "execution_count": null,
   "id": "fa4932cc-ef7e-4712-a63c-d30809b4e95e",
   "metadata": {},
   "outputs": [],
   "source": [
    "# feat = []\n",
    "# with open('top_40_SMOTETomek.txt', 'r') as file:\n",
    "#     data = file.read()\n",
    "# dataa = data.split()   "
   ]
  },
  {
   "cell_type": "code",
   "execution_count": null,
   "id": "bfd3f88a-afd7-4b37-8847-e53840e15d3c",
   "metadata": {},
   "outputs": [],
   "source": [
    "# rf_clf  =  GridSearchCV(RandomForestClassifier(),random_grid, n_jobs = -1)\n",
    "\n",
    "# rf_clf.fit(Xx_train, yy_train)\n",
    "# #rf_clf.estimators_[0]"
   ]
  },
  {
   "cell_type": "code",
   "execution_count": null,
   "id": "97bed759-3bc5-494d-a597-e4c3273da262",
   "metadata": {},
   "outputs": [],
   "source": [
    "print(rf_clf.best_params_)"
   ]
  },
  {
   "cell_type": "code",
   "execution_count": null,
   "id": "cb6b3284-3f10-4b68-a586-bb3b1a11b361",
   "metadata": {},
   "outputs": [],
   "source": [
    "print(rf_clf.best_estimator_)"
   ]
  },
  {
   "cell_type": "markdown",
   "id": "f3e117a1-edf3-4d95-8b3f-23c67f3c98c7",
   "metadata": {},
   "source": [
    "# XG Boost"
   ]
  },
  {
   "cell_type": "code",
   "execution_count": null,
   "id": "37215ecc-7fe1-48e3-9c7a-1c9ac969796d",
   "metadata": {},
   "outputs": [],
   "source": [
    "# xgb_clf = XGBClassifier(random_state=42)"
   ]
  },
  {
   "cell_type": "code",
   "execution_count": null,
   "id": "8d4ac196-47fa-4e97-ae7d-d689b92bbfe3",
   "metadata": {},
   "outputs": [],
   "source": [
    "xgb_params = {'n_estimators' : [100,150,200,250,300,350,400,500],\n",
    "         \"learning_rate\"    : [0.01,0.02,0.03,0.05,0.10] ,\n",
    "         \"max_depth\"        : [ 3,4,5,6,7,8,10,12,13],\n",
    "         \"min_child_weight\" : [ 1,2,3,4,5,6,7]}"
   ]
  },
  {
   "cell_type": "code",
   "execution_count": null,
   "id": "ee3d9f39-0605-4c3b-826b-52dd1df0debb",
   "metadata": {},
   "outputs": [],
   "source": [
    "xgb_clf = GridSearchCV(XGBClassifier(), xgb_params, n_jobs = -1,cv=5)\n"
   ]
  },
  {
   "cell_type": "code",
   "execution_count": null,
   "id": "f2132b60-7cf1-4361-bd06-24780caae939",
   "metadata": {
    "tags": []
   },
   "outputs": [],
   "source": [
    "\n",
    "xgb_clf.fit(Xx_train,yy_train)"
   ]
  },
  {
   "cell_type": "code",
   "execution_count": null,
   "id": "77779656-61e8-425f-b557-59be97f9face",
   "metadata": {},
   "outputs": [],
   "source": [
    "xgb_res = predict_and_evaluate(xgb_clf, X_test, y_test)"
   ]
  },
  {
   "cell_type": "code",
   "execution_count": null,
   "id": "404712f4-4d20-4867-9753-cf6ef7a198e6",
   "metadata": {},
   "outputs": [],
   "source": [
    "#print(xgb_res.best_params)\n",
    "#print(xgb_res.best_estimator_)"
   ]
  },
  {
   "cell_type": "code",
   "execution_count": null,
   "id": "e2f3a4d9-729d-44d4-864c-c160f4576c98",
   "metadata": {},
   "outputs": [],
   "source": [
    "joblib.dump(xgb_clf,\"../models/xg.joblib\")"
   ]
  },
  {
   "cell_type": "code",
   "execution_count": null,
   "id": "281e2d5a-036f-484a-b38d-03b35dda5dda",
   "metadata": {},
   "outputs": [],
   "source": [
    "xgb_top = GridSearchCV(XGBClassifier(), xgb_params, n_jobs = -1,cv=5)\n",
    "xgb_top.fit(top_train, yy_train)\n",
    "xgb_pre = predict_and_evaluate(xgb_top, top_test, y_test)"
   ]
  },
  {
   "cell_type": "code",
   "execution_count": null,
   "id": "063b70dd-60ef-47d3-a8b1-d257236a5cfe",
   "metadata": {},
   "outputs": [],
   "source": [
    "joblib.dump(xgb_top,\"../models/xg_40.joblib\")"
   ]
  },
  {
   "cell_type": "markdown",
   "id": "ded9c074-4bb3-4c9d-a29f-13c5002903be",
   "metadata": {},
   "source": [
    "# SVM"
   ]
  },
  {
   "cell_type": "code",
   "execution_count": null,
   "id": "a65a3867-d8b1-41d8-b4d2-2de4316f15fc",
   "metadata": {},
   "outputs": [],
   "source": [
    "# from sklearn.svm import SVC # \"Support vector classifier\"  \n",
    "# classifier = SVC(kernel='linear', random_state=0)  \n",
    "# classifier.fit(Xx_train, yy_train)"
   ]
  },
  {
   "cell_type": "code",
   "execution_count": null,
   "id": "4f98f5cf-5761-4e1f-8ddf-1d4a93ca0ece",
   "metadata": {},
   "outputs": [],
   "source": [
    "# classifier = predict_and_evaluate(classifier, X_test, y_test)"
   ]
  },
  {
   "cell_type": "markdown",
   "id": "ca54329c-80ad-483d-b9f6-b12040ebf3d7",
   "metadata": {},
   "source": [
    "# Logistic Regression"
   ]
  },
  {
   "cell_type": "code",
   "execution_count": null,
   "id": "f7fb6465-a940-47c6-abc8-509fb9834388",
   "metadata": {},
   "outputs": [],
   "source": [
    "# logr = linear_model.LogisticRegression(random_state=42)\n",
    "# logr.fit(Xx_train, yy_train)"
   ]
  },
  {
   "cell_type": "code",
   "execution_count": null,
   "id": "4b35c8a1-0bce-403c-af31-379aa8f3d7c3",
   "metadata": {},
   "outputs": [],
   "source": [
    "log_params = [{'solver': ['newton-cg', 'lbfgs', 'liblinear', 'sag', 'saga']},\n",
    "              {'penalty':['none', 'elasticnet', 'l1', 'l2']},\n",
    "              {'C':[0.001,0.002,0.003,0.005, 0.01,0.02,0.04, 0.1, 1, 10, 100]}]\n",
    "\n",
    "\n",
    "\n",
    "logr = GridSearchCV(linear_model.LogisticRegression(),  \n",
    "                           param_grid = log_params,\n",
    "                           cv = 5,\n",
    "                   )\n",
    "\n",
    "logr.fit(Xx_train, yy_train)\n"
   ]
  },
  {
   "cell_type": "code",
   "execution_count": null,
   "id": "5927af0e-8250-47eb-8fd0-9b5dd330aebe",
   "metadata": {},
   "outputs": [],
   "source": [
    "val = predict_and_evaluate(logr, X_test, y_test)"
   ]
  },
  {
   "cell_type": "code",
   "execution_count": null,
   "id": "b98523ca-0210-456d-ae24-523047f800ac",
   "metadata": {},
   "outputs": [],
   "source": [
    "joblib.dump(logr,\"../models/log.joblib\")"
   ]
  },
  {
   "cell_type": "code",
   "execution_count": null,
   "id": "ce10c370-e857-4775-836d-e937558402cc",
   "metadata": {},
   "outputs": [],
   "source": [
    "log_top = GridSearchCV(linear_model.LogisticRegression(),  \n",
    "                           param_grid = log_params,\n",
    "                           cv = 5,\n",
    "                   )\n",
    "\n",
    "log_top.fit(top_train, yy_train)\n",
    "log_pre = predict_and_evaluate(log_top, top_test, y_test)"
   ]
  },
  {
   "cell_type": "code",
   "execution_count": null,
   "id": "73c30897-d5b5-4023-83b4-bb9218ddd2e2",
   "metadata": {},
   "outputs": [],
   "source": [
    "joblib.dump(log_top,\"../models/log_40.joblib\")"
   ]
  },
  {
   "cell_type": "markdown",
   "id": "68a75ab2-eb95-44fa-8c51-470e1660ea91",
   "metadata": {},
   "source": [
    "# Cat Boost"
   ]
  },
  {
   "cell_type": "raw",
   "id": "3d725bf0-8d62-41b3-8558-c6290f8f1636",
   "metadata": {},
   "source": [
    "cat_clf = CatBoostClassifier(random_state=42)"
   ]
  },
  {
   "cell_type": "code",
   "execution_count": null,
   "id": "0663bb2e-142b-495a-8073-e45772c1aea9",
   "metadata": {},
   "outputs": [],
   "source": [
    "cat_parameters = {'depth'         : [4,5,6,7,8,9,10],\n",
    "                'learning_rate' : [0.01,0.02,0.03,0.04],\n",
    "                'iterations'    : [40,50,60,70,80,90,100]}\n",
    "             "
   ]
  },
  {
   "cell_type": "code",
   "execution_count": null,
   "id": "6c22c551-4c50-47e5-be99-04eaa10f85db",
   "metadata": {},
   "outputs": [],
   "source": [
    "cat_clf = GridSearchCV(CatBoostClassifier(), cat_parameters, n_jobs = -1,cv=5)"
   ]
  },
  {
   "cell_type": "code",
   "execution_count": null,
   "id": "8587ed42-90a4-44cb-921a-7f405d9762b5",
   "metadata": {
    "tags": []
   },
   "outputs": [],
   "source": [
    "cat_clf.fit(Xx_train,yy_train)"
   ]
  },
  {
   "cell_type": "code",
   "execution_count": null,
   "id": "fbe3fc38-1c15-4bce-b8bf-cd1f4e2fe94c",
   "metadata": {},
   "outputs": [],
   "source": [
    "print(cat_clf)"
   ]
  },
  {
   "cell_type": "code",
   "execution_count": null,
   "id": "2c6f21e1-fd4b-478d-887f-3c79165975b8",
   "metadata": {},
   "outputs": [],
   "source": [
    "print(cat_clf.best_params_)\n",
    "print(cat_clf.best_estimator_)"
   ]
  },
  {
   "cell_type": "code",
   "execution_count": null,
   "id": "3bc3ba90-febc-423c-851e-02e36ee0a010",
   "metadata": {},
   "outputs": [],
   "source": [
    "cat_res = predict_and_evaluate(cat_clf, X_test, y_test)"
   ]
  },
  {
   "cell_type": "code",
   "execution_count": null,
   "id": "17b4aa6a-1fd1-4ff7-ab37-1440bb7b28e9",
   "metadata": {},
   "outputs": [],
   "source": [
    "joblib.dump(cat_clf,\"../models/cat.joblib\")"
   ]
  },
  {
   "cell_type": "code",
   "execution_count": null,
   "id": "cfd423d6-6a94-40c3-bc1b-82ac4f59db47",
   "metadata": {},
   "outputs": [],
   "source": [
    "cat_top = GridSearchCV(CatBoostClassifier(), cat_parameters, n_jobs = -1,cv=5)\n",
    "cat_top.fit(top_train, yy_train)\n",
    "cat_pre = predict_and_evaluate(cat_top, top_test, y_test)"
   ]
  },
  {
   "cell_type": "code",
   "execution_count": null,
   "id": "165436c7-2d2d-4734-853d-45dcc7b6d802",
   "metadata": {},
   "outputs": [],
   "source": [
    "joblib.dump(cat_top,\"../models/cat_40.joblib\")"
   ]
  },
  {
   "cell_type": "markdown",
   "id": "de7d01a3-f343-4e69-b12a-0ef06ba65db5",
   "metadata": {},
   "source": [
    "# Decission Tree"
   ]
  },
  {
   "cell_type": "code",
   "execution_count": null,
   "id": "7c7a7987-801d-4742-ba8a-ff8a41c1ea11",
   "metadata": {},
   "outputs": [],
   "source": [
    "# from sklearn.tree import DecisionTreeClassifier  \n",
    "# classifier_tree= DecisionTreeClassifier(criterion='entropy', random_state=42)  \n",
    "# classifier_tree.fit(Xx_train, yy_train)"
   ]
  },
  {
   "cell_type": "code",
   "execution_count": null,
   "id": "10384705-bad3-439c-9456-949a3a2a3f9e",
   "metadata": {},
   "outputs": [],
   "source": [
    "# dt_res = predict_and_evaluate(classifier_tree, X_test, y_test)"
   ]
  },
  {
   "cell_type": "markdown",
   "id": "f2caa447-146e-4431-869f-77dde6220974",
   "metadata": {},
   "source": [
    "# Navie Bayes"
   ]
  },
  {
   "cell_type": "code",
   "execution_count": null,
   "id": "80130cca-81a8-4ebd-9ea8-e3de45f90844",
   "metadata": {},
   "outputs": [],
   "source": [
    "# from sklearn.naive_bayes import GaussianNB\n",
    "# gnb = GaussianNB()\n",
    "# gnb.fit(Xx_train, yy_train)"
   ]
  },
  {
   "cell_type": "code",
   "execution_count": null,
   "id": "8ead06e7-d5b6-4030-9be5-d657c64d3a22",
   "metadata": {},
   "outputs": [],
   "source": [
    "# nb_res = predict_and_evaluate(gnb, X_test, y_test)"
   ]
  },
  {
   "cell_type": "markdown",
   "id": "ef419796-a2c0-4350-9a96-7c4a6aaa4b81",
   "metadata": {},
   "source": [
    "# AdaBoost"
   ]
  },
  {
   "cell_type": "code",
   "execution_count": null,
   "id": "3a410acd-d479-47e0-9195-29990b8e8281",
   "metadata": {},
   "outputs": [],
   "source": [
    "# adaboost = AdaBoostClassifier(n_estimators=100, base_estimator= None,learning_rate=1, random_state = 4)"
   ]
  },
  {
   "cell_type": "code",
   "execution_count": null,
   "id": "63c9b997-3b9a-44a2-bc0c-a801d8963b86",
   "metadata": {},
   "outputs": [],
   "source": [
    "abc = AdaBoostClassifier(base_estimator=AdaBoostClassifier())\n",
    "\n",
    "parameters = {'base_estimator__max_depth':[i for i in range(2,11,2)],\n",
    "              'base_estimator__min_samples_leaf':[5,10],\n",
    "              'n_estimators':[10,50,250,1000],\n",
    "              'learning_rate':[0.01,0.02,0.03,0.1]}\n",
    "\n",
    "adaboost = GridSearchCV(abc, parameters,verbose=3,scoring='f1',n_jobs=-1,cv = 5)"
   ]
  },
  {
   "cell_type": "code",
   "execution_count": null,
   "id": "304492e8-36f1-4573-8249-3124f6371ef1",
   "metadata": {},
   "outputs": [],
   "source": [
    "adaboost.fit(Xx_train,yy_train)"
   ]
  },
  {
   "cell_type": "code",
   "execution_count": null,
   "id": "651902bc-b7c7-4b84-90a2-35688911ba09",
   "metadata": {},
   "outputs": [],
   "source": [
    "ada_res = predict_and_evaluate(adaboost, X_test, y_test)"
   ]
  },
  {
   "cell_type": "code",
   "execution_count": null,
   "id": "af7693ee-6046-4893-aef3-8c5de452512f",
   "metadata": {},
   "outputs": [],
   "source": [
    "joblib.dump(cat_clf,\"../models/ada.joblib\")"
   ]
  },
  {
   "cell_type": "code",
   "execution_count": null,
   "id": "fba850a0-be25-4994-b006-89b1f8064a4a",
   "metadata": {},
   "outputs": [],
   "source": [
    "ada_top = GridSearchCV(abc, parameters,n_jobs=-1,cv = 5)\n",
    "ada_top.fit(top_train, yy_train)\n",
    "ada_pre = predict_and_evaluate(ada_top, top_test, y_test)"
   ]
  },
  {
   "cell_type": "code",
   "execution_count": null,
   "id": "dfe6c910-7dda-4944-be8c-9c3107182fe5",
   "metadata": {},
   "outputs": [],
   "source": [
    "joblib.dump(ada_top,\"../models/ada_40.joblib\")"
   ]
  },
  {
   "cell_type": "markdown",
   "id": "e6f698a4",
   "metadata": {},
   "source": [
    "## Gradient Boosting"
   ]
  },
  {
   "cell_type": "raw",
   "id": "c78d735e-aeba-450b-adc7-fb5dbd21eb8c",
   "metadata": {},
   "source": [
    "gbm_clf = GradientBoostingClassifier(random_state=42)"
   ]
  },
  {
   "cell_type": "code",
   "execution_count": null,
   "id": "b5aec3e0-0db4-4ec0-9010-6e122bcc1a5e",
   "metadata": {},
   "outputs": [],
   "source": [
    "# Parameter matrix for GBM\n",
    "gbm_params = {  \"n_estimators\":[100,150,200,250,300,350],\n",
    "                \"learning_rate\": [0.01, 0.025,0.03,0.04,0.05],\n",
    "                \"max_depth\" : [3,4,5,6],\n",
    "                \"subsample\":[ 0.7,0.8, 0.9,1.0,1.1] \n",
    "            }"
   ]
  },
  {
   "cell_type": "code",
   "execution_count": null,
   "id": "9c5f74e7-ce78-42fb-b204-66feaf94a3ce",
   "metadata": {},
   "outputs": [],
   "source": [
    "gbm_clf = GridSearchCV(GradientBoostingClassifier(), gbm_params, n_jobs = -1,\n",
    "                           cv = 5)"
   ]
  },
  {
   "cell_type": "code",
   "execution_count": null,
   "id": "541c87f5",
   "metadata": {},
   "outputs": [],
   "source": [
    "gbm_clf.fit(Xx_train,yy_train)"
   ]
  },
  {
   "cell_type": "code",
   "execution_count": null,
   "id": "5511fd5e-c312-4090-bede-e4a7c7fed082",
   "metadata": {},
   "outputs": [],
   "source": [
    "# GBM best parameters\n",
    "gbm_clf.best_params_"
   ]
  },
  {
   "cell_type": "code",
   "execution_count": null,
   "id": "44681430-7ced-4b58-8fbe-870a7ee201d8",
   "metadata": {},
   "outputs": [],
   "source": [
    "gbm_clf.best_estimator_"
   ]
  },
  {
   "cell_type": "code",
   "execution_count": null,
   "id": "41e9ec41",
   "metadata": {},
   "outputs": [],
   "source": [
    "gbm_res = predict_and_evaluate(gbm_clf, X_test, y_test)"
   ]
  },
  {
   "cell_type": "code",
   "execution_count": null,
   "id": "e8a3744e-cc09-42a1-8bec-d7168bd67b45",
   "metadata": {},
   "outputs": [],
   "source": [
    "joblib.dump(gbm_clf,\"../models/gbm.joblib\")"
   ]
  },
  {
   "cell_type": "code",
   "execution_count": null,
   "id": "58664b98-53ed-4de9-87b8-00596b781bc2",
   "metadata": {},
   "outputs": [],
   "source": [
    "gbm_top = GridSearchCV(GradientBoostingClassifier(), gbm_params, n_jobs = -1,\n",
    "                           cv = 5)\n",
    "gbm_top.fit(top_train, yy_train)\n",
    "gbm_pre = predict_and_evaluate(gbm_top, top_test, y_test)"
   ]
  },
  {
   "cell_type": "code",
   "execution_count": null,
   "id": "11725a51-e84f-4fcd-bbc9-d57d98f923ef",
   "metadata": {},
   "outputs": [],
   "source": [
    "joblib.dump(gbm_top,\"../models/gbm_40.joblib\")"
   ]
  },
  {
   "cell_type": "markdown",
   "id": "192cce83-1941-4db8-ba8a-b15383f3f3c8",
   "metadata": {},
   "source": [
    "# Multi Layer Perceptron"
   ]
  },
  {
   "cell_type": "code",
   "execution_count": null,
   "id": "0a81ebc8-8d88-49dd-91c0-c2cb218deeac",
   "metadata": {},
   "outputs": [],
   "source": [
    "\n",
    "\n",
    "# # Create model object\n",
    "# clf = MLPClassifier(hidden_layer_sizes=(6,5),\n",
    "#                     random_state=5,\n",
    "#                     verbose=True,\n",
    "#                     learning_rate_init=0.01)\n",
    "\n"
   ]
  },
  {
   "cell_type": "code",
   "execution_count": null,
   "id": "1cdcb990-679c-4db9-b99d-4411c60b31b9",
   "metadata": {},
   "outputs": [],
   "source": [
    "# parameters = {'solver': ['lbfgs'], 'max_iter': [1000,1100,1200,1300,1400,1500,1600,1700,1800,1900,2000 ],\n",
    "#               'alpha': 10.0 ** -np.arange(1, 10), 'hidden_layer_sizes':np.arange(5, 15), 'random_state':[0,1,2,3,4,5,6,7,8,9]}\n",
    "# clf = GridSearchCV(MLPClassifier(), parameters, n_jobs=-1,scoring = 'recall',\n",
    "#                            cv = 5)"
   ]
  },
  {
   "cell_type": "code",
   "execution_count": null,
   "id": "dcdbc6d8-36de-40f0-b86e-20b6d3b50300",
   "metadata": {},
   "outputs": [],
   "source": [
    "# from sklearn.model_selection import KFold\n",
    "# parameter_space = {\n",
    "#     'hidden_layer_sizes': [(10,30,10),(20,)],\n",
    "#     'activation': ['tanh', 'relu'],\n",
    "#     'solver': ['sgd', 'adam'],\n",
    "#     'alpha': [0.0001, 0.05],\n",
    "#     'learning_rate': ['constant','adaptive'],\n",
    "# }\n",
    "parameters = {'solver': ['lbfgs', 'sgd', 'adam'], 'max_iter': [200],\n",
    "              'activation': ['tanh', 'relu'],\n",
    "              'alpha': 10.0 ** -np.arange(1, 10),'learning_rate': ['constant','adaptive'],\n",
    "              'hidden_layer_sizes':np.arange(5, 15)}\n",
    "mlp = GridSearchCV(MLPClassifier(), parameters, n_jobs=-1,\n",
    "                           cv = 5)"
   ]
  },
  {
   "cell_type": "code",
   "execution_count": null,
   "id": "6c7625e1-30a1-41f1-a751-0a6e6bc83b0b",
   "metadata": {},
   "outputs": [],
   "source": [
    "# Fit data onto the model\n",
    "print(mlp.fit(Xx_train,yy_train))"
   ]
  },
  {
   "cell_type": "code",
   "execution_count": null,
   "id": "c26291b8-b256-45d0-ac3a-d790583f2a37",
   "metadata": {},
   "outputs": [],
   "source": [
    "mlp_res = predict_and_evaluate(mlp, X_test, y_test)"
   ]
  },
  {
   "cell_type": "code",
   "execution_count": null,
   "id": "5aec637c-d5ee-4fed-b85e-f230857d0b01",
   "metadata": {},
   "outputs": [],
   "source": [
    "joblib.dump(mlp_res,\"../models/mlb.joblib\")"
   ]
  },
  {
   "cell_type": "code",
   "execution_count": null,
   "id": "18668af6-9c67-40d4-81e8-f7928f7f805b",
   "metadata": {},
   "outputs": [],
   "source": [
    "mlp_top = GridSearchCV(MLPClassifier(), parameters, n_jobs=-1,\n",
    "                           cv = 5)\n",
    "mlp_top.fit(top_train, yy_train)\n",
    "mlp_pre = predict_and_evaluate(mlp_top, top_test, y_test)\n",
    "joblib.dump(mlp_top,\"../models/mlb_40.joblib\")"
   ]
  },
  {
   "cell_type": "code",
   "execution_count": null,
   "id": "34493e82",
   "metadata": {},
   "outputs": [],
   "source": [
    "#FP is it is negative but model predicted positive : precision of model\n",
    "#FN is it is positive but model predicted negative : recall of model\n",
    "print(\"Results with full features\")\n",
    "results = pd.DataFrame(data=[rf_res, xgb_res,cat_res,val,gbm_res,adaboost,mlp_res], \n",
    "             columns=('Algorithm','False Positives', \n",
    "                      'False Negatives', 'Precision', \n",
    "                      'Recall', 'F1 Score',\"Accuracy\"))\n",
    "\n",
    "\n",
    "results[\"Algorithm\"] = [\"RandomForest\",\"XGBoost\",\"CatBoost\",\"LogisticRegerssion\",\"GBclassifier\",\n",
    "                       \"Adaboost\",\"MLP\"]\n",
    "\n",
    "print(results)\n",
    "#hyp\n",
    "#Scaler : power transformer\n",
    "#Under sampling : undersample\n",
    "#features : all\n",
    "#Outlier treatment : no\n",
    "#Payments : added"
   ]
  },
  {
   "cell_type": "code",
   "execution_count": null,
   "id": "6ba22fa5-5d85-4a17-90a4-4c3f9e2593ae",
   "metadata": {},
   "outputs": [],
   "source": [
    "print(\"Results with top 40 features\")\n",
    "\n",
    "results = pd.DataFrame(data=[rf_pre, xgb_pre,cat_pre,log_pre,gbm_pre,ada_pre,mlp_pre], \n",
    "             columns=('Algorithm','False Positives', \n",
    "                      'False Negatives', 'Precision', \n",
    "                      'Recall', 'F1 Score',\"Accuracy\"))\n",
    "\n",
    "\n",
    "results[\"Algorithm\"] = [\"RandomForest\",\"XGBoost\",\"CatBoost\",\"LogisticRegerssion\",\"GBclassifier\",\n",
    "                       \"Adaboost\",\"MLP\"]\n",
    "\n",
    "print(\"Results\")"
   ]
  },
  {
   "cell_type": "code",
   "execution_count": null,
   "id": "7718f053",
   "metadata": {},
   "outputs": [],
   "source": [
    "#high false positive : hence acc low\n",
    "\n",
    "#Nearmiss 1\n",
    "#Good results with outliers fixed \n",
    "\n",
    "#Near miss 2:\n",
    "#excellent recall 99, false negative 1 +-5\n",
    "\n",
    "#near miss 3:\n",
    "#best result among the 3 :\n",
    "#accuracy up by 27\n",
    "#FP drop\n",
    "#minute decrease in recall"
   ]
  },
  {
   "cell_type": "code",
   "execution_count": null,
   "id": "70a76530",
   "metadata": {},
   "outputs": [],
   "source": []
  },
  {
   "cell_type": "code",
   "execution_count": null,
   "id": "8bcf7286",
   "metadata": {},
   "outputs": [],
   "source": []
  },
  {
   "cell_type": "code",
   "execution_count": null,
   "id": "1ce68f3b",
   "metadata": {},
   "outputs": [],
   "source": [
    "# np.arange(5, 15)"
   ]
  },
  {
   "cell_type": "code",
   "execution_count": null,
   "id": "a0bc7775",
   "metadata": {},
   "outputs": [],
   "source": []
  },
  {
   "cell_type": "code",
   "execution_count": null,
   "id": "305ef039",
   "metadata": {},
   "outputs": [],
   "source": [
    "# cv_scores = []\n",
    "# names = []\n",
    "# for name, clf in classifiers:\n",
    "#     print(name)\n",
    "#     #clf.fit(X_train, y_train)\n",
    "#     y_prob = clf.predict_proba(X_test)[:,1] # This will give you positive class prediction probabilities  \n",
    "#     y_pred = np.where(y_prob > 0.5, 1, 0) # This will threshold the probabilities to give class predictions.\n",
    "#     print(\"Model Score : \",clf.score(X_test, y_pred))\n",
    "#     print(\"Number of mislabeled points from %d points : %d\"% (X_test.shape[0],(y_test!= y_pred).sum()))\n",
    "#     scores = cross_val_score(clf, X, y, cv=10, scoring='accuracy')\n",
    "#     cv_scores.append(scores)\n",
    "#     names.append(name)\n",
    "#     print(\"Cross validation scores : \",scores.mean())\n",
    "#     confusion_matrix=metrics.confusion_matrix(y_test,y_pred)\n",
    "#     print(\"Confusion Matrix \\n\",confusion_matrix)\n",
    "#     classification_report = metrics.classification_report(y_test,y_pred)\n",
    "#     print(\"Classification Report \\n\",classification_report)"
   ]
  },
  {
   "cell_type": "markdown",
   "id": "98eb0e9c-3351-4db5-b82f-14daa2c972a2",
   "metadata": {},
   "source": [
    "# "
   ]
  }
 ],
 "metadata": {
  "kernelspec": {
   "display_name": "Python 3 (ipykernel)",
   "language": "python",
   "name": "python3"
  },
  "language_info": {
   "codemirror_mode": {
    "name": "ipython",
    "version": 3
   },
   "file_extension": ".py",
   "mimetype": "text/x-python",
   "name": "python",
   "nbconvert_exporter": "python",
   "pygments_lexer": "ipython3",
   "version": "3.10.1"
  }
 },
 "nbformat": 4,
 "nbformat_minor": 5
}
