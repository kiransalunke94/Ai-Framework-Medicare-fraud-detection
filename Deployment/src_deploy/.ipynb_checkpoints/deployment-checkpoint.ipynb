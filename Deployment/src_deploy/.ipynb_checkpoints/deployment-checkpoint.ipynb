{
 "cells": [
  {
   "cell_type": "code",
   "execution_count": null,
   "id": "fbf9ad24-e9db-4092-82f3-9ee010522e1a",
   "metadata": {},
   "outputs": [],
   "source": [
    "import pandas as pd\n",
    "import numpy as np\n",
    "from scipy import stats\n",
    "\n",
    "#Data analysis\n",
    "import seaborn as sns\n",
    "import matplotlib.pyplot as plt\n",
    "\n",
    "from sklearn.preprocessing import RobustScaler, StandardScaler, MinMaxScaler,PowerTransformer\n",
    "from sklearn.model_selection import train_test_split, StratifiedShuffleSplit\n",
    "from sklearn.metrics import confusion_matrix, accuracy_score,classification_report\n",
    "from sklearn.model_selection import GridSearchCV\n",
    "from sklearn.ensemble import AdaBoostClassifier\n",
    "\n",
    "#Sampling\n",
    "from collections import Counter\n",
    "from imblearn.under_sampling import RandomUnderSampler,NearMiss,NeighbourhoodCleaningRule,ClusterCentroids,CondensedNearestNeighbour\n",
    "from imblearn.under_sampling import OneSidedSelection,AllKNN,EditedNearestNeighbours,RepeatedEditedNearestNeighbours,TomekLinks\n",
    "from imblearn.combine import SMOTETomek,SMOTEENN\n",
    "from imblearn.over_sampling import ADASYN \n",
    "\n",
    "#Visualizing sampling output, dimensionality reduction\n",
    "from sklearn.manifold import TSNE\n",
    "from sklearn.decomposition import PCA\n",
    "\n",
    "# For model buidling\n",
    "from sklearn.ensemble import RandomForestClassifier, GradientBoostingClassifier\n",
    "from xgboost import XGBClassifier\n",
    "from catboost import CatBoostClassifier\n",
    "\n",
    "# Custom module for prediction and model evalution\n",
    "from utils import predict_and_evaluate\n",
    "import joblib\n",
    "\n",
    "from sklearn.neural_network import MLPClassifier\n",
    "from sklearn import linear_model"
   ]
  },
  {
   "cell_type": "raw",
   "id": "4ee22e20-9fbf-449c-89c5-bd74a24a019f",
   "metadata": {},
   "source": [
    "spark = SparkSession.builder.appName(\"ML Regression Example\").getOrCreate()"
   ]
  },
  {
   "cell_type": "raw",
   "id": "b3f71fa1-7c22-4231-a569-57a4d697495d",
   "metadata": {},
   "source": [
    "group = df.withColumnRenamed(\"Tot_Clms\",\"Total_claims\").withColumnRenamed(\"Prscrbr_First_Name\",\"First_name\")"
   ]
  },
  {
   "cell_type": "code",
   "execution_count": 22,
   "id": "d6505a75-7a2d-43c7-bf78-8f76bc8fad96",
   "metadata": {},
   "outputs": [],
   "source": [
    "df_ml = pd.read_csv(\"../data/hyp_pay_fill_0.1 -1.csv\")"
   ]
  },
  {
   "cell_type": "code",
   "execution_count": 18,
   "id": "b03fbe53-34b3-4eac-8486-84ecfc5791ce",
   "metadata": {},
   "outputs": [],
   "source": [
    "df_ml.drop([\"Unnamed: 0.1\",\"Unnamed: 0\",\"State\"],axis =1,inplace= True)\n",
    "df_ml[\"fraud\"] = df_ml[\"FRAUD\"]\n",
    "df_ml.drop(\"FRAUD\",axis=1,inplace = True)\n",
    "df_ml = df_ml.round(2)\n"
   ]
  },
  {
   "cell_type": "code",
   "execution_count": null,
   "id": "7a2e535b-347a-4464-b6b7-fe5e24cb8227",
   "metadata": {},
   "outputs": [],
   "source": [
    "df_ml.to_csv(\"../data/deployment_df.csv\")"
   ]
  },
  {
   "cell_type": "code",
   "execution_count": 19,
   "id": "7a262e20-a6f7-46f4-a961-72f68a47bfa5",
   "metadata": {},
   "outputs": [
    {
     "data": {
      "text/plain": [
       "['max_Tot_Drug_Cst',\n",
       " 'sum_Tot_Drug_Cst',\n",
       " 'avg_Tot_Drug_Cst',\n",
       " 'max_Total_claims',\n",
       " 'sum_Total_claims',\n",
       " 'avg_Total_claims',\n",
       " 'max_Tot_Day_Suply',\n",
       " 'sum_Tot_Day_Suply',\n",
       " 'avg_Tot_Day_Suply',\n",
       " 'max_Tot_30day_Fills',\n",
       " 'sum_Tot_30day_Fills',\n",
       " 'avg_Tot_30day_Fills',\n",
       " 'claim_max-mean',\n",
       " 'supply_max-mean',\n",
       " 'drug_max-mean',\n",
       " 'Total_payments']"
      ]
     },
     "execution_count": 19,
     "metadata": {},
     "output_type": "execute_result"
    }
   ],
   "source": [
    "scale_features = df_ml.columns.to_list()[1:16]\n",
    "scale_features.append(\"Total_payments\")\n",
    "scale_features"
   ]
  },
  {
   "cell_type": "code",
   "execution_count": null,
   "id": "aa6a3967-59e0-4da3-b35e-8c8c0f23525a",
   "metadata": {},
   "outputs": [],
   "source": [
    "pt = PowerTransformer()"
   ]
  },
  {
   "cell_type": "code",
   "execution_count": null,
   "id": "9f6a6c1d-8c10-444e-aa23-936ff2793ff7",
   "metadata": {},
   "outputs": [],
   "source": []
  },
  {
   "cell_type": "code",
   "execution_count": null,
   "id": "95e37b46-6781-4e02-945f-68aa1570cf2b",
   "metadata": {},
   "outputs": [],
   "source": []
  },
  {
   "cell_type": "code",
   "execution_count": null,
   "id": "8bd98595-5657-4e5c-91a5-e36d1efdfe33",
   "metadata": {},
   "outputs": [],
   "source": [
    "python3 pay.py drug_data.csv output_csv"
   ]
  },
  {
   "cell_type": "code",
   "execution_count": null,
   "id": "827a9680-bb1d-4dc4-9386-0c268fba760e",
   "metadata": {},
   "outputs": [],
   "source": [
    "python3 payment.py payment.csv output_csv"
   ]
  },
  {
   "cell_type": "code",
   "execution_count": null,
   "id": "ef95872a-694a-41ac-8fe3-9e42f5c5dc19",
   "metadata": {},
   "outputs": [],
   "source": [
    "python3 merge o1 o2 merge"
   ]
  },
  {
   "cell_type": "code",
   "execution_count": null,
   "id": "cb4cc2cf-6801-47d8-8047-5242ad0bdea3",
   "metadata": {},
   "outputs": [],
   "source": []
  },
  {
   "cell_type": "code",
   "execution_count": null,
   "id": "3540fb1f-b43c-490b-a03d-2a39fbc4348c",
   "metadata": {},
   "outputs": [],
   "source": []
  }
 ],
 "metadata": {
  "kernelspec": {
   "display_name": "Python 3 (ipykernel)",
   "language": "python",
   "name": "python3"
  },
  "language_info": {
   "codemirror_mode": {
    "name": "ipython",
    "version": 3
   },
   "file_extension": ".py",
   "mimetype": "text/x-python",
   "name": "python",
   "nbconvert_exporter": "python",
   "pygments_lexer": "ipython3",
   "version": "3.10.1"
  }
 },
 "nbformat": 4,
 "nbformat_minor": 5
}
