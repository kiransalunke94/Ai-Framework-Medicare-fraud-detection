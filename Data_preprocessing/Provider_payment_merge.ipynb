{
 "cells": [
  {
   "cell_type": "code",
   "execution_count": 1,
   "id": "591d956a",
   "metadata": {},
   "outputs": [],
   "source": [
    "from pyspark.sql import SparkSession\n",
    "import pandas as pd\n",
    "import numpy as np\n",
    "\n",
    "#import functions\n",
    "from pyspark.sql import functions\n",
    "\n",
    "from pyspark.sql.types import StructField, StringType, IntegerType, StructType, DoubleType, LongType,FloatType\n",
    "\n",
    "import pickle\n",
    "\n",
    "from pyspark.sql.functions import col,isnan, when, count"
   ]
  },
  {
   "cell_type": "code",
   "execution_count": 2,
   "id": "a5566a7b",
   "metadata": {},
   "outputs": [],
   "source": [
    "spark = SparkSession.builder.appName(\"Datamerge\").getOrCreate()"
   ]
  },
  {
   "cell_type": "markdown",
   "id": "d6cca81e",
   "metadata": {},
   "source": [
    "## Loading data"
   ]
  },
  {
   "cell_type": "markdown",
   "id": "f382b88c",
   "metadata": {},
   "source": [
    "### provider_drug data"
   ]
  },
  {
   "cell_type": "raw",
   "id": "5bd0e5a4-974e-42d7-9140-239c6a208308",
   "metadata": {},
   "source": [
    "data_schema = [StructField(\"NPI\", IntegerType(),True),\n",
    "               StructField(\"First_name_drug\", StringType(),True),\n",
    "               StructField(\"Last_name\", StringType(),True),\n",
    "               StructField(\"City\", StringType(),True),\n",
    "               StructField(\"State\", StringType(),True),\n",
    "               StructField(\"Speciality\", StringType(),True),\n",
    "               StructField(\"max_Tot_Drug_Cst\", FloatType(),True),\n",
    "               StructField(\"sum_Tot_Drug_Cst\", FloatType(),True),\n",
    "               StructField(\"avg_Tot_Drug_Cst\", FloatType(),True),\n",
    "               StructField(\"max_Total_claims\", IntegerType(),True),\n",
    "               StructField(\"sum_Total_claims\", LongType(),True),\n",
    "               StructField(\"avg_Total_claims\", DoubleType(),True),\n",
    "               StructField(\"max_Tot_Day_Suply\", IntegerType(),True),\n",
    "               StructField(\"sum_Tot_Day_Suply\", LongType(),True),\n",
    "               StructField(\"avg_Tot_Day_Suply\", FloatType(),True),\n",
    "               StructField(\"max_Tot_30day_Fills\", FloatType(),True),\n",
    "               StructField(\"sum_Tot_30day_Fills\", FloatType(),True),\n",
    "               StructField(\"avg_Tot_30day_Fills\", FloatType(),True),\n",
    "               StructField(\"Name\", StringType(),True)\n",
    "              \n",
    "              \n",
    "              ]"
   ]
  },
  {
   "cell_type": "code",
   "execution_count": 3,
   "id": "acbfbc87-69ff-4160-bcab-f8e114ad8096",
   "metadata": {},
   "outputs": [],
   "source": [
    "data_schema = [StructField(\"NPI\", IntegerType(),True),\n",
    "               StructField(\"First_name_drug\", StringType(),True),\n",
    "               StructField(\"City\", StringType(),True),\n",
    "               StructField(\"State\", StringType(),True),\n",
    "               StructField(\"Speciality\", StringType(),True),\n",
    "               StructField(\"max_Tot_Drug_Cst\", FloatType(),True),\n",
    "               StructField(\"sum_Tot_Drug_Cst\", FloatType(),True),\n",
    "               StructField(\"avg_Tot_Drug_Cst\", FloatType(),True),\n",
    "               StructField(\"max_Total_claims\", IntegerType(),True),\n",
    "               StructField(\"sum_Total_claims\", LongType(),True),\n",
    "               StructField(\"avg_Total_claims\", DoubleType(),True),\n",
    "               StructField(\"max_Tot_Day_Suply\", IntegerType(),True),\n",
    "               StructField(\"sum_Tot_Day_Suply\", LongType(),True),\n",
    "               StructField(\"avg_Tot_Day_Suply\", FloatType(),True),\n",
    "               StructField(\"max_Tot_30day_Fills\", FloatType(),True),\n",
    "               StructField(\"sum_Tot_30day_Fills\", FloatType(),True),\n",
    "               StructField(\"avg_Tot_30day_Fills\", FloatType(),True)\n",
    "              ]"
   ]
  },
  {
   "cell_type": "code",
   "execution_count": 4,
   "id": "b8c097cf",
   "metadata": {},
   "outputs": [],
   "source": [
    "final_schema = StructType(fields=data_schema)"
   ]
  },
  {
   "cell_type": "code",
   "execution_count": 5,
   "id": "ade26775",
   "metadata": {},
   "outputs": [],
   "source": [
    "df_drug = spark.read.csv(\"../data/spark_csv/drug_data_final.csv\",schema=final_schema)"
   ]
  },
  {
   "cell_type": "code",
   "execution_count": 6,
   "id": "61bb627b",
   "metadata": {},
   "outputs": [
    {
     "name": "stdout",
     "output_type": "stream",
     "text": [
      "root\n",
      " |-- NPI: integer (nullable = true)\n",
      " |-- First_name_drug: string (nullable = true)\n",
      " |-- City: string (nullable = true)\n",
      " |-- State: string (nullable = true)\n",
      " |-- Speciality: string (nullable = true)\n",
      " |-- max_Tot_Drug_Cst: float (nullable = true)\n",
      " |-- sum_Tot_Drug_Cst: float (nullable = true)\n",
      " |-- avg_Tot_Drug_Cst: float (nullable = true)\n",
      " |-- max_Total_claims: integer (nullable = true)\n",
      " |-- sum_Total_claims: long (nullable = true)\n",
      " |-- avg_Total_claims: double (nullable = true)\n",
      " |-- max_Tot_Day_Suply: integer (nullable = true)\n",
      " |-- sum_Tot_Day_Suply: long (nullable = true)\n",
      " |-- avg_Tot_Day_Suply: float (nullable = true)\n",
      " |-- max_Tot_30day_Fills: float (nullable = true)\n",
      " |-- sum_Tot_30day_Fills: float (nullable = true)\n",
      " |-- avg_Tot_30day_Fills: float (nullable = true)\n",
      "\n"
     ]
    }
   ],
   "source": [
    "df_drug.printSchema()"
   ]
  },
  {
   "cell_type": "raw",
   "id": "ea700d46",
   "metadata": {},
   "source": [
    "df_drug.show()"
   ]
  },
  {
   "cell_type": "markdown",
   "id": "62dca647",
   "metadata": {},
   "source": [
    "### Payment data"
   ]
  },
  {
   "cell_type": "code",
   "execution_count": 7,
   "id": "3495a091-32cd-4d93-bade-9ff94c0f97ce",
   "metadata": {},
   "outputs": [],
   "source": [
    "# pay_schema = [StructField(\"NPI\", IntegerType(),True),\n",
    "#                StructField(\"First_name\", StringType(),True),\n",
    "#                StructField(\"Last_name\", StringType(),True),\n",
    "#                StructField(\"Total_payments\", FloatType(),True),\n",
    "#               ]"
   ]
  },
  {
   "cell_type": "code",
   "execution_count": 8,
   "id": "4a949954-4420-493f-840f-9803b9394300",
   "metadata": {},
   "outputs": [],
   "source": [
    "# final_pay_schema = StructType(fields=pay_schema)"
   ]
  },
  {
   "cell_type": "code",
   "execution_count": 9,
   "id": "0432076a-b9ad-424a-a626-83d3b854a2ad",
   "metadata": {},
   "outputs": [],
   "source": [
    "# df_pay = spark.read.csv(\"../data/spark_csv/payment_npi_name.csv\",schema=final_pay_schema)"
   ]
  },
  {
   "cell_type": "code",
   "execution_count": null,
   "id": "c37e23f7-4640-402e-ba9f-aa46f39d6046",
   "metadata": {},
   "outputs": [],
   "source": [
    "# pay_schema1 = [StructField(\"NPI\", IntegerType(),True),\n",
    "#                StructField(\"Total_payments\", FloatType(),True)\n",
    "#               ]"
   ]
  },
  {
   "cell_type": "code",
   "execution_count": null,
   "id": "60dd4c7a-5163-4ab8-93ab-119dfec343dd",
   "metadata": {},
   "outputs": [],
   "source": [
    "# final_pay_schema1 = StructType(fields=pay_schema1)"
   ]
  },
  {
   "cell_type": "code",
   "execution_count": null,
   "id": "319fa5b4-82ef-4ecf-b780-ced2948e9159",
   "metadata": {},
   "outputs": [],
   "source": [
    "df_pay = spark.read.csv(\"../data/spark_csv/payment_npi.csv\",schema=final_pay_schema1)"
   ]
  },
  {
   "cell_type": "code",
   "execution_count": null,
   "id": "0150a52a",
   "metadata": {},
   "outputs": [],
   "source": [
    "df_pay.printSchema()"
   ]
  },
  {
   "cell_type": "code",
   "execution_count": null,
   "id": "25d0a1a5",
   "metadata": {},
   "outputs": [],
   "source": [
    "df_pay.show()"
   ]
  },
  {
   "cell_type": "markdown",
   "id": "49d205b1",
   "metadata": {},
   "source": [
    "### Joining data drug and payment "
   ]
  },
  {
   "cell_type": "markdown",
   "id": "85a2cc94",
   "metadata": {},
   "source": [
    "### With spark"
   ]
  },
  {
   "cell_type": "code",
   "execution_count": 12,
   "id": "38cd4676",
   "metadata": {},
   "outputs": [],
   "source": [
    "#pay_data_cols = df_pay.select(\"NPI\",\"Total_payments\")"
   ]
  },
  {
   "cell_type": "code",
   "execution_count": 11,
   "id": "fa884e36",
   "metadata": {},
   "outputs": [],
   "source": [
    "pay_data_cols = df_pay.withColumnRenamed(\"NPI\",\"NPI_1\")"
   ]
  },
  {
   "cell_type": "code",
   "execution_count": 12,
   "id": "36848d93",
   "metadata": {},
   "outputs": [],
   "source": [
    "df_drug_pay = df_drug.join(pay_data_cols,df_drug.NPI == pay_data_cols.NPI_1,\"left\")"
   ]
  },
  {
   "cell_type": "code",
   "execution_count": 13,
   "id": "5554839c",
   "metadata": {},
   "outputs": [
    {
     "name": "stdout",
     "output_type": "stream",
     "text": [
      "root\n",
      " |-- NPI: integer (nullable = true)\n",
      " |-- First_name_drug: string (nullable = true)\n",
      " |-- City: string (nullable = true)\n",
      " |-- State: string (nullable = true)\n",
      " |-- Speciality: string (nullable = true)\n",
      " |-- max_Tot_Drug_Cst: float (nullable = true)\n",
      " |-- sum_Tot_Drug_Cst: float (nullable = true)\n",
      " |-- avg_Tot_Drug_Cst: float (nullable = true)\n",
      " |-- max_Total_claims: integer (nullable = true)\n",
      " |-- sum_Total_claims: long (nullable = true)\n",
      " |-- avg_Total_claims: double (nullable = true)\n",
      " |-- max_Tot_Day_Suply: integer (nullable = true)\n",
      " |-- sum_Tot_Day_Suply: long (nullable = true)\n",
      " |-- avg_Tot_Day_Suply: float (nullable = true)\n",
      " |-- max_Tot_30day_Fills: float (nullable = true)\n",
      " |-- sum_Tot_30day_Fills: float (nullable = true)\n",
      " |-- avg_Tot_30day_Fills: float (nullable = true)\n",
      " |-- NPI_1: integer (nullable = true)\n",
      " |-- First_name: string (nullable = true)\n",
      " |-- Last_name: string (nullable = true)\n",
      " |-- Total_payments: float (nullable = true)\n",
      "\n"
     ]
    }
   ],
   "source": [
    "df_drug_pay.printSchema()"
   ]
  },
  {
   "cell_type": "code",
   "execution_count": 20,
   "id": "22ed46a2-48b4-48d3-841c-b805b17dc06c",
   "metadata": {},
   "outputs": [
    {
     "name": "stdout",
     "output_type": "stream",
     "text": [
      "+----------+---------------+--------------+-----+--------------------+----------------+----------------+----------------+----------------+----------------+------------------+-----------------+-----------------+-----------------+-------------------+-------------------+-------------------+----------+----------+------------+--------------+\n",
      "|       NPI|First_name_drug|          City|State|          Speciality|max_Tot_Drug_Cst|sum_Tot_Drug_Cst|avg_Tot_Drug_Cst|max_Total_claims|sum_Total_claims|  avg_Total_claims|max_Tot_Day_Suply|sum_Tot_Day_Suply|avg_Tot_Day_Suply|max_Tot_30day_Fills|sum_Tot_30day_Fills|avg_Tot_30day_Fills|     NPI_1|First_name|   Last_name|Total_payments|\n",
      "+----------+---------------+--------------+-----+--------------------+----------------+----------------+----------------+----------------+----------------+------------------+-----------------+-----------------+-----------------+-------------------+-------------------+-------------------+----------+----------+------------+--------------+\n",
      "|1003000126|        ardalan|      Bethesda|   MD|   Internal Medicine|         4792.85|         5979.07|        747.3837|              30|             124|              15.5|              937|             3721|          465.125|               32.4|              138.2|             17.275|1003000126|   ardalan|   enkeshafi|         20.48|\n",
      "|1003000423|       jennifer|     Cleveland|   OH|Obstetrics & Gyne...|         8276.44|        15389.69|       2564.9482|              39|             122|20.333333333333332|             2412|             5217|            869.5|               82.0|              213.7|          35.616665|1003000423|  jennifer|     velotta|        171.29|\n",
      "|1003000720|         otniel|      Clemmons|   NC|  Nurse Practitioner|          657.01|         3052.84|       254.40334|              51|             230|19.166666666666668|              337|             2166|            180.5|               51.0|              230.0|          19.166666|      null|      null|        null|          null|\n",
      "|1003001785|         jaclyn|         Tulsa|   OK|  Orthopedic Surgery|         2141.24|         7812.28|         781.228|             126|             546|              54.6|             2610|             8250|            825.0|              126.0|              569.0|               56.9|1003001785|    jaclyn|       jones|        969.07|\n",
      "|1003001884|        lucille|         Flint|   MI|     Family Practice|         1324.26|         2449.09|          349.87|              31|             118|16.857142857142858|             1560|             4979|         711.2857|               53.0|              199.0|          28.428572|      null|      null|        null|          null|\n",
      "|1003002049|        lakshmi|       Fremont|   CA|       Endocrinology|         74927.7|       443067.28|       13845.853|             130|             984|             30.75|             9969|            75850|        2370.3125|              333.9|             2534.6|           79.20625|1003002049|   lakshmi|  srinivasan|         20.61|\n",
      "|1003002312|       patricia|        Quincy|   MA|        Rheumatology|        331200.5|        752350.5|       11063.979|             310|            2693| 39.60294117647059|            11852|           121124|        1781.2354|              396.0|             4126.1|           60.67794|1003002312|  patricia|     hopkins|       5422.67|\n",
      "|1003002379|         salona|      Portland|   OR|   Internal Medicine|         7866.33|         10079.2|          1259.9|              41|             152|              19.0|             1448|             4328|            541.0|               56.0|              181.3|            22.6625|      null|      null|        null|          null|\n",
      "|1003002817|         nayvis|         Doral|   FL|     Family Practice|       163725.45|       1063755.8|       5089.7407|             871|           18489| 88.46411483253588|            76881|           982587|         4701.373|             2563.5|            34647.8|          165.77895|      null|      null|        null|          null|\n",
      "|1003002890|         daniel|      Brighton|   CO|  Orthopedic Surgery|          723.36|         1011.62|         252.905|              27|              82|              20.5|              765|             2155|           538.75|               30.3|               96.8|               24.2|1003002890|    daniel|      hamman|        227.34|\n",
      "|1003003070|          anita|Port Jefferson|   NY|           Neurology|        47399.32|        85505.16|       3717.6157|             106|             644|              28.0|             5617|            29318|        1274.6957|              189.5|              986.3|           42.88261|1003003070|       ann|        jill|        295.72|\n",
      "|1003003070|          anita|Port Jefferson|   NY|           Neurology|        47399.32|        85505.16|       3717.6157|             106|             644|              28.0|             5617|            29318|        1274.6957|              189.5|              986.3|           42.88261|1003003070|     anita|        gill|          25.0|\n",
      "|1003003609|            uma|        Dallas|   TX|          Nephrology|       110660.83|        271611.0|       11317.125|             161|             969|            40.375|            11527|            67489|        2812.0417|              384.8|             2257.7|           94.07083|1003003609|       uma|pakkivenkata|         14.29|\n",
      "|1003004201|        natalie|Corpus Christi|   TX|   Internal Medicine|         41803.9|       368319.53|       3175.1682|             229|            4774|  41.1551724137931|            17413|           275276|        2373.0688|              580.4|             9459.3|           81.54569|1003004201|   natalie|   philbrick|        407.21|\n",
      "|1003004573|         joanne|       Seattle|   WA|  Nurse Practitioner|        15792.93|        43059.54|       1076.4885|             104|            1086|             27.15|             3004|            27812|            695.3|              105.2|             1098.7|            27.4675|      null|      null|        null|          null|\n",
      "|1003004771|           erin|     Littleton|   CO|   Pulmonary Disease|       177671.38|       319556.22|       18797.424|              64|             363|21.352941176470587|             2910|            14549|        855.82355|               97.0|              506.6|               29.8|1003004771|      erin|      riggle|       1267.61|\n",
      "|1003005109|       nicholas|        Oxnard|   CA|      Otolaryngology|         5439.35|        19942.83|       1246.4269|             134|             708|             44.25|             6660|            25074|         1567.125|              222.0|              983.1|           61.44375|1003005109|  nicholas|     fettman|        238.86|\n",
      "|1003006172|         nestor|     Charlotte|   NC|  Infectious Disease|       119861.78|       465338.78|        22158.99|              67|             517| 24.61904761904762|             1998|            10435|        496.90475|               69.0|              534.4|          25.447618|1003006172|    nestor|     quezada|         16.24|\n",
      "|1003006529|           joon|      Brooklyn|   NY|             Dentist|          153.55|          330.82|       110.27333|              58|             104|34.666666666666664|              389|              847|        282.33334|               58.0|              104.0|          34.666668|      null|      null|        null|          null|\n",
      "|1003006610|          cindi|        Ireton|   IA|  Nurse Practitioner|        17013.52|        75660.84|        957.7322|             156|            2546| 32.22784810126582|             7417|            94573|        1197.1266|              248.0|             3319.3|          42.016457|      null|      null|        null|          null|\n",
      "+----------+---------------+--------------+-----+--------------------+----------------+----------------+----------------+----------------+----------------+------------------+-----------------+-----------------+-----------------+-------------------+-------------------+-------------------+----------+----------+------------+--------------+\n",
      "only showing top 20 rows\n",
      "\n"
     ]
    }
   ],
   "source": [
    "df_drug_pay.show()"
   ]
  },
  {
   "cell_type": "code",
   "execution_count": 16,
   "id": "6ab1215d",
   "metadata": {},
   "outputs": [
    {
     "data": {
      "text/plain": [
       "959546"
      ]
     },
     "execution_count": 16,
     "metadata": {},
     "output_type": "execute_result"
    }
   ],
   "source": [
    "#drug data and payment data total rows\n",
    "\n",
    "df_drug_pay.count()"
   ]
  },
  {
   "cell_type": "code",
   "execution_count": 17,
   "id": "e595a51f",
   "metadata": {},
   "outputs": [
    {
     "data": {
      "text/plain": [
       "487110"
      ]
     },
     "execution_count": 17,
     "metadata": {},
     "output_type": "execute_result"
    }
   ],
   "source": [
    "#Payment data rows\n",
    "\n",
    "pay_data_cols.count()"
   ]
  },
  {
   "cell_type": "code",
   "execution_count": 18,
   "id": "c38653af",
   "metadata": {},
   "outputs": [
    {
     "data": {
      "text/plain": [
       "959546"
      ]
     },
     "execution_count": 18,
     "metadata": {},
     "output_type": "execute_result"
    }
   ],
   "source": [
    "#954546\n",
    "\n",
    "df_drug.count()"
   ]
  },
  {
   "cell_type": "code",
   "execution_count": 44,
   "id": "c5a9d9e3",
   "metadata": {},
   "outputs": [],
   "source": [
    "#Dropping duplicate column\n",
    "\n",
    "df_drug_pay = df_drug_pay.drop(\"NPI_1\")"
   ]
  },
  {
   "cell_type": "code",
   "execution_count": 45,
   "id": "ad195cba-387a-4f61-8652-9447d7dd127c",
   "metadata": {},
   "outputs": [],
   "source": [
    "df_drug_pay = df_drug_pay.drop(\"Name\")"
   ]
  },
  {
   "cell_type": "code",
   "execution_count": null,
   "id": "e5fbbc07-c3f9-42ab-b4a1-2c1a07b9f0c2",
   "metadata": {},
   "outputs": [],
   "source": [
    "#df_drug_pay = df_drug_pay.drop(\"First_name\")"
   ]
  },
  {
   "cell_type": "code",
   "execution_count": 14,
   "id": "3b29b7b3-11aa-4064-8809-eca22eb84caa",
   "metadata": {},
   "outputs": [
    {
     "name": "stdout",
     "output_type": "stream",
     "text": [
      "+---+---------------+----+-----+----------+----------------+----------------+----------------+----------------+----------------+----------------+-----------------+-----------------+-----------------+-------------------+-------------------+-------------------+------+----------+---------+--------------+\n",
      "|NPI|First_name_drug|City|State|Speciality|max_Tot_Drug_Cst|sum_Tot_Drug_Cst|avg_Tot_Drug_Cst|max_Total_claims|sum_Total_claims|avg_Total_claims|max_Tot_Day_Suply|sum_Tot_Day_Suply|avg_Tot_Day_Suply|max_Tot_30day_Fills|sum_Tot_30day_Fills|avg_Tot_30day_Fills| NPI_1|First_name|Last_name|Total_payments|\n",
      "+---+---------------+----+-----+----------+----------------+----------------+----------------+----------------+----------------+----------------+-----------------+-----------------+-----------------+-------------------+-------------------+-------------------+------+----------+---------+--------------+\n",
      "|  0|             40|   0|    0|         1|               0|               0|               0|               0|               0|               0|                0|                0|                0|                  0|                  0|                  0|624631|    624640|   624632|        624633|\n",
      "+---+---------------+----+-----+----------+----------------+----------------+----------------+----------------+----------------+----------------+-----------------+-----------------+-----------------+-------------------+-------------------+-------------------+------+----------+---------+--------------+\n",
      "\n"
     ]
    }
   ],
   "source": [
    "#Checking missing values in total dataframe\n",
    "\n",
    "df_drug_pay.select([count(when(isnan(c) | col(c).isNull(), c)).alias(c) for c in df_drug_pay.columns]\n",
    "   ).show()"
   ]
  },
  {
   "cell_type": "code",
   "execution_count": null,
   "id": "72e7524c-bcc0-41a9-82fb-4d586910f9d6",
   "metadata": {},
   "outputs": [],
   "source": []
  },
  {
   "cell_type": "markdown",
   "id": "c6e2ebb2",
   "metadata": {},
   "source": [
    "### Converting main data to pandas"
   ]
  },
  {
   "cell_type": "code",
   "execution_count": 15,
   "id": "2108cea4",
   "metadata": {},
   "outputs": [],
   "source": [
    "df_drug_panda = df_drug_pay.toPandas()"
   ]
  },
  {
   "cell_type": "code",
   "execution_count": 16,
   "id": "243b917e",
   "metadata": {},
   "outputs": [
    {
     "data": {
      "text/plain": [
       "NPI                         0\n",
       "First_name_drug            13\n",
       "City                        0\n",
       "State                       0\n",
       "Speciality                  1\n",
       "max_Tot_Drug_Cst            0\n",
       "sum_Tot_Drug_Cst            0\n",
       "avg_Tot_Drug_Cst            0\n",
       "max_Total_claims            0\n",
       "sum_Total_claims            0\n",
       "avg_Total_claims            0\n",
       "max_Tot_Day_Suply           0\n",
       "sum_Tot_Day_Suply           0\n",
       "avg_Tot_Day_Suply           0\n",
       "max_Tot_30day_Fills         0\n",
       "sum_Tot_30day_Fills         0\n",
       "avg_Tot_30day_Fills         0\n",
       "NPI_1                  624631\n",
       "First_name             624631\n",
       "Last_name              624631\n",
       "Total_payments         624633\n",
       "dtype: int64"
      ]
     },
     "execution_count": 16,
     "metadata": {},
     "output_type": "execute_result"
    }
   ],
   "source": [
    "df_drug_panda.isnull().sum()"
   ]
  },
  {
   "cell_type": "code",
   "execution_count": 17,
   "id": "b6f761b6",
   "metadata": {},
   "outputs": [],
   "source": [
    "df_drug_panda[\"City\"] =  df_drug_panda[\"City\"].str.lower()"
   ]
  },
  {
   "cell_type": "code",
   "execution_count": 18,
   "id": "f0cfef79",
   "metadata": {},
   "outputs": [],
   "source": [
    "df_drug_panda[\"State\"] =  df_drug_panda[\"State\"].str.lower()"
   ]
  },
  {
   "cell_type": "code",
   "execution_count": 19,
   "id": "b035919b",
   "metadata": {},
   "outputs": [
    {
     "data": {
      "text/html": [
       "<div>\n",
       "<style scoped>\n",
       "    .dataframe tbody tr th:only-of-type {\n",
       "        vertical-align: middle;\n",
       "    }\n",
       "\n",
       "    .dataframe tbody tr th {\n",
       "        vertical-align: top;\n",
       "    }\n",
       "\n",
       "    .dataframe thead th {\n",
       "        text-align: right;\n",
       "    }\n",
       "</style>\n",
       "<table border=\"1\" class=\"dataframe\">\n",
       "  <thead>\n",
       "    <tr style=\"text-align: right;\">\n",
       "      <th></th>\n",
       "      <th>NPI</th>\n",
       "      <th>First_name_drug</th>\n",
       "      <th>City</th>\n",
       "      <th>State</th>\n",
       "      <th>Speciality</th>\n",
       "      <th>max_Tot_Drug_Cst</th>\n",
       "      <th>sum_Tot_Drug_Cst</th>\n",
       "      <th>avg_Tot_Drug_Cst</th>\n",
       "      <th>max_Total_claims</th>\n",
       "      <th>sum_Total_claims</th>\n",
       "      <th>...</th>\n",
       "      <th>max_Tot_Day_Suply</th>\n",
       "      <th>sum_Tot_Day_Suply</th>\n",
       "      <th>avg_Tot_Day_Suply</th>\n",
       "      <th>max_Tot_30day_Fills</th>\n",
       "      <th>sum_Tot_30day_Fills</th>\n",
       "      <th>avg_Tot_30day_Fills</th>\n",
       "      <th>NPI_1</th>\n",
       "      <th>First_name</th>\n",
       "      <th>Last_name</th>\n",
       "      <th>Total_payments</th>\n",
       "    </tr>\n",
       "  </thead>\n",
       "  <tbody>\n",
       "    <tr>\n",
       "      <th>0</th>\n",
       "      <td>1003000126</td>\n",
       "      <td>ardalan</td>\n",
       "      <td>bethesda</td>\n",
       "      <td>md</td>\n",
       "      <td>Internal Medicine</td>\n",
       "      <td>4792.850098</td>\n",
       "      <td>5979.069824</td>\n",
       "      <td>747.383728</td>\n",
       "      <td>30</td>\n",
       "      <td>124</td>\n",
       "      <td>...</td>\n",
       "      <td>937</td>\n",
       "      <td>3721</td>\n",
       "      <td>465.125000</td>\n",
       "      <td>32.400002</td>\n",
       "      <td>138.199997</td>\n",
       "      <td>17.275000</td>\n",
       "      <td>1.003000e+09</td>\n",
       "      <td>ardalan</td>\n",
       "      <td>enkeshafi</td>\n",
       "      <td>20.480000</td>\n",
       "    </tr>\n",
       "    <tr>\n",
       "      <th>1</th>\n",
       "      <td>1003000423</td>\n",
       "      <td>jennifer</td>\n",
       "      <td>cleveland</td>\n",
       "      <td>oh</td>\n",
       "      <td>Obstetrics &amp; Gynecology</td>\n",
       "      <td>8276.440430</td>\n",
       "      <td>15389.690430</td>\n",
       "      <td>2564.948242</td>\n",
       "      <td>39</td>\n",
       "      <td>122</td>\n",
       "      <td>...</td>\n",
       "      <td>2412</td>\n",
       "      <td>5217</td>\n",
       "      <td>869.500000</td>\n",
       "      <td>82.000000</td>\n",
       "      <td>213.699997</td>\n",
       "      <td>35.616665</td>\n",
       "      <td>1.003000e+09</td>\n",
       "      <td>jennifer</td>\n",
       "      <td>velotta</td>\n",
       "      <td>171.289993</td>\n",
       "    </tr>\n",
       "    <tr>\n",
       "      <th>2</th>\n",
       "      <td>1003000720</td>\n",
       "      <td>otniel</td>\n",
       "      <td>clemmons</td>\n",
       "      <td>nc</td>\n",
       "      <td>Nurse Practitioner</td>\n",
       "      <td>657.010010</td>\n",
       "      <td>3052.840088</td>\n",
       "      <td>254.403336</td>\n",
       "      <td>51</td>\n",
       "      <td>230</td>\n",
       "      <td>...</td>\n",
       "      <td>337</td>\n",
       "      <td>2166</td>\n",
       "      <td>180.500000</td>\n",
       "      <td>51.000000</td>\n",
       "      <td>230.000000</td>\n",
       "      <td>19.166666</td>\n",
       "      <td>NaN</td>\n",
       "      <td>None</td>\n",
       "      <td>None</td>\n",
       "      <td>NaN</td>\n",
       "    </tr>\n",
       "    <tr>\n",
       "      <th>3</th>\n",
       "      <td>1003001785</td>\n",
       "      <td>jaclyn</td>\n",
       "      <td>tulsa</td>\n",
       "      <td>ok</td>\n",
       "      <td>Orthopedic Surgery</td>\n",
       "      <td>2141.239990</td>\n",
       "      <td>7812.279785</td>\n",
       "      <td>781.228027</td>\n",
       "      <td>126</td>\n",
       "      <td>546</td>\n",
       "      <td>...</td>\n",
       "      <td>2610</td>\n",
       "      <td>8250</td>\n",
       "      <td>825.000000</td>\n",
       "      <td>126.000000</td>\n",
       "      <td>569.000000</td>\n",
       "      <td>56.900002</td>\n",
       "      <td>1.003002e+09</td>\n",
       "      <td>jaclyn</td>\n",
       "      <td>jones</td>\n",
       "      <td>969.070007</td>\n",
       "    </tr>\n",
       "    <tr>\n",
       "      <th>4</th>\n",
       "      <td>1003001884</td>\n",
       "      <td>lucille</td>\n",
       "      <td>flint</td>\n",
       "      <td>mi</td>\n",
       "      <td>Family Practice</td>\n",
       "      <td>1324.260010</td>\n",
       "      <td>2449.090088</td>\n",
       "      <td>349.869995</td>\n",
       "      <td>31</td>\n",
       "      <td>118</td>\n",
       "      <td>...</td>\n",
       "      <td>1560</td>\n",
       "      <td>4979</td>\n",
       "      <td>711.285706</td>\n",
       "      <td>53.000000</td>\n",
       "      <td>199.000000</td>\n",
       "      <td>28.428572</td>\n",
       "      <td>NaN</td>\n",
       "      <td>None</td>\n",
       "      <td>None</td>\n",
       "      <td>NaN</td>\n",
       "    </tr>\n",
       "  </tbody>\n",
       "</table>\n",
       "<p>5 rows × 21 columns</p>\n",
       "</div>"
      ],
      "text/plain": [
       "          NPI First_name_drug       City State               Speciality  \\\n",
       "0  1003000126         ardalan   bethesda    md        Internal Medicine   \n",
       "1  1003000423        jennifer  cleveland    oh  Obstetrics & Gynecology   \n",
       "2  1003000720          otniel   clemmons    nc       Nurse Practitioner   \n",
       "3  1003001785          jaclyn      tulsa    ok       Orthopedic Surgery   \n",
       "4  1003001884         lucille      flint    mi          Family Practice   \n",
       "\n",
       "   max_Tot_Drug_Cst  sum_Tot_Drug_Cst  avg_Tot_Drug_Cst  max_Total_claims  \\\n",
       "0       4792.850098       5979.069824        747.383728                30   \n",
       "1       8276.440430      15389.690430       2564.948242                39   \n",
       "2        657.010010       3052.840088        254.403336                51   \n",
       "3       2141.239990       7812.279785        781.228027               126   \n",
       "4       1324.260010       2449.090088        349.869995                31   \n",
       "\n",
       "   sum_Total_claims  ...  max_Tot_Day_Suply  sum_Tot_Day_Suply  \\\n",
       "0               124  ...                937               3721   \n",
       "1               122  ...               2412               5217   \n",
       "2               230  ...                337               2166   \n",
       "3               546  ...               2610               8250   \n",
       "4               118  ...               1560               4979   \n",
       "\n",
       "   avg_Tot_Day_Suply  max_Tot_30day_Fills  sum_Tot_30day_Fills  \\\n",
       "0         465.125000            32.400002           138.199997   \n",
       "1         869.500000            82.000000           213.699997   \n",
       "2         180.500000            51.000000           230.000000   \n",
       "3         825.000000           126.000000           569.000000   \n",
       "4         711.285706            53.000000           199.000000   \n",
       "\n",
       "   avg_Tot_30day_Fills         NPI_1  First_name  Last_name Total_payments  \n",
       "0            17.275000  1.003000e+09     ardalan  enkeshafi      20.480000  \n",
       "1            35.616665  1.003000e+09    jennifer    velotta     171.289993  \n",
       "2            19.166666           NaN        None       None            NaN  \n",
       "3            56.900002  1.003002e+09      jaclyn      jones     969.070007  \n",
       "4            28.428572           NaN        None       None            NaN  \n",
       "\n",
       "[5 rows x 21 columns]"
      ]
     },
     "execution_count": 19,
     "metadata": {},
     "output_type": "execute_result"
    }
   ],
   "source": [
    "df_drug_panda.head()"
   ]
  },
  {
   "cell_type": "code",
   "execution_count": 21,
   "id": "922d3fad",
   "metadata": {},
   "outputs": [],
   "source": [
    "df_drug_panda.drop([\"First_name_drug\",\"NPI_1\"],axis=1,inplace=True)"
   ]
  },
  {
   "cell_type": "code",
   "execution_count": 22,
   "id": "b8ebb491-8777-47ca-b935-888209700606",
   "metadata": {},
   "outputs": [
    {
     "data": {
      "text/html": [
       "<div>\n",
       "<style scoped>\n",
       "    .dataframe tbody tr th:only-of-type {\n",
       "        vertical-align: middle;\n",
       "    }\n",
       "\n",
       "    .dataframe tbody tr th {\n",
       "        vertical-align: top;\n",
       "    }\n",
       "\n",
       "    .dataframe thead th {\n",
       "        text-align: right;\n",
       "    }\n",
       "</style>\n",
       "<table border=\"1\" class=\"dataframe\">\n",
       "  <thead>\n",
       "    <tr style=\"text-align: right;\">\n",
       "      <th></th>\n",
       "      <th>NPI</th>\n",
       "      <th>City</th>\n",
       "      <th>State</th>\n",
       "      <th>Speciality</th>\n",
       "      <th>max_Tot_Drug_Cst</th>\n",
       "      <th>sum_Tot_Drug_Cst</th>\n",
       "      <th>avg_Tot_Drug_Cst</th>\n",
       "      <th>max_Total_claims</th>\n",
       "      <th>sum_Total_claims</th>\n",
       "      <th>avg_Total_claims</th>\n",
       "      <th>max_Tot_Day_Suply</th>\n",
       "      <th>sum_Tot_Day_Suply</th>\n",
       "      <th>avg_Tot_Day_Suply</th>\n",
       "      <th>max_Tot_30day_Fills</th>\n",
       "      <th>sum_Tot_30day_Fills</th>\n",
       "      <th>avg_Tot_30day_Fills</th>\n",
       "      <th>First_name</th>\n",
       "      <th>Last_name</th>\n",
       "      <th>Total_payments</th>\n",
       "    </tr>\n",
       "  </thead>\n",
       "  <tbody>\n",
       "    <tr>\n",
       "      <th>0</th>\n",
       "      <td>1003000126</td>\n",
       "      <td>bethesda</td>\n",
       "      <td>md</td>\n",
       "      <td>Internal Medicine</td>\n",
       "      <td>4792.850098</td>\n",
       "      <td>5979.069824</td>\n",
       "      <td>747.383728</td>\n",
       "      <td>30</td>\n",
       "      <td>124</td>\n",
       "      <td>15.5</td>\n",
       "      <td>937</td>\n",
       "      <td>3721</td>\n",
       "      <td>465.125</td>\n",
       "      <td>32.400002</td>\n",
       "      <td>138.199997</td>\n",
       "      <td>17.275</td>\n",
       "      <td>ardalan</td>\n",
       "      <td>enkeshafi</td>\n",
       "      <td>20.48</td>\n",
       "    </tr>\n",
       "  </tbody>\n",
       "</table>\n",
       "</div>"
      ],
      "text/plain": [
       "          NPI      City State         Speciality  max_Tot_Drug_Cst  \\\n",
       "0  1003000126  bethesda    md  Internal Medicine       4792.850098   \n",
       "\n",
       "   sum_Tot_Drug_Cst  avg_Tot_Drug_Cst  max_Total_claims  sum_Total_claims  \\\n",
       "0       5979.069824        747.383728                30               124   \n",
       "\n",
       "   avg_Total_claims  max_Tot_Day_Suply  sum_Tot_Day_Suply  avg_Tot_Day_Suply  \\\n",
       "0              15.5                937               3721            465.125   \n",
       "\n",
       "   max_Tot_30day_Fills  sum_Tot_30day_Fills  avg_Tot_30day_Fills First_name  \\\n",
       "0            32.400002           138.199997               17.275    ardalan   \n",
       "\n",
       "   Last_name  Total_payments  \n",
       "0  enkeshafi           20.48  "
      ]
     },
     "execution_count": 22,
     "metadata": {},
     "output_type": "execute_result"
    }
   ],
   "source": [
    "df_drug_panda.head(1)"
   ]
  },
  {
   "cell_type": "raw",
   "id": "9a220cc1-1264-4e85-8869-dee132126dfd",
   "metadata": {},
   "source": [
    "df_drug_panda[[\"Total_payments\",\"Total_pay\"]] = df_drug_panda[[\"Total_payments\",\"Total_pay\"]].fillna(0)"
   ]
  },
  {
   "cell_type": "raw",
   "id": "925c49cb-07ea-401a-a914-ca9cc6e1bc68",
   "metadata": {},
   "source": [
    "df_drug_panda[[\"Total_payments\",\"Total_pay\"]] = df_drug_panda[[\"Total_payments\",\"Total_pay\"]].astype(\"int\")"
   ]
  },
  {
   "cell_type": "raw",
   "id": "bb99059a-9766-47cb-9b6a-9c731431620a",
   "metadata": {},
   "source": [
    "def logic(data):\n",
    "    content= []\n",
    "    for i in data.values:\n",
    "        if (i[-1] == 0) & (i[-2] == 0):\n",
    "            content.append(np.nan)\n",
    "        elif i[-1] <  i[-2]:\n",
    "            content.append(i[-2])\n",
    "        else:\n",
    "            content.append(i[-1])\n",
    "    return content"
   ]
  },
  {
   "cell_type": "raw",
   "id": "42865809-8a81-4cc5-b8f7-b89639a3445d",
   "metadata": {},
   "source": [
    "df_drug_panda[\"payments\"] = logic(df_drug_panda)"
   ]
  },
  {
   "cell_type": "raw",
   "id": "06e12392-102d-4cd5-ac12-d8dcdd7ecc9a",
   "metadata": {},
   "source": [
    "df_drug_panda.isnull().sum()"
   ]
  },
  {
   "cell_type": "code",
   "execution_count": null,
   "id": "7b8ecffd-d447-45e3-aaa0-d2d64c15f808",
   "metadata": {},
   "outputs": [],
   "source": [
    "#df_drug_panda.drop([\"Total_payments\",\"Total_pay\"],axis=1,inplace=True)"
   ]
  },
  {
   "cell_type": "markdown",
   "id": "52055f47",
   "metadata": {},
   "source": [
    "### Saving dataframe"
   ]
  },
  {
   "cell_type": "code",
   "execution_count": 24,
   "id": "69bc8367-657b-483c-9c78-06c514ad3b54",
   "metadata": {},
   "outputs": [],
   "source": [
    "# drug pay data with first ,last and payment\n",
    "\n",
    "df_drug_panda.to_csv(\"../data/spark_csv/drug_pay_final.csv\")"
   ]
  }
 ],
 "metadata": {
  "kernelspec": {
   "display_name": "Python 3 (ipykernel)",
   "language": "python",
   "name": "python3"
  },
  "language_info": {
   "codemirror_mode": {
    "name": "ipython",
    "version": 3
   },
   "file_extension": ".py",
   "mimetype": "text/x-python",
   "name": "python",
   "nbconvert_exporter": "python",
   "pygments_lexer": "ipython3",
   "version": "3.10.1"
  }
 },
 "nbformat": 4,
 "nbformat_minor": 5
}
