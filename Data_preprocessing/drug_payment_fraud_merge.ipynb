{
 "cells": [
  {
   "cell_type": "code",
   "execution_count": 1,
   "id": "c9a7bd60",
   "metadata": {},
   "outputs": [],
   "source": [
    "import pandas as pd\n",
    "from pyspark import SparkFiles\n",
    "from pyspark.sql import SparkSession\n",
    "from pyspark.sql import types as T\n",
    "from pyspark.sql import Row\n",
    "#from pyspark.sql.functions import *\n",
    "from pyspark.ml.feature import *\n",
    "import pickle\n",
    "#import functions\n",
    "from pyspark.sql import functions\n",
    "\n",
    "from pyspark.sql.types import StructField, StringType, IntegerType, StructType, DoubleType, LongType,FloatType\n",
    "import warnings\n",
    "warnings.filterwarnings(\"ignore\")"
   ]
  },
  {
   "cell_type": "code",
   "execution_count": 2,
   "id": "4c3e2948-b1a0-4ecb-9ff8-404c0bf76286",
   "metadata": {},
   "outputs": [
    {
     "data": {
      "text/plain": [
       "'C:\\\\Spark\\\\spark3'"
      ]
     },
     "execution_count": 2,
     "metadata": {},
     "output_type": "execute_result"
    }
   ],
   "source": [
    "import findspark\n",
    "findspark.init()\n",
    "findspark.find()"
   ]
  },
  {
   "cell_type": "code",
   "execution_count": 3,
   "id": "f9065895-d607-404b-909d-efe51ae2f9b8",
   "metadata": {},
   "outputs": [],
   "source": [
    "input_uri=\"mongodb://127.0.0.1:27017/\"\n",
    "output_uri=\"mongodb://127.0.0.1:27017/\""
   ]
  },
  {
   "cell_type": "code",
   "execution_count": 4,
   "id": "91b6d0e1-d506-4c16-b422-1b0013f282a1",
   "metadata": {},
   "outputs": [],
   "source": [
    "spark=SparkSession.builder.appName(\"final_data\").config(\"spark.mongodb.input.uri\",input_uri) \\\n",
    "        .config(\"spark.mongodb.output.uri\",output_uri) \\\n",
    "        .config(\"spark.jars.packages\",\"org.mongodb.spark:mongo-spark-connector_2.12:2.4.2\") \\\n",
    "        .getOrCreate()"
   ]
  },
  {
   "cell_type": "raw",
   "id": "71a3a7ef-61d3-46b3-a67e-c50e03ab4c2a",
   "metadata": {},
   "source": [
    "spark = SparkSession.builder.appName(\"Datalele\").getOrCreate()"
   ]
  },
  {
   "cell_type": "markdown",
   "id": "43741684",
   "metadata": {},
   "source": [
    "### Loading data"
   ]
  },
  {
   "cell_type": "raw",
   "id": "bad7f368-b769-49d7-9a52-8fec3b54ca55",
   "metadata": {},
   "source": [
    "data_schema = [StructField(\"NPI\", IntegerType(),True),\n",
    "               StructField(\"First_name\", StringType(),True),\n",
    "               StructField(\"Last_name\", StringType(),True),\n",
    "               StructField(\"City\", StringType(),True),\n",
    "               StructField(\"State\", StringType(),True),\n",
    "               StructField(\"Speciality\", StringType(),True),\n",
    "               StructField(\"max_Tot_Drug_Cst\", FloatType(),True),\n",
    "               StructField(\"sum_Tot_Drug_Cst\", FloatType(),True),\n",
    "               StructField(\"avg_Tot_Drug_Cst\", FloatType(),True),\n",
    "               StructField(\"max_Total_claims\", IntegerType(),True),\n",
    "               StructField(\"sum_Total_claims\", LongType(),True),\n",
    "               StructField(\"avg_Total_claims\", DoubleType(),True),\n",
    "               StructField(\"max_Tot_Day_Suply\", IntegerType(),True),\n",
    "               StructField(\"sum_Tot_Day_Suply\", LongType(),True),\n",
    "               StructField(\"avg_Tot_Day_Suply\", FloatType(),True),\n",
    "               StructField(\"max_Tot_30day_Fills\", FloatType(),True),\n",
    "               StructField(\"sum_Tot_30day_Fills\", FloatType(),True),\n",
    "               StructField(\"avg_Tot_30day_Fills\", FloatType(),True),\n",
    "               StructField(\"Total_payments\", FloatType(),True)\n",
    "              \n",
    "              ]"
   ]
  },
  {
   "cell_type": "code",
   "execution_count": 5,
   "id": "9f290cf2-bd94-4b57-88a7-88950ee1f910",
   "metadata": {},
   "outputs": [],
   "source": [
    "data_schema = [StructField(\"NPI\", IntegerType(),True),\n",
    "               StructField(\"City\", StringType(),True),\n",
    "               StructField(\"State\", StringType(),True),\n",
    "               StructField(\"Speciality\", StringType(),True),\n",
    "               StructField(\"max_Tot_Drug_Cst\", FloatType(),True),\n",
    "               StructField(\"sum_Tot_Drug_Cst\", FloatType(),True),\n",
    "               StructField(\"avg_Tot_Drug_Cst\", FloatType(),True),\n",
    "               StructField(\"max_Total_claims\", IntegerType(),True),\n",
    "               StructField(\"sum_Total_claims\", LongType(),True),\n",
    "               StructField(\"avg_Total_claims\", DoubleType(),True),\n",
    "               StructField(\"max_Tot_Day_Suply\", IntegerType(),True),\n",
    "               StructField(\"sum_Tot_Day_Suply\", LongType(),True),\n",
    "               StructField(\"avg_Tot_Day_Suply\", FloatType(),True),\n",
    "               StructField(\"max_Tot_30day_Fills\", FloatType(),True),\n",
    "               StructField(\"sum_Tot_30day_Fills\", FloatType(),True),\n",
    "               StructField(\"avg_Tot_30day_Fills\", FloatType(),True),\n",
    "               StructField(\"First_name\", StringType(),True),\n",
    "               StructField(\"Last_name\", StringType(),True),\n",
    "               StructField(\"Total_payments\", FloatType(),True)\n",
    "              \n",
    "              ]"
   ]
  },
  {
   "cell_type": "code",
   "execution_count": 6,
   "id": "7381b440",
   "metadata": {},
   "outputs": [],
   "source": [
    "final_schema = StructType(fields=data_schema)"
   ]
  },
  {
   "cell_type": "code",
   "execution_count": null,
   "id": "2cab0157-1130-4fbb-8c7f-42236aef639f",
   "metadata": {},
   "outputs": [],
   "source": [
    "#df_drug_pay = spark.read.csv(\"../data/spark_csv/drug_payment.csv/\",inferSchema=True,header=True)"
   ]
  },
  {
   "cell_type": "code",
   "execution_count": 11,
   "id": "1efee4d2-b7f9-432a-a1ac-939ee5be9d01",
   "metadata": {},
   "outputs": [],
   "source": [
    "#Final data\n",
    "\n",
    "df_drug_pay = spark.read.csv(\"../data/spark_csv/drug_pay_final.csv\",inferSchema=True,header=True)"
   ]
  },
  {
   "cell_type": "code",
   "execution_count": 12,
   "id": "baa97048",
   "metadata": {},
   "outputs": [
    {
     "name": "stdout",
     "output_type": "stream",
     "text": [
      "root\n",
      " |-- _c0: integer (nullable = true)\n",
      " |-- NPI: integer (nullable = true)\n",
      " |-- City: string (nullable = true)\n",
      " |-- State: string (nullable = true)\n",
      " |-- Speciality: string (nullable = true)\n",
      " |-- max_Tot_Drug_Cst: double (nullable = true)\n",
      " |-- sum_Tot_Drug_Cst: double (nullable = true)\n",
      " |-- avg_Tot_Drug_Cst: double (nullable = true)\n",
      " |-- max_Total_claims: integer (nullable = true)\n",
      " |-- sum_Total_claims: integer (nullable = true)\n",
      " |-- avg_Total_claims: double (nullable = true)\n",
      " |-- max_Tot_Day_Suply: integer (nullable = true)\n",
      " |-- sum_Tot_Day_Suply: integer (nullable = true)\n",
      " |-- avg_Tot_Day_Suply: double (nullable = true)\n",
      " |-- max_Tot_30day_Fills: double (nullable = true)\n",
      " |-- sum_Tot_30day_Fills: double (nullable = true)\n",
      " |-- avg_Tot_30day_Fills: double (nullable = true)\n",
      " |-- First_name: string (nullable = true)\n",
      " |-- Last_name: string (nullable = true)\n",
      " |-- Total_payments: double (nullable = true)\n",
      "\n"
     ]
    }
   ],
   "source": [
    "df_drug_pay.printSchema()"
   ]
  },
  {
   "cell_type": "code",
   "execution_count": 13,
   "id": "86f4aeef",
   "metadata": {},
   "outputs": [
    {
     "name": "stdout",
     "output_type": "stream",
     "text": [
      "+---+----------+---------+-----+--------------------+----------------+----------------+----------------+----------------+----------------+------------------+-----------------+-----------------+-----------------+-------------------+-------------------+-------------------+----------+---------+--------------+\n",
      "|_c0|       NPI|     City|State|          Speciality|max_Tot_Drug_Cst|sum_Tot_Drug_Cst|avg_Tot_Drug_Cst|max_Total_claims|sum_Total_claims|  avg_Total_claims|max_Tot_Day_Suply|sum_Tot_Day_Suply|avg_Tot_Day_Suply|max_Tot_30day_Fills|sum_Tot_30day_Fills|avg_Tot_30day_Fills|First_name|Last_name|Total_payments|\n",
      "+---+----------+---------+-----+--------------------+----------------+----------------+----------------+----------------+----------------+------------------+-----------------+-----------------+-----------------+-------------------+-------------------+-------------------+----------+---------+--------------+\n",
      "|  0|1003000126| bethesda|   md|   Internal Medicine|         4792.85|         5979.07|        747.3837|              30|             124|              15.5|              937|             3721|          465.125|               32.4|              138.2|             17.275|   ardalan|enkeshafi|         20.48|\n",
      "|  1|1003000423|cleveland|   oh|Obstetrics & Gyne...|         8276.44|        15389.69|       2564.9482|              39|             122|20.333333333333332|             2412|             5217|            869.5|               82.0|              213.7|          35.616665|  jennifer|  velotta|        171.29|\n",
      "|  2|1003000720| clemmons|   nc|  Nurse Practitioner|          657.01|         3052.84|       254.40334|              51|             230|19.166666666666668|              337|             2166|            180.5|               51.0|              230.0|          19.166666|      null|     null|          null|\n",
      "|  3|1003001785|    tulsa|   ok|  Orthopedic Surgery|         2141.24|         7812.28|         781.228|             126|             546|              54.6|             2610|             8250|            825.0|              126.0|              569.0|               56.9|    jaclyn|    jones|        969.07|\n",
      "|  4|1003001884|    flint|   mi|     Family Practice|         1324.26|         2449.09|          349.87|              31|             118|16.857142857142858|             1560|             4979|         711.2857|               53.0|              199.0|          28.428572|      null|     null|          null|\n",
      "+---+----------+---------+-----+--------------------+----------------+----------------+----------------+----------------+----------------+------------------+-----------------+-----------------+-----------------+-------------------+-------------------+-------------------+----------+---------+--------------+\n",
      "only showing top 5 rows\n",
      "\n"
     ]
    }
   ],
   "source": [
    "df_drug_pay.show(5)"
   ]
  },
  {
   "cell_type": "code",
   "execution_count": 14,
   "id": "a82d2753",
   "metadata": {},
   "outputs": [],
   "source": [
    "df_drug_pay = df_drug_pay.drop(\"_c0\")"
   ]
  },
  {
   "cell_type": "code",
   "execution_count": 15,
   "id": "9826dd84",
   "metadata": {},
   "outputs": [
    {
     "name": "stdout",
     "output_type": "stream",
     "text": [
      "root\n",
      " |-- NPI: integer (nullable = true)\n",
      " |-- City: string (nullable = true)\n",
      " |-- State: string (nullable = true)\n",
      " |-- Speciality: string (nullable = true)\n",
      " |-- max_Tot_Drug_Cst: double (nullable = true)\n",
      " |-- sum_Tot_Drug_Cst: double (nullable = true)\n",
      " |-- avg_Tot_Drug_Cst: double (nullable = true)\n",
      " |-- max_Total_claims: integer (nullable = true)\n",
      " |-- sum_Total_claims: integer (nullable = true)\n",
      " |-- avg_Total_claims: double (nullable = true)\n",
      " |-- max_Tot_Day_Suply: integer (nullable = true)\n",
      " |-- sum_Tot_Day_Suply: integer (nullable = true)\n",
      " |-- avg_Tot_Day_Suply: double (nullable = true)\n",
      " |-- max_Tot_30day_Fills: double (nullable = true)\n",
      " |-- sum_Tot_30day_Fills: double (nullable = true)\n",
      " |-- avg_Tot_30day_Fills: double (nullable = true)\n",
      " |-- First_name: string (nullable = true)\n",
      " |-- Last_name: string (nullable = true)\n",
      " |-- Total_payments: double (nullable = true)\n",
      "\n"
     ]
    }
   ],
   "source": [
    "df_drug_pay.printSchema()"
   ]
  },
  {
   "cell_type": "markdown",
   "id": "652a6fdd",
   "metadata": {},
   "source": [
    "### LELE data"
   ]
  },
  {
   "cell_type": "code",
   "execution_count": 16,
   "id": "e686fed2",
   "metadata": {},
   "outputs": [],
   "source": [
    "df_fraud_1 = spark.read.csv(\"../data/UPDATED.csv\",inferSchema=True,header=True)"
   ]
  },
  {
   "cell_type": "code",
   "execution_count": 17,
   "id": "649fed78",
   "metadata": {},
   "outputs": [
    {
     "name": "stdout",
     "output_type": "stream",
     "text": [
      "root\n",
      " |-- LASTNAME: string (nullable = true)\n",
      " |-- FIRSTNAME: string (nullable = true)\n",
      " |-- MIDNAME: string (nullable = true)\n",
      " |-- BUSNAME: string (nullable = true)\n",
      " |-- GENERAL: string (nullable = true)\n",
      " |-- SPECIALTY: string (nullable = true)\n",
      " |-- UPIN: string (nullable = true)\n",
      " |-- NPI: integer (nullable = true)\n",
      " |-- DOB: integer (nullable = true)\n",
      " |-- ADDRESS: string (nullable = true)\n",
      " |-- CITY: string (nullable = true)\n",
      " |-- STATE: string (nullable = true)\n",
      " |-- ZIP: string (nullable = true)\n",
      " |-- EXCLTYPE: string (nullable = true)\n",
      " |-- EXCLDATE: string (nullable = true)\n",
      " |-- REINDATE: integer (nullable = true)\n",
      " |-- WAIVERDATE: integer (nullable = true)\n",
      " |-- WVRSTATE: string (nullable = true)\n",
      "\n"
     ]
    }
   ],
   "source": [
    "df_fraud_1.printSchema()"
   ]
  },
  {
   "cell_type": "markdown",
   "id": "f79a60a5",
   "metadata": {},
   "source": [
    "### Data preprocessing"
   ]
  },
  {
   "cell_type": "markdown",
   "id": "c51f797d",
   "metadata": {},
   "source": [
    "### Making dataframe with firstname,lastname and speciality"
   ]
  },
  {
   "cell_type": "code",
   "execution_count": 145,
   "id": "839fb150",
   "metadata": {},
   "outputs": [],
   "source": [
    "df_test = df_fraud_1.toPandas()"
   ]
  },
  {
   "cell_type": "code",
   "execution_count": 146,
   "id": "363a131f",
   "metadata": {},
   "outputs": [
    {
     "data": {
      "text/plain": [
       "LASTNAME      5891\n",
       "FIRSTNAME     5891\n",
       "MIDNAME       6310\n",
       "BUSNAME        419\n",
       "GENERAL       6310\n",
       "SPECIALTY     6191\n",
       "UPIN          1448\n",
       "NPI           6310\n",
       "DOB           5891\n",
       "ADDRESS       6310\n",
       "CITY          6310\n",
       "STATE         6309\n",
       "ZIP           6310\n",
       "EXCLTYPE      6310\n",
       "EXCLDATE      6310\n",
       "REINDATE      6310\n",
       "WAIVERDATE    6310\n",
       "WVRSTATE         6\n",
       "dtype: int64"
      ]
     },
     "execution_count": 146,
     "metadata": {},
     "output_type": "execute_result"
    }
   ],
   "source": [
    "df_test[df_test.NPI != 0].count()"
   ]
  },
  {
   "cell_type": "code",
   "execution_count": 147,
   "id": "396d40fa",
   "metadata": {},
   "outputs": [
    {
     "data": {
      "text/html": [
       "<div>\n",
       "<style scoped>\n",
       "    .dataframe tbody tr th:only-of-type {\n",
       "        vertical-align: middle;\n",
       "    }\n",
       "\n",
       "    .dataframe tbody tr th {\n",
       "        vertical-align: top;\n",
       "    }\n",
       "\n",
       "    .dataframe thead th {\n",
       "        text-align: right;\n",
       "    }\n",
       "</style>\n",
       "<table border=\"1\" class=\"dataframe\">\n",
       "  <thead>\n",
       "    <tr style=\"text-align: right;\">\n",
       "      <th></th>\n",
       "      <th>LASTNAME</th>\n",
       "      <th>FIRSTNAME</th>\n",
       "      <th>MIDNAME</th>\n",
       "      <th>BUSNAME</th>\n",
       "      <th>GENERAL</th>\n",
       "      <th>SPECIALTY</th>\n",
       "      <th>UPIN</th>\n",
       "      <th>NPI</th>\n",
       "      <th>DOB</th>\n",
       "      <th>ADDRESS</th>\n",
       "      <th>CITY</th>\n",
       "      <th>STATE</th>\n",
       "      <th>ZIP</th>\n",
       "      <th>EXCLTYPE</th>\n",
       "      <th>EXCLDATE</th>\n",
       "      <th>REINDATE</th>\n",
       "      <th>WAIVERDATE</th>\n",
       "      <th>WVRSTATE</th>\n",
       "    </tr>\n",
       "  </thead>\n",
       "  <tbody>\n",
       "    <tr>\n",
       "      <th>0</th>\n",
       "      <td>None</td>\n",
       "      <td>None</td>\n",
       "      <td></td>\n",
       "      <td>#1 MARKETING SERVICE, INC</td>\n",
       "      <td>OTHER BUSINESS</td>\n",
       "      <td>SOBER HOME</td>\n",
       "      <td>None</td>\n",
       "      <td>0</td>\n",
       "      <td>NaN</td>\n",
       "      <td>239 BRIGHTON BEACH AVENUE</td>\n",
       "      <td>BROOKLYN</td>\n",
       "      <td>NY</td>\n",
       "      <td>11235</td>\n",
       "      <td>1128a1</td>\n",
       "      <td>20200319</td>\n",
       "      <td>0</td>\n",
       "      <td>0</td>\n",
       "      <td>None</td>\n",
       "    </tr>\n",
       "    <tr>\n",
       "      <th>1</th>\n",
       "      <td>None</td>\n",
       "      <td>None</td>\n",
       "      <td></td>\n",
       "      <td>101 FIRST CARE PHARMACY INC</td>\n",
       "      <td>OTHER BUSINESS</td>\n",
       "      <td>PHARMACY</td>\n",
       "      <td>None</td>\n",
       "      <td>1972902351</td>\n",
       "      <td>NaN</td>\n",
       "      <td>C/O 609 W 191ST STREET, APT D</td>\n",
       "      <td>NEW YORK</td>\n",
       "      <td>NY</td>\n",
       "      <td>10040</td>\n",
       "      <td>1128b8</td>\n",
       "      <td>20220320</td>\n",
       "      <td>0</td>\n",
       "      <td>0</td>\n",
       "      <td>None</td>\n",
       "    </tr>\n",
       "    <tr>\n",
       "      <th>2</th>\n",
       "      <td>None</td>\n",
       "      <td>None</td>\n",
       "      <td></td>\n",
       "      <td>14 LAWRENCE AVE PHARMACY</td>\n",
       "      <td>PHARMACY</td>\n",
       "      <td>None</td>\n",
       "      <td>None</td>\n",
       "      <td>0</td>\n",
       "      <td>NaN</td>\n",
       "      <td>14 LAWRENCE AVENUE</td>\n",
       "      <td>SMITHTOWN</td>\n",
       "      <td>NY</td>\n",
       "      <td>11787</td>\n",
       "      <td>1128a1</td>\n",
       "      <td>19880830</td>\n",
       "      <td>0</td>\n",
       "      <td>0</td>\n",
       "      <td>None</td>\n",
       "    </tr>\n",
       "    <tr>\n",
       "      <th>3</th>\n",
       "      <td>None</td>\n",
       "      <td>None</td>\n",
       "      <td></td>\n",
       "      <td>143 MEDICAL EQUIPMENT CO</td>\n",
       "      <td>DME COMPANY</td>\n",
       "      <td>DME - OXYGEN</td>\n",
       "      <td>None</td>\n",
       "      <td>0</td>\n",
       "      <td>NaN</td>\n",
       "      <td>701 NW 36 AVENUE</td>\n",
       "      <td>MIAMI</td>\n",
       "      <td>FL</td>\n",
       "      <td>33125</td>\n",
       "      <td>1128b7</td>\n",
       "      <td>19970620</td>\n",
       "      <td>0</td>\n",
       "      <td>0</td>\n",
       "      <td>None</td>\n",
       "    </tr>\n",
       "    <tr>\n",
       "      <th>4</th>\n",
       "      <td>None</td>\n",
       "      <td>None</td>\n",
       "      <td></td>\n",
       "      <td>184TH STREET PHARMACY CORP</td>\n",
       "      <td>OTHER BUSINESS</td>\n",
       "      <td>PHARMACY</td>\n",
       "      <td>None</td>\n",
       "      <td>1922348218</td>\n",
       "      <td>NaN</td>\n",
       "      <td>69 E 184TH ST</td>\n",
       "      <td>BRONX</td>\n",
       "      <td>NY</td>\n",
       "      <td>10468</td>\n",
       "      <td>1128a1</td>\n",
       "      <td>20180419</td>\n",
       "      <td>0</td>\n",
       "      <td>0</td>\n",
       "      <td>None</td>\n",
       "    </tr>\n",
       "  </tbody>\n",
       "</table>\n",
       "</div>"
      ],
      "text/plain": [
       "  LASTNAME FIRSTNAME MIDNAME                      BUSNAME         GENERAL  \\\n",
       "0     None      None            #1 MARKETING SERVICE, INC  OTHER BUSINESS   \n",
       "1     None      None          101 FIRST CARE PHARMACY INC  OTHER BUSINESS   \n",
       "2     None      None             14 LAWRENCE AVE PHARMACY        PHARMACY   \n",
       "3     None      None             143 MEDICAL EQUIPMENT CO     DME COMPANY   \n",
       "4     None      None           184TH STREET PHARMACY CORP  OTHER BUSINESS   \n",
       "\n",
       "      SPECIALTY  UPIN         NPI  DOB                        ADDRESS  \\\n",
       "0    SOBER HOME  None           0  NaN      239 BRIGHTON BEACH AVENUE   \n",
       "1      PHARMACY  None  1972902351  NaN  C/O 609 W 191ST STREET, APT D   \n",
       "2          None  None           0  NaN             14 LAWRENCE AVENUE   \n",
       "3  DME - OXYGEN  None           0  NaN               701 NW 36 AVENUE   \n",
       "4      PHARMACY  None  1922348218  NaN                  69 E 184TH ST   \n",
       "\n",
       "        CITY STATE    ZIP EXCLTYPE  EXCLDATE  REINDATE  WAIVERDATE WVRSTATE  \n",
       "0   BROOKLYN    NY  11235   1128a1  20200319         0           0     None  \n",
       "1   NEW YORK    NY  10040   1128b8  20220320         0           0     None  \n",
       "2  SMITHTOWN    NY  11787   1128a1  19880830         0           0     None  \n",
       "3      MIAMI    FL  33125   1128b7  19970620         0           0     None  \n",
       "4      BRONX    NY  10468   1128a1  20180419         0           0     None  "
      ]
     },
     "execution_count": 147,
     "metadata": {},
     "output_type": "execute_result"
    }
   ],
   "source": [
    "df_test.head()"
   ]
  },
  {
   "cell_type": "code",
   "execution_count": 148,
   "id": "57d07569",
   "metadata": {},
   "outputs": [],
   "source": [
    "df_test[\"FIRSTNAME\"].fillna(\"Empty\",inplace=True)"
   ]
  },
  {
   "cell_type": "code",
   "execution_count": 149,
   "id": "8ddf3f31",
   "metadata": {},
   "outputs": [],
   "source": [
    "df_test[\"LASTNAME\"].fillna(\"Empty\",inplace=True)"
   ]
  },
  {
   "cell_type": "code",
   "execution_count": 150,
   "id": "3b8dc55d",
   "metadata": {},
   "outputs": [],
   "source": [
    "df_test[\"SPECIALTY\"].fillna(\"Empty\",inplace=True)"
   ]
  },
  {
   "cell_type": "code",
   "execution_count": 151,
   "id": "89ca7eb2-bc47-4df3-a845-dab127c6a331",
   "metadata": {},
   "outputs": [],
   "source": [
    "df_test[\"CITY\"].fillna(\"Not_filled\",inplace=True)"
   ]
  },
  {
   "cell_type": "code",
   "execution_count": 152,
   "id": "3597457a",
   "metadata": {},
   "outputs": [
    {
     "data": {
      "text/plain": [
       "LASTNAME          0\n",
       "FIRSTNAME         0\n",
       "MIDNAME           0\n",
       "BUSNAME       72895\n",
       "GENERAL           0\n",
       "SPECIALTY         0\n",
       "UPIN          69928\n",
       "NPI               0\n",
       "DOB            4095\n",
       "ADDRESS           9\n",
       "CITY              0\n",
       "STATE             5\n",
       "ZIP               0\n",
       "EXCLTYPE          0\n",
       "EXCLDATE          0\n",
       "REINDATE          0\n",
       "WAIVERDATE        0\n",
       "WVRSTATE      76107\n",
       "dtype: int64"
      ]
     },
     "execution_count": 152,
     "metadata": {},
     "output_type": "execute_result"
    }
   ],
   "source": [
    "df_test.isna().sum()"
   ]
  },
  {
   "cell_type": "code",
   "execution_count": 153,
   "id": "a5be4be2-1765-4c1e-9261-ee6a54c11105",
   "metadata": {},
   "outputs": [],
   "source": [
    "#df_test[(df_test.FIRSTNAME != \"Empty\") & (df_test.SPECIAL != \"Empty\") ]"
   ]
  },
  {
   "cell_type": "code",
   "execution_count": 154,
   "id": "b02155a1",
   "metadata": {},
   "outputs": [],
   "source": [
    "#df_test[(df_test.FIRSTNAME != \"Empty\")  & (df_test.LASTNAME != \"Empty\")]"
   ]
  },
  {
   "cell_type": "code",
   "execution_count": 155,
   "id": "242de7fd",
   "metadata": {},
   "outputs": [],
   "source": [
    "#df_second = df_test[(df_test.FIRSTNAME != \"Empty\") & (df_test.LASTNAME != \"Empty\") & (df_test.SPECIALTY != \"Empty\") & (df_test.NPI != 0)].loc[: ,[\"FIRSTNAME\",\"LASTNAME\",\"SPECIALTY\"]]"
   ]
  },
  {
   "cell_type": "code",
   "execution_count": 156,
   "id": "933acef8",
   "metadata": {},
   "outputs": [],
   "source": [
    "#df_second.head()"
   ]
  },
  {
   "cell_type": "code",
   "execution_count": 157,
   "id": "5412cd75",
   "metadata": {},
   "outputs": [],
   "source": [
    "#df_second.count()"
   ]
  },
  {
   "cell_type": "code",
   "execution_count": 158,
   "id": "76bd73ff",
   "metadata": {},
   "outputs": [],
   "source": [
    "df_second = df_test.copy()"
   ]
  },
  {
   "cell_type": "code",
   "execution_count": 159,
   "id": "cf82eafb-51f6-4b51-b78e-92fd9ff6f88e",
   "metadata": {},
   "outputs": [
    {
     "data": {
      "text/html": [
       "<div>\n",
       "<style scoped>\n",
       "    .dataframe tbody tr th:only-of-type {\n",
       "        vertical-align: middle;\n",
       "    }\n",
       "\n",
       "    .dataframe tbody tr th {\n",
       "        vertical-align: top;\n",
       "    }\n",
       "\n",
       "    .dataframe thead th {\n",
       "        text-align: right;\n",
       "    }\n",
       "</style>\n",
       "<table border=\"1\" class=\"dataframe\">\n",
       "  <thead>\n",
       "    <tr style=\"text-align: right;\">\n",
       "      <th></th>\n",
       "      <th>LASTNAME</th>\n",
       "      <th>FIRSTNAME</th>\n",
       "      <th>MIDNAME</th>\n",
       "      <th>BUSNAME</th>\n",
       "      <th>GENERAL</th>\n",
       "      <th>SPECIALTY</th>\n",
       "      <th>UPIN</th>\n",
       "      <th>NPI</th>\n",
       "      <th>DOB</th>\n",
       "      <th>ADDRESS</th>\n",
       "      <th>CITY</th>\n",
       "      <th>STATE</th>\n",
       "      <th>ZIP</th>\n",
       "      <th>EXCLTYPE</th>\n",
       "      <th>EXCLDATE</th>\n",
       "      <th>REINDATE</th>\n",
       "      <th>WAIVERDATE</th>\n",
       "      <th>WVRSTATE</th>\n",
       "    </tr>\n",
       "  </thead>\n",
       "  <tbody>\n",
       "    <tr>\n",
       "      <th>0</th>\n",
       "      <td>Empty</td>\n",
       "      <td>Empty</td>\n",
       "      <td></td>\n",
       "      <td>#1 MARKETING SERVICE, INC</td>\n",
       "      <td>OTHER BUSINESS</td>\n",
       "      <td>SOBER HOME</td>\n",
       "      <td>None</td>\n",
       "      <td>0</td>\n",
       "      <td>NaN</td>\n",
       "      <td>239 BRIGHTON BEACH AVENUE</td>\n",
       "      <td>BROOKLYN</td>\n",
       "      <td>NY</td>\n",
       "      <td>11235</td>\n",
       "      <td>1128a1</td>\n",
       "      <td>20200319</td>\n",
       "      <td>0</td>\n",
       "      <td>0</td>\n",
       "      <td>None</td>\n",
       "    </tr>\n",
       "    <tr>\n",
       "      <th>1</th>\n",
       "      <td>Empty</td>\n",
       "      <td>Empty</td>\n",
       "      <td></td>\n",
       "      <td>101 FIRST CARE PHARMACY INC</td>\n",
       "      <td>OTHER BUSINESS</td>\n",
       "      <td>PHARMACY</td>\n",
       "      <td>None</td>\n",
       "      <td>1972902351</td>\n",
       "      <td>NaN</td>\n",
       "      <td>C/O 609 W 191ST STREET, APT D</td>\n",
       "      <td>NEW YORK</td>\n",
       "      <td>NY</td>\n",
       "      <td>10040</td>\n",
       "      <td>1128b8</td>\n",
       "      <td>20220320</td>\n",
       "      <td>0</td>\n",
       "      <td>0</td>\n",
       "      <td>None</td>\n",
       "    </tr>\n",
       "  </tbody>\n",
       "</table>\n",
       "</div>"
      ],
      "text/plain": [
       "  LASTNAME FIRSTNAME MIDNAME                      BUSNAME         GENERAL  \\\n",
       "0    Empty     Empty            #1 MARKETING SERVICE, INC  OTHER BUSINESS   \n",
       "1    Empty     Empty          101 FIRST CARE PHARMACY INC  OTHER BUSINESS   \n",
       "\n",
       "    SPECIALTY  UPIN         NPI  DOB                        ADDRESS      CITY  \\\n",
       "0  SOBER HOME  None           0  NaN      239 BRIGHTON BEACH AVENUE  BROOKLYN   \n",
       "1    PHARMACY  None  1972902351  NaN  C/O 609 W 191ST STREET, APT D  NEW YORK   \n",
       "\n",
       "  STATE    ZIP EXCLTYPE  EXCLDATE  REINDATE  WAIVERDATE WVRSTATE  \n",
       "0    NY  11235   1128a1  20200319         0           0     None  \n",
       "1    NY  10040   1128b8  20220320         0           0     None  "
      ]
     },
     "execution_count": 159,
     "metadata": {},
     "output_type": "execute_result"
    }
   ],
   "source": [
    "df_second.head(2)"
   ]
  },
  {
   "cell_type": "code",
   "execution_count": 160,
   "id": "4c584a5d",
   "metadata": {},
   "outputs": [],
   "source": [
    "df_second[\"Name_2\"] = df_second.FIRSTNAME+\" \" + df_second.LASTNAME"
   ]
  },
  {
   "cell_type": "code",
   "execution_count": 161,
   "id": "c28189a9",
   "metadata": {},
   "outputs": [],
   "source": [
    "df_second[\"Name_2\"] = df_second[\"Name_2\"].str.lower()"
   ]
  },
  {
   "cell_type": "code",
   "execution_count": 162,
   "id": "dbd14ac5-06c1-4ead-82c9-18c71cb7eddf",
   "metadata": {},
   "outputs": [],
   "source": [
    "df_second[\"SPECIALTY\"] = df_second[\"SPECIALTY\"].str.lower()"
   ]
  },
  {
   "cell_type": "code",
   "execution_count": 163,
   "id": "842e9cdc",
   "metadata": {},
   "outputs": [],
   "source": [
    "df_second[\"FIRSTNAME\"] = df_second[\"FIRSTNAME\"].str.lower()"
   ]
  },
  {
   "cell_type": "code",
   "execution_count": 164,
   "id": "0ef621c2-1c56-49f0-971f-bab01d8cc50a",
   "metadata": {},
   "outputs": [],
   "source": [
    "df_second[\"LASTNAME\"] = df_second[\"LASTNAME\"].str.lower()"
   ]
  },
  {
   "cell_type": "code",
   "execution_count": 165,
   "id": "864ef1ed-48aa-41e9-9cfd-670e246e8ea0",
   "metadata": {},
   "outputs": [],
   "source": [
    "df_second[\"CITY\"] = df_second[\"CITY\"].str.lower()"
   ]
  },
  {
   "cell_type": "code",
   "execution_count": 166,
   "id": "aaf5efe2",
   "metadata": {},
   "outputs": [],
   "source": [
    "#df_second.drop([\"FIRSTNAME\",\"LASTNAME\"],axis =1 , inplace = True)"
   ]
  },
  {
   "cell_type": "code",
   "execution_count": 167,
   "id": "cca7de1a",
   "metadata": {},
   "outputs": [],
   "source": [
    "df_second[\"fraud_2\"] = 1"
   ]
  },
  {
   "cell_type": "code",
   "execution_count": 168,
   "id": "4af30f08-2b79-4510-88f4-29e100c37511",
   "metadata": {},
   "outputs": [
    {
     "data": {
      "text/html": [
       "<div>\n",
       "<style scoped>\n",
       "    .dataframe tbody tr th:only-of-type {\n",
       "        vertical-align: middle;\n",
       "    }\n",
       "\n",
       "    .dataframe tbody tr th {\n",
       "        vertical-align: top;\n",
       "    }\n",
       "\n",
       "    .dataframe thead th {\n",
       "        text-align: right;\n",
       "    }\n",
       "</style>\n",
       "<table border=\"1\" class=\"dataframe\">\n",
       "  <thead>\n",
       "    <tr style=\"text-align: right;\">\n",
       "      <th></th>\n",
       "      <th>LASTNAME</th>\n",
       "      <th>FIRSTNAME</th>\n",
       "      <th>MIDNAME</th>\n",
       "      <th>BUSNAME</th>\n",
       "      <th>GENERAL</th>\n",
       "      <th>SPECIALTY</th>\n",
       "      <th>UPIN</th>\n",
       "      <th>NPI</th>\n",
       "      <th>DOB</th>\n",
       "      <th>ADDRESS</th>\n",
       "      <th>CITY</th>\n",
       "      <th>STATE</th>\n",
       "      <th>ZIP</th>\n",
       "      <th>EXCLTYPE</th>\n",
       "      <th>EXCLDATE</th>\n",
       "      <th>REINDATE</th>\n",
       "      <th>WAIVERDATE</th>\n",
       "      <th>WVRSTATE</th>\n",
       "      <th>Name_2</th>\n",
       "      <th>fraud_2</th>\n",
       "    </tr>\n",
       "  </thead>\n",
       "  <tbody>\n",
       "    <tr>\n",
       "      <th>3230</th>\n",
       "      <td>aalders</td>\n",
       "      <td>nancy</td>\n",
       "      <td>BLOCK</td>\n",
       "      <td>None</td>\n",
       "      <td>HOSPITAL</td>\n",
       "      <td>nurse/nurses aide</td>\n",
       "      <td>None</td>\n",
       "      <td>0</td>\n",
       "      <td>19640305.0</td>\n",
       "      <td>9527 SOUTH KENTON</td>\n",
       "      <td>oak lawn</td>\n",
       "      <td>IL</td>\n",
       "      <td>60453</td>\n",
       "      <td>1128b4</td>\n",
       "      <td>20030820</td>\n",
       "      <td>0</td>\n",
       "      <td>0</td>\n",
       "      <td>None</td>\n",
       "      <td>nancy aalders</td>\n",
       "      <td>1</td>\n",
       "    </tr>\n",
       "    <tr>\n",
       "      <th>3231</th>\n",
       "      <td>aaltonen</td>\n",
       "      <td>nickolas</td>\n",
       "      <td>A</td>\n",
       "      <td>None</td>\n",
       "      <td>IND- LIC HC SERV PRO</td>\n",
       "      <td>pharmacy technician</td>\n",
       "      <td>None</td>\n",
       "      <td>0</td>\n",
       "      <td>19880123.0</td>\n",
       "      <td>32 W PACIFIC AVE</td>\n",
       "      <td>spokane</td>\n",
       "      <td>WA</td>\n",
       "      <td>99201</td>\n",
       "      <td>1128a4</td>\n",
       "      <td>20120419</td>\n",
       "      <td>0</td>\n",
       "      <td>0</td>\n",
       "      <td>None</td>\n",
       "      <td>nickolas aaltonen</td>\n",
       "      <td>1</td>\n",
       "    </tr>\n",
       "    <tr>\n",
       "      <th>3232</th>\n",
       "      <td>aamir</td>\n",
       "      <td>muhammad</td>\n",
       "      <td>SOHAIL</td>\n",
       "      <td>None</td>\n",
       "      <td>BUS OWNER/EXEC</td>\n",
       "      <td>home health agency</td>\n",
       "      <td>None</td>\n",
       "      <td>0</td>\n",
       "      <td>19700910.0</td>\n",
       "      <td>3956 COLUMBIA COURT</td>\n",
       "      <td>bloomfield hills</td>\n",
       "      <td>MI</td>\n",
       "      <td>48302</td>\n",
       "      <td>1128a1</td>\n",
       "      <td>20170220</td>\n",
       "      <td>0</td>\n",
       "      <td>0</td>\n",
       "      <td>None</td>\n",
       "      <td>muhammad aamir</td>\n",
       "      <td>1</td>\n",
       "    </tr>\n",
       "    <tr>\n",
       "      <th>3233</th>\n",
       "      <td>aaron</td>\n",
       "      <td>alina</td>\n",
       "      <td>A</td>\n",
       "      <td>None</td>\n",
       "      <td>IND- LIC HC SERV PRO</td>\n",
       "      <td>nurse/nurses aide</td>\n",
       "      <td>None</td>\n",
       "      <td>0</td>\n",
       "      <td>19870209.0</td>\n",
       "      <td>3325 N ROSE CIRCLE DRIVE</td>\n",
       "      <td>phoenix</td>\n",
       "      <td>AZ</td>\n",
       "      <td>85018</td>\n",
       "      <td>1128b4</td>\n",
       "      <td>20171019</td>\n",
       "      <td>0</td>\n",
       "      <td>0</td>\n",
       "      <td>None</td>\n",
       "      <td>alina aaron</td>\n",
       "      <td>1</td>\n",
       "    </tr>\n",
       "    <tr>\n",
       "      <th>3234</th>\n",
       "      <td>aaron</td>\n",
       "      <td>christopher</td>\n",
       "      <td>WILLIAM</td>\n",
       "      <td>None</td>\n",
       "      <td>IND- LIC HC SERV PRO</td>\n",
       "      <td>nurse/nurses aide</td>\n",
       "      <td>None</td>\n",
       "      <td>0</td>\n",
       "      <td>19870908.0</td>\n",
       "      <td>120 SUPERVISOR DRIVE</td>\n",
       "      <td>west newton</td>\n",
       "      <td>PA</td>\n",
       "      <td>15089</td>\n",
       "      <td>1128b4</td>\n",
       "      <td>20140520</td>\n",
       "      <td>0</td>\n",
       "      <td>0</td>\n",
       "      <td>None</td>\n",
       "      <td>christopher aaron</td>\n",
       "      <td>1</td>\n",
       "    </tr>\n",
       "    <tr>\n",
       "      <th>...</th>\n",
       "      <td>...</td>\n",
       "      <td>...</td>\n",
       "      <td>...</td>\n",
       "      <td>...</td>\n",
       "      <td>...</td>\n",
       "      <td>...</td>\n",
       "      <td>...</td>\n",
       "      <td>...</td>\n",
       "      <td>...</td>\n",
       "      <td>...</td>\n",
       "      <td>...</td>\n",
       "      <td>...</td>\n",
       "      <td>...</td>\n",
       "      <td>...</td>\n",
       "      <td>...</td>\n",
       "      <td>...</td>\n",
       "      <td>...</td>\n",
       "      <td>...</td>\n",
       "      <td>...</td>\n",
       "      <td>...</td>\n",
       "    </tr>\n",
       "    <tr>\n",
       "      <th>76120</th>\n",
       "      <td>zwolinski</td>\n",
       "      <td>amber</td>\n",
       "      <td>DAWN</td>\n",
       "      <td>None</td>\n",
       "      <td>IND- LIC HC SERV PRO</td>\n",
       "      <td>nurse/nurses aide</td>\n",
       "      <td>None</td>\n",
       "      <td>0</td>\n",
       "      <td>19870529.0</td>\n",
       "      <td>1238 PULASKI AVENUE</td>\n",
       "      <td>coal township</td>\n",
       "      <td>PA</td>\n",
       "      <td>17866</td>\n",
       "      <td>1128b4</td>\n",
       "      <td>20111220</td>\n",
       "      <td>0</td>\n",
       "      <td>0</td>\n",
       "      <td>None</td>\n",
       "      <td>amber zwolinski</td>\n",
       "      <td>1</td>\n",
       "    </tr>\n",
       "    <tr>\n",
       "      <th>76121</th>\n",
       "      <td>zyderveld</td>\n",
       "      <td>mary</td>\n",
       "      <td>ANN</td>\n",
       "      <td>None</td>\n",
       "      <td>PHARMACY</td>\n",
       "      <td>technician</td>\n",
       "      <td>None</td>\n",
       "      <td>0</td>\n",
       "      <td>19520825.0</td>\n",
       "      <td>1358 MORNING GLORY TURN</td>\n",
       "      <td>ruckersville</td>\n",
       "      <td>VA</td>\n",
       "      <td>22962</td>\n",
       "      <td>1128b4</td>\n",
       "      <td>20090219</td>\n",
       "      <td>0</td>\n",
       "      <td>0</td>\n",
       "      <td>None</td>\n",
       "      <td>mary zyderveld</td>\n",
       "      <td>1</td>\n",
       "    </tr>\n",
       "    <tr>\n",
       "      <th>76122</th>\n",
       "      <td>zylstra</td>\n",
       "      <td>christeena</td>\n",
       "      <td>LYNN</td>\n",
       "      <td>None</td>\n",
       "      <td>NURSING PROFESSION</td>\n",
       "      <td>nurse/nurses aide</td>\n",
       "      <td>None</td>\n",
       "      <td>0</td>\n",
       "      <td>19670724.0</td>\n",
       "      <td>1816 NE 49TH STREET</td>\n",
       "      <td>kansas city</td>\n",
       "      <td>MO</td>\n",
       "      <td>64118</td>\n",
       "      <td>1128b4</td>\n",
       "      <td>20100318</td>\n",
       "      <td>0</td>\n",
       "      <td>0</td>\n",
       "      <td>None</td>\n",
       "      <td>christeena zylstra</td>\n",
       "      <td>1</td>\n",
       "    </tr>\n",
       "    <tr>\n",
       "      <th>76123</th>\n",
       "      <td>zylstra</td>\n",
       "      <td>james</td>\n",
       "      <td>PETER</td>\n",
       "      <td>None</td>\n",
       "      <td>REHAB FACILITY - GEN</td>\n",
       "      <td>employee</td>\n",
       "      <td>None</td>\n",
       "      <td>0</td>\n",
       "      <td>19550420.0</td>\n",
       "      <td>2305 MINNESOTA BLVD, S E</td>\n",
       "      <td>st cloud</td>\n",
       "      <td>MN</td>\n",
       "      <td>56304</td>\n",
       "      <td>1128a2</td>\n",
       "      <td>20040920</td>\n",
       "      <td>0</td>\n",
       "      <td>0</td>\n",
       "      <td>None</td>\n",
       "      <td>james zylstra</td>\n",
       "      <td>1</td>\n",
       "    </tr>\n",
       "    <tr>\n",
       "      <th>76124</th>\n",
       "      <td>zywocinski</td>\n",
       "      <td>cynthia</td>\n",
       "      <td>A</td>\n",
       "      <td>None</td>\n",
       "      <td>OSTEOPATHIC PRAC</td>\n",
       "      <td>osteopathy</td>\n",
       "      <td>F00244</td>\n",
       "      <td>0</td>\n",
       "      <td>19630316.0</td>\n",
       "      <td>117 WHITE TAIL LANE</td>\n",
       "      <td>lancaster</td>\n",
       "      <td>MA</td>\n",
       "      <td>01523</td>\n",
       "      <td>1128b14</td>\n",
       "      <td>19990720</td>\n",
       "      <td>0</td>\n",
       "      <td>0</td>\n",
       "      <td>None</td>\n",
       "      <td>cynthia zywocinski</td>\n",
       "      <td>1</td>\n",
       "    </tr>\n",
       "  </tbody>\n",
       "</table>\n",
       "<p>72895 rows × 20 columns</p>\n",
       "</div>"
      ],
      "text/plain": [
       "         LASTNAME    FIRSTNAME   MIDNAME BUSNAME               GENERAL  \\\n",
       "3230      aalders        nancy    BLOCK     None              HOSPITAL   \n",
       "3231     aaltonen     nickolas        A     None  IND- LIC HC SERV PRO   \n",
       "3232        aamir     muhammad   SOHAIL     None        BUS OWNER/EXEC   \n",
       "3233        aaron        alina        A     None  IND- LIC HC SERV PRO   \n",
       "3234        aaron  christopher  WILLIAM     None  IND- LIC HC SERV PRO   \n",
       "...           ...          ...       ...     ...                   ...   \n",
       "76120   zwolinski        amber     DAWN     None  IND- LIC HC SERV PRO   \n",
       "76121   zyderveld         mary      ANN     None              PHARMACY   \n",
       "76122     zylstra   christeena     LYNN     None    NURSING PROFESSION   \n",
       "76123     zylstra        james    PETER     None  REHAB FACILITY - GEN   \n",
       "76124  zywocinski      cynthia        A     None      OSTEOPATHIC PRAC   \n",
       "\n",
       "                 SPECIALTY    UPIN  NPI         DOB                   ADDRESS  \\\n",
       "3230     nurse/nurses aide    None    0  19640305.0         9527 SOUTH KENTON   \n",
       "3231   pharmacy technician    None    0  19880123.0          32 W PACIFIC AVE   \n",
       "3232    home health agency    None    0  19700910.0       3956 COLUMBIA COURT   \n",
       "3233     nurse/nurses aide    None    0  19870209.0  3325 N ROSE CIRCLE DRIVE   \n",
       "3234     nurse/nurses aide    None    0  19870908.0      120 SUPERVISOR DRIVE   \n",
       "...                    ...     ...  ...         ...                       ...   \n",
       "76120    nurse/nurses aide    None    0  19870529.0       1238 PULASKI AVENUE   \n",
       "76121           technician    None    0  19520825.0   1358 MORNING GLORY TURN   \n",
       "76122    nurse/nurses aide    None    0  19670724.0       1816 NE 49TH STREET   \n",
       "76123             employee    None    0  19550420.0  2305 MINNESOTA BLVD, S E   \n",
       "76124           osteopathy  F00244    0  19630316.0       117 WHITE TAIL LANE   \n",
       "\n",
       "                   CITY STATE    ZIP EXCLTYPE  EXCLDATE  REINDATE  WAIVERDATE  \\\n",
       "3230           oak lawn    IL  60453   1128b4  20030820         0           0   \n",
       "3231            spokane    WA  99201   1128a4  20120419         0           0   \n",
       "3232   bloomfield hills    MI  48302   1128a1  20170220         0           0   \n",
       "3233            phoenix    AZ  85018   1128b4  20171019         0           0   \n",
       "3234        west newton    PA  15089   1128b4  20140520         0           0   \n",
       "...                 ...   ...    ...      ...       ...       ...         ...   \n",
       "76120     coal township    PA  17866   1128b4  20111220         0           0   \n",
       "76121      ruckersville    VA  22962   1128b4  20090219         0           0   \n",
       "76122       kansas city    MO  64118   1128b4  20100318         0           0   \n",
       "76123          st cloud    MN  56304   1128a2  20040920         0           0   \n",
       "76124         lancaster    MA  01523  1128b14  19990720         0           0   \n",
       "\n",
       "      WVRSTATE              Name_2  fraud_2  \n",
       "3230      None       nancy aalders        1  \n",
       "3231      None   nickolas aaltonen        1  \n",
       "3232      None      muhammad aamir        1  \n",
       "3233      None         alina aaron        1  \n",
       "3234      None   christopher aaron        1  \n",
       "...        ...                 ...      ...  \n",
       "76120     None     amber zwolinski        1  \n",
       "76121     None      mary zyderveld        1  \n",
       "76122     None  christeena zylstra        1  \n",
       "76123     None       james zylstra        1  \n",
       "76124     None  cynthia zywocinski        1  \n",
       "\n",
       "[72895 rows x 20 columns]"
      ]
     },
     "execution_count": 168,
     "metadata": {},
     "output_type": "execute_result"
    }
   ],
   "source": [
    "df_second[df_second[\"FIRSTNAME\"] != \"empty\"]"
   ]
  },
  {
   "cell_type": "markdown",
   "id": "191f1b4a",
   "metadata": {},
   "source": [
    "### Making dataframe with NPI numbers"
   ]
  },
  {
   "cell_type": "code",
   "execution_count": null,
   "id": "d91fbc03",
   "metadata": {},
   "outputs": [],
   "source": [
    "df_fraud_1.na.fill({\"NPI\":0})"
   ]
  },
  {
   "cell_type": "code",
   "execution_count": null,
   "id": "134ebf24",
   "metadata": {},
   "outputs": [],
   "source": [
    "df_fraud_npi = df_fraud_1.filter(df_fraud_1[\"NPI\"] != 0).select(\"NPI\")"
   ]
  },
  {
   "cell_type": "code",
   "execution_count": null,
   "id": "a2378252",
   "metadata": {},
   "outputs": [],
   "source": [
    "#6310\n",
    "\n",
    "df_fraud_npi.count()"
   ]
  },
  {
   "cell_type": "code",
   "execution_count": null,
   "id": "41dffb48",
   "metadata": {},
   "outputs": [],
   "source": [
    "#Fraud NPI\n",
    "\n",
    "df_fraud_npi.show()"
   ]
  },
  {
   "cell_type": "code",
   "execution_count": null,
   "id": "0d093473",
   "metadata": {},
   "outputs": [],
   "source": [
    "df_fraud_value = df_fraud_npi.withColumn(\"fraud\", functions.lit(1))"
   ]
  },
  {
   "cell_type": "code",
   "execution_count": null,
   "id": "8c851fb3",
   "metadata": {},
   "outputs": [],
   "source": [
    "df_fraud_value.show()"
   ]
  },
  {
   "cell_type": "code",
   "execution_count": null,
   "id": "c181eee5",
   "metadata": {},
   "outputs": [],
   "source": [
    "df_fraud_value =  df_fraud_value.withColumnRenamed(\"NPI\",\"NPI_fraud\")"
   ]
  },
  {
   "cell_type": "code",
   "execution_count": null,
   "id": "a821f336",
   "metadata": {},
   "outputs": [],
   "source": [
    "df_fraud_value.printSchema()"
   ]
  },
  {
   "cell_type": "code",
   "execution_count": null,
   "id": "e6c0f90d",
   "metadata": {},
   "outputs": [],
   "source": []
  },
  {
   "cell_type": "markdown",
   "id": "0f85c07f",
   "metadata": {},
   "source": [
    "### Lets merge both dataframes i.e drug_pay and fraud_value"
   ]
  },
  {
   "cell_type": "code",
   "execution_count": null,
   "id": "2b91f898",
   "metadata": {},
   "outputs": [],
   "source": [
    "df_final = df_drug_pay.join(df_fraud_value,df_drug_pay.NPI == df_fraud_value.NPI_fraud,\"left\")\n"
   ]
  },
  {
   "cell_type": "code",
   "execution_count": null,
   "id": "13902916",
   "metadata": {},
   "outputs": [],
   "source": [
    "#We have null values in fraud\n",
    "\n",
    "df_final.printSchema()"
   ]
  },
  {
   "cell_type": "code",
   "execution_count": null,
   "id": "8caa6b68",
   "metadata": {},
   "outputs": [],
   "source": [
    "df_final = df_final.drop(\"NPI_fraud\")"
   ]
  },
  {
   "cell_type": "code",
   "execution_count": null,
   "id": "5965e254",
   "metadata": {},
   "outputs": [],
   "source": [
    "#Filling null values in fraud with 0 , indicating non fraud\n",
    "\n",
    "df_final = df_final.na.fill({\"fraud\": 0})"
   ]
  },
  {
   "cell_type": "code",
   "execution_count": null,
   "id": "e7745942",
   "metadata": {},
   "outputs": [],
   "source": [
    "#Fraud column has zero nulls as nullable = false\n",
    "\n",
    "df_final.printSchema()"
   ]
  },
  {
   "cell_type": "code",
   "execution_count": null,
   "id": "7f90be18-3283-4bcf-ba3f-b8561c4e692e",
   "metadata": {},
   "outputs": [],
   "source": [
    "#169 frauds with NPI left join\n",
    "\n",
    "df_final.groupBy('fraud').count().orderBy('count').show()"
   ]
  },
  {
   "cell_type": "markdown",
   "id": "24ab435b",
   "metadata": {},
   "source": [
    "### Adding fraud data as name and specialty as criteria"
   ]
  },
  {
   "cell_type": "code",
   "execution_count": 195,
   "id": "f73c747a",
   "metadata": {},
   "outputs": [],
   "source": [
    "df_finalll = df_final.toPandas()"
   ]
  },
  {
   "cell_type": "code",
   "execution_count": 196,
   "id": "6adcc9c9",
   "metadata": {},
   "outputs": [
    {
     "data": {
      "text/html": [
       "<div>\n",
       "<style scoped>\n",
       "    .dataframe tbody tr th:only-of-type {\n",
       "        vertical-align: middle;\n",
       "    }\n",
       "\n",
       "    .dataframe tbody tr th {\n",
       "        vertical-align: top;\n",
       "    }\n",
       "\n",
       "    .dataframe thead th {\n",
       "        text-align: right;\n",
       "    }\n",
       "</style>\n",
       "<table border=\"1\" class=\"dataframe\">\n",
       "  <thead>\n",
       "    <tr style=\"text-align: right;\">\n",
       "      <th></th>\n",
       "      <th>NPI</th>\n",
       "      <th>City</th>\n",
       "      <th>State</th>\n",
       "      <th>Speciality</th>\n",
       "      <th>max_Tot_Drug_Cst</th>\n",
       "      <th>sum_Tot_Drug_Cst</th>\n",
       "      <th>avg_Tot_Drug_Cst</th>\n",
       "      <th>max_Total_claims</th>\n",
       "      <th>sum_Total_claims</th>\n",
       "      <th>avg_Total_claims</th>\n",
       "      <th>max_Tot_Day_Suply</th>\n",
       "      <th>sum_Tot_Day_Suply</th>\n",
       "      <th>avg_Tot_Day_Suply</th>\n",
       "      <th>max_Tot_30day_Fills</th>\n",
       "      <th>sum_Tot_30day_Fills</th>\n",
       "      <th>avg_Tot_30day_Fills</th>\n",
       "      <th>First_name</th>\n",
       "      <th>Last_name</th>\n",
       "      <th>Total_payments</th>\n",
       "      <th>fraud</th>\n",
       "    </tr>\n",
       "  </thead>\n",
       "  <tbody>\n",
       "    <tr>\n",
       "      <th>0</th>\n",
       "      <td>1003000126</td>\n",
       "      <td>bethesda</td>\n",
       "      <td>md</td>\n",
       "      <td>Internal Medicine</td>\n",
       "      <td>4792.85</td>\n",
       "      <td>5979.07</td>\n",
       "      <td>747.38370</td>\n",
       "      <td>30</td>\n",
       "      <td>124</td>\n",
       "      <td>15.500000</td>\n",
       "      <td>937</td>\n",
       "      <td>3721</td>\n",
       "      <td>465.1250</td>\n",
       "      <td>32.4</td>\n",
       "      <td>138.2</td>\n",
       "      <td>17.275000</td>\n",
       "      <td>ardalan</td>\n",
       "      <td>enkeshafi</td>\n",
       "      <td>20.48</td>\n",
       "      <td>0</td>\n",
       "    </tr>\n",
       "    <tr>\n",
       "      <th>1</th>\n",
       "      <td>1003000423</td>\n",
       "      <td>cleveland</td>\n",
       "      <td>oh</td>\n",
       "      <td>Obstetrics &amp; Gynecology</td>\n",
       "      <td>8276.44</td>\n",
       "      <td>15389.69</td>\n",
       "      <td>2564.94820</td>\n",
       "      <td>39</td>\n",
       "      <td>122</td>\n",
       "      <td>20.333333</td>\n",
       "      <td>2412</td>\n",
       "      <td>5217</td>\n",
       "      <td>869.5000</td>\n",
       "      <td>82.0</td>\n",
       "      <td>213.7</td>\n",
       "      <td>35.616665</td>\n",
       "      <td>jennifer</td>\n",
       "      <td>velotta</td>\n",
       "      <td>171.29</td>\n",
       "      <td>0</td>\n",
       "    </tr>\n",
       "    <tr>\n",
       "      <th>2</th>\n",
       "      <td>1003000720</td>\n",
       "      <td>clemmons</td>\n",
       "      <td>nc</td>\n",
       "      <td>Nurse Practitioner</td>\n",
       "      <td>657.01</td>\n",
       "      <td>3052.84</td>\n",
       "      <td>254.40334</td>\n",
       "      <td>51</td>\n",
       "      <td>230</td>\n",
       "      <td>19.166667</td>\n",
       "      <td>337</td>\n",
       "      <td>2166</td>\n",
       "      <td>180.5000</td>\n",
       "      <td>51.0</td>\n",
       "      <td>230.0</td>\n",
       "      <td>19.166666</td>\n",
       "      <td>None</td>\n",
       "      <td>None</td>\n",
       "      <td>NaN</td>\n",
       "      <td>0</td>\n",
       "    </tr>\n",
       "    <tr>\n",
       "      <th>3</th>\n",
       "      <td>1003001785</td>\n",
       "      <td>tulsa</td>\n",
       "      <td>ok</td>\n",
       "      <td>Orthopedic Surgery</td>\n",
       "      <td>2141.24</td>\n",
       "      <td>7812.28</td>\n",
       "      <td>781.22800</td>\n",
       "      <td>126</td>\n",
       "      <td>546</td>\n",
       "      <td>54.600000</td>\n",
       "      <td>2610</td>\n",
       "      <td>8250</td>\n",
       "      <td>825.0000</td>\n",
       "      <td>126.0</td>\n",
       "      <td>569.0</td>\n",
       "      <td>56.900000</td>\n",
       "      <td>jaclyn</td>\n",
       "      <td>jones</td>\n",
       "      <td>969.07</td>\n",
       "      <td>0</td>\n",
       "    </tr>\n",
       "    <tr>\n",
       "      <th>4</th>\n",
       "      <td>1003001884</td>\n",
       "      <td>flint</td>\n",
       "      <td>mi</td>\n",
       "      <td>Family Practice</td>\n",
       "      <td>1324.26</td>\n",
       "      <td>2449.09</td>\n",
       "      <td>349.87000</td>\n",
       "      <td>31</td>\n",
       "      <td>118</td>\n",
       "      <td>16.857143</td>\n",
       "      <td>1560</td>\n",
       "      <td>4979</td>\n",
       "      <td>711.2857</td>\n",
       "      <td>53.0</td>\n",
       "      <td>199.0</td>\n",
       "      <td>28.428572</td>\n",
       "      <td>None</td>\n",
       "      <td>None</td>\n",
       "      <td>NaN</td>\n",
       "      <td>0</td>\n",
       "    </tr>\n",
       "  </tbody>\n",
       "</table>\n",
       "</div>"
      ],
      "text/plain": [
       "          NPI       City State               Speciality  max_Tot_Drug_Cst  \\\n",
       "0  1003000126   bethesda    md        Internal Medicine           4792.85   \n",
       "1  1003000423  cleveland    oh  Obstetrics & Gynecology           8276.44   \n",
       "2  1003000720   clemmons    nc       Nurse Practitioner            657.01   \n",
       "3  1003001785      tulsa    ok       Orthopedic Surgery           2141.24   \n",
       "4  1003001884      flint    mi          Family Practice           1324.26   \n",
       "\n",
       "   sum_Tot_Drug_Cst  avg_Tot_Drug_Cst  max_Total_claims  sum_Total_claims  \\\n",
       "0           5979.07         747.38370                30               124   \n",
       "1          15389.69        2564.94820                39               122   \n",
       "2           3052.84         254.40334                51               230   \n",
       "3           7812.28         781.22800               126               546   \n",
       "4           2449.09         349.87000                31               118   \n",
       "\n",
       "   avg_Total_claims  max_Tot_Day_Suply  sum_Tot_Day_Suply  avg_Tot_Day_Suply  \\\n",
       "0         15.500000                937               3721           465.1250   \n",
       "1         20.333333               2412               5217           869.5000   \n",
       "2         19.166667                337               2166           180.5000   \n",
       "3         54.600000               2610               8250           825.0000   \n",
       "4         16.857143               1560               4979           711.2857   \n",
       "\n",
       "   max_Tot_30day_Fills  sum_Tot_30day_Fills  avg_Tot_30day_Fills First_name  \\\n",
       "0                 32.4                138.2            17.275000    ardalan   \n",
       "1                 82.0                213.7            35.616665   jennifer   \n",
       "2                 51.0                230.0            19.166666       None   \n",
       "3                126.0                569.0            56.900000     jaclyn   \n",
       "4                 53.0                199.0            28.428572       None   \n",
       "\n",
       "   Last_name  Total_payments  fraud  \n",
       "0  enkeshafi           20.48      0  \n",
       "1    velotta          171.29      0  \n",
       "2       None             NaN      0  \n",
       "3      jones          969.07      0  \n",
       "4       None             NaN      0  "
      ]
     },
     "execution_count": 196,
     "metadata": {},
     "output_type": "execute_result"
    }
   ],
   "source": [
    "df_finalll.head()"
   ]
  },
  {
   "cell_type": "code",
   "execution_count": 197,
   "id": "04b145a5",
   "metadata": {},
   "outputs": [],
   "source": [
    "df_finalll[\"Speciality\"] = df_finalll[\"Speciality\"].str.lower()"
   ]
  },
  {
   "cell_type": "code",
   "execution_count": 199,
   "id": "bdcb0bfd-3586-43d0-bdfc-c413601ee27a",
   "metadata": {},
   "outputs": [],
   "source": [
    "df_finalll = pd.merge(df_finalll, df_second.loc[:,['FIRSTNAME',\"LASTNAME\",'SPECIALTY','CITY',\"fraud_2\"]], how=\"left\", left_on=['First_name',\"Last_name\", 'Speciality',\"City\"], right_on=['FIRSTNAME',\"LASTNAME\", 'SPECIALTY','CITY'])"
   ]
  },
  {
   "cell_type": "code",
   "execution_count": null,
   "id": "5476554f-f191-48d6-876d-ba95d6c5f9b2",
   "metadata": {},
   "outputs": [],
   "source": [
    "df_finalll.drop([\"SPECIALTY\",'FIRSTNAME',\"LASTNAME\",'CITY'],axis=1,inplace =True)"
   ]
  },
  {
   "cell_type": "code",
   "execution_count": 198,
   "id": "2c9b2acf-1a54-4cbc-9d40-7a063533c54c",
   "metadata": {},
   "outputs": [],
   "source": [
    "#df_finalll = pd.merge(df_finalll, df_second.loc[:,['FIRSTNAME','SPECIALTY','CITY',\"fraud_2\"]], how=\"left\", left_on='First_name', right_on='FIRSTNAME')"
   ]
  },
  {
   "cell_type": "code",
   "execution_count": 200,
   "id": "8ec27244",
   "metadata": {},
   "outputs": [],
   "source": [
    "#df_finalll = pd.merge(df_finalll, df_second.loc[:,['FIRSTNAME','SPECIALTY','CITY',\"fraud_2\"]], how=\"left\", left_on=['First_name', 'Speciality',\"City\"], right_on=['FIRSTNAME', 'SPECIALTY','CITY'])"
   ]
  },
  {
   "cell_type": "code",
   "execution_count": 208,
   "id": "7753a42a",
   "metadata": {},
   "outputs": [],
   "source": [
    "#df_finalll.drop([\"SPECIALTY\",'FIRSTNAME','CITY'],axis=1,inplace =True)"
   ]
  },
  {
   "cell_type": "code",
   "execution_count": null,
   "id": "91ba5cd8-b3e2-4a10-9d5a-1523679e0ea7",
   "metadata": {},
   "outputs": [],
   "source": []
  },
  {
   "cell_type": "code",
   "execution_count": 209,
   "id": "edc8a0cb",
   "metadata": {},
   "outputs": [
    {
     "data": {
      "text/html": [
       "<div>\n",
       "<style scoped>\n",
       "    .dataframe tbody tr th:only-of-type {\n",
       "        vertical-align: middle;\n",
       "    }\n",
       "\n",
       "    .dataframe tbody tr th {\n",
       "        vertical-align: top;\n",
       "    }\n",
       "\n",
       "    .dataframe thead th {\n",
       "        text-align: right;\n",
       "    }\n",
       "</style>\n",
       "<table border=\"1\" class=\"dataframe\">\n",
       "  <thead>\n",
       "    <tr style=\"text-align: right;\">\n",
       "      <th></th>\n",
       "      <th>NPI</th>\n",
       "      <th>City</th>\n",
       "      <th>State</th>\n",
       "      <th>Speciality</th>\n",
       "      <th>max_Tot_Drug_Cst</th>\n",
       "      <th>sum_Tot_Drug_Cst</th>\n",
       "      <th>avg_Tot_Drug_Cst</th>\n",
       "      <th>max_Total_claims</th>\n",
       "      <th>sum_Total_claims</th>\n",
       "      <th>avg_Total_claims</th>\n",
       "      <th>...</th>\n",
       "      <th>sum_Tot_Day_Suply</th>\n",
       "      <th>avg_Tot_Day_Suply</th>\n",
       "      <th>max_Tot_30day_Fills</th>\n",
       "      <th>sum_Tot_30day_Fills</th>\n",
       "      <th>avg_Tot_30day_Fills</th>\n",
       "      <th>First_name</th>\n",
       "      <th>Last_name</th>\n",
       "      <th>Total_payments</th>\n",
       "      <th>fraud</th>\n",
       "      <th>fraud_2</th>\n",
       "    </tr>\n",
       "  </thead>\n",
       "  <tbody>\n",
       "    <tr>\n",
       "      <th>0</th>\n",
       "      <td>1003000126</td>\n",
       "      <td>bethesda</td>\n",
       "      <td>md</td>\n",
       "      <td>internal medicine</td>\n",
       "      <td>4792.85</td>\n",
       "      <td>5979.07</td>\n",
       "      <td>747.38370</td>\n",
       "      <td>30</td>\n",
       "      <td>124</td>\n",
       "      <td>15.500000</td>\n",
       "      <td>...</td>\n",
       "      <td>3721</td>\n",
       "      <td>465.1250</td>\n",
       "      <td>32.4</td>\n",
       "      <td>138.2</td>\n",
       "      <td>17.275000</td>\n",
       "      <td>ardalan</td>\n",
       "      <td>enkeshafi</td>\n",
       "      <td>20.48</td>\n",
       "      <td>0</td>\n",
       "      <td>0</td>\n",
       "    </tr>\n",
       "    <tr>\n",
       "      <th>1</th>\n",
       "      <td>1003000423</td>\n",
       "      <td>cleveland</td>\n",
       "      <td>oh</td>\n",
       "      <td>obstetrics &amp; gynecology</td>\n",
       "      <td>8276.44</td>\n",
       "      <td>15389.69</td>\n",
       "      <td>2564.94820</td>\n",
       "      <td>39</td>\n",
       "      <td>122</td>\n",
       "      <td>20.333333</td>\n",
       "      <td>...</td>\n",
       "      <td>5217</td>\n",
       "      <td>869.5000</td>\n",
       "      <td>82.0</td>\n",
       "      <td>213.7</td>\n",
       "      <td>35.616665</td>\n",
       "      <td>jennifer</td>\n",
       "      <td>velotta</td>\n",
       "      <td>171.29</td>\n",
       "      <td>0</td>\n",
       "      <td>0</td>\n",
       "    </tr>\n",
       "    <tr>\n",
       "      <th>2</th>\n",
       "      <td>1003000720</td>\n",
       "      <td>clemmons</td>\n",
       "      <td>nc</td>\n",
       "      <td>nurse practitioner</td>\n",
       "      <td>657.01</td>\n",
       "      <td>3052.84</td>\n",
       "      <td>254.40334</td>\n",
       "      <td>51</td>\n",
       "      <td>230</td>\n",
       "      <td>19.166667</td>\n",
       "      <td>...</td>\n",
       "      <td>2166</td>\n",
       "      <td>180.5000</td>\n",
       "      <td>51.0</td>\n",
       "      <td>230.0</td>\n",
       "      <td>19.166666</td>\n",
       "      <td>None</td>\n",
       "      <td>None</td>\n",
       "      <td>NaN</td>\n",
       "      <td>0</td>\n",
       "      <td>0</td>\n",
       "    </tr>\n",
       "    <tr>\n",
       "      <th>3</th>\n",
       "      <td>1003001785</td>\n",
       "      <td>tulsa</td>\n",
       "      <td>ok</td>\n",
       "      <td>orthopedic surgery</td>\n",
       "      <td>2141.24</td>\n",
       "      <td>7812.28</td>\n",
       "      <td>781.22800</td>\n",
       "      <td>126</td>\n",
       "      <td>546</td>\n",
       "      <td>54.600000</td>\n",
       "      <td>...</td>\n",
       "      <td>8250</td>\n",
       "      <td>825.0000</td>\n",
       "      <td>126.0</td>\n",
       "      <td>569.0</td>\n",
       "      <td>56.900000</td>\n",
       "      <td>jaclyn</td>\n",
       "      <td>jones</td>\n",
       "      <td>969.07</td>\n",
       "      <td>0</td>\n",
       "      <td>0</td>\n",
       "    </tr>\n",
       "    <tr>\n",
       "      <th>4</th>\n",
       "      <td>1003001884</td>\n",
       "      <td>flint</td>\n",
       "      <td>mi</td>\n",
       "      <td>family practice</td>\n",
       "      <td>1324.26</td>\n",
       "      <td>2449.09</td>\n",
       "      <td>349.87000</td>\n",
       "      <td>31</td>\n",
       "      <td>118</td>\n",
       "      <td>16.857143</td>\n",
       "      <td>...</td>\n",
       "      <td>4979</td>\n",
       "      <td>711.2857</td>\n",
       "      <td>53.0</td>\n",
       "      <td>199.0</td>\n",
       "      <td>28.428572</td>\n",
       "      <td>None</td>\n",
       "      <td>None</td>\n",
       "      <td>NaN</td>\n",
       "      <td>0</td>\n",
       "      <td>0</td>\n",
       "    </tr>\n",
       "  </tbody>\n",
       "</table>\n",
       "<p>5 rows × 21 columns</p>\n",
       "</div>"
      ],
      "text/plain": [
       "          NPI       City State               Speciality  max_Tot_Drug_Cst  \\\n",
       "0  1003000126   bethesda    md        internal medicine           4792.85   \n",
       "1  1003000423  cleveland    oh  obstetrics & gynecology           8276.44   \n",
       "2  1003000720   clemmons    nc       nurse practitioner            657.01   \n",
       "3  1003001785      tulsa    ok       orthopedic surgery           2141.24   \n",
       "4  1003001884      flint    mi          family practice           1324.26   \n",
       "\n",
       "   sum_Tot_Drug_Cst  avg_Tot_Drug_Cst  max_Total_claims  sum_Total_claims  \\\n",
       "0           5979.07         747.38370                30               124   \n",
       "1          15389.69        2564.94820                39               122   \n",
       "2           3052.84         254.40334                51               230   \n",
       "3           7812.28         781.22800               126               546   \n",
       "4           2449.09         349.87000                31               118   \n",
       "\n",
       "   avg_Total_claims  ...  sum_Tot_Day_Suply  avg_Tot_Day_Suply  \\\n",
       "0         15.500000  ...               3721           465.1250   \n",
       "1         20.333333  ...               5217           869.5000   \n",
       "2         19.166667  ...               2166           180.5000   \n",
       "3         54.600000  ...               8250           825.0000   \n",
       "4         16.857143  ...               4979           711.2857   \n",
       "\n",
       "   max_Tot_30day_Fills  sum_Tot_30day_Fills  avg_Tot_30day_Fills  First_name  \\\n",
       "0                 32.4                138.2            17.275000     ardalan   \n",
       "1                 82.0                213.7            35.616665    jennifer   \n",
       "2                 51.0                230.0            19.166666        None   \n",
       "3                126.0                569.0            56.900000      jaclyn   \n",
       "4                 53.0                199.0            28.428572        None   \n",
       "\n",
       "   Last_name Total_payments  fraud  fraud_2  \n",
       "0  enkeshafi          20.48      0        0  \n",
       "1    velotta         171.29      0        0  \n",
       "2       None            NaN      0        0  \n",
       "3      jones         969.07      0        0  \n",
       "4       None            NaN      0        0  \n",
       "\n",
       "[5 rows x 21 columns]"
      ]
     },
     "execution_count": 209,
     "metadata": {},
     "output_type": "execute_result"
    }
   ],
   "source": [
    "df_finalll.head()"
   ]
  },
  {
   "cell_type": "code",
   "execution_count": 203,
   "id": "add274b5",
   "metadata": {},
   "outputs": [],
   "source": [
    "#Filling NA values with 0\n",
    "\n",
    "df_finalll[\"fraud_2\"].fillna(0,inplace =True)"
   ]
  },
  {
   "cell_type": "code",
   "execution_count": 204,
   "id": "8177d9df",
   "metadata": {},
   "outputs": [],
   "source": [
    "df_finalll[\"fraud_2\"] = df_finalll[\"fraud_2\"].astype(\"int\")"
   ]
  },
  {
   "cell_type": "code",
   "execution_count": 205,
   "id": "0f8201f3-2fd0-4237-a2b2-b76ffbb9c673",
   "metadata": {},
   "outputs": [
    {
     "data": {
      "text/plain": [
       "726"
      ]
     },
     "execution_count": 205,
     "metadata": {},
     "output_type": "execute_result"
    }
   ],
   "source": [
    "df_finalll.FIRSTNAME.value_counts().sum()"
   ]
  },
  {
   "cell_type": "code",
   "execution_count": 206,
   "id": "6e56613b-2cb0-42b5-b7a7-2581129f276c",
   "metadata": {},
   "outputs": [
    {
     "data": {
      "text/plain": [
       "0    964330\n",
       "1       726\n",
       "Name: fraud_2, dtype: int64"
      ]
     },
     "execution_count": 206,
     "metadata": {},
     "output_type": "execute_result"
    }
   ],
   "source": [
    "df_finalll.fraud_2.value_counts()"
   ]
  },
  {
   "cell_type": "code",
   "execution_count": 210,
   "id": "84d872b8",
   "metadata": {},
   "outputs": [],
   "source": [
    "#Coparing last two columns of dataframe : fraud_1 and fraud_2\n",
    "\n",
    "def logic(data):\n",
    "    content= []\n",
    "    for i in data.values:\n",
    "        #if both are zero\n",
    "        if (i[-1] == 0) & (i[-2] == 0):\n",
    "            content.append(0)\n",
    "        #if any one is non zero\n",
    "        elif (i[-1] == 0) & (i[-2] == 1):\n",
    "            content.append(1)\n",
    "        elif (i[-1] == 0) & (i[-2] == 1):\n",
    "            content.append(1)\n",
    "        else:\n",
    "            pass\n",
    "            \n",
    "    return content"
   ]
  },
  {
   "cell_type": "code",
   "execution_count": 213,
   "id": "98eac5be",
   "metadata": {},
   "outputs": [],
   "source": [
    "df_finalll[\"FRAUD\"] = logic(df_finalll)"
   ]
  },
  {
   "cell_type": "code",
   "execution_count": 214,
   "id": "42b71104",
   "metadata": {},
   "outputs": [
    {
     "data": {
      "text/plain": [
       "0    964170\n",
       "1       886\n",
       "Name: FRAUD, dtype: int64"
      ]
     },
     "execution_count": 214,
     "metadata": {},
     "output_type": "execute_result"
    }
   ],
   "source": [
    "df_finalll.FRAUD.value_counts()"
   ]
  },
  {
   "cell_type": "code",
   "execution_count": 215,
   "id": "e6c899f6",
   "metadata": {},
   "outputs": [],
   "source": [
    "df_finalll.drop([\"fraud\",\"fraud_2\"],axis =1, inplace = True)"
   ]
  },
  {
   "cell_type": "code",
   "execution_count": 216,
   "id": "a77d6c08",
   "metadata": {},
   "outputs": [
    {
     "data": {
      "text/html": [
       "<div>\n",
       "<style scoped>\n",
       "    .dataframe tbody tr th:only-of-type {\n",
       "        vertical-align: middle;\n",
       "    }\n",
       "\n",
       "    .dataframe tbody tr th {\n",
       "        vertical-align: top;\n",
       "    }\n",
       "\n",
       "    .dataframe thead th {\n",
       "        text-align: right;\n",
       "    }\n",
       "</style>\n",
       "<table border=\"1\" class=\"dataframe\">\n",
       "  <thead>\n",
       "    <tr style=\"text-align: right;\">\n",
       "      <th></th>\n",
       "      <th>NPI</th>\n",
       "      <th>City</th>\n",
       "      <th>State</th>\n",
       "      <th>Speciality</th>\n",
       "      <th>max_Tot_Drug_Cst</th>\n",
       "      <th>sum_Tot_Drug_Cst</th>\n",
       "      <th>avg_Tot_Drug_Cst</th>\n",
       "      <th>max_Total_claims</th>\n",
       "      <th>sum_Total_claims</th>\n",
       "      <th>avg_Total_claims</th>\n",
       "      <th>max_Tot_Day_Suply</th>\n",
       "      <th>sum_Tot_Day_Suply</th>\n",
       "      <th>avg_Tot_Day_Suply</th>\n",
       "      <th>max_Tot_30day_Fills</th>\n",
       "      <th>sum_Tot_30day_Fills</th>\n",
       "      <th>avg_Tot_30day_Fills</th>\n",
       "      <th>First_name</th>\n",
       "      <th>Last_name</th>\n",
       "      <th>Total_payments</th>\n",
       "      <th>FRAUD</th>\n",
       "    </tr>\n",
       "  </thead>\n",
       "  <tbody>\n",
       "    <tr>\n",
       "      <th>0</th>\n",
       "      <td>1003000126</td>\n",
       "      <td>bethesda</td>\n",
       "      <td>md</td>\n",
       "      <td>internal medicine</td>\n",
       "      <td>4792.85</td>\n",
       "      <td>5979.07</td>\n",
       "      <td>747.3837</td>\n",
       "      <td>30</td>\n",
       "      <td>124</td>\n",
       "      <td>15.500000</td>\n",
       "      <td>937</td>\n",
       "      <td>3721</td>\n",
       "      <td>465.125</td>\n",
       "      <td>32.4</td>\n",
       "      <td>138.2</td>\n",
       "      <td>17.275000</td>\n",
       "      <td>ardalan</td>\n",
       "      <td>enkeshafi</td>\n",
       "      <td>20.48</td>\n",
       "      <td>0</td>\n",
       "    </tr>\n",
       "    <tr>\n",
       "      <th>1</th>\n",
       "      <td>1003000423</td>\n",
       "      <td>cleveland</td>\n",
       "      <td>oh</td>\n",
       "      <td>obstetrics &amp; gynecology</td>\n",
       "      <td>8276.44</td>\n",
       "      <td>15389.69</td>\n",
       "      <td>2564.9482</td>\n",
       "      <td>39</td>\n",
       "      <td>122</td>\n",
       "      <td>20.333333</td>\n",
       "      <td>2412</td>\n",
       "      <td>5217</td>\n",
       "      <td>869.500</td>\n",
       "      <td>82.0</td>\n",
       "      <td>213.7</td>\n",
       "      <td>35.616665</td>\n",
       "      <td>jennifer</td>\n",
       "      <td>velotta</td>\n",
       "      <td>171.29</td>\n",
       "      <td>0</td>\n",
       "    </tr>\n",
       "  </tbody>\n",
       "</table>\n",
       "</div>"
      ],
      "text/plain": [
       "          NPI       City State               Speciality  max_Tot_Drug_Cst  \\\n",
       "0  1003000126   bethesda    md        internal medicine           4792.85   \n",
       "1  1003000423  cleveland    oh  obstetrics & gynecology           8276.44   \n",
       "\n",
       "   sum_Tot_Drug_Cst  avg_Tot_Drug_Cst  max_Total_claims  sum_Total_claims  \\\n",
       "0           5979.07          747.3837                30               124   \n",
       "1          15389.69         2564.9482                39               122   \n",
       "\n",
       "   avg_Total_claims  max_Tot_Day_Suply  sum_Tot_Day_Suply  avg_Tot_Day_Suply  \\\n",
       "0         15.500000                937               3721            465.125   \n",
       "1         20.333333               2412               5217            869.500   \n",
       "\n",
       "   max_Tot_30day_Fills  sum_Tot_30day_Fills  avg_Tot_30day_Fills First_name  \\\n",
       "0                 32.4                138.2            17.275000    ardalan   \n",
       "1                 82.0                213.7            35.616665   jennifer   \n",
       "\n",
       "   Last_name  Total_payments  FRAUD  \n",
       "0  enkeshafi           20.48      0  \n",
       "1    velotta          171.29      0  "
      ]
     },
     "execution_count": 216,
     "metadata": {},
     "output_type": "execute_result"
    }
   ],
   "source": [
    "df_finalll.head(2)"
   ]
  },
  {
   "cell_type": "code",
   "execution_count": 217,
   "id": "aa3947b9",
   "metadata": {},
   "outputs": [
    {
     "data": {
      "text/plain": [
       "NPI                         0\n",
       "City                        0\n",
       "State                       0\n",
       "Speciality                  1\n",
       "max_Tot_Drug_Cst            0\n",
       "sum_Tot_Drug_Cst            0\n",
       "avg_Tot_Drug_Cst            0\n",
       "max_Total_claims            0\n",
       "sum_Total_claims            0\n",
       "avg_Total_claims            0\n",
       "max_Tot_Day_Suply           0\n",
       "sum_Tot_Day_Suply           0\n",
       "avg_Tot_Day_Suply           0\n",
       "max_Tot_30day_Fills         0\n",
       "sum_Tot_30day_Fills         0\n",
       "avg_Tot_30day_Fills         0\n",
       "First_name             624632\n",
       "Last_name              624632\n",
       "Total_payments         624634\n",
       "FRAUD                       0\n",
       "dtype: int64"
      ]
     },
     "execution_count": 217,
     "metadata": {},
     "output_type": "execute_result"
    }
   ],
   "source": [
    "df_finalll.isnull().sum()"
   ]
  },
  {
   "cell_type": "raw",
   "id": "6df747ce-b4e4-43d5-a7f5-b3e7ac700f35",
   "metadata": {},
   "source": [
    "df_finalll.drop([\"Total_payments\",\"Total_pay\"],axis =1, inplace = True)"
   ]
  },
  {
   "cell_type": "raw",
   "id": "0addc2bc-c9cb-4766-884b-6e0f155c9f6c",
   "metadata": {},
   "source": [
    "df_test = df_finalll.copy()"
   ]
  },
  {
   "cell_type": "raw",
   "id": "11f27245-5136-4bf4-b264-156f398ef8f1",
   "metadata": {},
   "source": [
    "df_test.dropna(inplace = True)"
   ]
  },
  {
   "cell_type": "code",
   "execution_count": 225,
   "id": "3db3329f-1941-4591-9d72-8ecd4b22c34a",
   "metadata": {},
   "outputs": [],
   "source": [
    "df_finalll.drop([\"First_name\",\"Last_name\"],axis =1, inplace = True)"
   ]
  },
  {
   "cell_type": "code",
   "execution_count": 218,
   "id": "a37ce7e7-5f56-4333-95ad-b8c87f08c053",
   "metadata": {},
   "outputs": [
    {
     "data": {
      "text/plain": [
       "0    964170\n",
       "1       886\n",
       "Name: FRAUD, dtype: int64"
      ]
     },
     "execution_count": 218,
     "metadata": {},
     "output_type": "execute_result"
    }
   ],
   "source": [
    "df_finalll.FRAUD.value_counts()"
   ]
  },
  {
   "cell_type": "markdown",
   "id": "884d1fc2",
   "metadata": {},
   "source": [
    "### Saving dataframe"
   ]
  },
  {
   "cell_type": "code",
   "execution_count": null,
   "id": "30070796-9ff6-4449-87ce-269f56c33ebb",
   "metadata": {},
   "outputs": [],
   "source": [
    "final_df = spark.createDataFrame(df_finalll)\n"
   ]
  },
  {
   "cell_type": "code",
   "execution_count": null,
   "id": "27e9124d-c3a1-44af-a52c-435aec9db620",
   "metadata": {},
   "outputs": [
    {
     "name": "stdout",
     "output_type": "stream",
     "text": [
      "root\n",
      " |-- NPI: long (nullable = true)\n",
      " |-- City: string (nullable = true)\n",
      " |-- State: string (nullable = true)\n",
      " |-- Speciality: string (nullable = true)\n",
      " |-- max_Tot_Drug_Cst: double (nullable = true)\n",
      " |-- sum_Tot_Drug_Cst: double (nullable = true)\n",
      " |-- avg_Tot_Drug_Cst: double (nullable = true)\n",
      " |-- max_Total_claims: long (nullable = true)\n",
      " |-- sum_Total_claims: long (nullable = true)\n",
      " |-- avg_Total_claims: double (nullable = true)\n",
      " |-- max_Tot_Day_Suply: long (nullable = true)\n",
      " |-- sum_Tot_Day_Suply: long (nullable = true)\n",
      " |-- avg_Tot_Day_Suply: double (nullable = true)\n",
      " |-- max_Tot_30day_Fills: double (nullable = true)\n",
      " |-- sum_Tot_30day_Fills: double (nullable = true)\n",
      " |-- avg_Tot_30day_Fills: double (nullable = true)\n",
      " |-- Total_payments: double (nullable = true)\n",
      " |-- FRAUD: long (nullable = true)\n",
      "\n"
     ]
    }
   ],
   "source": [
    "final_df.printSchema()"
   ]
  },
  {
   "cell_type": "code",
   "execution_count": null,
   "id": "d8507f40-6dce-4c92-a3a1-f6e997af4b17",
   "metadata": {},
   "outputs": [],
   "source": [
    "final_df.write.format(\"com.mongodb.spark.sql.DefaultSource\") \\\n",
    "    .option(\"database\",\"Medicare\") \\\n",
    "    .option(\"collection\",\"final_dataframe\") \\\n",
    "    .mode(\"overwrite\").save()"
   ]
  },
  {
   "cell_type": "code",
   "execution_count": null,
   "id": "de9d40b1-af36-4705-a764-53817277aaad",
   "metadata": {},
   "outputs": [],
   "source": [
    "#Second option of loading data in to mongo db\n",
    "\n",
    "# client = MongoClient('localhost',27017)\n",
    "# db = client[\"Medicare\"]\n",
    "# collection = db[\"final_dataframe\"]\n",
    "# collection.insert_many(df_finall1.apply(lambda x: x.to_dict(), axis=1).to_list())"
   ]
  },
  {
   "cell_type": "code",
   "execution_count": null,
   "id": "6c58e405-7874-4a5f-9f36-482a382c863c",
   "metadata": {},
   "outputs": [],
   "source": [
    "dfraud = spark.createDataFrame(df_fraud_1)"
   ]
  },
  {
   "cell_type": "code",
   "execution_count": 11,
   "id": "8933ee40-4c9b-4ebf-9ac3-0bfbd3bc3dbf",
   "metadata": {},
   "outputs": [],
   "source": [
    "dffraud.write.format(\"com.mongodb.spark.sql.DefaultSource\") \\\n",
    "    .option(\"database\",\"Medicare\") \\\n",
    "    .option(\"collection\",\"fraud_data\") \\\n",
    "    .mode(\"overwrite\").save()"
   ]
  },
  {
   "cell_type": "code",
   "execution_count": null,
   "id": "a5a74150-0aa6-4d5b-8504-f7e8985fcd38",
   "metadata": {},
   "outputs": [],
   "source": []
  },
  {
   "cell_type": "code",
   "execution_count": 228,
   "id": "c1df75f9",
   "metadata": {},
   "outputs": [],
   "source": [
    "df_finalll.to_csv(\"../data/spark_csv/final_dataframe.csv\")"
   ]
  },
  {
   "cell_type": "code",
   "execution_count": null,
   "id": "a1b62736-6e63-4531-b2f8-84468b90664a",
   "metadata": {},
   "outputs": [],
   "source": []
  }
 ],
 "metadata": {
  "kernelspec": {
   "display_name": "Python 3 (ipykernel)",
   "language": "python",
   "name": "python3"
  },
  "language_info": {
   "codemirror_mode": {
    "name": "ipython",
    "version": 3
   },
   "file_extension": ".py",
   "mimetype": "text/x-python",
   "name": "python",
   "nbconvert_exporter": "python",
   "pygments_lexer": "ipython3",
   "version": "3.10.1"
  }
 },
 "nbformat": 4,
 "nbformat_minor": 5
}
