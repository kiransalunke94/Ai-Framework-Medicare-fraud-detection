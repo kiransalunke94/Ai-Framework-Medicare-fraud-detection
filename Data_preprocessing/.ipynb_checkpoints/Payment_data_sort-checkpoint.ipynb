{
 "cells": [
  {
   "cell_type": "code",
   "execution_count": 1,
   "id": "e9dfc1a4",
   "metadata": {},
   "outputs": [],
   "source": [
    "import pandas as pd\n",
    "from pyspark import SparkFiles\n",
    "from pyspark.sql import SparkSession\n",
    "from pyspark.sql import types as T\n",
    "from pyspark.sql import Row\n",
    "#from pyspark.sql.functions import *\n",
    "from pyspark.ml.feature import *\n",
    "import pickle\n",
    "#import functions\n",
    "from pyspark.sql import functions\n",
    "import warnings\n",
    "warnings.filterwarnings(\"ignore\")\n",
    "\n",
    "from pyspark.sql.functions import col,isnan, when, count,sequence"
   ]
  },
  {
   "cell_type": "code",
   "execution_count": 2,
   "id": "4fb948a8-d377-4a23-9f0d-b43da21f6132",
   "metadata": {},
   "outputs": [
    {
     "data": {
      "text/plain": [
       "'C:\\\\Spark\\\\spark3'"
      ]
     },
     "execution_count": 2,
     "metadata": {},
     "output_type": "execute_result"
    }
   ],
   "source": [
    "import findspark\n",
    "findspark.init()\n",
    "findspark.find()"
   ]
  },
  {
   "cell_type": "code",
   "execution_count": 3,
   "id": "3090068f-4e93-485c-a10e-ca89788f3e96",
   "metadata": {},
   "outputs": [],
   "source": [
    "input_uri=\"mongodb://127.0.0.1:27017/\"\n",
    "output_uri=\"mongodb://127.0.0.1:27017/\""
   ]
  },
  {
   "cell_type": "code",
   "execution_count": 4,
   "id": "30a3fab1-51bf-443d-990a-0bb8dbdc4bd4",
   "metadata": {},
   "outputs": [],
   "source": [
    "spark=SparkSession.builder.appName(\"payment_data\").config(\"spark.mongodb.input.uri\",input_uri) \\\n",
    "        .config(\"spark.mongodb.output.uri\",output_uri) \\\n",
    "        .config(\"spark.jars.packages\",\"org.mongodb.spark:mongo-spark-connector_2.12:2.4.2\") \\\n",
    "        .getOrCreate()"
   ]
  },
  {
   "cell_type": "code",
   "execution_count": 3,
   "id": "f498ff83-3b3b-44cc-b31a-d2d54a9a3028",
   "metadata": {},
   "outputs": [],
   "source": [
    "spark = SparkSession.builder.appName(\"Dataprocess\").getOrCreate()"
   ]
  },
  {
   "cell_type": "markdown",
   "id": "31fd7821",
   "metadata": {},
   "source": [
    "### Loading payments data"
   ]
  },
  {
   "cell_type": "code",
   "execution_count": 4,
   "id": "7cd5c7a3",
   "metadata": {},
   "outputs": [],
   "source": [
    "df_payment= spark.read.csv(\"../data/OP_DTL_GNRL_PGYR2020_P06302022.csv\",inferSchema=True,header = True)\n",
    "\n",
    "\n",
    "#PaymentRawData = \"c:\\\\FIP\\\\OP_DTL_GNRL_PGYR2017_P01172020.csv\""
   ]
  },
  {
   "cell_type": "code",
   "execution_count": 5,
   "id": "63d473c9",
   "metadata": {},
   "outputs": [
    {
     "name": "stdout",
     "output_type": "stream",
     "text": [
      "root\n",
      " |-- Change_Type: string (nullable = true)\n",
      " |-- Covered_Recipient_Type: string (nullable = true)\n",
      " |-- Teaching_Hospital_CCN: integer (nullable = true)\n",
      " |-- Teaching_Hospital_ID: integer (nullable = true)\n",
      " |-- Teaching_Hospital_Name: string (nullable = true)\n",
      " |-- Covered_Recipient_Profile_ID: integer (nullable = true)\n",
      " |-- Covered_Recipient_NPI: integer (nullable = true)\n",
      " |-- Covered_Recipient_First_Name: string (nullable = true)\n",
      " |-- Covered_Recipient_Middle_Name: string (nullable = true)\n",
      " |-- Covered_Recipient_Last_Name: string (nullable = true)\n",
      " |-- Covered_Recipient_Name_Suffix: string (nullable = true)\n",
      " |-- Recipient_Primary_Business_Street_Address_Line1: string (nullable = true)\n",
      " |-- Recipient_Primary_Business_Street_Address_Line2: string (nullable = true)\n",
      " |-- Recipient_City: string (nullable = true)\n",
      " |-- Recipient_State: string (nullable = true)\n",
      " |-- Recipient_Zip_Code: string (nullable = true)\n",
      " |-- Recipient_Country: string (nullable = true)\n",
      " |-- Recipient_Province: string (nullable = true)\n",
      " |-- Recipient_Postal_Code: string (nullable = true)\n",
      " |-- Covered_Recipient_Primary_Type_1: string (nullable = true)\n",
      " |-- Covered_Recipient_Primary_Type_2: string (nullable = true)\n",
      " |-- Covered_Recipient_Primary_Type_3: string (nullable = true)\n",
      " |-- Covered_Recipient_Primary_Type_4: string (nullable = true)\n",
      " |-- Covered_Recipient_Primary_Type_5: string (nullable = true)\n",
      " |-- Covered_Recipient_Primary_Type_6: string (nullable = true)\n",
      " |-- Covered_Recipient_Specialty_1: string (nullable = true)\n",
      " |-- Covered_Recipient_Specialty_2: string (nullable = true)\n",
      " |-- Covered_Recipient_Specialty_3: string (nullable = true)\n",
      " |-- Covered_Recipient_Specialty_4: string (nullable = true)\n",
      " |-- Covered_Recipient_Specialty_5: string (nullable = true)\n",
      " |-- Covered_Recipient_Specialty_6: string (nullable = true)\n",
      " |-- Covered_Recipient_License_State_code1: string (nullable = true)\n",
      " |-- Covered_Recipient_License_State_code2: string (nullable = true)\n",
      " |-- Covered_Recipient_License_State_code3: string (nullable = true)\n",
      " |-- Covered_Recipient_License_State_code4: string (nullable = true)\n",
      " |-- Covered_Recipient_License_State_code5: string (nullable = true)\n",
      " |-- Submitting_Applicable_Manufacturer_or_Applicable_GPO_Name: string (nullable = true)\n",
      " |-- Applicable_Manufacturer_or_Applicable_GPO_Making_Payment_ID: string (nullable = true)\n",
      " |-- Applicable_Manufacturer_or_Applicable_GPO_Making_Payment_Name: string (nullable = true)\n",
      " |-- Applicable_Manufacturer_or_Applicable_GPO_Making_Payment_State: string (nullable = true)\n",
      " |-- Applicable_Manufacturer_or_Applicable_GPO_Making_Payment_Country: string (nullable = true)\n",
      " |-- Total_Amount_of_Payment_USDollars: string (nullable = true)\n",
      " |-- Date_of_Payment: string (nullable = true)\n",
      " |-- Number_of_Payments_Included_in_Total_Amount: string (nullable = true)\n",
      " |-- Form_of_Payment_or_Transfer_of_Value: string (nullable = true)\n",
      " |-- Nature_of_Payment_or_Transfer_of_Value: string (nullable = true)\n",
      " |-- City_of_Travel: string (nullable = true)\n",
      " |-- State_of_Travel: string (nullable = true)\n",
      " |-- Country_of_Travel: string (nullable = true)\n",
      " |-- Physician_Ownership_Indicator: string (nullable = true)\n",
      " |-- Third_Party_Payment_Recipient_Indicator: string (nullable = true)\n",
      " |-- Name_of_Third_Party_Entity_Receiving_Payment_or_Transfer_of_Value: string (nullable = true)\n",
      " |-- Charity_Indicator: string (nullable = true)\n",
      " |-- Third_Party_Equals_Covered_Recipient_Indicator: string (nullable = true)\n",
      " |-- Contextual_Information: string (nullable = true)\n",
      " |-- Delay_in_Publication_Indicator: string (nullable = true)\n",
      " |-- Record_ID: string (nullable = true)\n",
      " |-- Dispute_Status_for_Publication: string (nullable = true)\n",
      " |-- Related_Product_Indicator: string (nullable = true)\n",
      " |-- Covered_or_Noncovered_Indicator_1: string (nullable = true)\n",
      " |-- Indicate_Drug_or_Biological_or_Device_or_Medical_Supply_1: string (nullable = true)\n",
      " |-- Product_Category_or_Therapeutic_Area_1: string (nullable = true)\n",
      " |-- Name_of_Drug_or_Biological_or_Device_or_Medical_Supply_1: string (nullable = true)\n",
      " |-- Associated_Drug_or_Biological_NDC_1: string (nullable = true)\n",
      " |-- Associated_Device_or_Medical_Supply_PDI_1: string (nullable = true)\n",
      " |-- Covered_or_Noncovered_Indicator_2: string (nullable = true)\n",
      " |-- Indicate_Drug_or_Biological_or_Device_or_Medical_Supply_2: string (nullable = true)\n",
      " |-- Product_Category_or_Therapeutic_Area_2: string (nullable = true)\n",
      " |-- Name_of_Drug_or_Biological_or_Device_or_Medical_Supply_2: string (nullable = true)\n",
      " |-- Associated_Drug_or_Biological_NDC_2: string (nullable = true)\n",
      " |-- Associated_Device_or_Medical_Supply_PDI_2: string (nullable = true)\n",
      " |-- Covered_or_Noncovered_Indicator_3: string (nullable = true)\n",
      " |-- Indicate_Drug_or_Biological_or_Device_or_Medical_Supply_3: string (nullable = true)\n",
      " |-- Product_Category_or_Therapeutic_Area_3: string (nullable = true)\n",
      " |-- Name_of_Drug_or_Biological_or_Device_or_Medical_Supply_3: string (nullable = true)\n",
      " |-- Associated_Drug_or_Biological_NDC_3: string (nullable = true)\n",
      " |-- Associated_Device_or_Medical_Supply_PDI_3: string (nullable = true)\n",
      " |-- Covered_or_Noncovered_Indicator_4: string (nullable = true)\n",
      " |-- Indicate_Drug_or_Biological_or_Device_or_Medical_Supply_4: string (nullable = true)\n",
      " |-- Product_Category_or_Therapeutic_Area_4: string (nullable = true)\n",
      " |-- Name_of_Drug_or_Biological_or_Device_or_Medical_Supply_4: string (nullable = true)\n",
      " |-- Associated_Drug_or_Biological_NDC_4: string (nullable = true)\n",
      " |-- Associated_Device_or_Medical_Supply_PDI_4: string (nullable = true)\n",
      " |-- Covered_or_Noncovered_Indicator_5: string (nullable = true)\n",
      " |-- Indicate_Drug_or_Biological_or_Device_or_Medical_Supply_5: string (nullable = true)\n",
      " |-- Product_Category_or_Therapeutic_Area_5: string (nullable = true)\n",
      " |-- Name_of_Drug_or_Biological_or_Device_or_Medical_Supply_5: string (nullable = true)\n",
      " |-- Associated_Drug_or_Biological_NDC_5: string (nullable = true)\n",
      " |-- Associated_Device_or_Medical_Supply_PDI_5: string (nullable = true)\n",
      " |-- Program_Year: string (nullable = true)\n",
      " |-- Payment_Publication_Date: string (nullable = true)\n",
      "\n"
     ]
    }
   ],
   "source": [
    "df_payment.printSchema()"
   ]
  },
  {
   "cell_type": "code",
   "execution_count": 8,
   "id": "1940b83f-2485-4c96-999a-32e8cab71f93",
   "metadata": {},
   "outputs": [
    {
     "name": "stdout",
     "output_type": "stream",
     "text": [
      "+-----------+----------------------+---------------------+--------------------+----------------------+----------------------------+---------------------+----------------------------+-----------------------------+---------------------------+-----------------------------+-----------------------------------------------+-----------------------------------------------+--------------+---------------+------------------+-----------------+------------------+---------------------+--------------------------------+--------------------------------+--------------------------------+--------------------------------+--------------------------------+--------------------------------+-----------------------------+-----------------------------+-----------------------------+-----------------------------+-----------------------------+-----------------------------+-------------------------------------+-------------------------------------+-------------------------------------+-------------------------------------+-------------------------------------+---------------------------------------------------------+-----------------------------------------------------------+-------------------------------------------------------------+--------------------------------------------------------------+----------------------------------------------------------------+---------------------------------+---------------+-------------------------------------------+------------------------------------+--------------------------------------+--------------+---------------+-----------------+-----------------------------+---------------------------------------+-----------------------------------------------------------------+-----------------+----------------------------------------------+----------------------+------------------------------+---------+------------------------------+-------------------------+---------------------------------+---------------------------------------------------------+--------------------------------------+--------------------------------------------------------+-----------------------------------+-----------------------------------------+---------------------------------+---------------------------------------------------------+--------------------------------------+--------------------------------------------------------+-----------------------------------+-----------------------------------------+---------------------------------+---------------------------------------------------------+--------------------------------------+--------------------------------------------------------+-----------------------------------+-----------------------------------------+---------------------------------+---------------------------------------------------------+--------------------------------------+--------------------------------------------------------+-----------------------------------+-----------------------------------------+---------------------------------+---------------------------------------------------------+--------------------------------------+--------------------------------------------------------+-----------------------------------+-----------------------------------------+------------+------------------------+\n",
      "|Change_Type|Covered_Recipient_Type|Teaching_Hospital_CCN|Teaching_Hospital_ID|Teaching_Hospital_Name|Covered_Recipient_Profile_ID|Covered_Recipient_NPI|Covered_Recipient_First_Name|Covered_Recipient_Middle_Name|Covered_Recipient_Last_Name|Covered_Recipient_Name_Suffix|Recipient_Primary_Business_Street_Address_Line1|Recipient_Primary_Business_Street_Address_Line2|Recipient_City|Recipient_State|Recipient_Zip_Code|Recipient_Country|Recipient_Province|Recipient_Postal_Code|Covered_Recipient_Primary_Type_1|Covered_Recipient_Primary_Type_2|Covered_Recipient_Primary_Type_3|Covered_Recipient_Primary_Type_4|Covered_Recipient_Primary_Type_5|Covered_Recipient_Primary_Type_6|Covered_Recipient_Specialty_1|Covered_Recipient_Specialty_2|Covered_Recipient_Specialty_3|Covered_Recipient_Specialty_4|Covered_Recipient_Specialty_5|Covered_Recipient_Specialty_6|Covered_Recipient_License_State_code1|Covered_Recipient_License_State_code2|Covered_Recipient_License_State_code3|Covered_Recipient_License_State_code4|Covered_Recipient_License_State_code5|Submitting_Applicable_Manufacturer_or_Applicable_GPO_Name|Applicable_Manufacturer_or_Applicable_GPO_Making_Payment_ID|Applicable_Manufacturer_or_Applicable_GPO_Making_Payment_Name|Applicable_Manufacturer_or_Applicable_GPO_Making_Payment_State|Applicable_Manufacturer_or_Applicable_GPO_Making_Payment_Country|Total_Amount_of_Payment_USDollars|Date_of_Payment|Number_of_Payments_Included_in_Total_Amount|Form_of_Payment_or_Transfer_of_Value|Nature_of_Payment_or_Transfer_of_Value|City_of_Travel|State_of_Travel|Country_of_Travel|Physician_Ownership_Indicator|Third_Party_Payment_Recipient_Indicator|Name_of_Third_Party_Entity_Receiving_Payment_or_Transfer_of_Value|Charity_Indicator|Third_Party_Equals_Covered_Recipient_Indicator|Contextual_Information|Delay_in_Publication_Indicator|Record_ID|Dispute_Status_for_Publication|Related_Product_Indicator|Covered_or_Noncovered_Indicator_1|Indicate_Drug_or_Biological_or_Device_or_Medical_Supply_1|Product_Category_or_Therapeutic_Area_1|Name_of_Drug_or_Biological_or_Device_or_Medical_Supply_1|Associated_Drug_or_Biological_NDC_1|Associated_Device_or_Medical_Supply_PDI_1|Covered_or_Noncovered_Indicator_2|Indicate_Drug_or_Biological_or_Device_or_Medical_Supply_2|Product_Category_or_Therapeutic_Area_2|Name_of_Drug_or_Biological_or_Device_or_Medical_Supply_2|Associated_Drug_or_Biological_NDC_2|Associated_Device_or_Medical_Supply_PDI_2|Covered_or_Noncovered_Indicator_3|Indicate_Drug_or_Biological_or_Device_or_Medical_Supply_3|Product_Category_or_Therapeutic_Area_3|Name_of_Drug_or_Biological_or_Device_or_Medical_Supply_3|Associated_Drug_or_Biological_NDC_3|Associated_Device_or_Medical_Supply_PDI_3|Covered_or_Noncovered_Indicator_4|Indicate_Drug_or_Biological_or_Device_or_Medical_Supply_4|Product_Category_or_Therapeutic_Area_4|Name_of_Drug_or_Biological_or_Device_or_Medical_Supply_4|Associated_Drug_or_Biological_NDC_4|Associated_Device_or_Medical_Supply_PDI_4|Covered_or_Noncovered_Indicator_5|Indicate_Drug_or_Biological_or_Device_or_Medical_Supply_5|Product_Category_or_Therapeutic_Area_5|Name_of_Drug_or_Biological_or_Device_or_Medical_Supply_5|Associated_Drug_or_Biological_NDC_5|Associated_Device_or_Medical_Supply_PDI_5|Program_Year|Payment_Publication_Date|\n",
      "+-----------+----------------------+---------------------+--------------------+----------------------+----------------------------+---------------------+----------------------------+-----------------------------+---------------------------+-----------------------------+-----------------------------------------------+-----------------------------------------------+--------------+---------------+------------------+-----------------+------------------+---------------------+--------------------------------+--------------------------------+--------------------------------+--------------------------------+--------------------------------+--------------------------------+-----------------------------+-----------------------------+-----------------------------+-----------------------------+-----------------------------+-----------------------------+-------------------------------------+-------------------------------------+-------------------------------------+-------------------------------------+-------------------------------------+---------------------------------------------------------+-----------------------------------------------------------+-------------------------------------------------------------+--------------------------------------------------------------+----------------------------------------------------------------+---------------------------------+---------------+-------------------------------------------+------------------------------------+--------------------------------------+--------------+---------------+-----------------+-----------------------------+---------------------------------------+-----------------------------------------------------------------+-----------------+----------------------------------------------+----------------------+------------------------------+---------+------------------------------+-------------------------+---------------------------------+---------------------------------------------------------+--------------------------------------+--------------------------------------------------------+-----------------------------------+-----------------------------------------+---------------------------------+---------------------------------------------------------+--------------------------------------+--------------------------------------------------------+-----------------------------------+-----------------------------------------+---------------------------------+---------------------------------------------------------+--------------------------------------+--------------------------------------------------------+-----------------------------------+-----------------------------------------+---------------------------------+---------------------------------------------------------+--------------------------------------+--------------------------------------------------------+-----------------------------------+-----------------------------------------+---------------------------------+---------------------------------------------------------+--------------------------------------+--------------------------------------------------------+-----------------------------------+-----------------------------------------+------------+------------------------+\n",
      "|  UNCHANGED|  Covered Recipient...|                 null|                null|                  null|                      557946|           1841302403|                       Vikas|                        Kumar|                      Pilly|                         null|                           400 International...|                                           null| Williamsville|             NY|        14221-5771|    United States|              null|                 null|                  Medical Doctor|                            null|                            null|                            null|                            null|                            null|         Allopathic & Oste...|                         null|                         null|                         null|                         null|                         null|                                   OH|                                 null|                                 null|                                 null|                                 null|                                             Caerus Corp.|                                               100000246826|                                                 Caerus Corp.|                                                            MN|                                                   United States|                         14875.00|     08/19/2020|                                          1|                Cash or cash equi...|                        Consulting Fee|          null|           null|             null|                           No|                   No Third Party Pa...|                                                             null|             null|                                          null|                  null|                            No|709231379|                            No|                       No|                             null|                                                     null|                                  null|                                                    null|                               null|                                      N/A|                             null|                                                     null|                                  null|                                                    null|                               null|                                      N/A|                             null|                                                     null|                                  null|                                                    null|                               null|                                      N/A|                             null|                                                     null|                                  null|                                                    null|                               null|                                      N/A|                             null|                                                     null|                                  null|                                                    null|                               null|                                      N/A|        2020|              06/30/2022|\n",
      "|  UNCHANGED|  Covered Recipient...|                 null|                null|                  null|                      276936|           1093895625|                     Matthew|                         null|                       Hall|                         null|                            301 Prospect Avenue|                                           null|      Syracuse|             NY|             13203|    United States|              null|                 null|             Doctor of Dentistry|                            null|                            null|                            null|                            null|                            null|         Dental Providers|...|                         null|                         null|                         null|                         null|                         null|                                   NY|                                 null|                                 null|                                 null|                                 null|                                     Solvay Dental 360...|                                               100000151564|                                         Solvay Dental 360...|                                                            GA|                                                   United States|                          5296.00|     06/16/2020|                                          1|                Cash or cash equi...|                        Consulting Fee|          null|           null|             null|                           No|                   No Third Party Pa...|                                                             null|             null|                                          null|                  null|                            No|709230901|                            No|                       No|                             null|                                                     null|                                  null|                                                    null|                               null|                                      N/A|                             null|                                                     null|                                  null|                                                    null|                               null|                                      N/A|                             null|                                                     null|                                  null|                                                    null|                               null|                                      N/A|                             null|                                                     null|                                  null|                                                    null|                               null|                                      N/A|                             null|                                                     null|                                  null|                                                    null|                               null|                                      N/A|        2020|              06/30/2022|\n",
      "|  UNCHANGED|  Covered Recipient...|                 null|                null|                  null|                     1275463|           1154534287|                     Stephen|                         null|                   Campbell|                         null|                                228 Ravine Road|                                           null|      Hinsdale|             IL|             60521|    United States|              null|                 null|             Doctor of Dentistry|                            null|                            null|                            null|                            null|                            null|         Dental Providers|...|                         null|                         null|                         null|                         null|                         null|                                   IL|                                 null|                                 null|                                 null|                                 null|                                     Solvay Dental 360...|                                               100000151564|                                         Solvay Dental 360...|                                                            GA|                                                   United States|                          1050.00|     08/02/2020|                                          1|                Cash or cash equi...|                        Consulting Fee|          null|           null|             null|                           No|                   No Third Party Pa...|                                                             null|             null|                                          null|                  null|                            No|709230907|                            No|                       No|                             null|                                                     null|                                  null|                                                    null|                               null|                                      N/A|                             null|                                                     null|                                  null|                                                    null|                               null|                                      N/A|                             null|                                                     null|                                  null|                                                    null|                               null|                                      N/A|                             null|                                                     null|                                  null|                                                    null|                               null|                                      N/A|                             null|                                                     null|                                  null|                                                    null|                               null|                                      N/A|        2020|              06/30/2022|\n",
      "|  UNCHANGED|  Covered Recipient...|                 null|                null|                  null|                      268352|           1902871882|                       Leroy|                       Pearce|                    McCarty|                          III|                            8100 W. 78th Street|                                      Suite 225|         Edina|             MN|        55439-2516|    United States|              null|                 null|                  Medical Doctor|                            null|                            null|                            null|                            null|                            null|         Allopathic & Oste...|                         null|                         null|                         null|                         null|                         null|                                   MN|                                 null|                                 null|                                 null|                                 null|                                             Caerus Corp.|                                               100000246826|                                                 Caerus Corp.|                                                            MN|                                                   United States|                          4750.00|     03/19/2020|                                          1|                Cash or cash equi...|                        Consulting Fee|          null|           null|             null|                           No|                   No Third Party Pa...|                                                             null|             null|                                          null|                  null|                            No|709231369|                            No|                       No|                             null|                                                     null|                                  null|                                                    null|                               null|                                      N/A|                             null|                                                     null|                                  null|                                                    null|                               null|                                      N/A|                             null|                                                     null|                                  null|                                                    null|                               null|                                      N/A|                             null|                                                     null|                                  null|                                                    null|                               null|                                      N/A|                             null|                                                     null|                                  null|                                                    null|                               null|                                      N/A|        2020|              06/30/2022|\n",
      "|  UNCHANGED|  Covered Recipient...|                 null|                null|                  null|                      904225|           1003949256|                     Michael|                         John|                      Latza|                         null|                                212 Park Avenue|                                           null|    Plainfield|             NJ|        07060-1206|    United States|              null|                 null|                    Chiropractor|                            null|                            null|                            null|                            null|                            null|         Chiropractic Prov...|                         null|                         null|                         null|                         null|                         null|                                   NJ|                                 null|                                 null|                                 null|                                 null|                                             Caerus Corp.|                                               100000246826|                                                 Caerus Corp.|                                                            MN|                                                   United States|                           320.00|     10/13/2020|                                          1|                Cash or cash equi...|                        Consulting Fee|          null|           null|             null|                           No|                   No Third Party Pa...|                                                             null|             null|                                          null|                  null|                            No|709231357|                            No|                       No|                             null|                                                     null|                                  null|                                                    null|                               null|                                      N/A|                             null|                                                     null|                                  null|                                                    null|                               null|                                      N/A|                             null|                                                     null|                                  null|                                                    null|                               null|                                      N/A|                             null|                                                     null|                                  null|                                                    null|                               null|                                      N/A|                             null|                                                     null|                                  null|                                                    null|                               null|                                      N/A|        2020|              06/30/2022|\n",
      "+-----------+----------------------+---------------------+--------------------+----------------------+----------------------------+---------------------+----------------------------+-----------------------------+---------------------------+-----------------------------+-----------------------------------------------+-----------------------------------------------+--------------+---------------+------------------+-----------------+------------------+---------------------+--------------------------------+--------------------------------+--------------------------------+--------------------------------+--------------------------------+--------------------------------+-----------------------------+-----------------------------+-----------------------------+-----------------------------+-----------------------------+-----------------------------+-------------------------------------+-------------------------------------+-------------------------------------+-------------------------------------+-------------------------------------+---------------------------------------------------------+-----------------------------------------------------------+-------------------------------------------------------------+--------------------------------------------------------------+----------------------------------------------------------------+---------------------------------+---------------+-------------------------------------------+------------------------------------+--------------------------------------+--------------+---------------+-----------------+-----------------------------+---------------------------------------+-----------------------------------------------------------------+-----------------+----------------------------------------------+----------------------+------------------------------+---------+------------------------------+-------------------------+---------------------------------+---------------------------------------------------------+--------------------------------------+--------------------------------------------------------+-----------------------------------+-----------------------------------------+---------------------------------+---------------------------------------------------------+--------------------------------------+--------------------------------------------------------+-----------------------------------+-----------------------------------------+---------------------------------+---------------------------------------------------------+--------------------------------------+--------------------------------------------------------+-----------------------------------+-----------------------------------------+---------------------------------+---------------------------------------------------------+--------------------------------------+--------------------------------------------------------+-----------------------------------+-----------------------------------------+---------------------------------+---------------------------------------------------------+--------------------------------------+--------------------------------------------------------+-----------------------------------+-----------------------------------------+------------+------------------------+\n",
      "only showing top 5 rows\n",
      "\n"
     ]
    }
   ],
   "source": [
    "df_payment.show(5)"
   ]
  },
  {
   "cell_type": "code",
   "execution_count": 6,
   "id": "356aa258",
   "metadata": {},
   "outputs": [],
   "source": [
    "df_payment.createOrReplaceTempView(\"df_sql2\")"
   ]
  },
  {
   "cell_type": "code",
   "execution_count": 7,
   "id": "82c2a906",
   "metadata": {},
   "outputs": [],
   "source": [
    "df_pay_req_cols = spark.sql(\"SELECT Covered_Recipient_NPI,lower(Covered_Recipient_First_Name) FirstName,lower(Covered_Recipient_Last_Name) LastName,lower(Recipient_City) city,lower(Recipient_State) state,float(Total_Amount_of_Payment_USDollars) from df_sql2\")"
   ]
  },
  {
   "cell_type": "code",
   "execution_count": 8,
   "id": "4cfbf175",
   "metadata": {},
   "outputs": [
    {
     "name": "stdout",
     "output_type": "stream",
     "text": [
      "root\n",
      " |-- Covered_Recipient_NPI: integer (nullable = true)\n",
      " |-- FirstName: string (nullable = true)\n",
      " |-- LastName: string (nullable = true)\n",
      " |-- city: string (nullable = true)\n",
      " |-- state: string (nullable = true)\n",
      " |-- Total_Amount_of_Payment_USDollars: float (nullable = true)\n",
      "\n"
     ]
    }
   ],
   "source": [
    "df_pay_req_cols.printSchema()"
   ]
  },
  {
   "cell_type": "code",
   "execution_count": 8,
   "id": "d8226311-b665-4c36-97b8-2509092e03d5",
   "metadata": {},
   "outputs": [
    {
     "name": "stdout",
     "output_type": "stream",
     "text": [
      "+---------------------+---------+--------+----+-----+---------------------------------+\n",
      "|Covered_Recipient_NPI|FirstName|LastName|city|state|Total_Amount_of_Payment_USDollars|\n",
      "+---------------------+---------+--------+----+-----+---------------------------------+\n",
      "|                35838|    32637|   32542|   0|  242|                                3|\n",
      "+---------------------+---------+--------+----+-----+---------------------------------+\n",
      "\n"
     ]
    }
   ],
   "source": [
    "#Name,city,state are not required\n",
    "\n",
    "df_pay_req_cols.select([count(when(isnan(c) | col(c).isNull(), c)).alias(c) for c in df_pay_req_cols.columns]\n",
    "   ).show()"
   ]
  },
  {
   "cell_type": "code",
   "execution_count": 14,
   "id": "9ae1a098-092e-4576-8b54-80332536a9de",
   "metadata": {},
   "outputs": [],
   "source": [
    "#filtering dataframe and selecting rows which have NPI. \n",
    "#NPI is the only valid column to on which we can join drug data and payment data\n",
    "\n",
    "df_not_null = df_pay_req_cols.filter(df_pay_req_cols.Covered_Recipient_NPI.isNotNull())"
   ]
  },
  {
   "cell_type": "code",
   "execution_count": 15,
   "id": "c336d406-8697-47e5-a192-91ec87a3e78a",
   "metadata": {},
   "outputs": [
    {
     "name": "stdout",
     "output_type": "stream",
     "text": [
      "+---------------------+---------+--------+----+-----+---------------------------------+\n",
      "|Covered_Recipient_NPI|FirstName|LastName|city|state|Total_Amount_of_Payment_USDollars|\n",
      "+---------------------+---------+--------+----+-----+---------------------------------+\n",
      "|                    0|      187|      92|   0|  239|                                3|\n",
      "+---------------------+---------+--------+----+-----+---------------------------------+\n",
      "\n"
     ]
    }
   ],
   "source": [
    "df_not_null.select([count(when(isnan(c) | col(c).isNull(), c)).alias(c) for c in df_not_null.columns]\n",
    "   ).show()"
   ]
  },
  {
   "cell_type": "code",
   "execution_count": 18,
   "id": "50c747cb-9777-4d11-86c4-62ba185adec1",
   "metadata": {},
   "outputs": [],
   "source": [
    "df_not_null = df_not_null.drop(\"city\",\"state\")"
   ]
  },
  {
   "cell_type": "code",
   "execution_count": 19,
   "id": "c80fb5a9-1945-4c4d-be01-6faadf315f19",
   "metadata": {},
   "outputs": [
    {
     "name": "stdout",
     "output_type": "stream",
     "text": [
      "root\n",
      " |-- Covered_Recipient_NPI: integer (nullable = true)\n",
      " |-- FirstName: string (nullable = true)\n",
      " |-- LastName: string (nullable = true)\n",
      " |-- Total_Amount_of_Payment_USDollars: float (nullable = true)\n",
      "\n"
     ]
    }
   ],
   "source": [
    "df_not_null.printSchema()"
   ]
  },
  {
   "cell_type": "code",
   "execution_count": 22,
   "id": "f7bf9cf8",
   "metadata": {},
   "outputs": [],
   "source": [
    "#Grouping by NPI, name,city,state\n",
    "#A another option\n",
    "df_npi_name_agg = df_not_null.groupby(\"Covered_Recipient_NPI\",\"FirstName\",\"LastName\").agg(functions.sum('Total_Amount_of_Payment_USDollars').astype(\"float\"))"
   ]
  },
  {
   "cell_type": "code",
   "execution_count": 9,
   "id": "51f2e413",
   "metadata": {},
   "outputs": [],
   "source": [
    "df_name_panda = df_name_agg.toPandas()"
   ]
  },
  {
   "cell_type": "code",
   "execution_count": 10,
   "id": "99a54a46",
   "metadata": {},
   "outputs": [
    {
     "data": {
      "text/plain": [
       "Covered_Recipient_NPI                                    1814\n",
       "Namee                                                     797\n",
       "city                                                        0\n",
       "state                                                      68\n",
       "CAST(sum(Total_Amount_of_Payment_USDollars) AS FLOAT)       3\n",
       "dtype: int64"
      ]
     },
     "execution_count": 10,
     "metadata": {},
     "output_type": "execute_result"
    }
   ],
   "source": [
    "df_name_panda.isnull().sum()"
   ]
  },
  {
   "cell_type": "code",
   "execution_count": 11,
   "id": "b7a99b86-3bf1-468b-897e-a3443465971d",
   "metadata": {},
   "outputs": [
    {
     "data": {
      "text/plain": [
       "Covered_Recipient_NPI                                    614761\n",
       "Namee                                                    615778\n",
       "city                                                     616575\n",
       "state                                                    616507\n",
       "CAST(sum(Total_Amount_of_Payment_USDollars) AS FLOAT)    616572\n",
       "dtype: int64"
      ]
     },
     "execution_count": 11,
     "metadata": {},
     "output_type": "execute_result"
    }
   ],
   "source": [
    "df_name_panda.count()"
   ]
  },
  {
   "cell_type": "code",
   "execution_count": 37,
   "id": "5ba1920b",
   "metadata": {},
   "outputs": [],
   "source": [
    "#df_name_panda.drop([\"Covered_Recipient_NPI\"],axis=1,inplace = True)"
   ]
  },
  {
   "cell_type": "code",
   "execution_count": 39,
   "id": "27eb7c40",
   "metadata": {},
   "outputs": [],
   "source": [
    "#df_name_panda.dropna(inplace=True)\n"
   ]
  },
  {
   "cell_type": "code",
   "execution_count": 40,
   "id": "ea9b8739",
   "metadata": {},
   "outputs": [],
   "source": [
    "df_name_panda[\"Total_pay\"] = df_name_panda[\"CAST(sum(Total_Amount_of_Payment_USDollars) AS FLOAT)\"]"
   ]
  },
  {
   "cell_type": "code",
   "execution_count": 41,
   "id": "81987e50",
   "metadata": {},
   "outputs": [],
   "source": [
    "df_name_panda.drop([\"CAST(sum(Total_Amount_of_Payment_USDollars) AS FLOAT)\"],axis = 1, inplace=True)"
   ]
  },
  {
   "cell_type": "code",
   "execution_count": 42,
   "id": "fefc8b86",
   "metadata": {},
   "outputs": [
    {
     "data": {
      "text/html": [
       "<div>\n",
       "<style scoped>\n",
       "    .dataframe tbody tr th:only-of-type {\n",
       "        vertical-align: middle;\n",
       "    }\n",
       "\n",
       "    .dataframe tbody tr th {\n",
       "        vertical-align: top;\n",
       "    }\n",
       "\n",
       "    .dataframe thead th {\n",
       "        text-align: right;\n",
       "    }\n",
       "</style>\n",
       "<table border=\"1\" class=\"dataframe\">\n",
       "  <thead>\n",
       "    <tr style=\"text-align: right;\">\n",
       "      <th></th>\n",
       "      <th>Namee</th>\n",
       "      <th>city</th>\n",
       "      <th>state</th>\n",
       "      <th>Total_pay</th>\n",
       "    </tr>\n",
       "  </thead>\n",
       "  <tbody>\n",
       "    <tr>\n",
       "      <th>0</th>\n",
       "      <td>robert glover</td>\n",
       "      <td>buffalo</td>\n",
       "      <td>ny</td>\n",
       "      <td>4706.819824</td>\n",
       "    </tr>\n",
       "    <tr>\n",
       "      <th>1</th>\n",
       "      <td>john cattaneo</td>\n",
       "      <td>tulsa</td>\n",
       "      <td>ok</td>\n",
       "      <td>17.680000</td>\n",
       "    </tr>\n",
       "    <tr>\n",
       "      <th>2</th>\n",
       "      <td>mark mostovych</td>\n",
       "      <td>jacksonville</td>\n",
       "      <td>fl</td>\n",
       "      <td>447.209991</td>\n",
       "    </tr>\n",
       "    <tr>\n",
       "      <th>3</th>\n",
       "      <td>connie taylor</td>\n",
       "      <td>minneapolis</td>\n",
       "      <td>mn</td>\n",
       "      <td>26.139999</td>\n",
       "    </tr>\n",
       "    <tr>\n",
       "      <th>4</th>\n",
       "      <td>satoshi furukawa</td>\n",
       "      <td>philadelphia</td>\n",
       "      <td>pa</td>\n",
       "      <td>89.139999</td>\n",
       "    </tr>\n",
       "  </tbody>\n",
       "</table>\n",
       "</div>"
      ],
      "text/plain": [
       "              Namee          city state    Total_pay\n",
       "0     robert glover       buffalo    ny  4706.819824\n",
       "1     john cattaneo         tulsa    ok    17.680000\n",
       "2    mark mostovych  jacksonville    fl   447.209991\n",
       "3     connie taylor   minneapolis    mn    26.139999\n",
       "4  satoshi furukawa  philadelphia    pa    89.139999"
      ]
     },
     "execution_count": 42,
     "metadata": {},
     "output_type": "execute_result"
    }
   ],
   "source": [
    "df_name_panda.head()"
   ]
  },
  {
   "cell_type": "code",
   "execution_count": 21,
   "id": "651dffeb-f53c-4ad0-8959-c4881e8609dd",
   "metadata": {},
   "outputs": [],
   "source": [
    "#Grouping with NPI\n",
    "\n",
    "df_group = df_not_null.groupby(\"Covered_Recipient_NPI\").agg(functions.sum('Total_Amount_of_Payment_USDollars').astype(\"float\"))"
   ]
  },
  {
   "cell_type": "code",
   "execution_count": 22,
   "id": "43d4eafb",
   "metadata": {},
   "outputs": [
    {
     "name": "stdout",
     "output_type": "stream",
     "text": [
      "root\n",
      " |-- Covered_Recipient_NPI: integer (nullable = true)\n",
      " |-- CAST(sum(Total_Amount_of_Payment_USDollars) AS FLOAT): float (nullable = true)\n",
      "\n"
     ]
    }
   ],
   "source": [
    "df_group.printSchema()"
   ]
  },
  {
   "cell_type": "code",
   "execution_count": 23,
   "id": "831cfa52",
   "metadata": {},
   "outputs": [
    {
     "name": "stdout",
     "output_type": "stream",
     "text": [
      "+---------------------+-----------------------------------------------------+\n",
      "|Covered_Recipient_NPI|CAST(sum(Total_Amount_of_Payment_USDollars) AS FLOAT)|\n",
      "+---------------------+-----------------------------------------------------+\n",
      "|           1174523807|                                                23.88|\n",
      "|           1477545572|                                              6446.39|\n",
      "|           1063472678|                                              3904.13|\n",
      "|           1407880198|                                                65.85|\n",
      "|           1538555099|                                               626.33|\n",
      "|           1942389515|                                                12.21|\n",
      "|           1649444266|                                              2218.95|\n",
      "|           1760563407|                                              2512.32|\n",
      "|           1194871780|                                                20.48|\n",
      "|           1023188463|                                              3206.83|\n",
      "|           1538128616|                                            75.439995|\n",
      "|           1437130499|                                               268.26|\n",
      "|           1699722892|                                            300.58002|\n",
      "|           1598921892|                                               571.18|\n",
      "|           1093810996|                                                104.0|\n",
      "|           1659392546|                                            88.479996|\n",
      "|           1275761017|                                               744.82|\n",
      "|           1790046720|                                              4985.09|\n",
      "|           1821275959|                                              10111.6|\n",
      "|           1366795106|                                               353.78|\n",
      "+---------------------+-----------------------------------------------------+\n",
      "only showing top 20 rows\n",
      "\n"
     ]
    }
   ],
   "source": [
    "df_group.show()"
   ]
  },
  {
   "cell_type": "code",
   "execution_count": 25,
   "id": "ade40473-bb2c-4650-b1c4-453e517f0287",
   "metadata": {},
   "outputs": [],
   "source": [
    "df_group = df_group.withColumnRenamed(\"CAST(sum(Total_Amount_of_Payment_USDollars) AS FLOAT)\",\"Payments\")"
   ]
  },
  {
   "cell_type": "code",
   "execution_count": 26,
   "id": "7dd9a153-bfa9-4417-ac31-293ae79ed0d6",
   "metadata": {},
   "outputs": [
    {
     "name": "stdout",
     "output_type": "stream",
     "text": [
      "root\n",
      " |-- Covered_Recipient_NPI: integer (nullable = true)\n",
      " |-- Payments: float (nullable = true)\n",
      "\n"
     ]
    }
   ],
   "source": [
    "df_group.printSchema()"
   ]
  },
  {
   "cell_type": "code",
   "execution_count": 27,
   "id": "e6c5e7f8-e7d3-4648-b93a-8cb4fbc6d615",
   "metadata": {},
   "outputs": [],
   "source": [
    "#Npi\n",
    "#saving file with dataframe grouped on NPI\n",
    "df_group.write.csv(\"../data/spark_csv/payment_npi.csv\")"
   ]
  },
  {
   "cell_type": "code",
   "execution_count": 24,
   "id": "dcca821e-4429-4358-94f6-aa3b16099ff6",
   "metadata": {},
   "outputs": [],
   "source": [
    "#NPI,name\n",
    "\n",
    "# df_npi_name_agg.write.csv(\"../data/spark_csv/payment_npi_name.csv\")"
   ]
  },
  {
   "cell_type": "code",
   "execution_count": null,
   "id": "f0cb5032-9576-4372-84b6-0f1a1cb4a47f",
   "metadata": {},
   "outputs": [],
   "source": []
  },
  {
   "cell_type": "code",
   "execution_count": null,
   "id": "d6e2db5f",
   "metadata": {},
   "outputs": [],
   "source": []
  }
 ],
 "metadata": {
  "kernelspec": {
   "display_name": "Python 3 (ipykernel)",
   "language": "python",
   "name": "python3"
  },
  "language_info": {
   "codemirror_mode": {
    "name": "ipython",
    "version": 3
   },
   "file_extension": ".py",
   "mimetype": "text/x-python",
   "name": "python",
   "nbconvert_exporter": "python",
   "pygments_lexer": "ipython3",
   "version": "3.10.1"
  }
 },
 "nbformat": 4,
 "nbformat_minor": 5
}
