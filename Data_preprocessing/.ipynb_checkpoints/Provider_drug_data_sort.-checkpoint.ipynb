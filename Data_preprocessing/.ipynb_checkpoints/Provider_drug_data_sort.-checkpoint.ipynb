{
 "cells": [
  {
   "cell_type": "code",
   "execution_count": 6,
   "id": "4a64910d-e4f4-4aca-8cff-ec8949f0567c",
   "metadata": {},
   "outputs": [],
   "source": [
    "import pandas as pd\n",
    "from pyspark import SparkFiles\n",
    "from pyspark.sql import SparkSession\n",
    "from pyspark.sql import types as T\n",
    "from pyspark.sql import Row\n",
    "#from pyspark.sql.functions import *\n",
    "from pyspark.ml.feature import *\n",
    "import pickle\n",
    "#import functions\n",
    "from pyspark.sql import functions\n",
    "from pyspark.sql.functions import isnan, when, count, col\n",
    "import warnings\n",
    "warnings.filterwarnings(\"ignore\")"
   ]
  },
  {
   "cell_type": "markdown",
   "id": "fcc91450",
   "metadata": {},
   "source": [
    "## Loading data"
   ]
  },
  {
   "cell_type": "markdown",
   "id": "9b7ec4cc",
   "metadata": {},
   "source": [
    "### Making sparksession object"
   ]
  },
  {
   "cell_type": "code",
   "execution_count": 2,
   "id": "f045fa83-dd00-4182-b791-20bc0f1b2582",
   "metadata": {},
   "outputs": [
    {
     "data": {
      "text/plain": [
       "'C:\\\\Spark\\\\spark3'"
      ]
     },
     "execution_count": 2,
     "metadata": {},
     "output_type": "execute_result"
    }
   ],
   "source": [
    "import findspark\n",
    "findspark.init()\n",
    "findspark.find()"
   ]
  },
  {
   "cell_type": "code",
   "execution_count": 3,
   "id": "0e5937a5-b82f-48f0-91e6-d22ba201336c",
   "metadata": {},
   "outputs": [],
   "source": [
    "input_uri=\"mongodb://127.0.0.1:27017/\"\n",
    "output_uri=\"mongodb://127.0.0.1:27017/\""
   ]
  },
  {
   "cell_type": "code",
   "execution_count": 4,
   "id": "9e9efad8-6cd2-4262-ac08-3dd958ee7045",
   "metadata": {},
   "outputs": [],
   "source": [
    "spark=SparkSession.builder.appName(\"Drug_data\").config(\"spark.mongodb.input.uri\",input_uri) \\\n",
    "        .config(\"spark.mongodb.output.uri\",output_uri) \\\n",
    "        .config(\"spark.jars.packages\",\"org.mongodb.spark:mongo-spark-connector_2.12:2.4.2\") \\\n",
    "        .getOrCreate()"
   ]
  },
  {
   "cell_type": "code",
   "execution_count": 7,
   "id": "9c1e7018-2748-4df0-a47a-7c692ace9c8c",
   "metadata": {},
   "outputs": [],
   "source": [
    "spark = SparkSession.builder.appName(\"DataLoad\").getOrCreate()"
   ]
  },
  {
   "cell_type": "markdown",
   "id": "51bedaaf",
   "metadata": {},
   "source": [
    "### Loading data with readcsv"
   ]
  },
  {
   "cell_type": "code",
   "execution_count": 8,
   "id": "7adc3791",
   "metadata": {},
   "outputs": [],
   "source": [
    "df = spark.read.csv(\"D:/Laptop/Data/MUP_DPR_RY22_P04_V10_DY20_NPIBN_0.csv\",inferSchema=True,header=True)"
   ]
  },
  {
   "cell_type": "code",
   "execution_count": 6,
   "id": "aa8f72ff",
   "metadata": {},
   "outputs": [
    {
     "data": {
      "text/plain": [
       "pyspark.sql.dataframe.DataFrame"
      ]
     },
     "execution_count": 6,
     "metadata": {},
     "output_type": "execute_result"
    }
   ],
   "source": [
    "type(df)"
   ]
  },
  {
   "cell_type": "code",
   "execution_count": 9,
   "id": "0d5e2e63-60f0-427e-9104-d23f73d3682b",
   "metadata": {},
   "outputs": [
    {
     "name": "stdout",
     "output_type": "stream",
     "text": [
      "+-----------+---------------------+------------------+------------+--------------------+------------------+------------+----------------+---------+---------+--------+---------------+-------------+------------+---------+---------------+-------------+--------------------+-----------------+------------------+--------------------+--------------+\n",
      "|Prscrbr_NPI|Prscrbr_Last_Org_Name|Prscrbr_First_Name|Prscrbr_City|Prscrbr_State_Abrvtn|Prscrbr_State_FIPS|Prscrbr_Type|Prscrbr_Type_Src|Brnd_Name|Gnrc_Name|Tot_Clms|Tot_30day_Fills|Tot_Day_Suply|Tot_Drug_Cst|Tot_Benes|GE65_Sprsn_Flag|GE65_Tot_Clms|GE65_Tot_30day_Fills|GE65_Tot_Drug_Cst|GE65_Tot_Day_Suply|GE65_Bene_Sprsn_Flag|GE65_Tot_Benes|\n",
      "+-----------+---------------------+------------------+------------+--------------------+------------------+------------+----------------+---------+---------+--------+---------------+-------------+------------+---------+---------------+-------------+--------------------+-----------------+------------------+--------------------+--------------+\n",
      "|          0|                   89|               847|           0|                   0|                29|           8|               0|        0|        0|       0|              0|            0|           0| 14488710|       13806682|     10809696|            10809696|         10809696|          10809696|             2469917|      22146461|\n",
      "+-----------+---------------------+------------------+------------+--------------------+------------------+------------+----------------+---------+---------+--------+---------------+-------------+------------+---------+---------------+-------------+--------------------+-----------------+------------------+--------------------+--------------+\n",
      "\n"
     ]
    }
   ],
   "source": [
    "#No missing values in concernd columns\n",
    "df.select([count(when(isnan(c) | col(c).isNull(), c)).alias(c) for c in df.columns]).show()"
   ]
  },
  {
   "cell_type": "markdown",
   "id": "12d485eb",
   "metadata": {},
   "source": [
    "### Understanding basic features of data"
   ]
  },
  {
   "cell_type": "code",
   "execution_count": 10,
   "id": "3a00530a",
   "metadata": {},
   "outputs": [
    {
     "name": "stdout",
     "output_type": "stream",
     "text": [
      "root\n",
      " |-- Prscrbr_NPI: integer (nullable = true)\n",
      " |-- Prscrbr_Last_Org_Name: string (nullable = true)\n",
      " |-- Prscrbr_First_Name: string (nullable = true)\n",
      " |-- Prscrbr_City: string (nullable = true)\n",
      " |-- Prscrbr_State_Abrvtn: string (nullable = true)\n",
      " |-- Prscrbr_State_FIPS: string (nullable = true)\n",
      " |-- Prscrbr_Type: string (nullable = true)\n",
      " |-- Prscrbr_Type_Src: string (nullable = true)\n",
      " |-- Brnd_Name: string (nullable = true)\n",
      " |-- Gnrc_Name: string (nullable = true)\n",
      " |-- Tot_Clms: integer (nullable = true)\n",
      " |-- Tot_30day_Fills: double (nullable = true)\n",
      " |-- Tot_Day_Suply: integer (nullable = true)\n",
      " |-- Tot_Drug_Cst: double (nullable = true)\n",
      " |-- Tot_Benes: integer (nullable = true)\n",
      " |-- GE65_Sprsn_Flag: string (nullable = true)\n",
      " |-- GE65_Tot_Clms: integer (nullable = true)\n",
      " |-- GE65_Tot_30day_Fills: double (nullable = true)\n",
      " |-- GE65_Tot_Drug_Cst: double (nullable = true)\n",
      " |-- GE65_Tot_Day_Suply: integer (nullable = true)\n",
      " |-- GE65_Bene_Sprsn_Flag: string (nullable = true)\n",
      " |-- GE65_Tot_Benes: integer (nullable = true)\n",
      "\n"
     ]
    }
   ],
   "source": [
    "df.printSchema()"
   ]
  },
  {
   "cell_type": "code",
   "execution_count": 8,
   "id": "055acdb5",
   "metadata": {},
   "outputs": [
    {
     "name": "stdout",
     "output_type": "stream",
     "text": [
      "+-----------+---------------------+------------------+------------+--------------------+------------------+-----------------+----------------+--------------+--------------+--------+---------------+-------------+------------+---------+---------------+-------------+--------------------+-----------------+------------------+--------------------+--------------+\n",
      "|Prscrbr_NPI|Prscrbr_Last_Org_Name|Prscrbr_First_Name|Prscrbr_City|Prscrbr_State_Abrvtn|Prscrbr_State_FIPS|     Prscrbr_Type|Prscrbr_Type_Src|     Brnd_Name|     Gnrc_Name|Tot_Clms|Tot_30day_Fills|Tot_Day_Suply|Tot_Drug_Cst|Tot_Benes|GE65_Sprsn_Flag|GE65_Tot_Clms|GE65_Tot_30day_Fills|GE65_Tot_Drug_Cst|GE65_Tot_Day_Suply|GE65_Bene_Sprsn_Flag|GE65_Tot_Benes|\n",
      "+-----------+---------------------+------------------+------------+--------------------+------------------+-----------------+----------------+--------------+--------------+--------+---------------+-------------+------------+---------+---------------+-------------+--------------------+-----------------+------------------+--------------------+--------------+\n",
      "| 1003000126|            Enkeshafi|           Ardalan|    Bethesda|                  MD|                24|Internal Medicine|               S|Amiodarone Hcl|Amiodarone Hcl|      13|           13.8|          399|      135.38|     null|           null|           13|                13.8|           135.38|               399|                   *|          null|\n",
      "+-----------+---------------------+------------------+------------+--------------------+------------------+-----------------+----------------+--------------+--------------+--------+---------------+-------------+------------+---------+---------------+-------------+--------------------+-----------------+------------------+--------------------+--------------+\n",
      "only showing top 1 row\n",
      "\n"
     ]
    }
   ],
   "source": [
    "df.show(1)"
   ]
  },
  {
   "cell_type": "code",
   "execution_count": 9,
   "id": "30931f2f",
   "metadata": {},
   "outputs": [
    {
     "name": "stdout",
     "output_type": "stream",
     "text": [
      "(24616378, 22)\n"
     ]
    }
   ],
   "source": [
    "print((df.count(),len(df.columns)))"
   ]
  },
  {
   "cell_type": "code",
   "execution_count": null,
   "id": "f6ac8a94",
   "metadata": {},
   "outputs": [],
   "source": []
  },
  {
   "cell_type": "markdown",
   "id": "b59ceefc",
   "metadata": {},
   "source": [
    "## Data preprocessing"
   ]
  },
  {
   "cell_type": "markdown",
   "id": "8e5b94c7",
   "metadata": {},
   "source": [
    "### Processing drug dataframe"
   ]
  },
  {
   "cell_type": "code",
   "execution_count": 10,
   "id": "f19b805c",
   "metadata": {},
   "outputs": [
    {
     "name": "stdout",
     "output_type": "stream",
     "text": [
      "root\n",
      " |-- Prscrbr_NPI: integer (nullable = true)\n",
      " |-- Prscrbr_Last_Org_Name: string (nullable = true)\n",
      " |-- Prscrbr_First_Name: string (nullable = true)\n",
      " |-- Prscrbr_City: string (nullable = true)\n",
      " |-- Prscrbr_State_Abrvtn: string (nullable = true)\n",
      " |-- Prscrbr_State_FIPS: string (nullable = true)\n",
      " |-- Prscrbr_Type: string (nullable = true)\n",
      " |-- Prscrbr_Type_Src: string (nullable = true)\n",
      " |-- Brnd_Name: string (nullable = true)\n",
      " |-- Gnrc_Name: string (nullable = true)\n",
      " |-- Tot_Clms: integer (nullable = true)\n",
      " |-- Tot_30day_Fills: double (nullable = true)\n",
      " |-- Tot_Day_Suply: integer (nullable = true)\n",
      " |-- Tot_Drug_Cst: double (nullable = true)\n",
      " |-- Tot_Benes: integer (nullable = true)\n",
      " |-- GE65_Sprsn_Flag: string (nullable = true)\n",
      " |-- GE65_Tot_Clms: integer (nullable = true)\n",
      " |-- GE65_Tot_30day_Fills: double (nullable = true)\n",
      " |-- GE65_Tot_Drug_Cst: double (nullable = true)\n",
      " |-- GE65_Tot_Day_Suply: integer (nullable = true)\n",
      " |-- GE65_Bene_Sprsn_Flag: string (nullable = true)\n",
      " |-- GE65_Tot_Benes: integer (nullable = true)\n",
      "\n"
     ]
    }
   ],
   "source": [
    "df.printSchema()"
   ]
  },
  {
   "cell_type": "markdown",
   "id": "e24eead0",
   "metadata": {},
   "source": [
    "### Renaming column names of drug dataframe"
   ]
  },
  {
   "cell_type": "code",
   "execution_count": 11,
   "id": "3ea44816",
   "metadata": {},
   "outputs": [],
   "source": [
    "\n",
    "df_rename = df.withColumnRenamed(\"Tot_Clms\",\"Total_claims\").withColumnRenamed(\"Prscrbr_First_Name\",\"First_name\")"
   ]
  },
  {
   "cell_type": "code",
   "execution_count": 12,
   "id": "45063b66",
   "metadata": {},
   "outputs": [],
   "source": [
    "df_rename = df_rename.withColumnRenamed(\"Prscrbr_City\",\"City\").withColumnRenamed(\"Prscrbr_State_Abrvtn\",\"State\")"
   ]
  },
  {
   "cell_type": "code",
   "execution_count": 13,
   "id": "0d52a08c",
   "metadata": {},
   "outputs": [],
   "source": [
    "df_rename = df_rename.withColumnRenamed(\"Gnrc_Name\",\"Drug_name\").withColumnRenamed(\"Prscrbr_NPI\",\"NPI\").withColumnRenamed(\"Prscrbr_Last_Org_Name\",\"last_org_name\")"
   ]
  },
  {
   "cell_type": "code",
   "execution_count": 14,
   "id": "71182e86",
   "metadata": {},
   "outputs": [],
   "source": [
    "df_rename = df_rename.withColumnRenamed(\"Prscrbr_Type\",\"Speciality\")"
   ]
  },
  {
   "cell_type": "code",
   "execution_count": 15,
   "id": "69f91671",
   "metadata": {},
   "outputs": [
    {
     "name": "stdout",
     "output_type": "stream",
     "text": [
      "root\n",
      " |-- NPI: integer (nullable = true)\n",
      " |-- last_org_name: string (nullable = true)\n",
      " |-- First_name: string (nullable = true)\n",
      " |-- City: string (nullable = true)\n",
      " |-- State: string (nullable = true)\n",
      " |-- Prscrbr_State_FIPS: string (nullable = true)\n",
      " |-- Speciality: string (nullable = true)\n",
      " |-- Prscrbr_Type_Src: string (nullable = true)\n",
      " |-- Brnd_Name: string (nullable = true)\n",
      " |-- Drug_name: string (nullable = true)\n",
      " |-- Total_claims: integer (nullable = true)\n",
      " |-- Tot_30day_Fills: double (nullable = true)\n",
      " |-- Tot_Day_Suply: integer (nullable = true)\n",
      " |-- Tot_Drug_Cst: double (nullable = true)\n",
      " |-- Tot_Benes: integer (nullable = true)\n",
      " |-- GE65_Sprsn_Flag: string (nullable = true)\n",
      " |-- GE65_Tot_Clms: integer (nullable = true)\n",
      " |-- GE65_Tot_30day_Fills: double (nullable = true)\n",
      " |-- GE65_Tot_Drug_Cst: double (nullable = true)\n",
      " |-- GE65_Tot_Day_Suply: integer (nullable = true)\n",
      " |-- GE65_Bene_Sprsn_Flag: string (nullable = true)\n",
      " |-- GE65_Tot_Benes: integer (nullable = true)\n",
      "\n"
     ]
    }
   ],
   "source": [
    "df_rename.printSchema()"
   ]
  },
  {
   "cell_type": "markdown",
   "id": "7d5f4830",
   "metadata": {},
   "source": [
    "### Grouping all rows on npi with sum , mean and max for drug values"
   ]
  },
  {
   "cell_type": "code",
   "execution_count": 16,
   "id": "26c0e7c5",
   "metadata": {},
   "outputs": [],
   "source": [
    "group_cols = ['NPI']\n",
    "\n",
    "agg_dict = {'Tot_Drug_Cst':['sum','mean','max'],\n",
    "           'Total_claims':['sum','mean','max'],\n",
    "           'Tot_Day_Suply':['sum','mean','max'],\n",
    "           'Tot_30day_Fills':['sum','mean','max']\n",
    "           }"
   ]
  },
  {
   "cell_type": "code",
   "execution_count": 17,
   "id": "179c6bdb",
   "metadata": {},
   "outputs": [
    {
     "name": "stdout",
     "output_type": "stream",
     "text": [
      "+----------+-----------------+-----------------+-----------------+-----------------+-----------------+-----------------+------------------+------------------+------------------+--------------------+--------------------+--------------------+\n",
      "|       NPI|max(Tot_Drug_Cst)|sum(Tot_Drug_Cst)|avg(Tot_Drug_Cst)|max(Total_claims)|sum(Total_claims)|avg(Total_claims)|max(Tot_Day_Suply)|sum(Tot_Day_Suply)|avg(Tot_Day_Suply)|max(Tot_30day_Fills)|sum(Tot_30day_Fills)|avg(Tot_30day_Fills)|\n",
      "+----------+-----------------+-----------------+-----------------+-----------------+-----------------+-----------------+------------------+------------------+------------------+--------------------+--------------------+--------------------+\n",
      "|1003039298|           123.95|           123.95|           123.95|               12|               12|             12.0|               212|               212|             212.0|                12.1|                12.1|                12.1|\n",
      "+----------+-----------------+-----------------+-----------------+-----------------+-----------------+-----------------+------------------+------------------+------------------+--------------------+--------------------+--------------------+\n",
      "only showing top 1 row\n",
      "\n"
     ]
    }
   ],
   "source": [
    "df_agg = df_rename.groupby(\"NPI\").agg(functions.max('Tot_Drug_Cst'), \n",
    "                                      functions.sum('Tot_Drug_Cst'),\n",
    "                                      functions.mean('Tot_Drug_Cst'),\n",
    "                                      functions.max('Total_claims'), \n",
    "                                      functions.sum('Total_claims'),\n",
    "                                      functions.mean('Total_claims'),\n",
    "                                      functions.max('Tot_Day_Suply'), \n",
    "                                      functions.sum('Tot_Day_Suply'),\n",
    "                                      functions.mean('Tot_Day_Suply'),\n",
    "                                      functions.max('Tot_30day_Fills'), \n",
    "                                      functions.sum('Tot_30day_Fills'),\n",
    "                                      functions.mean('Tot_30day_Fills'))\n",
    "                                      \n",
    "df_agg.show(1)"
   ]
  },
  {
   "cell_type": "code",
   "execution_count": 18,
   "id": "8577ac72",
   "metadata": {},
   "outputs": [
    {
     "data": {
      "text/plain": [
       "959546"
      ]
     },
     "execution_count": 18,
     "metadata": {},
     "output_type": "execute_result"
    }
   ],
   "source": [
    "#Total rows reduced from 24616378 to 959546\n",
    "#df_agg.count()"
   ]
  },
  {
   "cell_type": "code",
   "execution_count": 18,
   "id": "25d80513",
   "metadata": {},
   "outputs": [
    {
     "name": "stdout",
     "output_type": "stream",
     "text": [
      "root\n",
      " |-- NPI: integer (nullable = true)\n",
      " |-- max(Tot_Drug_Cst): double (nullable = true)\n",
      " |-- sum(Tot_Drug_Cst): double (nullable = true)\n",
      " |-- avg(Tot_Drug_Cst): double (nullable = true)\n",
      " |-- max(Total_claims): integer (nullable = true)\n",
      " |-- sum(Total_claims): long (nullable = true)\n",
      " |-- avg(Total_claims): double (nullable = true)\n",
      " |-- max(Tot_Day_Suply): integer (nullable = true)\n",
      " |-- sum(Tot_Day_Suply): long (nullable = true)\n",
      " |-- avg(Tot_Day_Suply): double (nullable = true)\n",
      " |-- max(Tot_30day_Fills): double (nullable = true)\n",
      " |-- sum(Tot_30day_Fills): double (nullable = true)\n",
      " |-- avg(Tot_30day_Fills): double (nullable = true)\n",
      "\n"
     ]
    }
   ],
   "source": [
    "df_agg.printSchema()"
   ]
  },
  {
   "cell_type": "markdown",
   "id": "6882f1cf",
   "metadata": {},
   "source": [
    "### Selecting string columns from drug dataframe"
   ]
  },
  {
   "cell_type": "raw",
   "id": "bc4e28ff",
   "metadata": {},
   "source": [
    "df_names = partD_pd.loc[:,['npi','nppes_provider_city','nppes_provider_state', \\\n",
    "                                               'nppes_provider_last_org_name', \\\n",
    "                                               'nppes_provider_first_name','specialty_description']]"
   ]
  },
  {
   "cell_type": "code",
   "execution_count": 19,
   "id": "ac31b0a4",
   "metadata": {},
   "outputs": [],
   "source": [
    "df_rename.createOrReplaceTempView(\"df_sql\")"
   ]
  },
  {
   "cell_type": "code",
   "execution_count": 21,
   "id": "e6f6a4e9",
   "metadata": {},
   "outputs": [],
   "source": [
    "df_names = spark.sql(\"SELECT distinct(NPI),First_name,LAST_ORG_NAME,CITY,STATE,SPECIALITY from df_sql\")"
   ]
  },
  {
   "cell_type": "code",
   "execution_count": 22,
   "id": "a7dd74c6",
   "metadata": {},
   "outputs": [
    {
     "name": "stdout",
     "output_type": "stream",
     "text": [
      "+----------+----------+-------------+----------+-----+----------+\n",
      "|       NPI|First_name|LAST_ORG_NAME|      CITY|STATE|SPECIALITY|\n",
      "+----------+----------+-------------+----------+-----+----------+\n",
      "|1003001868|    Pamela|       Linker|Harrisburg|   NC|   Dentist|\n",
      "+----------+----------+-------------+----------+-----+----------+\n",
      "only showing top 1 row\n",
      "\n"
     ]
    }
   ],
   "source": [
    "df_names.show(1)"
   ]
  },
  {
   "cell_type": "code",
   "execution_count": 23,
   "id": "261a78bf",
   "metadata": {},
   "outputs": [
    {
     "data": {
      "text/plain": [
       "959546"
      ]
     },
     "execution_count": 23,
     "metadata": {},
     "output_type": "execute_result"
    }
   ],
   "source": [
    "#COunt matches with our aggerate dataframe :-)\n",
    "\n",
    "#df_names.count()"
   ]
  },
  {
   "cell_type": "code",
   "execution_count": 23,
   "id": "48c6903a",
   "metadata": {},
   "outputs": [],
   "source": [
    "df_agg = df_agg.withColumnRenamed(\"NPI\",\"NPI_1\")"
   ]
  },
  {
   "cell_type": "code",
   "execution_count": 24,
   "id": "81b4b416",
   "metadata": {},
   "outputs": [
    {
     "name": "stdout",
     "output_type": "stream",
     "text": [
      "root\n",
      " |-- NPI_1: integer (nullable = true)\n",
      " |-- max(Tot_Drug_Cst): double (nullable = true)\n",
      " |-- sum(Tot_Drug_Cst): double (nullable = true)\n",
      " |-- avg(Tot_Drug_Cst): double (nullable = true)\n",
      " |-- max(Total_claims): integer (nullable = true)\n",
      " |-- sum(Total_claims): long (nullable = true)\n",
      " |-- avg(Total_claims): double (nullable = true)\n",
      " |-- max(Tot_Day_Suply): integer (nullable = true)\n",
      " |-- sum(Tot_Day_Suply): long (nullable = true)\n",
      " |-- avg(Tot_Day_Suply): double (nullable = true)\n",
      " |-- max(Tot_30day_Fills): double (nullable = true)\n",
      " |-- sum(Tot_30day_Fills): double (nullable = true)\n",
      " |-- avg(Tot_30day_Fills): double (nullable = true)\n",
      "\n"
     ]
    }
   ],
   "source": [
    "df_agg.printSchema()"
   ]
  },
  {
   "cell_type": "markdown",
   "id": "56763a84",
   "metadata": {},
   "source": [
    "### Joining string and aggregated dataframe"
   ]
  },
  {
   "cell_type": "code",
   "execution_count": 25,
   "id": "91dc2805",
   "metadata": {},
   "outputs": [],
   "source": [
    "df_join = df_names.join(df_agg,df_names.NPI == df_agg.NPI_1,\"inner\")"
   ]
  },
  {
   "cell_type": "code",
   "execution_count": 27,
   "id": "33c1af8e",
   "metadata": {},
   "outputs": [
    {
     "name": "stdout",
     "output_type": "stream",
     "text": [
      "+----------+----------+-------------+--------+-----+-----------------+----------+-----------------+-----------------+-----------------+-----------------+-----------------+-----------------+------------------+------------------+------------------+--------------------+--------------------+--------------------+\n",
      "|       NPI|First_name|LAST_ORG_NAME|    CITY|STATE|       SPECIALITY|     NPI_1|max(Tot_Drug_Cst)|sum(Tot_Drug_Cst)|avg(Tot_Drug_Cst)|max(Total_claims)|sum(Total_claims)|avg(Total_claims)|max(Tot_Day_Suply)|sum(Tot_Day_Suply)|avg(Tot_Day_Suply)|max(Tot_30day_Fills)|sum(Tot_30day_Fills)|avg(Tot_30day_Fills)|\n",
      "+----------+----------+-------------+--------+-----+-----------------+----------+-----------------+-----------------+-----------------+-----------------+-----------------+-----------------+------------------+------------------+------------------+--------------------+--------------------+--------------------+\n",
      "|1003000126|   Ardalan|    Enkeshafi|Bethesda|   MD|Internal Medicine|1003000126|          4792.85|          5979.07|        747.38375|               30|              124|             15.5|               937|              3721|           465.125|                32.4|               138.2|              17.275|\n",
      "+----------+----------+-------------+--------+-----+-----------------+----------+-----------------+-----------------+-----------------+-----------------+-----------------+-----------------+------------------+------------------+------------------+--------------------+--------------------+--------------------+\n",
      "only showing top 1 row\n",
      "\n"
     ]
    }
   ],
   "source": [
    "df_join.show(1)"
   ]
  },
  {
   "cell_type": "code",
   "execution_count": 26,
   "id": "1d17f5f7",
   "metadata": {},
   "outputs": [],
   "source": [
    "df_join = df_join.drop(\"NPI_1\")"
   ]
  },
  {
   "cell_type": "code",
   "execution_count": 27,
   "id": "1677b1ca",
   "metadata": {},
   "outputs": [],
   "source": [
    "df_join = df_join.withColumnRenamed(\"max(Tot_Drug_Cst)\",\"max_Tot_Drug_Cst\").withColumnRenamed(\"sum(Tot_Drug_Cst)\",\"sum_Tot_Drug_Cst\").withColumnRenamed(\"avg(Tot_Drug_Cst)\",\"avg_Tot_Drug_Cst\").withColumnRenamed(\"max(Total_claims)\",\"max_Total_claims\").withColumnRenamed(\"sum(Total_claims)\",\"sum_Total_claims\").withColumnRenamed(\"avg(Total_claims)\",\"avg_Total_claims\").withColumnRenamed(\"max(Tot_Day_Suply)\",\"max_Tot_Day_Suply\").withColumnRenamed(\"sum(Tot_Day_Suply)\",\"sum_Tot_Day_Suply\").withColumnRenamed(\"avg(Tot_Day_Suply)\", \"avg_Tot_Day_Suply\").withColumnRenamed(\"max(Tot_30day_Fills)\",\"max_Tot_30day_Fills\").withColumnRenamed(\"sum(Tot_30day_Fills)\",\"sum_Tot_30day_Fills\").withColumnRenamed(\"avg(Tot_30day_Fills)\", \"avg_Tot_30day_Fills\")"
   ]
  },
  {
   "cell_type": "code",
   "execution_count": 28,
   "id": "acf213a4",
   "metadata": {},
   "outputs": [],
   "source": [
    "df_join.createOrReplaceTempView(\"df_sql_drug\")"
   ]
  },
  {
   "cell_type": "code",
   "execution_count": 29,
   "id": "e496eac4",
   "metadata": {},
   "outputs": [],
   "source": [
    "df_join = spark.sql(\"select NPI,lower(First_name),lower(LAST_ORG_NAME),City,State,Speciality,max_Tot_Drug_Cst,sum_Tot_Drug_Cst,avg_Tot_Drug_Cst,max_Total_claims,sum_Total_claims,avg_Total_claims,max_Tot_Day_Suply,sum_Tot_Day_Suply,avg_Tot_Day_Suply,max_Tot_30day_Fills,sum_Tot_30day_Fills,avg_Tot_30day_Fills from df_sql_drug\")"
   ]
  },
  {
   "cell_type": "code",
   "execution_count": 30,
   "id": "e735d973",
   "metadata": {},
   "outputs": [],
   "source": [
    "df_join = df_join.withColumnRenamed(\"lower(First_name)\",\"First_name\").withColumnRenamed(\"lower(LAST_ORG_NAME)\",\"Last_org_name\")"
   ]
  },
  {
   "cell_type": "code",
   "execution_count": 32,
   "id": "00f31bcd-5978-4ee1-b31f-41a1735ad199",
   "metadata": {},
   "outputs": [],
   "source": [
    "df_join = df_join.drop(\"Last_org_name\")"
   ]
  },
  {
   "cell_type": "code",
   "execution_count": 34,
   "id": "dc3907a0-634b-4c92-b332-fb4f81f74d38",
   "metadata": {},
   "outputs": [],
   "source": [
    "df_join = df_join.withColumnRenamed(\"First_name\",\"First_name_drug\")"
   ]
  },
  {
   "cell_type": "code",
   "execution_count": 35,
   "id": "0cd4dfce",
   "metadata": {},
   "outputs": [
    {
     "name": "stdout",
     "output_type": "stream",
     "text": [
      "root\n",
      " |-- NPI: integer (nullable = true)\n",
      " |-- First_name_drug: string (nullable = true)\n",
      " |-- City: string (nullable = true)\n",
      " |-- State: string (nullable = true)\n",
      " |-- Speciality: string (nullable = true)\n",
      " |-- max_Tot_Drug_Cst: double (nullable = true)\n",
      " |-- sum_Tot_Drug_Cst: double (nullable = true)\n",
      " |-- avg_Tot_Drug_Cst: double (nullable = true)\n",
      " |-- max_Total_claims: integer (nullable = true)\n",
      " |-- sum_Total_claims: long (nullable = true)\n",
      " |-- avg_Total_claims: double (nullable = true)\n",
      " |-- max_Tot_Day_Suply: integer (nullable = true)\n",
      " |-- sum_Tot_Day_Suply: long (nullable = true)\n",
      " |-- avg_Tot_Day_Suply: double (nullable = true)\n",
      " |-- max_Tot_30day_Fills: double (nullable = true)\n",
      " |-- sum_Tot_30day_Fills: double (nullable = true)\n",
      " |-- avg_Tot_30day_Fills: double (nullable = true)\n",
      "\n"
     ]
    }
   ],
   "source": [
    "df_join.printSchema()"
   ]
  },
  {
   "cell_type": "markdown",
   "id": "b89bda9a",
   "metadata": {},
   "source": [
    "### Saving dataframe to csv"
   ]
  },
  {
   "cell_type": "code",
   "execution_count": 35,
   "id": "b6f50ab4-0731-4e6a-9d3c-4eb07c172a71",
   "metadata": {},
   "outputs": [],
   "source": [
    "df_join.write.format(\"com.mongodb.spark.sql.DefaultSource\") \\\n",
    "    .option(\"database\",\"Medicare\") \\\n",
    "    .option(\"collection\",\"Drug__sort_data\") \\\n",
    "    .mode(\"overwrite\").save()"
   ]
  },
  {
   "cell_type": "code",
   "execution_count": 36,
   "id": "ad3f1988-a341-4abf-baf9-06ed6d3b7668",
   "metadata": {},
   "outputs": [],
   "source": [
    "df_join.write.csv(\"../data/spark_csv/drug_data_final.csv\")"
   ]
  }
 ],
 "metadata": {
  "kernelspec": {
   "display_name": "Python 3 (ipykernel)",
   "language": "python",
   "name": "python3"
  },
  "language_info": {
   "codemirror_mode": {
    "name": "ipython",
    "version": 3
   },
   "file_extension": ".py",
   "mimetype": "text/x-python",
   "name": "python",
   "nbconvert_exporter": "python",
   "pygments_lexer": "ipython3",
   "version": "3.10.1"
  }
 },
 "nbformat": 4,
 "nbformat_minor": 5
}
