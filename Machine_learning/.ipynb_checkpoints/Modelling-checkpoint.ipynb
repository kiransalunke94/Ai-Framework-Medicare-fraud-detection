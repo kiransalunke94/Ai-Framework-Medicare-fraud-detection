{
 "cells": [
  {
   "cell_type": "code",
   "execution_count": 2,
   "id": "10094b68-cea1-43a1-b000-ef3fda9b4cf2",
   "metadata": {},
   "outputs": [],
   "source": [
    "import pandas as pd\n",
    "import numpy as np\n",
    "from scipy import stats\n",
    "\n",
    "#Data analysis\n",
    "import seaborn as sns\n",
    "import matplotlib.pyplot as plt\n",
    "\n",
    "from sklearn.preprocessing import RobustScaler, StandardScaler, MinMaxScaler,PowerTransformer\n",
    "from sklearn.model_selection import train_test_split, StratifiedShuffleSplit\n",
    "from sklearn.metrics import confusion_matrix, accuracy_score,classification_report\n",
    "\n",
    "#Sampling\n",
    "from collections import Counter\n",
    "from imblearn.under_sampling import RandomUnderSampler,NearMiss,NeighbourhoodCleaningRule,ClusterCentroids,CondensedNearestNeighbour\n",
    "from imblearn.under_sampling import OneSidedSelection,AllKNN,EditedNearestNeighbours,RepeatedEditedNearestNeighbours,TomekLinks\n",
    "from imblearn.combine import SMOTETomek,SMOTEENN\n",
    "from imblearn.over_sampling import ADASYN \n",
    "\n",
    "#Visualizing sampling output, dimensionality reduction\n",
    "from sklearn.manifold import TSNE\n",
    "from sklearn.decomposition import PCA\n",
    "\n",
    "# For model buidling\n",
    "from sklearn.ensemble import RandomForestClassifier, GradientBoostingClassifier\n",
    "from xgboost import XGBClassifier\n",
    "from catboost import CatBoostClassifier\n",
    "\n",
    "# Custom module for prediction and model evalution\n",
    "from utils import predict_and_evaluate\n"
   ]
  },
  {
   "cell_type": "code",
   "execution_count": 3,
   "id": "e48efd0e",
   "metadata": {
    "tags": []
   },
   "outputs": [],
   "source": [
    "df_ml = pd.read_csv(\"../../../data/hyp_pay_fill_0.1 -1.csv\")"
   ]
  },
  {
   "cell_type": "code",
   "execution_count": 4,
   "id": "17a753ca-fc51-403b-9559-2d68005bcd31",
   "metadata": {
    "tags": []
   },
   "outputs": [],
   "source": [
    "#df_ml.drop([\"Unnamed: 0\",\"State\",\"NPI\"],axis =1,inplace= True)\n",
    "df_ml.drop([\"Unnamed: 0.1\",\"Unnamed: 0\",\"State\",\"NPI\"],axis =1,inplace= True)\n",
    "\n",
    "df_ml = df_ml.round(2)"
   ]
  },
  {
   "cell_type": "code",
   "execution_count": 5,
   "id": "d527f134-3b92-46b8-9000-d160f70703ea",
   "metadata": {},
   "outputs": [],
   "source": [
    "#df_ml.to_csv(\"ml_noNPI.csv\")"
   ]
  },
  {
   "cell_type": "code",
   "execution_count": 6,
   "id": "a50d2bd8-e31a-4f7a-959a-9c1710bc789c",
   "metadata": {},
   "outputs": [
    {
     "data": {
      "text/plain": [
       "Speciality                            1\n",
       "max_Tot_Drug_Cst                      0\n",
       "sum_Tot_Drug_Cst                      0\n",
       "avg_Tot_Drug_Cst                      0\n",
       "max_Total_claims                      0\n",
       "                                     ..\n",
       "Pen Needle, Diabetic_Tot_Day_Suply    0\n",
       "Tramadol Hcl_Tot_Drug_Cst             0\n",
       "Tramadol Hcl_Tot_Clms                 0\n",
       "Tramadol Hcl_Tot_Day_Suply            0\n",
       "Total_payments                        0\n",
       "Length: 120, dtype: int64"
      ]
     },
     "execution_count": 6,
     "metadata": {},
     "output_type": "execute_result"
    }
   ],
   "source": [
    "df_ml.isna().sum()"
   ]
  },
  {
   "cell_type": "markdown",
   "id": "064a6245",
   "metadata": {},
   "source": [
    "### Missing value treatment"
   ]
  },
  {
   "cell_type": "code",
   "execution_count": 7,
   "id": "4d1d253b-0a05-41c1-a400-3c1e47bf9642",
   "metadata": {},
   "outputs": [
    {
     "name": "stdout",
     "output_type": "stream",
     "text": [
      "Total values in Payments :  965055\n",
      "Missing values in Payments :  0\n",
      "percentage of missing values 0.0 %\n"
     ]
    }
   ],
   "source": [
    "print(\"Total values in Payments : \",df_ml.index.max())\n",
    "print(\"Missing values in Payments : \",df_ml[\"Total_payments\"].isna().sum())\n",
    "print(\"percentage of missing values\",df_ml[\"Total_payments\"].isna().sum()/df_ml.index.max()*100,\"%\")\n",
    "\n",
    "#Over 60% of payments  data is missing in total dataframe"
   ]
  },
  {
   "cell_type": "code",
   "execution_count": 8,
   "id": "0a93a288-8bd2-41d6-b05f-46dd6dd08a09",
   "metadata": {},
   "outputs": [
    {
     "name": "stdout",
     "output_type": "stream",
     "text": [
      "Total values in Fraud Payments :  Speciality    886\n",
      "dtype: int64\n",
      "Missing values in Payments :  0\n",
      "percentage of missing values Speciality    0.0\n",
      "dtype: float64\n"
     ]
    }
   ],
   "source": [
    "print(\"Total values in Fraud Payments : \",df_ml[df_ml.FRAUD == 1].count().head(1))\n",
    "print(\"Missing values in Payments : \",df_ml[df_ml[\"FRAUD\"] == 1][\"Total_payments\"].isna().sum()) \n",
    "print(\"percentage of missing values\",df_ml[df_ml[\"FRAUD\"] == 1][\"Total_payments\"].isna().sum()/df_ml[df_ml.FRAUD == 1].count().head(1)*100)\n",
    "\n",
    "#Over 50% of payments data is missing for fraud =1"
   ]
  },
  {
   "cell_type": "code",
   "execution_count": 9,
   "id": "2b3e7995-52fc-4826-86e2-cabb126e703a",
   "metadata": {},
   "outputs": [],
   "source": [
    "#Dropping payments attribute as more than 50% data is missing.\n",
    "#shifting fraud columns to the end\n",
    "\n",
    "df_ml[\"fraud\"] = df_ml[\"FRAUD\"]\n",
    "\n",
    "#df_ml.drop([\"Total_payments\",\"FRAUD\"],axis=1,inplace = True)\n",
    "\n",
    "df_ml.drop(\"FRAUD\",axis=1,inplace = True)\n",
    "#df_ml = test.drop(\"Total_payments\",axis =1)\n",
    "#df_ml = test.copy()"
   ]
  },
  {
   "cell_type": "code",
   "execution_count": 10,
   "id": "4dbd1f8a",
   "metadata": {},
   "outputs": [
    {
     "data": {
      "text/plain": [
       "0"
      ]
     },
     "execution_count": 10,
     "metadata": {},
     "output_type": "execute_result"
    }
   ],
   "source": [
    "df_ml[\"Total_payments\"].isnull().sum()"
   ]
  },
  {
   "cell_type": "code",
   "execution_count": 11,
   "id": "5e2216e8",
   "metadata": {},
   "outputs": [
    {
     "data": {
      "text/plain": [
       "count    9.650560e+05\n",
       "mean     3.325485e+03\n",
       "std      4.080248e+04\n",
       "min      1.400000e-01\n",
       "25%      1.834000e+02\n",
       "50%      5.831300e+02\n",
       "75%      2.033898e+03\n",
       "max      1.834759e+07\n",
       "Name: Total_payments, dtype: float64"
      ]
     },
     "execution_count": 11,
     "metadata": {},
     "output_type": "execute_result"
    }
   ],
   "source": [
    "df_ml[\"Total_payments\"].describe()"
   ]
  },
  {
   "cell_type": "code",
   "execution_count": 12,
   "id": "14125cdc",
   "metadata": {},
   "outputs": [
    {
     "data": {
      "text/plain": [
       "<AxesSubplot:>"
      ]
     },
     "execution_count": 12,
     "metadata": {},
     "output_type": "execute_result"
    },
    {
     "data": {
      "image/png": "[encoded data removed]",
      "text/plain": [
       "<Figure size 640x480 with 1 Axes>"
      ]
     },
     "metadata": {},
     "output_type": "display_data"
    }
   ],
   "source": [
    "sns.boxplot(df_ml[\"Total_payments\"])"
   ]
  },
  {
   "cell_type": "markdown",
   "id": "621b11f5",
   "metadata": {},
   "source": [
    "### Scaling"
   ]
  },
  {
   "cell_type": "code",
   "execution_count": 13,
   "id": "87237804",
   "metadata": {},
   "outputs": [
    {
     "data": {
      "text/plain": [
       "Index(['Speciality', 'max_Tot_Drug_Cst', 'sum_Tot_Drug_Cst',\n",
       "       'avg_Tot_Drug_Cst', 'max_Total_claims', 'sum_Total_claims',\n",
       "       'avg_Total_claims', 'max_Tot_Day_Suply', 'sum_Tot_Day_Suply',\n",
       "       'avg_Tot_Day_Suply',\n",
       "       ...\n",
       "       'Lisinopril/Hydrochlorothiazide_Tot_Day_Suply', 'Diazepam_Tot_Clms',\n",
       "       'Diazepam_Tot_Day_Suply', 'Pen Needle, Diabetic_Tot_Drug_Cst',\n",
       "       'Pen Needle, Diabetic_Tot_Day_Suply', 'Tramadol Hcl_Tot_Drug_Cst',\n",
       "       'Tramadol Hcl_Tot_Clms', 'Tramadol Hcl_Tot_Day_Suply', 'Total_payments',\n",
       "       'fraud'],\n",
       "      dtype='object', length=120)"
      ]
     },
     "execution_count": 13,
     "metadata": {},
     "output_type": "execute_result"
    }
   ],
   "source": [
    "df_ml.columns"
   ]
  },
  {
   "cell_type": "code",
   "execution_count": 14,
   "id": "287325b7",
   "metadata": {},
   "outputs": [
    {
     "data": {
      "text/plain": [
       "['max_Tot_Drug_Cst',\n",
       " 'sum_Tot_Drug_Cst',\n",
       " 'avg_Tot_Drug_Cst',\n",
       " 'max_Total_claims',\n",
       " 'sum_Total_claims',\n",
       " 'avg_Total_claims',\n",
       " 'max_Tot_Day_Suply',\n",
       " 'sum_Tot_Day_Suply',\n",
       " 'avg_Tot_Day_Suply',\n",
       " 'max_Tot_30day_Fills',\n",
       " 'sum_Tot_30day_Fills',\n",
       " 'avg_Tot_30day_Fills',\n",
       " 'claim_max-mean',\n",
       " 'supply_max-mean',\n",
       " 'drug_max-mean',\n",
       " 'Total_payments']"
      ]
     },
     "execution_count": 14,
     "metadata": {},
     "output_type": "execute_result"
    }
   ],
   "source": [
    "scale_features = df_ml.columns.to_list()[1:16]\n",
    "scale_features.append(\"Total_payments\")\n",
    "scale_features"
   ]
  },
  {
   "cell_type": "code",
   "execution_count": 15,
   "id": "afea4060",
   "metadata": {},
   "outputs": [
    {
     "data": {
      "image/png": "[encoded data removed]",
      "text/plain": [
       "<Figure size 1500x1000 with 16 Axes>"
      ]
     },
     "metadata": {},
     "output_type": "display_data"
    }
   ],
   "source": [
    "#All distribution negatively skewed\n",
    "\n",
    "df_ml[scale_features].hist(figsize=(15, 10));"
   ]
  },
  {
   "cell_type": "markdown",
   "id": "3dba6832",
   "metadata": {},
   "source": [
    "### Power transformer scaler: \n",
    "since all features has positive skew, log scale will help to make distribution normal"
   ]
  },
  {
   "cell_type": "code",
   "execution_count": 16,
   "id": "4ea58ce9",
   "metadata": {},
   "outputs": [],
   "source": [
    "pt = PowerTransformer()"
   ]
  },
  {
   "cell_type": "code",
   "execution_count": 17,
   "id": "f53a1077",
   "metadata": {},
   "outputs": [],
   "source": [
    "df_pscale = df_ml.copy()\n",
    "df_pscale[scale_features] = pd.DataFrame(\n",
    "    pt.fit_transform(df_pscale.loc[:,scale_features]), columns=scale_features\n",
    ")"
   ]
  },
  {
   "cell_type": "code",
   "execution_count": 18,
   "id": "05cedccb",
   "metadata": {},
   "outputs": [
    {
     "data": {
      "image/png": "[encoded data removed]",
      "text/plain": [
       "<Figure size 1500x1000 with 16 Axes>"
      ]
     },
     "metadata": {},
     "output_type": "display_data"
    }
   ],
   "source": [
    "df_pscale[scale_features].hist(figsize=(15, 10));"
   ]
  },
  {
   "cell_type": "code",
   "execution_count": 19,
   "id": "bae2f98a",
   "metadata": {},
   "outputs": [
    {
     "data": {
      "image/png": "[encoded data removed]",
      "text/plain": [
       "<Figure size 2000x1000 with 1 Axes>"
      ]
     },
     "metadata": {},
     "output_type": "display_data"
    }
   ],
   "source": [
    "#df_pscale.loc[:,scale_features].boxplot(figsize=(20, 5));\n",
    "#plt.xticks(rotation = 45);\n",
    "\n",
    "\n",
    "#outliers in avg_total drug cost, avg_total daily supply, claim max mean\n",
    "plt.figure(figsize=(20,10));\n",
    "sns.boxplot(x=\"variable\", y=\"value\", data=pd.melt(df_pscale[scale_features]));\n",
    "plt.xticks(rotation = 45);"
   ]
  },
  {
   "cell_type": "markdown",
   "id": "2a5fe750",
   "metadata": {},
   "source": []
  },
  {
   "cell_type": "markdown",
   "id": "1dd7750b",
   "metadata": {},
   "source": [
    "#### Outlier removal"
   ]
  },
  {
   "cell_type": "markdown",
   "id": "ecf4ef78-9556-4fd3-9703-2d3f6a1d5e11",
   "metadata": {},
   "source": [
    "#if outlier removal happens now, already unbalanced target may get more balanced\n",
    "\n",
    "z = np.abs(stats.zscore(df_pscale[scale_features]))\n",
    "df_filtered = df_pscale[(z < 3).all(axis=1)]\n",
    "print(\"Before outlier removal\",df_pscale.shape)\n",
    "print(\"Remaining after outlier removal\",df_filtered.shape)\n",
    "sns.set(style=\"darkgrid\")\n",
    "ax = sns.countplot(x=\"fraud\", data=df_filtered)"
   ]
  },
  {
   "cell_type": "markdown",
   "id": "a3673704",
   "metadata": {},
   "source": [
    "### Standard scaler : \n",
    "    centering : sub mean from each value\n",
    "    scaling : divide by std\n",
    "    not suitable for skewed dist,as it will not decrease the skewness lets see it in action"
   ]
  },
  {
   "cell_type": "code",
   "execution_count": 24,
   "id": "f8023e36",
   "metadata": {},
   "outputs": [],
   "source": [
    "ss = StandardScaler()"
   ]
  },
  {
   "cell_type": "code",
   "execution_count": null,
   "id": "37a15299",
   "metadata": {},
   "outputs": [],
   "source": [
    "#No change in skewness\n",
    "\n",
    "df_stdscale =  df_ml.copy()\n",
    "df_stdscale[scale_features] = pd.DataFrame(\n",
    "    ss.fit_transform(df_stdscale.loc[:,scale_features]), columns=scale_features\n",
    ")"
   ]
  },
  {
   "cell_type": "code",
   "execution_count": null,
   "id": "b6823fee",
   "metadata": {},
   "outputs": [],
   "source": [
    "df_stdscale[scale_features].hist(figsize=(15, 10));"
   ]
  },
  {
   "cell_type": "code",
   "execution_count": null,
   "id": "3a7845fe",
   "metadata": {},
   "outputs": [],
   "source": [
    "#outliers in avg_total drug cost, avg_total daily supply, claim max mean\n",
    "plt.figure(figsize=(20,10));\n",
    "sns.boxplot(x=\"variable\", y=\"value\", data=pd.melt(df_stdscale[scale_features]));\n",
    "plt.xticks(rotation = 45);"
   ]
  },
  {
   "cell_type": "markdown",
   "id": "78ba9944",
   "metadata": {},
   "source": [
    "### Robust scaler : \n",
    "    robust to outliers\n",
    "    "
   ]
  },
  {
   "cell_type": "code",
   "execution_count": null,
   "id": "45da23c7",
   "metadata": {},
   "outputs": [],
   "source": [
    "rb = RobustScaler()"
   ]
  },
  {
   "cell_type": "code",
   "execution_count": null,
   "id": "403f18e8",
   "metadata": {},
   "outputs": [],
   "source": [
    "#No change in skewness again\n",
    "\n",
    "df_rbscale =  df_ml.copy()\n",
    "df_rbscale[scale_features] = pd.DataFrame(\n",
    "    rb.fit_transform(df_rbscale.loc[:,scale_features]), columns=scale_features\n",
    ")"
   ]
  },
  {
   "cell_type": "code",
   "execution_count": null,
   "id": "926b0fe0",
   "metadata": {},
   "outputs": [],
   "source": [
    "df_rbscale[scale_features].hist(figsize=(15, 10));"
   ]
  },
  {
   "cell_type": "code",
   "execution_count": null,
   "id": "97a0964b",
   "metadata": {},
   "outputs": [],
   "source": [
    "#outliers in avg_total drug cost, avg_total daily supply, claim max mean\n",
    "plt.figure(figsize=(20,10));\n",
    "sns.boxplot(x=\"variable\", y=\"value\", data=pd.melt(df_rbscale[scale_features]));\n",
    "plt.xticks(rotation = 45);"
   ]
  },
  {
   "cell_type": "markdown",
   "id": "c9282e63",
   "metadata": {},
   "source": [
    "### Scaler assignment"
   ]
  },
  {
   "cell_type": "code",
   "execution_count": 22,
   "id": "5f82f198",
   "metadata": {},
   "outputs": [],
   "source": [
    "#copying scaled output to new variable for further processiing\n",
    "\n",
    "df_scale = df_pscale.copy()"
   ]
  },
  {
   "cell_type": "code",
   "execution_count": 23,
   "id": "b0f6a67e",
   "metadata": {},
   "outputs": [
    {
     "data": {
      "text/html": [
       "<div>\n",
       "<style scoped>\n",
       "    .dataframe tbody tr th:only-of-type {\n",
       "        vertical-align: middle;\n",
       "    }\n",
       "\n",
       "    .dataframe tbody tr th {\n",
       "        vertical-align: top;\n",
       "    }\n",
       "\n",
       "    .dataframe thead th {\n",
       "        text-align: right;\n",
       "    }\n",
       "</style>\n",
       "<table border=\"1\" class=\"dataframe\">\n",
       "  <thead>\n",
       "    <tr style=\"text-align: right;\">\n",
       "      <th></th>\n",
       "      <th>Speciality</th>\n",
       "      <th>max_Tot_Drug_Cst</th>\n",
       "      <th>sum_Tot_Drug_Cst</th>\n",
       "      <th>avg_Tot_Drug_Cst</th>\n",
       "      <th>max_Total_claims</th>\n",
       "      <th>sum_Total_claims</th>\n",
       "      <th>avg_Total_claims</th>\n",
       "      <th>max_Tot_Day_Suply</th>\n",
       "      <th>sum_Tot_Day_Suply</th>\n",
       "      <th>avg_Tot_Day_Suply</th>\n",
       "      <th>...</th>\n",
       "      <th>Lisinopril/Hydrochlorothiazide_Tot_Day_Suply</th>\n",
       "      <th>Diazepam_Tot_Clms</th>\n",
       "      <th>Diazepam_Tot_Day_Suply</th>\n",
       "      <th>Pen Needle, Diabetic_Tot_Drug_Cst</th>\n",
       "      <th>Pen Needle, Diabetic_Tot_Day_Suply</th>\n",
       "      <th>Tramadol Hcl_Tot_Drug_Cst</th>\n",
       "      <th>Tramadol Hcl_Tot_Clms</th>\n",
       "      <th>Tramadol Hcl_Tot_Day_Suply</th>\n",
       "      <th>Total_payments</th>\n",
       "      <th>fraud</th>\n",
       "    </tr>\n",
       "  </thead>\n",
       "  <tbody>\n",
       "    <tr>\n",
       "      <th>0</th>\n",
       "      <td>internal medicine</td>\n",
       "      <td>0.121148</td>\n",
       "      <td>-0.11636</td>\n",
       "      <td>-0.087135</td>\n",
       "      <td>-0.580412</td>\n",
       "      <td>-0.297019</td>\n",
       "      <td>-1.043478</td>\n",
       "      <td>-0.380311</td>\n",
       "      <td>-0.210963</td>\n",
       "      <td>-0.443933</td>\n",
       "      <td>...</td>\n",
       "      <td>0</td>\n",
       "      <td>0</td>\n",
       "      <td>0</td>\n",
       "      <td>0.0</td>\n",
       "      <td>0</td>\n",
       "      <td>0.0</td>\n",
       "      <td>0</td>\n",
       "      <td>0</td>\n",
       "      <td>-1.861172</td>\n",
       "      <td>0</td>\n",
       "    </tr>\n",
       "  </tbody>\n",
       "</table>\n",
       "<p>1 rows × 120 columns</p>\n",
       "</div>"
      ],
      "text/plain": [
       "          Speciality  max_Tot_Drug_Cst  sum_Tot_Drug_Cst  avg_Tot_Drug_Cst  \\\n",
       "0  internal medicine          0.121148          -0.11636         -0.087135   \n",
       "\n",
       "   max_Total_claims  sum_Total_claims  avg_Total_claims  max_Tot_Day_Suply  \\\n",
       "0         -0.580412         -0.297019         -1.043478          -0.380311   \n",
       "\n",
       "   sum_Tot_Day_Suply  avg_Tot_Day_Suply  ...  \\\n",
       "0          -0.210963          -0.443933  ...   \n",
       "\n",
       "   Lisinopril/Hydrochlorothiazide_Tot_Day_Suply  Diazepam_Tot_Clms  \\\n",
       "0                                             0                  0   \n",
       "\n",
       "   Diazepam_Tot_Day_Suply  Pen Needle, Diabetic_Tot_Drug_Cst  \\\n",
       "0                       0                                0.0   \n",
       "\n",
       "   Pen Needle, Diabetic_Tot_Day_Suply  Tramadol Hcl_Tot_Drug_Cst  \\\n",
       "0                                   0                        0.0   \n",
       "\n",
       "   Tramadol Hcl_Tot_Clms  Tramadol Hcl_Tot_Day_Suply  Total_payments  fraud  \n",
       "0                      0                           0       -1.861172      0  \n",
       "\n",
       "[1 rows x 120 columns]"
      ]
     },
     "execution_count": 23,
     "metadata": {},
     "output_type": "execute_result"
    }
   ],
   "source": [
    "df_scale.head(1)"
   ]
  },
  {
   "cell_type": "code",
   "execution_count": null,
   "id": "56841392-d6c5-4f99-b0ea-ae85552ca24b",
   "metadata": {
    "tags": []
   },
   "outputs": [],
   "source": [
    "#Only one missing value in Speciality\n",
    "\n",
    "df_scale.isnull().sum().to_dict()"
   ]
  },
  {
   "cell_type": "code",
   "execution_count": null,
   "id": "b8c42ced-8b06-47fd-9925-2dc75e4f399b",
   "metadata": {},
   "outputs": [],
   "source": [
    "#FFilled missing value with most occuring speciality\n",
    "\n",
    "df_scale[\"Speciality\"].fillna(df_scale.Speciality.mode,inplace = True)\n",
    "df_scale[\"Speciality\"].isnull().sum()"
   ]
  },
  {
   "cell_type": "markdown",
   "id": "d8677960-83a4-407f-aa57-2c40b1cc4efc",
   "metadata": {},
   "source": [
    "From visualization in combined data : fraud categories were\n",
    "dentist : 278\n",
    "internal medicine : 213\n",
    "family practice : 129\n",
    "'general practice' : 53\n",
    "podiatry : 41\n",
    "psychiatry : 36\n",
    "neurology: 15\n",
    "\n",
    "From fruad data : has generalised types\n",
    "Nurse/nurses aide : 32k\n",
    "Family practice/GP : 2K\n",
    "Dentist : 1k\n",
    "owner operator : 3k\n",
    "heatlh care aid : 3k\n",
    "personal care provider : 2k"
   ]
  },
  {
   "cell_type": "code",
   "execution_count": null,
   "id": "103d0618-cb60-4916-ada0-ae6ef2e00e3d",
   "metadata": {},
   "outputs": [],
   "source": [
    "print(\"Unique speciality throughout dataset:\" )\n",
    "print(df_scale[\"Speciality\"].value_counts().count())\n",
    "\n",
    "#speciality_cat = pd.DataFrame.from_dict(df_ml[\"Speciality\"].value_counts().to_dict(),orient='index',columns=[\"count\"])\n",
    "#print(df_ml[df_ml[\"FRAUD\"] == 1][\"Speciality\"].value_counts().to_dict())\n",
    "\n",
    "#df_ml[\"Speciality\"].value_counts().sort_values(ascending=False).head(60)"
   ]
  },
  {
   "cell_type": "code",
   "execution_count": null,
   "id": "907d0e04-8a1a-48a5-91db-e2da70bc088c",
   "metadata": {
    "tags": []
   },
   "outputs": [],
   "source": [
    "df_scale[\"Speciality\"].value_counts().to_dict()\n",
    "\n",
    "#req_cat = ['nurse practitioner','internal medicine','family practice','dentist','general practice','physician assistant','emergency medicine',\n",
    "          #'psychiatry']"
   ]
  },
  {
   "cell_type": "code",
   "execution_count": null,
   "id": "b9f5cd04-71b0-4523-8f15-aaf08bb91242",
   "metadata": {
    "tags": []
   },
   "outputs": [],
   "source": [
    "# make list with top 30 variables\n",
    "top_30 = [x for x in df_scale.Speciality.value_counts().sort_values(ascending=False).head(30).index]\n",
    "#top_30.append('anesthesiology')\n",
    "top_30"
   ]
  },
  {
   "cell_type": "code",
   "execution_count": null,
   "id": "bd1f3f89-8f20-4a5b-bcaf-6a578866bd58",
   "metadata": {},
   "outputs": [],
   "source": [
    "# for all categorical variables we selected\n",
    "def top_x(df2,variable,top_x_labels):\n",
    "    for label in top_x_labels:\n",
    "        df2[variable+'_'+label] = np.where(df_scale[variable]==label,1,0)"
   ]
  },
  {
   "cell_type": "code",
   "execution_count": null,
   "id": "1836402d-7d94-446d-8d35-11907aeb903a",
   "metadata": {},
   "outputs": [],
   "source": [
    "#encode Nighborhood into the 10 most frequent categories\n",
    "top_x(df_scale,'Speciality',top_30)\n",
    "# display data\n",
    "df_scale.tail(2)"
   ]
  },
  {
   "cell_type": "code",
   "execution_count": null,
   "id": "8d574b05-8186-40c9-ad8e-788626d6e3c9",
   "metadata": {},
   "outputs": [],
   "source": [
    "df_scale[\"Speciality_nurse practitioner\"].value_counts()"
   ]
  },
  {
   "cell_type": "code",
   "execution_count": null,
   "id": "b82ad823-658e-481f-8718-ef9496a7325f",
   "metadata": {},
   "outputs": [],
   "source": [
    "#Total columns 226 , fraud column at the end\n",
    "\n",
    "df_scale.columns"
   ]
  },
  {
   "cell_type": "code",
   "execution_count": null,
   "id": "711d47b9-671e-406a-90d2-145401216726",
   "metadata": {},
   "outputs": [],
   "source": [
    "df_scale.drop(\"Speciality\",axis =1,inplace=True)"
   ]
  },
  {
   "cell_type": "code",
   "execution_count": null,
   "id": "e0fa3e08-2ad4-43e6-acfc-708811a9b2ef",
   "metadata": {},
   "outputs": [],
   "source": [
    "X = df_scale.drop('fraud', axis=1)\n",
    "y = df_scale['fraud']"
   ]
  },
  {
   "cell_type": "code",
   "execution_count": null,
   "id": "39252246-1eb9-43a6-a6e3-5f9bff8d23ee",
   "metadata": {},
   "outputs": [],
   "source": [
    "#obj creation stratifiedsplit\n",
    "\n",
    "ss = StratifiedShuffleSplit(n_splits=1,\n",
    "                            test_size=0.2,\n",
    "                            train_size=0.8,\n",
    "                            random_state=42)"
   ]
  },
  {
   "cell_type": "code",
   "execution_count": null,
   "id": "b20d53b9-7686-465b-98a6-1b19fe0c39e8",
   "metadata": {},
   "outputs": [],
   "source": [
    "#Strattified split\n",
    "\n",
    "for train_index, test_index in ss.split(X, y):\n",
    "    train_df = df_scale.iloc[train_index]\n",
    "    test_df = df_scale.iloc[test_index]"
   ]
  },
  {
   "cell_type": "code",
   "execution_count": null,
   "id": "38cdd7e5-4087-463c-b5ee-b1736d7b16a0",
   "metadata": {},
   "outputs": [],
   "source": [
    "train_df.shape"
   ]
  },
  {
   "cell_type": "code",
   "execution_count": null,
   "id": "e1a90435-7ae0-4c60-b7d2-44106201e08c",
   "metadata": {},
   "outputs": [],
   "source": [
    "test_df.shape"
   ]
  },
  {
   "cell_type": "code",
   "execution_count": null,
   "id": "5ccc6c62-2f22-404e-89d7-72158c36e3c4",
   "metadata": {},
   "outputs": [],
   "source": [
    "train_df"
   ]
  },
  {
   "cell_type": "code",
   "execution_count": null,
   "id": "58697963-d43a-4971-a2b6-3573f33c33a6",
   "metadata": {},
   "outputs": [],
   "source": [
    "train_df.fraud.value_counts()"
   ]
  },
  {
   "cell_type": "code",
   "execution_count": null,
   "id": "36c5acd5-00d8-465c-a1c1-1187f643bf22",
   "metadata": {},
   "outputs": [],
   "source": [
    "test_df.fraud.value_counts()"
   ]
  },
  {
   "cell_type": "code",
   "execution_count": null,
   "id": "535cf602-645a-4492-85e9-d46de286958d",
   "metadata": {},
   "outputs": [],
   "source": [
    "# Lets shuffle the data before creating the subsamples\n",
    "train_df = train_df.sample(frac=1,random_state=2)"
   ]
  },
  {
   "cell_type": "code",
   "execution_count": null,
   "id": "489d06bd-edd2-48ce-bb3f-175368d4a18a",
   "metadata": {},
   "outputs": [],
   "source": [
    "# Create X_train, X_test, y_train, y_test for ease of use\n",
    "X_train = train_df.drop('fraud', axis=1)\n",
    "y_train = train_df['fraud']\n",
    "\n",
    "X_test = test_df.drop('fraud', axis=1)\n",
    "y_test = test_df['fraud']"
   ]
  },
  {
   "cell_type": "code",
   "execution_count": null,
   "id": "a2517a42-635b-46b4-ade9-4f211507938f",
   "metadata": {},
   "outputs": [],
   "source": [
    "#rf_clf = RandomForestClassifier(n_estimators=100, criterion=\"entropy\")"
   ]
  },
  {
   "cell_type": "code",
   "execution_count": null,
   "id": "aca04bc8-c8bc-4d8d-90d4-c494d918c45d",
   "metadata": {},
   "outputs": [],
   "source": [
    "#rf_clf.fit(X_train, y_train)"
   ]
  },
  {
   "cell_type": "code",
   "execution_count": null,
   "id": "079e60a4-352a-4817-9144-cef27f9ee2d6",
   "metadata": {},
   "outputs": [],
   "source": [
    "# Decision Tree in the Forest\n",
    "#rf_clf.estimators_[0]"
   ]
  },
  {
   "cell_type": "markdown",
   "id": "afdf3524",
   "metadata": {},
   "source": [
    "## Sampling"
   ]
  },
  {
   "cell_type": "markdown",
   "id": "3fa51977",
   "metadata": {},
   "source": [
    "### Under sampling"
   ]
  },
  {
   "cell_type": "code",
   "execution_count": null,
   "id": "dd82c956",
   "metadata": {},
   "outputs": [],
   "source": [
    "#function to plot the undersampled data\n",
    "#t-Distributed Stochastic Neighbor Embedding (t-SNE) :tSNE shows accurate which \n",
    "#can depicts clearly separated Fraud and Non Fraud cases.\n",
    "\n",
    "def plot_graph_tsne(X,y):\n",
    "    pca_2d = TSNE(n_components=2, random_state=42).fit_transform(X.values)\n",
    "    colors = ['#ef8a62' if v == 0 else '#f7f7f7' if v == 1 else '#67a9cf' for v in y]\n",
    "    kwarg_params = {'linewidth': 1, 'edgecolor': 'black'}\n",
    "    fig = plt.Figure(figsize=(12,6))\n",
    "    plt.scatter(pca_2d[:, 0],pca_2d[:, 1], c=colors, **kwarg_params, label=\"Fraud\")\n",
    "    plt.legend()\n",
    "    sns.despine()"
   ]
  },
  {
   "cell_type": "code",
   "execution_count": null,
   "id": "2b567531",
   "metadata": {},
   "outputs": [],
   "source": [
    "#pca dimensionality reduction\n",
    "\n",
    "def plot_graph_pca(X,y):\n",
    "    pca_2d = PCA(n_components=\"mle\", random_state=12).fit_transform(X.values)\n",
    "    colors = ['#ef8a62' if v == 0 else '#f7f7f7' if v == 1 else '#67a9cf' for v in y]\n",
    "    kwarg_params = {'linewidth': 1, 'edgecolor': 'black'}\n",
    "    fig = plt.Figure(figsize=(12,6))\n",
    "    plt.scatter(pca_2d[:, 0],pca_2d[:, 1], c=colors, **kwarg_params, label=\"Fraud\")\n",
    "    plt.legend()\n",
    "    sns.despine()"
   ]
  },
  {
   "cell_type": "code",
   "execution_count": null,
   "id": "28652d3a",
   "metadata": {},
   "outputs": [],
   "source": [
    "#reset\n",
    "#X_test = test_df.drop('fraud', axis=1)\n",
    "#X_train = train_df.drop('fraud', axis=1)\n",
    "\n",
    "#FOR compute intensive algo: reducing number of features to top 80\n",
    "X_train = X_train[tst]\n",
    "X_test = X_test[tst]"
   ]
  },
  {
   "cell_type": "markdown",
   "id": "10e3f11a",
   "metadata": {},
   "source": [
    "#### Under sampling "
   ]
  },
  {
   "cell_type": "code",
   "execution_count": null,
   "id": "db295c62",
   "metadata": {},
   "outputs": [],
   "source": [
    "#sampler = RandomUnderSampler(sampling_strategy='auto')\n",
    "\n",
    "#sampler = NearMiss(version = 3)\n",
    "\n",
    "#sampler = ClusterCentroids(random_state=42) #COMPUTE INTENSIVE, as generates new centroid samples\n",
    " \n",
    "#sampler = CondensedNearestNeighbour(random_state=42) #COMPUTE INTENSIVE\n",
    "\n",
    "#sampler = EditedNearestNeighbours() #COMPUTE INTENSIVE\n",
    "\n",
    "#sampler = OneSidedSelection()\n",
    "\n",
    "#sampler = AllKNN()\n",
    "\n",
    "#sampler = RepeatedEditedNearestNeighbours()\n",
    "\n",
    "#sampler  = TomekLinks()\n",
    "\n",
    "#bottom up approach setup"
   ]
  },
  {
   "cell_type": "markdown",
   "id": "af98af6d",
   "metadata": {},
   "source": [
    "#### Combine sampling`"
   ]
  },
  {
   "cell_type": "code",
   "execution_count": null,
   "id": "b26c7005",
   "metadata": {},
   "outputs": [],
   "source": [
    "#sampler  = SMOTETomek(random_state=42)\n",
    "\n",
    "#sampler  = SMOTEENN()"
   ]
  },
  {
   "cell_type": "markdown",
   "id": "31db2536",
   "metadata": {},
   "source": [
    "#### Oversampling"
   ]
  },
  {
   "cell_type": "code",
   "execution_count": null,
   "id": "e3b0e6e4",
   "metadata": {},
   "outputs": [],
   "source": [
    "sampler  =  ADASYN()"
   ]
  },
  {
   "cell_type": "code",
   "execution_count": null,
   "id": "e66ecfe8",
   "metadata": {},
   "outputs": [],
   "source": [
    "X_rs, y_rs = sampler.fit_resample(X_train, y_train)\n",
    "print('Resampled dataset shape %s' % Counter(y_rs))"
   ]
  },
  {
   "cell_type": "raw",
   "id": "31a350bb",
   "metadata": {},
   "source": [
    "plot_graph_tsne(X_rs, y_rs)\n",
    "\n",
    "#No clear seperation"
   ]
  },
  {
   "cell_type": "raw",
   "id": "ddd3fa2b",
   "metadata": {},
   "source": [
    "#pca doesnt help much\n",
    "\n",
    "plot_graph_pca(X_rs, y_rs)"
   ]
  },
  {
   "cell_type": "markdown",
   "id": "a9be2a50",
   "metadata": {},
   "source": [
    "### Correlation analysis : Imbalanced and balanced dataset"
   ]
  },
  {
   "cell_type": "code",
   "execution_count": null,
   "id": "0008211d",
   "metadata": {},
   "outputs": [],
   "source": [
    "df_under = pd.concat([X_rs, y_rs], axis=1)\n",
    "df_under.head(1)"
   ]
  },
  {
   "cell_type": "code",
   "execution_count": null,
   "id": "383a87c9",
   "metadata": {},
   "outputs": [],
   "source": [
    "features = scale_features.copy()\n",
    "features.append(\"fraud\")\n",
    "print(features)"
   ]
  },
  {
   "cell_type": "code",
   "execution_count": null,
   "id": "88ae8ed3",
   "metadata": {},
   "outputs": [],
   "source": [
    "#certainly correlation has increased between attributes and minor increased with target and attributes \n",
    "\n",
    "# near miss : Correlation between target and attribute increased with \n",
    "\n",
    "f, (ax1, ax2) = plt.subplots(2, 1, figsize=(50,40))      \n",
    "sns.heatmap(df_under[features].corr(), annot=True, cmap = 'coolwarm', ax=ax1)\n",
    "ax1.set_title(\"Imbalanced Correlation Matrix of UnderSampled Data\", fontsize=34)\n",
    "\n",
    "       \n",
    "sns.heatmap(df_ml[features].corr(), cmap = 'coolwarm', ax=ax2)\n",
    "ax2.set_title(\"Imbalanced Correlation Matrix of Original Data\", fontsize=34)"
   ]
  },
  {
   "cell_type": "markdown",
   "id": "f4227704",
   "metadata": {},
   "source": [
    "#### Box plot"
   ]
  },
  {
   "cell_type": "code",
   "execution_count": null,
   "id": "40e3efdc",
   "metadata": {
    "scrolled": true
   },
   "outputs": [],
   "source": [
    "#outliers in avg_total drug cost, avg_total daily supply, claim max mean\n",
    "plt.figure(figsize=(15,5));\n",
    "sns.boxplot(x=\"variable\", y=\"value\", data=pd.melt(X_rs[scale_features]));\n",
    "plt.xticks(rotation = 45);"
   ]
  },
  {
   "cell_type": "markdown",
   "id": "7f04b3ac",
   "metadata": {},
   "source": [
    "### Outlier treatment"
   ]
  },
  {
   "cell_type": "code",
   "execution_count": null,
   "id": "2515f631",
   "metadata": {},
   "outputs": [],
   "source": [
    "#Now target labels being same, lets see result\n",
    "#Z-Score method : IQR method tends to remove too many outlier and hence will go with Z-score method.\n",
    "\n",
    "\n",
    "z = np.abs(stats.zscore(df_under[scale_features]))\n",
    "\n",
    "df_under_filtered = df_under[(z < 3).all(axis=1)]\n",
    "print(\"Before outlier removal\",df_under.shape)\n",
    "print(\"Remaining after outlier removal\",df_under_filtered.shape)\n",
    "sns.set(style=\"darkgrid\")\n",
    "ax = sns.countplot(x=\"fraud\", data=df_under_filtered)"
   ]
  },
  {
   "cell_type": "code",
   "execution_count": null,
   "id": "592b1938",
   "metadata": {},
   "outputs": [],
   "source": [
    "#after outlier treatment\n",
    "\n",
    "plt.figure(figsize=(15,5));\n",
    "sns.boxplot(x=\"variable\", y=\"value\", data=pd.melt(df_under_filtered[scale_features]));\n",
    "plt.xticks(rotation = 45);"
   ]
  },
  {
   "cell_type": "markdown",
   "id": "5710b478",
   "metadata": {},
   "source": [
    "### Outlier fixing"
   ]
  },
  {
   "cell_type": "raw",
   "id": "9d538b00",
   "metadata": {},
   "source": [
    "#assigning filtered data back to under sampled variables\n",
    "\n",
    "X_rs = df_under_filtered.drop(\"fraud\",axis = 1)\n",
    "y_rs = df_under_filtered[\"fraud\"]\n",
    "X_test = test_df.drop('fraud', axis=1)"
   ]
  },
  {
   "cell_type": "code",
   "execution_count": null,
   "id": "10798034",
   "metadata": {},
   "outputs": [],
   "source": []
  },
  {
   "cell_type": "code",
   "execution_count": null,
   "id": "4cba2d5c",
   "metadata": {},
   "outputs": [],
   "source": [
    "#copying variables to x train and y train\n",
    "\n",
    "Xx_train = X_rs.copy()\n",
    "yy_train = y_rs.copy()"
   ]
  },
  {
   "cell_type": "code",
   "execution_count": null,
   "id": "88a75232",
   "metadata": {},
   "outputs": [],
   "source": [
    "Xx_train.shape"
   ]
  },
  {
   "cell_type": "code",
   "execution_count": null,
   "id": "ec094627",
   "metadata": {},
   "outputs": [],
   "source": [
    "yy_train.shape"
   ]
  },
  {
   "cell_type": "code",
   "execution_count": null,
   "id": "0ec62c26",
   "metadata": {},
   "outputs": [],
   "source": [
    "yy_train.value_counts()"
   ]
  },
  {
   "cell_type": "code",
   "execution_count": null,
   "id": "ac833294-19ce-4a04-9000-78c2af831a87",
   "metadata": {},
   "outputs": [],
   "source": []
  },
  {
   "cell_type": "markdown",
   "id": "3109a656-99a8-4429-91c1-e51912364292",
   "metadata": {},
   "source": [
    "# Model building"
   ]
  },
  {
   "cell_type": "markdown",
   "id": "5a6dadf9-ee46-4bf7-81cd-ff0469c93be0",
   "metadata": {},
   "source": [
    "## Random forest"
   ]
  },
  {
   "cell_type": "code",
   "execution_count": null,
   "id": "7b13fdae-1b60-49b0-adbf-fd2deff34b1a",
   "metadata": {},
   "outputs": [],
   "source": [
    "\n",
    "#building a model to get top important features\n",
    "rf_top = RandomForestClassifier(n_estimators=100, criterion=\"entropy\",random_state=42)\n",
    "rf_top.fit(Xx_train, yy_train)\n",
    "#rf_res = predict_and_evaluate(rf_top, X_test, y_test)\n",
    "\n",
    "\n",
    "feature_importances = pd.Series(rf_top.feature_importances_, index=X_train.columns)\n",
    "feature_importances.sort_values(ascending=False, inplace=True)\n",
    "tst = feature_importances.head(30).index.to_list()\n",
    "tst\n",
    "#tst has top 30 important features\n",
    "\n",
    "rf_pre = predict_and_evaluate(rf_top, X_test, y_test)"
   ]
  },
  {
   "cell_type": "code",
   "execution_count": null,
   "id": "2e00da73-d13c-4232-8e9b-36a8933dcd73",
   "metadata": {},
   "outputs": [],
   "source": [
    "print(rf_pre)"
   ]
  },
  {
   "cell_type": "code",
   "execution_count": null,
   "id": "73249754-fe32-4115-be1e-054dc16c0c79",
   "metadata": {},
   "outputs": [],
   "source": [
    "#saving top 40 for future reference\n",
    "\n",
    "np.savetxt('../top40_without_outlier_treatment.txt', tst, delimiter=\"\\n\", fmt=\"%s\")"
   ]
  },
  {
   "cell_type": "markdown",
   "id": "9f74359b-2dc4-4b81-b6cd-d70fb32741d8",
   "metadata": {},
   "source": [
    "### Building model with hyper paramter optimization"
   ]
  },
  {
   "cell_type": "markdown",
   "id": "7747bdfd-8d83-4707-b5e6-603e3ea947ce",
   "metadata": {},
   "source": [
    "#####  Full features"
   ]
  },
  {
   "cell_type": "code",
   "execution_count": null,
   "id": "ca66a655-8c43-4eb2-ba30-50b9905279ff",
   "metadata": {},
   "outputs": [],
   "source": [
    "random_grid = {'n_estimators': [200,250,300,350,400,425,450,500,550,600,800],\n",
    "               'max_features': ['auto','sqrt','log2'],\n",
    "               'criterion' : ['gini','entropy'],\n",
    "               'max_depth': [45,50,55,60,70,80,100,120],\n",
    "               'min_samples_split': [2,3,4,5,6,8,10,12,15],\n",
    "               'min_samples_leaf': [1,2,3,4,5,6],\n",
    "               'bootstrap': [True,False] }"
   ]
  },
  {
   "cell_type": "code",
   "execution_count": null,
   "id": "0430788a-b09d-4710-b523-3d247876207b",
   "metadata": {},
   "outputs": [],
   "source": [
    "rf_clf = GridSearchCV(RandomForestClassifier(), random_grid,cv = 5,n_jobs=-1)"
   ]
  },
  {
   "cell_type": "code",
   "execution_count": null,
   "id": "8b4253ec-0faf-416b-b962-9cc9753ea422",
   "metadata": {},
   "outputs": [],
   "source": [
    "# rf_clf = RandomForestClassifier(n_estimators=100, criterion=\"entropy\",random_state=42)"
   ]
  },
  {
   "cell_type": "code",
   "execution_count": null,
   "id": "7121fb21-9583-4cb2-a287-d094707134c9",
   "metadata": {},
   "outputs": [],
   "source": [
    "rf_clf.fit(Xx_train, yy_train)"
   ]
  },
  {
   "cell_type": "code",
   "execution_count": null,
   "id": "77ecb6c6-be0a-403c-9f89-6c7066d296b1",
   "metadata": {},
   "outputs": [],
   "source": [
    "#rf_clf.estimators_[0]\n",
    "print(rf_clf.best_estimator_)\n",
    "print(rf_clf.best_params_)"
   ]
  },
  {
   "cell_type": "code",
   "execution_count": null,
   "id": "41dbf7a9-9812-4cc5-a2e8-3bfb6f5537dd",
   "metadata": {},
   "outputs": [],
   "source": [
    "rf_clf"
   ]
  },
  {
   "cell_type": "code",
   "execution_count": null,
   "id": "e06b8ca3-84d3-4bfd-9fbf-411d22287678",
   "metadata": {},
   "outputs": [],
   "source": [
    "rf_res = predict_and_evaluate(rf_clf, X_test, y_test)"
   ]
  },
  {
   "cell_type": "code",
   "execution_count": null,
   "id": "145fee58-c0dc-47f8-ad36-82d26de2c80c",
   "metadata": {},
   "outputs": [],
   "source": [
    "joblib.dump(rf_clf,\"../models/rf.joblib\")"
   ]
  },
  {
   "cell_type": "markdown",
   "id": "b934e5fb-b2a0-4102-84cc-1389691df64b",
   "metadata": {},
   "source": [
    "#### On top 30 features"
   ]
  },
  {
   "cell_type": "code",
   "execution_count": null,
   "id": "3a76f25b-3159-4911-a003-42dbe4772bf7",
   "metadata": {},
   "outputs": [],
   "source": [
    "print(\"assigning top 40 columns\")\n",
    "top_train = Xx_train[tst]\n",
    "top_test = X_test[tst]"
   ]
  },
  {
   "cell_type": "code",
   "execution_count": null,
   "id": "e3bf3991-ad6c-417e-bc6b-9156d2a87eff",
   "metadata": {},
   "outputs": [],
   "source": [
    "rf_top = GridSearchCV(RandomForestClassifier(), random_grid,cv = 5,n_jobs=-1)\n",
    "rf_top.fit(top_train, yy_train)\n",
    "rf_pre = predict_and_evaluate(rf_top, top_test, y_test)"
   ]
  },
  {
   "cell_type": "code",
   "execution_count": null,
   "id": "6445cd86-7d5c-4f58-90b7-f17720328f94",
   "metadata": {},
   "outputs": [],
   "source": [
    "print(\"RF Top 30 : \")\n",
    "print(rf_top.best_estimator_)\n",
    "print(rf_top.best_params_)"
   ]
  },
  {
   "cell_type": "code",
   "execution_count": null,
   "id": "61ff082c-eb25-4f96-bd17-5740477e37ea",
   "metadata": {},
   "outputs": [],
   "source": [
    "joblib.dump(rf_top,\"../models/rf_40.joblib\")"
   ]
  },
  {
   "cell_type": "markdown",
   "id": "89b3f8eb-d2a0-4bd8-aa6c-efd7f5c72023",
   "metadata": {},
   "source": [
    "# XG Boost"
   ]
  },
  {
   "cell_type": "markdown",
   "id": "689255ee-c5e1-4e45-a101-a6846a26dce1",
   "metadata": {},
   "source": [
    "### Full features"
   ]
  },
  {
   "cell_type": "code",
   "execution_count": null,
   "id": "e9f498cd-bd4a-4a4c-b0ae-b4b7a11893a2",
   "metadata": {},
   "outputs": [],
   "source": [
    "xgb_params = {'n_estimators' : [100,150,200,250,300,350,400,500],\n",
    "         \"learning_rate\"    : [0.01,0.02,0.03,0.05,0.10] ,\n",
    "         \"max_depth\"        : [ 3,4,5,6,7,8,10,12,13],\n",
    "         \"min_child_weight\" : [ 1,2,3,4,5,6,7]}"
   ]
  },
  {
   "cell_type": "code",
   "execution_count": null,
   "id": "3d90d558-b74b-4acd-af4e-9b36bb9bcafe",
   "metadata": {},
   "outputs": [],
   "source": [
    "xgb_clf = GridSearchCV(XGBClassifier(), xgb_params, n_jobs = -1,cv=5)"
   ]
  },
  {
   "cell_type": "code",
   "execution_count": null,
   "id": "8eb31289-5f39-403d-9a3e-ae0292a9e27a",
   "metadata": {
    "tags": []
   },
   "outputs": [],
   "source": [
    "xgb_clf.fit(Xx_train,yy_train)"
   ]
  },
  {
   "cell_type": "code",
   "execution_count": null,
   "id": "d9712d05-2a70-4234-9511-83823ee7dbd0",
   "metadata": {},
   "outputs": [],
   "source": [
    "xgb_res = predict_and_evaluate(xgb_clf, X_test, y_test)"
   ]
  },
  {
   "cell_type": "code",
   "execution_count": null,
   "id": "8a4ccffe-3822-4146-956f-b3b951999586",
   "metadata": {},
   "outputs": [],
   "source": [
    "print(\"xgb : \")\n",
    "print(xgb_clf.best_estimator_)\n",
    "print(xgb_clf.best_params_)"
   ]
  },
  {
   "cell_type": "code",
   "execution_count": null,
   "id": "eacef2b0-1c83-47d8-9d8c-30dbafd24e07",
   "metadata": {},
   "outputs": [],
   "source": [
    "joblib.dump(xgb_clf,\"../models/xg.joblib\")"
   ]
  },
  {
   "cell_type": "markdown",
   "id": "f9140e75-a6ad-4023-bdc6-c1fe96346d01",
   "metadata": {},
   "source": [
    "### Top 30 Features"
   ]
  },
  {
   "cell_type": "code",
   "execution_count": null,
   "id": "b8a825c7-227b-44fa-88fe-8b99853b9963",
   "metadata": {},
   "outputs": [],
   "source": [
    "xgb_top = GridSearchCV(XGBClassifier(), xgb_params, n_jobs = -1,cv=5)\n",
    "xgb_top.fit(top_train, yy_train)\n",
    "xgb_pre = predict_and_evaluate(xgb_top, top_test, y_test)"
   ]
  },
  {
   "cell_type": "code",
   "execution_count": null,
   "id": "da671a5d-76a6-47ce-8002-24ad979460eb",
   "metadata": {},
   "outputs": [],
   "source": [
    "print(\"xgb Top 30 : \")\n",
    "print(xgb_top.best_estimator_)\n",
    "print(xgb_top.best_params_)"
   ]
  },
  {
   "cell_type": "code",
   "execution_count": null,
   "id": "9100b3a5-2ed7-4e08-9f03-ecfee576a296",
   "metadata": {},
   "outputs": [],
   "source": [
    "joblib.dump(xgb_top,\"../models/xg_40.joblib\")"
   ]
  },
  {
   "cell_type": "markdown",
   "id": "bc48ddf9-968d-45b7-893c-f0a1f7291d6f",
   "metadata": {},
   "source": [
    "# Logistic Regression"
   ]
  },
  {
   "cell_type": "markdown",
   "id": "b5ce4eac-7244-4c4b-887e-34a816a1552b",
   "metadata": {},
   "source": [
    "### Full features"
   ]
  },
  {
   "cell_type": "code",
   "execution_count": null,
   "id": "725ee35d-f28b-4ba3-a136-c7684d416f6a",
   "metadata": {},
   "outputs": [],
   "source": [
    "log_params = [{'solver': ['newton-cg', 'lbfgs', 'liblinear', 'sag', 'saga']},\n",
    "              {'penalty':['none', 'elasticnet', 'l1', 'l2']},\n",
    "              {'C':[0.001,0.002,0.003,0.005, 0.01,0.02,0.04, 0.1, 1, 10, 100]}]\n",
    "\n",
    "\n",
    "\n",
    "logr = GridSearchCV(linear_model.LogisticRegression(),  \n",
    "                           param_grid = log_params,\n",
    "                           cv = 5,\n",
    "                   )\n",
    "\n",
    "logr.fit(Xx_train, yy_train)"
   ]
  },
  {
   "cell_type": "code",
   "execution_count": null,
   "id": "77aefcc4-0d96-49db-aba9-3c53ccaf2e93",
   "metadata": {},
   "outputs": [],
   "source": [
    "logr.fit(Xx_train, yy_train)\n",
    "print(\"logR: \")\n",
    "print(logr.best_estimator_)\n",
    "print(logr.best_params_)"
   ]
  },
  {
   "cell_type": "code",
   "execution_count": null,
   "id": "ddd9fcc6-071e-400d-9963-37d13035a279",
   "metadata": {},
   "outputs": [],
   "source": [
    "val = predict_and_evaluate(logr, X_test, y_test)"
   ]
  },
  {
   "cell_type": "code",
   "execution_count": null,
   "id": "36efb352-061d-4179-aa1d-05d2b6e4c3db",
   "metadata": {},
   "outputs": [],
   "source": [
    "joblib.dump(logr,\"../models/log.joblib\")"
   ]
  },
  {
   "cell_type": "markdown",
   "id": "e8152a5c-0676-42c3-a6c3-6c2d0ed98f20",
   "metadata": {},
   "source": [
    "### Top 30 features"
   ]
  },
  {
   "cell_type": "code",
   "execution_count": null,
   "id": "28f600c4-de0d-4bec-8269-56f5c42bde0e",
   "metadata": {},
   "outputs": [],
   "source": [
    "log_top = GridSearchCV(linear_model.LogisticRegression(),  \n",
    "                           param_grid = log_params,\n",
    "                           cv = 5,\n",
    "                   )\n",
    "\n",
    "log_top.fit(top_train, yy_train)\n",
    "log_pre = predict_and_evaluate(log_top, top_test, y_test)"
   ]
  },
  {
   "cell_type": "code",
   "execution_count": null,
   "id": "568de97a-4e82-492c-b8c2-a5d59edf22f1",
   "metadata": {},
   "outputs": [],
   "source": [
    "print(\"logR top 30 : \")\n",
    "print(log_top.best_estimator_)\n",
    "print(log_top.best_params_)"
   ]
  },
  {
   "cell_type": "code",
   "execution_count": null,
   "id": "d0422335-fc2a-4ae8-9dfc-af9805bc76cd",
   "metadata": {},
   "outputs": [],
   "source": [
    "joblib.dump(log_top,\"../models/log_40.joblib\")"
   ]
  },
  {
   "cell_type": "markdown",
   "id": "3f52ba4f-6232-4ac9-aef4-ed10a5c0c90a",
   "metadata": {},
   "source": [
    "# Cat Boost"
   ]
  },
  {
   "cell_type": "markdown",
   "id": "5219f8aa-4857-4bd8-ad33-ab20d45dc8d5",
   "metadata": {},
   "source": [
    "### Full features"
   ]
  },
  {
   "cell_type": "code",
   "execution_count": null,
   "id": "62c47ed8-2a80-41c6-a14a-c2e450a3bd48",
   "metadata": {},
   "outputs": [],
   "source": [
    "cat_parameters = {'depth'         : [4,5,6,7,8,9,10],\n",
    "                'learning_rate' : [0.01,0.02,0.03,0.04],\n",
    "                'iterations'    : [40,50,60,70,80,90,100]}\n",
    "             "
   ]
  },
  {
   "cell_type": "code",
   "execution_count": null,
   "id": "6199cf6a-d528-4b86-b78b-4fb203f2bba0",
   "metadata": {},
   "outputs": [],
   "source": [
    "cat_clf = GridSearchCV(CatBoostClassifier(), cat_parameters, n_jobs = -1,cv=5)"
   ]
  },
  {
   "cell_type": "code",
   "execution_count": null,
   "id": "fd0708d2-1358-499f-9eea-baf2d290e1ca",
   "metadata": {
    "tags": []
   },
   "outputs": [],
   "source": [
    "cat_clf.fit(Xx_train,yy_train)"
   ]
  },
  {
   "cell_type": "code",
   "execution_count": null,
   "id": "7956f0da-a6a1-4bf0-b6d0-2451570c0154",
   "metadata": {},
   "outputs": [],
   "source": [
    "print(cat_clf)"
   ]
  },
  {
   "cell_type": "code",
   "execution_count": null,
   "id": "c172e35b-1e74-473b-9367-59bb7588c103",
   "metadata": {},
   "outputs": [],
   "source": [
    "print(cat_clf.best_params_)\n",
    "print(cat_clf.best_estimator_)"
   ]
  },
  {
   "cell_type": "code",
   "execution_count": null,
   "id": "5c7609f7-a465-48bd-a17e-08ef27b66e6e",
   "metadata": {},
   "outputs": [],
   "source": [
    "cat_res = predict_and_evaluate(cat_clf, X_test, y_test)"
   ]
  },
  {
   "cell_type": "code",
   "execution_count": null,
   "id": "170cfcd4-98e2-4bee-8123-f7faf48ccb3a",
   "metadata": {},
   "outputs": [],
   "source": [
    "joblib.dump(cat_clf,\"../models/cat.joblib\")"
   ]
  },
  {
   "cell_type": "markdown",
   "id": "0661518d-6331-4ba0-9751-7c1e1ba46e9b",
   "metadata": {},
   "source": [
    "### Top 30 features"
   ]
  },
  {
   "cell_type": "code",
   "execution_count": null,
   "id": "cc7ecfe2-dfe5-4eb2-964f-c0890c72063f",
   "metadata": {},
   "outputs": [],
   "source": [
    "cat_top = GridSearchCV(CatBoostClassifier(), cat_parameters, n_jobs = -1,cv=5)\n",
    "cat_top.fit(top_train, yy_train)\n",
    "cat_pre = predict_and_evaluate(cat_top, top_test, y_test)"
   ]
  },
  {
   "cell_type": "code",
   "execution_count": null,
   "id": "61a06e5c-4f5d-41c5-a717-d676c2bf0359",
   "metadata": {},
   "outputs": [],
   "source": [
    "print(cat_top.best_estimator_)\n",
    "print(cat_top.best_params_)"
   ]
  },
  {
   "cell_type": "code",
   "execution_count": null,
   "id": "c3aa17a6-7884-40c9-b418-f3f2394bde08",
   "metadata": {},
   "outputs": [],
   "source": [
    "joblib.dump(cat_top,\"../models/cat_40.joblib\")"
   ]
  },
  {
   "cell_type": "markdown",
   "id": "71d12a31-ea44-45c4-b90c-cfe80354b5df",
   "metadata": {},
   "source": [
    "# AdaBoost"
   ]
  },
  {
   "cell_type": "markdown",
   "id": "c50e6993-ef18-44a9-9dc6-47d2b6a7bdc0",
   "metadata": {},
   "source": [
    "### Full features"
   ]
  },
  {
   "cell_type": "code",
   "execution_count": null,
   "id": "5c21ded7-4115-4378-9cd0-0c3ed74035f8",
   "metadata": {},
   "outputs": [],
   "source": [
    "abc = AdaBoostClassifier(base_estimator=AdaBoostClassifier())\n",
    "\n",
    "parameters = {'base_estimator':[i for i in range(2,11,2)],\n",
    "              'n_estimators':[10,50,250,1000],\n",
    "              'learning_rate':[0.01,0.02,0.03,0.1]}\n",
    "\n",
    "adaboost = GridSearchCV(abc, parameters,verbose=3,scoring='f1',n_jobs=-1,cv = 5)"
   ]
  },
  {
   "cell_type": "code",
   "execution_count": null,
   "id": "1f0a31a2-44c9-4c8c-b7ee-ee73b0384460",
   "metadata": {},
   "outputs": [],
   "source": [
    "adaboost.fit(Xx_train,yy_train)"
   ]
  },
  {
   "cell_type": "code",
   "execution_count": null,
   "id": "f04afa10-96f2-4df5-8c01-47547af744d4",
   "metadata": {},
   "outputs": [],
   "source": [
    "print(\"adaboost : \")\n",
    "print(adaboost.best_estimator_)\n",
    "print(adaboost.best_params_)"
   ]
  },
  {
   "cell_type": "code",
   "execution_count": null,
   "id": "e590fedd-8ab6-40b6-9938-8dd3222abe79",
   "metadata": {},
   "outputs": [],
   "source": [
    "ada_res = predict_and_evaluate(adaboost, X_test, y_test)"
   ]
  },
  {
   "cell_type": "code",
   "execution_count": null,
   "id": "0eed5242-3235-4eab-b898-ad4e3770bbb4",
   "metadata": {},
   "outputs": [],
   "source": [
    "joblib.dump(cat_clf,\"../models/ada.joblib\")"
   ]
  },
  {
   "cell_type": "markdown",
   "id": "d8dda4f0-b2e5-488d-9b0d-1205d4495143",
   "metadata": {},
   "source": [
    "### Top 30 features"
   ]
  },
  {
   "cell_type": "code",
   "execution_count": null,
   "id": "2e0bd273-f7ad-4a27-adcb-3058b566edab",
   "metadata": {},
   "outputs": [],
   "source": [
    "ada_top = GridSearchCV(abc, parameters,n_jobs=-1,cv = 5)\n",
    "ada_top.fit(top_train, yy_train)\n",
    "ada_pre = predict_and_evaluate(ada_top, top_test, y_test)"
   ]
  },
  {
   "cell_type": "code",
   "execution_count": null,
   "id": "f32a3158-ffe5-42e2-87d6-6e3308cac5ed",
   "metadata": {},
   "outputs": [],
   "source": [
    "print(\"adaboost top 30 : \")\n",
    "print(ada_top.best_estimator_)\n",
    "print(ada_top.best_params_)"
   ]
  },
  {
   "cell_type": "code",
   "execution_count": null,
   "id": "826cbf61-3d96-4691-9c9f-fccf168023fc",
   "metadata": {},
   "outputs": [],
   "source": [
    "joblib.dump(ada_top,\"../models/ada_40.joblib\")"
   ]
  },
  {
   "cell_type": "markdown",
   "id": "ac78ccaa-7ef3-41cb-8e2c-1fa01c246c5c",
   "metadata": {},
   "source": [
    "## Gradient Boosting"
   ]
  },
  {
   "cell_type": "markdown",
   "id": "3c233f95-f9c1-4430-97f5-6e022ac0f1f3",
   "metadata": {},
   "source": [
    "### Full features"
   ]
  },
  {
   "cell_type": "code",
   "execution_count": null,
   "id": "59333008-0e28-4731-8fe1-3eb9c6d4d7c9",
   "metadata": {},
   "outputs": [],
   "source": [
    "# Parameter matrix for GBM\n",
    "gbm_params = {  \"n_estimators\":[100,150,200,250,300,350],\n",
    "                \"learning_rate\": [0.01, 0.025,0.03,0.04,0.05],\n",
    "                \"max_depth\" : [3,4,5,6],\n",
    "                \"subsample\":[ 0.7,0.8, 0.9,1.0,1.1] \n",
    "            }"
   ]
  },
  {
   "cell_type": "code",
   "execution_count": null,
   "id": "60d16041-180b-4fc8-baef-8ff29ebd9386",
   "metadata": {},
   "outputs": [],
   "source": [
    "gbm_clf = GridSearchCV(GradientBoostingClassifier(), gbm_params, n_jobs = -1,\n",
    "                           cv = 5)"
   ]
  },
  {
   "cell_type": "code",
   "execution_count": null,
   "id": "543fda97-9c8d-456b-a910-a842a6fc6afd",
   "metadata": {},
   "outputs": [],
   "source": [
    "gbm_clf.fit(Xx_train,yy_train)"
   ]
  },
  {
   "cell_type": "code",
   "execution_count": null,
   "id": "95e17821-34fc-48ea-bc50-a9ecf2f37bfc",
   "metadata": {},
   "outputs": [],
   "source": [
    "print(\"gbm_clf :  \")\n",
    "print(gbm_clf.best_estimator_)\n",
    "print(gbm_clf.best_params_)"
   ]
  },
  {
   "cell_type": "code",
   "execution_count": null,
   "id": "9316804c-cb8c-46e0-9f03-157b60a0fa96",
   "metadata": {},
   "outputs": [],
   "source": [
    "gbm_res = predict_and_evaluate(gbm_clf, X_test, y_test)"
   ]
  },
  {
   "cell_type": "code",
   "execution_count": null,
   "id": "2b1cc475-329e-45b3-95c2-95d542d812b4",
   "metadata": {},
   "outputs": [],
   "source": [
    "joblib.dump(gbm_clf,\"../models/gbm.joblib\")"
   ]
  },
  {
   "cell_type": "markdown",
   "id": "ebf7ca8f-79ca-4fc2-84cd-7e55273112e5",
   "metadata": {},
   "source": [
    "### Top 30 features"
   ]
  },
  {
   "cell_type": "code",
   "execution_count": null,
   "id": "5407ffcb-b197-4dc5-a280-ecbeddd06192",
   "metadata": {},
   "outputs": [],
   "source": [
    "gbm_top = GridSearchCV(GradientBoostingClassifier(), gbm_params, n_jobs = -1,\n",
    "                           cv = 5)\n",
    "gbm_top.fit(top_train, yy_train)\n",
    "gbm_pre = predict_and_evaluate(gbm_top, top_test, y_test)"
   ]
  },
  {
   "cell_type": "code",
   "execution_count": null,
   "id": "e83ae3cc-c6d1-4d71-bff9-dc6669505a6a",
   "metadata": {},
   "outputs": [],
   "source": [
    "print(\"gbm top 30  : \")\n",
    "print(gbm_top.best_estimator_)\n",
    "print(gbm_top.best_params_)"
   ]
  },
  {
   "cell_type": "code",
   "execution_count": null,
   "id": "9b7e1c0f-91ff-4365-a588-ac4e30e6a2a7",
   "metadata": {},
   "outputs": [],
   "source": [
    "joblib.dump(gbm_top,\"../models/gbm_40.joblib\")"
   ]
  },
  {
   "cell_type": "markdown",
   "id": "ae4b46fb-1b91-45f5-862d-685416cf6b62",
   "metadata": {},
   "source": [
    "# Multi Layer Perceptron"
   ]
  },
  {
   "cell_type": "markdown",
   "id": "30ba5f48-9640-43eb-aa55-3364e0ddc751",
   "metadata": {},
   "source": [
    "### Full features"
   ]
  },
  {
   "cell_type": "code",
   "execution_count": null,
   "id": "4205d24b-dcf5-4cb7-bc6d-67d3547342b1",
   "metadata": {},
   "outputs": [],
   "source": [
    "parameters = {'solver': ['lbfgs', 'sgd', 'adam'], 'max_iter': [200],\n",
    "              'activation': ['tanh', 'relu'],\n",
    "              'alpha': 10.0 ** -np.arange(1, 10),'learning_rate': ['constant','adaptive'],\n",
    "              'hidden_layer_sizes':np.arange(5, 15)}\n",
    "mlp = GridSearchCV(MLPClassifier(), parameters, n_jobs=-1,\n",
    "                           cv = 5)"
   ]
  },
  {
   "cell_type": "code",
   "execution_count": null,
   "id": "a716a4fc-40fe-4f49-93b2-7605b46bfed9",
   "metadata": {},
   "outputs": [],
   "source": [
    "# Fit data onto the model\n",
    "mlp.fit(Xx_train,yy_train)"
   ]
  },
  {
   "cell_type": "code",
   "execution_count": null,
   "id": "f55eb9f0-1a22-408c-8d78-012afd5076c0",
   "metadata": {},
   "outputs": [],
   "source": [
    "print(\"mlp : \")\n",
    "print(mlp.best_estimator_)\n",
    "print(mlp.best_params_)"
   ]
  },
  {
   "cell_type": "code",
   "execution_count": null,
   "id": "8f2dd6b6-cb18-4ad7-bb69-c79c1e4d8cd9",
   "metadata": {},
   "outputs": [],
   "source": [
    "mlp_res = predict_and_evaluate(mlp, X_test, y_test)"
   ]
  },
  {
   "cell_type": "code",
   "execution_count": null,
   "id": "ba72736b-fe19-4466-9554-a6f22b1b2873",
   "metadata": {},
   "outputs": [],
   "source": [
    "joblib.dump(mlp_res,\"../models/mlb.joblib\")"
   ]
  },
  {
   "cell_type": "markdown",
   "id": "ed51ecbb-4034-48d3-a4d0-f0677e1217b2",
   "metadata": {},
   "source": [
    "### Top 30"
   ]
  },
  {
   "cell_type": "code",
   "execution_count": null,
   "id": "8c8b4a8d-3c6d-4b56-8f14-c60fc7a4f427",
   "metadata": {},
   "outputs": [],
   "source": [
    "mlp_top = GridSearchCV(MLPClassifier(), parameters, n_jobs=-1,\n",
    "                           cv = 5)\n",
    "mlp_top.fit(top_train, yy_train)"
   ]
  },
  {
   "cell_type": "code",
   "execution_count": null,
   "id": "09d3250f-16f7-46bc-93a1-193385657f9d",
   "metadata": {},
   "outputs": [],
   "source": [
    "print(\"mlp  top 30 : \")\n",
    "print(mlp_top.best_estimator_)\n",
    "print(mlp_top.best_params_)"
   ]
  },
  {
   "cell_type": "code",
   "execution_count": null,
   "id": "0776f048-5535-430d-a534-f11ba65a29bf",
   "metadata": {},
   "outputs": [],
   "source": [
    "mlp_pre = predict_and_evaluate(mlp_top, top_test, y_test)\n",
    "joblib.dump(mlp_top,\"../models/mlb_40.joblib\")"
   ]
  },
  {
   "cell_type": "code",
   "execution_count": null,
   "id": "960ff1ca-2d34-4553-afdf-23f1f272c8e6",
   "metadata": {},
   "outputs": [],
   "source": [
    "#FP is it is negative but model predicted positive : precision of model\n",
    "#FN is it is positive but model predicted negative : recall of model\n",
    "print(\"Results with full features\")\n",
    "results = pd.DataFrame(data=[rf_res, xgb_res,cat_res,val,gbm_res,adaboost,mlp_res], \n",
    "             columns=('Algorithm','False Positives', \n",
    "                      'False Negatives', 'Precision', \n",
    "                      'Recall', 'F1 Score',\"Accuracy\"))\n",
    "\n",
    "\n",
    "results[\"Algorithm\"] = [\"RandomForest\",\"XGBoost\",\"CatBoost\",\"LogisticRegerssion\",\"GBclassifier\",\n",
    "                       \"Adaboost\",\"MLP\"]\n",
    "\n",
    "results.to_csv(\"../results/resuls_full_features.csv\")\n",
    "\n",
    "print(results)"
   ]
  },
  {
   "cell_type": "code",
   "execution_count": null,
   "id": "bc6ee0a8-8aa2-4028-b5a5-aa898029dc13",
   "metadata": {},
   "outputs": [],
   "source": [
    "print(\"Results with top 40 features\")\n",
    "\n",
    "resultss = pd.DataFrame(data=[rf_pre, xgb_pre,cat_pre,log_pre,gbm_pre,ada_pre,mlp_pre], \n",
    "             columns=('Algorithm','False Positives', \n",
    "                      'False Negatives', 'Precision', \n",
    "                      'Recall', 'F1 Score',\"Accuracy\"))\n",
    "\n",
    "\n",
    "results[\"Algorithm\"] = [\"RandomForest\",\"XGBoost\",\"CatBoost\",\"LogisticRegerssion\",\"GBclassifier\",\n",
    "                       \"Adaboost\",\"MLP\"]\n",
    "\n",
    "\n",
    "resultss.to_csv(\"../results/resuls_30_features.csv\")\n",
    "\n",
    "print(resultss)"
   ]
  }
 ],
 "metadata": {
  "kernelspec": {
   "display_name": "Python 3 (ipykernel)",
   "language": "python",
   "name": "python3"
  },
  "language_info": {
   "codemirror_mode": {
    "name": "ipython",
    "version": 3
   },
   "file_extension": ".py",
   "mimetype": "text/x-python",
   "name": "python",
   "nbconvert_exporter": "python",
   "pygments_lexer": "ipython3",
   "version": "3.10.1"
  }
 },
 "nbformat": 4,
 "nbformat_minor": 5
}
